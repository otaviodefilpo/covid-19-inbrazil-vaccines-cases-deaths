{
  "nbformat": 4,
  "nbformat_minor": 0,
  "metadata": {
    "colab": {
      "name": "Panorama do COVID-19 no Brasil - Otávio de Filpo.ipynb",
      "provenance": [],
      "collapsed_sections": [],
      "include_colab_link": true
    },
    "kernelspec": {
      "name": "python3",
      "display_name": "Python 3"
    }
  },
  "cells": [
    {
      "cell_type": "markdown",
      "metadata": {
        "id": "view-in-github",
        "colab_type": "text"
      },
      "source": [
        "<a href=\"https://colab.research.google.com/github/otaviodefilpo/covid-19-inbrazil-vaccines-cases-deaths/blob/main/Panorama_do_COVID_19_no_Brasil_Ot%C3%A1vio_de_Filpo.ipynb\" target=\"_parent\"><img src=\"https://colab.research.google.com/assets/colab-badge.svg\" alt=\"Open In Colab\"/></a>"
      ]
    },
    {
      "cell_type": "markdown",
      "metadata": {
        "id": "-eFQZydM9O9J"
      },
      "source": [
        "\n",
        "\n",
        "*Projeto Módulo 3 - Data Science Na Prática*\n",
        "\n",
        "*by [sigmoidal.ai](https://sigmoidal.ai)*  \n",
        "\n",
        "---"
      ]
    },
    {
      "cell_type": "markdown",
      "metadata": {
        "id": "kLI0gJtzDGuQ"
      },
      "source": [
        "# Panoramas da Pandemia do COVID-19 no Brasil - Vacina, Casos e Mortes\n",
        "\n",
        "<center><img  width=\"65%\" src=\"https://raw.githubusercontent.com/otaviodefilpo/covid-19-inbrazil-vaccines-cases-deaths/main/25pfn2mn5yfqnp93t1vzom9q0.jpg\"></center>\n",
        "\n",
        "O COVID-19 é um vírus que pegou todo o planeta de surpresa, pois mesmo em comparativo com outros Corona Vírus, ele tem comportamento bem diferente para o que a sociedade estava acostumada de uma doença viral. \n",
        "\n",
        "A luz no fim do túnel que todo mundo estava aguardando era a vacina, que vinha sendo desenvolvida incansávelmente por várias iniciatiavas ao redor do planeta. Após muitos dias de espera e trabalho árduo desses pesquisadores, no dia 08 de Dezembro de 2021, Margaret Keenan, uma britânica de 90 anos, tornou-se [a primeira pessoa no mundo a receber a vacina]('https://www.cnnbrasil.com.br/internacional/2020/12/08/britanica-de-90-anos-e-primeira-a-receber-a-vacina-da-pfizer-fora-dos-testes') da Pfizer contra a Covid-19 fora de um ensaio clínico. Logo após esse dia histórico, outras vacinas foram sendo testadas e aprovadas para o uso na população, dando início ao fim da Pandemia do COVID-19.\n",
        "\n",
        "Todos os países trataram a pandemia de maneira diferente e como vimos nas características acima citadas, comparações entre práticas de combate ao vírus não são simples de serem feitas, logo precisamos entender como foi e como está o panorama da Pandemia no Brasil e em outros países para buscarmos encontrar diferenças pontuais que possam nos dizer algo sobre a pandemia e seu esperado fim com a expansão das campanhas de vacinação.\n",
        "\n",
        "Nesta análise vamos explorar os dados sobre a vacina do COVID-19 para entender como a vacinação vem se comportando nos países para entender quem vem tendo bons resultados e quem ainda precisa melhorar suas políticas.\n",
        "\n",
        "\n",
        "\n",
        "\n",
        "\n",
        "\n"
      ]
    },
    {
      "cell_type": "markdown",
      "metadata": {
        "id": "HBaaJP9PW013"
      },
      "source": [
        "# **Obtenção dos dados**\r\n",
        "<center><img  width=\"65%\" src=\"https://miro.medium.com/max/2400/0*pbFNABgYl7GmJLp6.png\"></center>\r\n",
        "\r\n",
        "Os dados foram obtidos no repositório do *Our World in Data* para a COVID-19, que pode ser acessado [NESTE LINK]('https://github.com/owid/covid-19-data/tree/master/public/data').\r\n",
        "\r\n",
        "O trabalho do *Our World in Data* é de extrema credibilidade e reuniu neste repositório as informações de vários outros repositórios locais ao redor do mundo, sendo hoje uma das melhores fontes de dados acessíveis ao público sobre a pandemia da COVID-19.\r\n",
        "\r\n",
        "Esse repositório é atualizado diariamente e inclui dados de casos confirmados, mortes confirmadas, hospitalizações, testes, vacinas e outras variáveis de possível interesse para diferentes explorações de dados.\r\n",
        "\r\n",
        "Vale à pena acessar o link que disponibilizei acima para entender mais detalhes técnicos sobre o trabalho do grupo, que se você não conhecia, vale à pena acompanhar a partir de agora."
      ]
    },
    {
      "cell_type": "markdown",
      "metadata": {
        "id": "Yx_aEQteNiZU"
      },
      "source": [
        "# **Dicionário de variáveis**\r\n",
        "O dicionário na íntegra com todas as fontes e links relacionados estão disponíveis [NESTE LINK]('https://github.com/owid/covid-19-data/blob/master/public/data/owid-covid-codebook.csv')\r\n",
        "\r\n",
        "`column` - Descrição\r\n",
        "\r\n",
        "`iso_code` - códigos de países de três letras - 3166-1 alfa-3 ISO\r\n",
        "\r\n",
        "`continent` - Continente da localização geográfica\r\n",
        "\r\n",
        "`location` - Localização geográfica\r\n",
        "\r\n",
        "`date` - Data de observação\r\n",
        "\r\n",
        "`total_cases` - Total de casos confirmados de COVID-19\r\n",
        "\r\n",
        "`new_cases` - Novos casos de COVID-19 confirmado\r\n",
        "\r\n",
        "`new_cases_smoothed` - Novos casos de COVID-19 (7-dia alisada) confirmou\r\n",
        "\r\n",
        "`total_deaths` - Total de mortes atribuídas a COVID-19\r\n",
        "\r\n",
        "`new_deaths` - Novas mortes atribuídas a COVID-19\r\n",
        "\r\n",
        "`new_deaths_smoothed` - Novas mortes atribuídas a COVID-19 (suavizado 7 dias)\r\n",
        "\r\n",
        "`total_cases_per_million` - Total de casos confirmados de COVID-19 por 1.000.000 de pessoas\r\n",
        "\r\n",
        "`new_cases_per_million` - Nova casos confirmados de COVID-19 por 1.000.000 de pessoas\r\n",
        "\r\n",
        "`new_cases_smoothed_per_million` - Nova casos confirmados de COVID-19 (7 dias suavizado) por 1.000.000 de pessoas\r\n",
        "\r\n",
        "`total_deaths_per_million` - Total de mortes atribuídas a COVID-19 por 1.000.000 de pessoas\r\n",
        "\r\n",
        "`new_deaths_per_million` - Novas mortes atribuídas ao COVID-19 por 1.000.000 de pessoas\r\n",
        "\r\n",
        "`new_deaths_smoothed_per_million` - Novas mortes atribuídas a COVID-19 (alisada de 7 dias) por 1.000.000 de pessoas\r\n",
        "\r\n",
        "`reproduction_rate` - estimativa em tempo real da taxa de reprodução efectiva (R) de COVID-19.\r\n",
        "\r\n",
        "`icu_patients` - Número de COVID-19 pacientes em unidades de cuidados intensivos (UTIs) num dado dia\r\n",
        "\r\n",
        "`icu_patients_per_million` - Número de COVID-19 pacientes em unidades de terapia intensiva (UTIs) em um determinado dia por 1.000.000 de pessoas\r\n",
        "\r\n",
        "`hosp_patients` - Número de COVID-19 pacientes no hospital em um determinado dia\r\n",
        "\r\n",
        "`hosp_patients_per_million` - Número de COVID-19 pacientes no hospital em um determinado dia por 1.000.000 de pessoas\r\n",
        "\r\n",
        "`weekly_icu_admissions` - Número de COVID-19 pacientes recém-admitidos em unidades de cuidados intensivos (UTIs) em uma dada semana\r\n",
        "\r\n",
        "`weekly_icu_admissions_per_million` - Número de COVID-19 pacientes recém-admitidos em unidades de terapia intensiva (UTIs) em uma determinada semana por 1.000.000 de pessoas\r\n",
        "\r\n",
        "`weekly_hosp_admissions` - Número de COVID-19 pacientes recém-admitidos em hospitais em uma semana\r\n",
        "\r\n",
        "`weekly_hosp_admissions_per_million` - Número de COVID-19 pacientes recém-admitidos em hospitais em uma determinada semana por 1.000.000 de pessoas\r\n",
        "\r\n",
        "`total_tests` - Total de Testes para COVID-19\r\n",
        "\r\n",
        "`new_tests` - Os novos ensaios para COVID-19 (somente calculada para dias consecutivos)\r\n",
        "\r\n",
        "`total_tests_per_thousand` - Total de Testes para COVID-19 por 1.000 pessoas\r\n",
        "\r\n",
        "`new_tests_per_thousand` - Novos testes para COVID-19 por 1.000 pessoas\r\n",
        "\r\n",
        "`new_tests_smoothed` - Os novos ensaios para COVID-19 (7-dia alisado). Para os países que não relatam testando os dados em uma base diária, assumimos que o teste mudou igualmente em uma base diária sobre quaisquer períodos em que há dados f\r\n",
        "\r\n",
        "`new_tests_smoothed_per_thousand` - Os novos ensaios para COVID-19 (7-dia suavizado) por 1.000 pessoas\r\n",
        "\r\n",
        "`positive_rate` - O partes de COVID-19 testes que são positivas, dadas como uma média móvel em 7 dias (este é o inverso da tests_per_case)\r\n",
        "\r\n",
        "`tests_per_case` - Testes realizados por novo caso confirmado de COVID-19, dadas como uma média móvel em 7 dias (este é o inverso da positive_rate)\r\n",
        "\r\n",
        "`tests_units` - Unidades usadas pela localização para relatar seus dados de testes\r\n",
        "\r\n",
        "`total_vaccinations` - Número total de COVID-19 vacinação doses administradas\r\n",
        "\r\n",
        "`people_vaccinated` - Número total de pessoas que receberam pelo menos uma dose da vacina\r\n",
        "\r\n",
        "`people_fully_vaccinated` - Número total de pessoas que receberam todas as doses prescritas pelo protocolo de vacinação\r\n",
        "\r\n",
        "`new_vaccinations` - Nova COVID-19 doses administradas de vacinação (somente calculados para dias consecutivos)\r\n",
        "\r\n",
        "`new_vaccinations_smoothed` - Novas doses COVID-19 administrado de vacinação (7 dias de suavizados). Para os países que não relatam dados de vacinação em uma base diária, assumimos que a vacinação alterou igualmente em uma base diária sobre\r\n",
        "\r\n",
        "`total_vaccinations_per_hundred` - Número total de COVID-19 vacinação doses administradas por 100 pessoas na população total\r\n",
        "\r\n",
        "`people_vaccinated_per_hundred` - Número total de pessoas que receberam pelo menos uma dose da vacina por cada 100 pessoas no total da população\r\n",
        "\r\n",
        "`people_fully_vaccinated_per_hundred` - Número total de pessoas que receberam todas as doses prescritas pelo protocolo de vacinação por 100 pessoas na população total\r\n",
        "\r\n",
        "`new_vaccinations_smoothed_per_million` - Nova COVID-19 doses administradas vacinação (7 dias de suavizados) por 1.000.000 de pessoas na população total\r\n",
        "\r\n",
        "`stringency_index` - Governo Response Índice Rigor: medida composta com base em 9 indicadores de resposta incluindo o fechamento de escolas, fechamento de locais de trabalho, e proibição de viajar, escalonados para um valor de 0 a 100 (100\r\n",
        "\r\n",
        "`population` - População em 2020\r\n",
        "\r\n",
        "`population_density` - Número de pessoas divididas por área de terra, medido em quilômetros quadrados, dos anos mais recentes disponíveis\r\n",
        "\r\n",
        "`median_age` - A idade média da população, a projeção das Nações Unidas para 2020\r\n",
        "\r\n",
        "`aged_65_older` - Percentagem da população que é de 65 anos e mais velhos, dos anos mais recentes disponíveis\r\n",
        "\r\n",
        "`aged_70_older` - Parcela da população que é de 70 anos ou mais em 2015\r\n",
        "\r\n",
        "`gdp_per_capita` - Produto interno bruto a paridade de poder aquisitivo (constantes de 2011 dólares internacionais), dos anos mais recentes disponíveis\r\n",
        "\r\n",
        "`extreme_poverty` - Parcela da população vivendo em extrema pobreza, dos anos mais recentes disponíveis desde 2010\r\n",
        "\r\n",
        "`cardiovasc_death_rate` - Taxa de mortalidade por doenças cardiovasculares em 2017 (número anual de mortes por 100.000 pessoas)\r\n",
        "\r\n",
        "`diabetes_prevalence` - prevalência diabetes (% da população com idades entre 20 a 79) em 2017\r\n",
        "\r\n",
        "`female_smokers` - Percentagem de mulheres que fumam, dos anos mais recentes disponíveis\r\n",
        "\r\n",
        "`male_smokers` - Parcela de homens que fumam, dos anos mais recentes disponíveis\r\n",
        "\r\n",
        "`handwashing_facilities` - Percentagem da população com instalações de lavagem das mãos básicas sobre instalações, dos anos mais recentes disponíveis\r\n",
        "\r\n",
        "`hospital_beds_per_thousand` - camas hospitalares por 1.000 pessoas, dos anos mais recentes disponíveis desde 2010\r\n",
        "\r\n",
        "`life_expectancy` - A expectativa de vida ao nascer em 2019\r\n",
        "\r\n",
        "`human_development_index` - Um índice composto que mede a realização média em três dimensões básicas do desenvolvimento: uma vida longa e saudável humano, conhecimento e um padrão de vida decente."
      ]
    },
    {
      "cell_type": "markdown",
      "metadata": {
        "id": "ASVQ08auWJCn"
      },
      "source": [
        "# **Análise Exploratória de Dados**\r\n",
        "\r\n",
        "<center><img width=\"65%\" src=\"https://raw.githubusercontent.com/otaviodefilpo/covid-19-inbrazil-vaccines-cases-deaths/main/fingers-hands-notebook.jpg\"></center>\r\n",
        "\r\n",
        "\r\n",
        "Antes de entrar nas análises sobre a vacina, vamos observar dados chave para entender como a pandemia está neste momento, após partiremos para os dados de vacina e como ela acontece no Brasil e em outros grupos de países.\r\n",
        "\r\n",
        "***Mãos à obra!***"
      ]
    },
    {
      "cell_type": "markdown",
      "metadata": {
        "id": "0G19Z13hmf7e"
      },
      "source": [
        "**Dados Gerais da Pandemia no Mundo**\r\n",
        "<center><img width=\"65%\" src=\"https://raw.githubusercontent.com/otaviodefilpo/covid-19-inbrazil-vaccines-cases-deaths/main/i379024.jpeg\"></center>\r\n",
        "\r\n",
        "\r\n",
        "\r\n"
      ]
    },
    {
      "cell_type": "markdown",
      "metadata": {
        "id": "yzqzsafKF0Wy"
      },
      "source": [
        "Primeiramente importaremos as bibliotecas necessárias e os nossos dados"
      ]
    },
    {
      "cell_type": "code",
      "metadata": {
        "id": "lOtEJxe0DMEb"
      },
      "source": [
        "# importar as bibliotecas necessárias\n",
        "import pandas as pd\n",
        "import matplotlib.pyplot as plt\n",
        "import seaborn as sns\n",
        "import datetime as dt\n",
        "\n",
        "sns.set_style()\n",
        "%matplotlib inline\n",
        "\n",
        "import warnings\n",
        "warnings.filterwarnings('ignore')\n",
        "\n",
        "\n",
        "# importar o dataset COVID-19 para um DataFrame\n",
        "df = pd.read_csv('https://raw.githubusercontent.com/owid/covid-19-data/master/public/data/owid-covid-data.csv')"
      ],
      "execution_count": 1,
      "outputs": []
    },
    {
      "cell_type": "markdown",
      "metadata": {
        "id": "c97pAFcVF_gZ"
      },
      "source": [
        "Agora utilizaremos algumas funções para observar algumas características do nosso dataframe."
      ]
    },
    {
      "cell_type": "code",
      "metadata": {
        "id": "gO1fv3D1PS4k"
      },
      "source": [
        "# Criando um backup do dataset original\r\n",
        "covid = df.copy()"
      ],
      "execution_count": 2,
      "outputs": []
    },
    {
      "cell_type": "code",
      "metadata": {
        "colab": {
          "base_uri": "https://localhost:8080/",
          "height": 309
        },
        "id": "U0tcFOkKJTgw",
        "outputId": "87cbaa95-3831-463e-dcde-33538893e397"
      },
      "source": [
        "# Observando as 5 primeiras entradas\r\n",
        "covid.head(5)"
      ],
      "execution_count": 3,
      "outputs": [
        {
          "output_type": "execute_result",
          "data": {
            "text/html": [
              "<div>\n",
              "<style scoped>\n",
              "    .dataframe tbody tr th:only-of-type {\n",
              "        vertical-align: middle;\n",
              "    }\n",
              "\n",
              "    .dataframe tbody tr th {\n",
              "        vertical-align: top;\n",
              "    }\n",
              "\n",
              "    .dataframe thead th {\n",
              "        text-align: right;\n",
              "    }\n",
              "</style>\n",
              "<table border=\"1\" class=\"dataframe\">\n",
              "  <thead>\n",
              "    <tr style=\"text-align: right;\">\n",
              "      <th></th>\n",
              "      <th>iso_code</th>\n",
              "      <th>continent</th>\n",
              "      <th>location</th>\n",
              "      <th>date</th>\n",
              "      <th>total_cases</th>\n",
              "      <th>new_cases</th>\n",
              "      <th>new_cases_smoothed</th>\n",
              "      <th>total_deaths</th>\n",
              "      <th>new_deaths</th>\n",
              "      <th>new_deaths_smoothed</th>\n",
              "      <th>total_cases_per_million</th>\n",
              "      <th>new_cases_per_million</th>\n",
              "      <th>new_cases_smoothed_per_million</th>\n",
              "      <th>total_deaths_per_million</th>\n",
              "      <th>new_deaths_per_million</th>\n",
              "      <th>new_deaths_smoothed_per_million</th>\n",
              "      <th>reproduction_rate</th>\n",
              "      <th>icu_patients</th>\n",
              "      <th>icu_patients_per_million</th>\n",
              "      <th>hosp_patients</th>\n",
              "      <th>hosp_patients_per_million</th>\n",
              "      <th>weekly_icu_admissions</th>\n",
              "      <th>weekly_icu_admissions_per_million</th>\n",
              "      <th>weekly_hosp_admissions</th>\n",
              "      <th>weekly_hosp_admissions_per_million</th>\n",
              "      <th>new_tests</th>\n",
              "      <th>total_tests</th>\n",
              "      <th>total_tests_per_thousand</th>\n",
              "      <th>new_tests_per_thousand</th>\n",
              "      <th>new_tests_smoothed</th>\n",
              "      <th>new_tests_smoothed_per_thousand</th>\n",
              "      <th>positive_rate</th>\n",
              "      <th>tests_per_case</th>\n",
              "      <th>tests_units</th>\n",
              "      <th>total_vaccinations</th>\n",
              "      <th>people_vaccinated</th>\n",
              "      <th>people_fully_vaccinated</th>\n",
              "      <th>new_vaccinations</th>\n",
              "      <th>new_vaccinations_smoothed</th>\n",
              "      <th>total_vaccinations_per_hundred</th>\n",
              "      <th>people_vaccinated_per_hundred</th>\n",
              "      <th>people_fully_vaccinated_per_hundred</th>\n",
              "      <th>new_vaccinations_smoothed_per_million</th>\n",
              "      <th>stringency_index</th>\n",
              "      <th>population</th>\n",
              "      <th>population_density</th>\n",
              "      <th>median_age</th>\n",
              "      <th>aged_65_older</th>\n",
              "      <th>aged_70_older</th>\n",
              "      <th>gdp_per_capita</th>\n",
              "      <th>extreme_poverty</th>\n",
              "      <th>cardiovasc_death_rate</th>\n",
              "      <th>diabetes_prevalence</th>\n",
              "      <th>female_smokers</th>\n",
              "      <th>male_smokers</th>\n",
              "      <th>handwashing_facilities</th>\n",
              "      <th>hospital_beds_per_thousand</th>\n",
              "      <th>life_expectancy</th>\n",
              "      <th>human_development_index</th>\n",
              "    </tr>\n",
              "  </thead>\n",
              "  <tbody>\n",
              "    <tr>\n",
              "      <th>0</th>\n",
              "      <td>AFG</td>\n",
              "      <td>Asia</td>\n",
              "      <td>Afghanistan</td>\n",
              "      <td>2020-02-24</td>\n",
              "      <td>1.0</td>\n",
              "      <td>1.0</td>\n",
              "      <td>NaN</td>\n",
              "      <td>NaN</td>\n",
              "      <td>NaN</td>\n",
              "      <td>NaN</td>\n",
              "      <td>0.026</td>\n",
              "      <td>0.026</td>\n",
              "      <td>NaN</td>\n",
              "      <td>NaN</td>\n",
              "      <td>NaN</td>\n",
              "      <td>NaN</td>\n",
              "      <td>NaN</td>\n",
              "      <td>NaN</td>\n",
              "      <td>NaN</td>\n",
              "      <td>NaN</td>\n",
              "      <td>NaN</td>\n",
              "      <td>NaN</td>\n",
              "      <td>NaN</td>\n",
              "      <td>NaN</td>\n",
              "      <td>NaN</td>\n",
              "      <td>NaN</td>\n",
              "      <td>NaN</td>\n",
              "      <td>NaN</td>\n",
              "      <td>NaN</td>\n",
              "      <td>NaN</td>\n",
              "      <td>NaN</td>\n",
              "      <td>NaN</td>\n",
              "      <td>NaN</td>\n",
              "      <td>NaN</td>\n",
              "      <td>NaN</td>\n",
              "      <td>NaN</td>\n",
              "      <td>NaN</td>\n",
              "      <td>NaN</td>\n",
              "      <td>NaN</td>\n",
              "      <td>NaN</td>\n",
              "      <td>NaN</td>\n",
              "      <td>NaN</td>\n",
              "      <td>NaN</td>\n",
              "      <td>8.33</td>\n",
              "      <td>38928341.0</td>\n",
              "      <td>54.422</td>\n",
              "      <td>18.6</td>\n",
              "      <td>2.581</td>\n",
              "      <td>1.337</td>\n",
              "      <td>1803.987</td>\n",
              "      <td>NaN</td>\n",
              "      <td>597.029</td>\n",
              "      <td>9.59</td>\n",
              "      <td>NaN</td>\n",
              "      <td>NaN</td>\n",
              "      <td>37.746</td>\n",
              "      <td>0.5</td>\n",
              "      <td>64.83</td>\n",
              "      <td>0.511</td>\n",
              "    </tr>\n",
              "    <tr>\n",
              "      <th>1</th>\n",
              "      <td>AFG</td>\n",
              "      <td>Asia</td>\n",
              "      <td>Afghanistan</td>\n",
              "      <td>2020-02-25</td>\n",
              "      <td>1.0</td>\n",
              "      <td>0.0</td>\n",
              "      <td>NaN</td>\n",
              "      <td>NaN</td>\n",
              "      <td>NaN</td>\n",
              "      <td>NaN</td>\n",
              "      <td>0.026</td>\n",
              "      <td>0.000</td>\n",
              "      <td>NaN</td>\n",
              "      <td>NaN</td>\n",
              "      <td>NaN</td>\n",
              "      <td>NaN</td>\n",
              "      <td>NaN</td>\n",
              "      <td>NaN</td>\n",
              "      <td>NaN</td>\n",
              "      <td>NaN</td>\n",
              "      <td>NaN</td>\n",
              "      <td>NaN</td>\n",
              "      <td>NaN</td>\n",
              "      <td>NaN</td>\n",
              "      <td>NaN</td>\n",
              "      <td>NaN</td>\n",
              "      <td>NaN</td>\n",
              "      <td>NaN</td>\n",
              "      <td>NaN</td>\n",
              "      <td>NaN</td>\n",
              "      <td>NaN</td>\n",
              "      <td>NaN</td>\n",
              "      <td>NaN</td>\n",
              "      <td>NaN</td>\n",
              "      <td>NaN</td>\n",
              "      <td>NaN</td>\n",
              "      <td>NaN</td>\n",
              "      <td>NaN</td>\n",
              "      <td>NaN</td>\n",
              "      <td>NaN</td>\n",
              "      <td>NaN</td>\n",
              "      <td>NaN</td>\n",
              "      <td>NaN</td>\n",
              "      <td>8.33</td>\n",
              "      <td>38928341.0</td>\n",
              "      <td>54.422</td>\n",
              "      <td>18.6</td>\n",
              "      <td>2.581</td>\n",
              "      <td>1.337</td>\n",
              "      <td>1803.987</td>\n",
              "      <td>NaN</td>\n",
              "      <td>597.029</td>\n",
              "      <td>9.59</td>\n",
              "      <td>NaN</td>\n",
              "      <td>NaN</td>\n",
              "      <td>37.746</td>\n",
              "      <td>0.5</td>\n",
              "      <td>64.83</td>\n",
              "      <td>0.511</td>\n",
              "    </tr>\n",
              "    <tr>\n",
              "      <th>2</th>\n",
              "      <td>AFG</td>\n",
              "      <td>Asia</td>\n",
              "      <td>Afghanistan</td>\n",
              "      <td>2020-02-26</td>\n",
              "      <td>1.0</td>\n",
              "      <td>0.0</td>\n",
              "      <td>NaN</td>\n",
              "      <td>NaN</td>\n",
              "      <td>NaN</td>\n",
              "      <td>NaN</td>\n",
              "      <td>0.026</td>\n",
              "      <td>0.000</td>\n",
              "      <td>NaN</td>\n",
              "      <td>NaN</td>\n",
              "      <td>NaN</td>\n",
              "      <td>NaN</td>\n",
              "      <td>NaN</td>\n",
              "      <td>NaN</td>\n",
              "      <td>NaN</td>\n",
              "      <td>NaN</td>\n",
              "      <td>NaN</td>\n",
              "      <td>NaN</td>\n",
              "      <td>NaN</td>\n",
              "      <td>NaN</td>\n",
              "      <td>NaN</td>\n",
              "      <td>NaN</td>\n",
              "      <td>NaN</td>\n",
              "      <td>NaN</td>\n",
              "      <td>NaN</td>\n",
              "      <td>NaN</td>\n",
              "      <td>NaN</td>\n",
              "      <td>NaN</td>\n",
              "      <td>NaN</td>\n",
              "      <td>NaN</td>\n",
              "      <td>NaN</td>\n",
              "      <td>NaN</td>\n",
              "      <td>NaN</td>\n",
              "      <td>NaN</td>\n",
              "      <td>NaN</td>\n",
              "      <td>NaN</td>\n",
              "      <td>NaN</td>\n",
              "      <td>NaN</td>\n",
              "      <td>NaN</td>\n",
              "      <td>8.33</td>\n",
              "      <td>38928341.0</td>\n",
              "      <td>54.422</td>\n",
              "      <td>18.6</td>\n",
              "      <td>2.581</td>\n",
              "      <td>1.337</td>\n",
              "      <td>1803.987</td>\n",
              "      <td>NaN</td>\n",
              "      <td>597.029</td>\n",
              "      <td>9.59</td>\n",
              "      <td>NaN</td>\n",
              "      <td>NaN</td>\n",
              "      <td>37.746</td>\n",
              "      <td>0.5</td>\n",
              "      <td>64.83</td>\n",
              "      <td>0.511</td>\n",
              "    </tr>\n",
              "    <tr>\n",
              "      <th>3</th>\n",
              "      <td>AFG</td>\n",
              "      <td>Asia</td>\n",
              "      <td>Afghanistan</td>\n",
              "      <td>2020-02-27</td>\n",
              "      <td>1.0</td>\n",
              "      <td>0.0</td>\n",
              "      <td>NaN</td>\n",
              "      <td>NaN</td>\n",
              "      <td>NaN</td>\n",
              "      <td>NaN</td>\n",
              "      <td>0.026</td>\n",
              "      <td>0.000</td>\n",
              "      <td>NaN</td>\n",
              "      <td>NaN</td>\n",
              "      <td>NaN</td>\n",
              "      <td>NaN</td>\n",
              "      <td>NaN</td>\n",
              "      <td>NaN</td>\n",
              "      <td>NaN</td>\n",
              "      <td>NaN</td>\n",
              "      <td>NaN</td>\n",
              "      <td>NaN</td>\n",
              "      <td>NaN</td>\n",
              "      <td>NaN</td>\n",
              "      <td>NaN</td>\n",
              "      <td>NaN</td>\n",
              "      <td>NaN</td>\n",
              "      <td>NaN</td>\n",
              "      <td>NaN</td>\n",
              "      <td>NaN</td>\n",
              "      <td>NaN</td>\n",
              "      <td>NaN</td>\n",
              "      <td>NaN</td>\n",
              "      <td>NaN</td>\n",
              "      <td>NaN</td>\n",
              "      <td>NaN</td>\n",
              "      <td>NaN</td>\n",
              "      <td>NaN</td>\n",
              "      <td>NaN</td>\n",
              "      <td>NaN</td>\n",
              "      <td>NaN</td>\n",
              "      <td>NaN</td>\n",
              "      <td>NaN</td>\n",
              "      <td>8.33</td>\n",
              "      <td>38928341.0</td>\n",
              "      <td>54.422</td>\n",
              "      <td>18.6</td>\n",
              "      <td>2.581</td>\n",
              "      <td>1.337</td>\n",
              "      <td>1803.987</td>\n",
              "      <td>NaN</td>\n",
              "      <td>597.029</td>\n",
              "      <td>9.59</td>\n",
              "      <td>NaN</td>\n",
              "      <td>NaN</td>\n",
              "      <td>37.746</td>\n",
              "      <td>0.5</td>\n",
              "      <td>64.83</td>\n",
              "      <td>0.511</td>\n",
              "    </tr>\n",
              "    <tr>\n",
              "      <th>4</th>\n",
              "      <td>AFG</td>\n",
              "      <td>Asia</td>\n",
              "      <td>Afghanistan</td>\n",
              "      <td>2020-02-28</td>\n",
              "      <td>1.0</td>\n",
              "      <td>0.0</td>\n",
              "      <td>NaN</td>\n",
              "      <td>NaN</td>\n",
              "      <td>NaN</td>\n",
              "      <td>NaN</td>\n",
              "      <td>0.026</td>\n",
              "      <td>0.000</td>\n",
              "      <td>NaN</td>\n",
              "      <td>NaN</td>\n",
              "      <td>NaN</td>\n",
              "      <td>NaN</td>\n",
              "      <td>NaN</td>\n",
              "      <td>NaN</td>\n",
              "      <td>NaN</td>\n",
              "      <td>NaN</td>\n",
              "      <td>NaN</td>\n",
              "      <td>NaN</td>\n",
              "      <td>NaN</td>\n",
              "      <td>NaN</td>\n",
              "      <td>NaN</td>\n",
              "      <td>NaN</td>\n",
              "      <td>NaN</td>\n",
              "      <td>NaN</td>\n",
              "      <td>NaN</td>\n",
              "      <td>NaN</td>\n",
              "      <td>NaN</td>\n",
              "      <td>NaN</td>\n",
              "      <td>NaN</td>\n",
              "      <td>NaN</td>\n",
              "      <td>NaN</td>\n",
              "      <td>NaN</td>\n",
              "      <td>NaN</td>\n",
              "      <td>NaN</td>\n",
              "      <td>NaN</td>\n",
              "      <td>NaN</td>\n",
              "      <td>NaN</td>\n",
              "      <td>NaN</td>\n",
              "      <td>NaN</td>\n",
              "      <td>8.33</td>\n",
              "      <td>38928341.0</td>\n",
              "      <td>54.422</td>\n",
              "      <td>18.6</td>\n",
              "      <td>2.581</td>\n",
              "      <td>1.337</td>\n",
              "      <td>1803.987</td>\n",
              "      <td>NaN</td>\n",
              "      <td>597.029</td>\n",
              "      <td>9.59</td>\n",
              "      <td>NaN</td>\n",
              "      <td>NaN</td>\n",
              "      <td>37.746</td>\n",
              "      <td>0.5</td>\n",
              "      <td>64.83</td>\n",
              "      <td>0.511</td>\n",
              "    </tr>\n",
              "  </tbody>\n",
              "</table>\n",
              "</div>"
            ],
            "text/plain": [
              "  iso_code continent  ... life_expectancy human_development_index\n",
              "0      AFG      Asia  ...           64.83                   0.511\n",
              "1      AFG      Asia  ...           64.83                   0.511\n",
              "2      AFG      Asia  ...           64.83                   0.511\n",
              "3      AFG      Asia  ...           64.83                   0.511\n",
              "4      AFG      Asia  ...           64.83                   0.511\n",
              "\n",
              "[5 rows x 59 columns]"
            ]
          },
          "metadata": {
            "tags": []
          },
          "execution_count": 3
        }
      ]
    },
    {
      "cell_type": "code",
      "metadata": {
        "colab": {
          "base_uri": "https://localhost:8080/"
        },
        "id": "5YQRT4_AJmIy",
        "outputId": "fba9953c-a0c0-49fc-b725-e2241dac559a"
      },
      "source": [
        "# Observando número de entradas e variáveis\r\n",
        "print(\"O dataset possui {} entradas e {} variáveis\".format(covid.shape[0],covid.shape[1]))"
      ],
      "execution_count": 4,
      "outputs": [
        {
          "output_type": "stream",
          "text": [
            "O dataset possui 71294 entradas e 59 variáveis\n"
          ],
          "name": "stdout"
        }
      ]
    },
    {
      "cell_type": "code",
      "metadata": {
        "colab": {
          "base_uri": "https://localhost:8080/"
        },
        "id": "zRE_xhxTLQ7l",
        "outputId": "9148efab-dc84-4d1d-88ad-87f49c697027"
      },
      "source": [
        "# Observando qual o timeseries do dataset\r\n",
        "dmin = covid.date.min()\r\n",
        "dmax = covid.date.max()\r\n",
        "print(\"O dataset vai do dia {} ao dia {}\".format(dmin,dmax))"
      ],
      "execution_count": 5,
      "outputs": [
        {
          "output_type": "stream",
          "text": [
            "O dataset vai do dia 2020-01-01 ao dia 2021-02-26\n"
          ],
          "name": "stdout"
        }
      ]
    },
    {
      "cell_type": "markdown",
      "metadata": {
        "id": "RYJvFccJTOpF"
      },
      "source": [
        "Agora vamos observar um panorama sobre os dados, quantos são, quais seus tipos e qual a porcentagem de dados ausentes possuímos no Dataset."
      ]
    },
    {
      "cell_type": "code",
      "metadata": {
        "colab": {
          "base_uri": "https://localhost:8080/"
        },
        "id": "HDpOdBcQTXj6",
        "outputId": "b069f0e5-f779-4f87-a99f-bb7e9a50d117"
      },
      "source": [
        "#Usando o comando info()\r\n",
        "covid.info()"
      ],
      "execution_count": 6,
      "outputs": [
        {
          "output_type": "stream",
          "text": [
            "<class 'pandas.core.frame.DataFrame'>\n",
            "RangeIndex: 71294 entries, 0 to 71293\n",
            "Data columns (total 59 columns):\n",
            " #   Column                                 Non-Null Count  Dtype  \n",
            "---  ------                                 --------------  -----  \n",
            " 0   iso_code                               71294 non-null  object \n",
            " 1   continent                              67750 non-null  object \n",
            " 2   location                               71294 non-null  object \n",
            " 3   date                                   71294 non-null  object \n",
            " 4   total_cases                            70336 non-null  float64\n",
            " 5   new_cases                              70334 non-null  float64\n",
            " 6   new_cases_smoothed                     69333 non-null  float64\n",
            " 7   total_deaths                           61290 non-null  float64\n",
            " 8   new_deaths                             61448 non-null  float64\n",
            " 9   new_deaths_smoothed                    69333 non-null  float64\n",
            " 10  total_cases_per_million                69951 non-null  float64\n",
            " 11  new_cases_per_million                  69949 non-null  float64\n",
            " 12  new_cases_smoothed_per_million         68953 non-null  float64\n",
            " 13  total_deaths_per_million               60918 non-null  float64\n",
            " 14  new_deaths_per_million                 61076 non-null  float64\n",
            " 15  new_deaths_smoothed_per_million        68953 non-null  float64\n",
            " 16  reproduction_rate                      57281 non-null  float64\n",
            " 17  icu_patients                           7613 non-null   float64\n",
            " 18  icu_patients_per_million               7613 non-null   float64\n",
            " 19  hosp_patients                          9157 non-null   float64\n",
            " 20  hosp_patients_per_million              9157 non-null   float64\n",
            " 21  weekly_icu_admissions                  717 non-null    float64\n",
            " 22  weekly_icu_admissions_per_million      717 non-null    float64\n",
            " 23  weekly_hosp_admissions                 1182 non-null   float64\n",
            " 24  weekly_hosp_admissions_per_million     1182 non-null   float64\n",
            " 25  new_tests                              32603 non-null  float64\n",
            " 26  total_tests                            32456 non-null  float64\n",
            " 27  total_tests_per_thousand               32456 non-null  float64\n",
            " 28  new_tests_per_thousand                 32603 non-null  float64\n",
            " 29  new_tests_smoothed                     37180 non-null  float64\n",
            " 30  new_tests_smoothed_per_thousand        37180 non-null  float64\n",
            " 31  positive_rate                          35609 non-null  float64\n",
            " 32  tests_per_case                         35058 non-null  float64\n",
            " 33  tests_units                            38477 non-null  object \n",
            " 34  total_vaccinations                     2720 non-null   float64\n",
            " 35  people_vaccinated                      2300 non-null   float64\n",
            " 36  people_fully_vaccinated                1487 non-null   float64\n",
            " 37  new_vaccinations                       2308 non-null   float64\n",
            " 38  new_vaccinations_smoothed              3934 non-null   float64\n",
            " 39  total_vaccinations_per_hundred         2720 non-null   float64\n",
            " 40  people_vaccinated_per_hundred          2300 non-null   float64\n",
            " 41  people_fully_vaccinated_per_hundred    1487 non-null   float64\n",
            " 42  new_vaccinations_smoothed_per_million  3934 non-null   float64\n",
            " 43  stringency_index                       61208 non-null  float64\n",
            " 44  population                             70900 non-null  float64\n",
            " 45  population_density                     66638 non-null  float64\n",
            " 46  median_age                             64870 non-null  float64\n",
            " 47  aged_65_older                          64122 non-null  float64\n",
            " 48  aged_70_older                          64504 non-null  float64\n",
            " 49  gdp_per_capita                         65044 non-null  float64\n",
            " 50  extreme_poverty                        44425 non-null  float64\n",
            " 51  cardiovasc_death_rate                  65639 non-null  float64\n",
            " 52  diabetes_prevalence                    66466 non-null  float64\n",
            " 53  female_smokers                         51668 non-null  float64\n",
            " 54  male_smokers                           50959 non-null  float64\n",
            " 55  handwashing_facilities                 32927 non-null  float64\n",
            " 56  hospital_beds_per_thousand             60151 non-null  float64\n",
            " 57  life_expectancy                        67742 non-null  float64\n",
            " 58  human_development_index                65625 non-null  float64\n",
            "dtypes: float64(54), object(5)\n",
            "memory usage: 32.1+ MB\n"
          ],
          "name": "stdout"
        }
      ]
    },
    {
      "cell_type": "code",
      "metadata": {
        "colab": {
          "base_uri": "https://localhost:8080/"
        },
        "id": "TmYen2BCUGS_",
        "outputId": "d9f2b4dd-f507-40c3-b390-2e2a10361892"
      },
      "source": [
        "# Visualizando a porcentagem de valores ausentes no Dataset\r\n",
        "round((covid.isnull().sum() / covid.shape[0]).sort_values(ascending=False),2)"
      ],
      "execution_count": 7,
      "outputs": [
        {
          "output_type": "execute_result",
          "data": {
            "text/plain": [
              "weekly_icu_admissions                    0.99\n",
              "weekly_icu_admissions_per_million        0.99\n",
              "weekly_hosp_admissions                   0.98\n",
              "weekly_hosp_admissions_per_million       0.98\n",
              "people_fully_vaccinated                  0.98\n",
              "people_fully_vaccinated_per_hundred      0.98\n",
              "people_vaccinated                        0.97\n",
              "people_vaccinated_per_hundred            0.97\n",
              "new_vaccinations                         0.97\n",
              "total_vaccinations                       0.96\n",
              "total_vaccinations_per_hundred           0.96\n",
              "new_vaccinations_smoothed                0.94\n",
              "new_vaccinations_smoothed_per_million    0.94\n",
              "icu_patients                             0.89\n",
              "icu_patients_per_million                 0.89\n",
              "hosp_patients                            0.87\n",
              "hosp_patients_per_million                0.87\n",
              "total_tests                              0.54\n",
              "total_tests_per_thousand                 0.54\n",
              "new_tests                                0.54\n",
              "new_tests_per_thousand                   0.54\n",
              "handwashing_facilities                   0.54\n",
              "tests_per_case                           0.51\n",
              "positive_rate                            0.50\n",
              "new_tests_smoothed_per_thousand          0.48\n",
              "new_tests_smoothed                       0.48\n",
              "tests_units                              0.46\n",
              "extreme_poverty                          0.38\n",
              "male_smokers                             0.29\n",
              "female_smokers                           0.28\n",
              "reproduction_rate                        0.20\n",
              "hospital_beds_per_thousand               0.16\n",
              "total_deaths_per_million                 0.15\n",
              "new_deaths_per_million                   0.14\n",
              "stringency_index                         0.14\n",
              "total_deaths                             0.14\n",
              "new_deaths                               0.14\n",
              "aged_65_older                            0.10\n",
              "aged_70_older                            0.10\n",
              "median_age                               0.09\n",
              "gdp_per_capita                           0.09\n",
              "human_development_index                  0.08\n",
              "cardiovasc_death_rate                    0.08\n",
              "diabetes_prevalence                      0.07\n",
              "population_density                       0.07\n",
              "life_expectancy                          0.05\n",
              "continent                                0.05\n",
              "new_cases_smoothed_per_million           0.03\n",
              "new_deaths_smoothed_per_million          0.03\n",
              "new_deaths_smoothed                      0.03\n",
              "new_cases_smoothed                       0.03\n",
              "new_cases_per_million                    0.02\n",
              "total_cases_per_million                  0.02\n",
              "new_cases                                0.01\n",
              "total_cases                              0.01\n",
              "population                               0.01\n",
              "date                                     0.00\n",
              "location                                 0.00\n",
              "iso_code                                 0.00\n",
              "dtype: float64"
            ]
          },
          "metadata": {
            "tags": []
          },
          "execution_count": 7
        }
      ]
    },
    {
      "cell_type": "markdown",
      "metadata": {
        "id": "8ikfsGJBVMny"
      },
      "source": [
        "Vamos adequar a coluna `date` ao formato datetime"
      ]
    },
    {
      "cell_type": "code",
      "metadata": {
        "id": "GZFGy3XQU_NX"
      },
      "source": [
        "# Usando o to_datetime do pandas\r\n",
        "covid['date'] = pd.to_datetime(covid.date)"
      ],
      "execution_count": 8,
      "outputs": []
    },
    {
      "cell_type": "markdown",
      "metadata": {
        "id": "hH_Png_iG2hy"
      },
      "source": [
        "Agora observando um panorama geral da Pandemia do COVID-19 no mundo."
      ]
    },
    {
      "cell_type": "code",
      "metadata": {
        "colab": {
          "base_uri": "https://localhost:8080/",
          "height": 117
        },
        "id": "qhxdbHNvVvGH",
        "outputId": "706a9228-f7df-4e0a-9f0a-a5efd192c2dd"
      },
      "source": [
        "# Localizando os dados para o dia mais recente do Dataset, organizando pelos lugares com mais casos\r\n",
        "total_casos = covid.loc[covid.date == dmax].sort_values(by=\"total_cases\", ascending=False)\r\n",
        "\r\n",
        "# Deixando apenas os dados referentes à países no Dataset\r\n",
        "total_casos = total_casos.dropna(subset=['continent'])\r\n",
        "total_casos[:5]"
      ],
      "execution_count": 9,
      "outputs": [
        {
          "output_type": "execute_result",
          "data": {
            "text/html": [
              "<div>\n",
              "<style scoped>\n",
              "    .dataframe tbody tr th:only-of-type {\n",
              "        vertical-align: middle;\n",
              "    }\n",
              "\n",
              "    .dataframe tbody tr th {\n",
              "        vertical-align: top;\n",
              "    }\n",
              "\n",
              "    .dataframe thead th {\n",
              "        text-align: right;\n",
              "    }\n",
              "</style>\n",
              "<table border=\"1\" class=\"dataframe\">\n",
              "  <thead>\n",
              "    <tr style=\"text-align: right;\">\n",
              "      <th></th>\n",
              "      <th>iso_code</th>\n",
              "      <th>continent</th>\n",
              "      <th>location</th>\n",
              "      <th>date</th>\n",
              "      <th>total_cases</th>\n",
              "      <th>new_cases</th>\n",
              "      <th>new_cases_smoothed</th>\n",
              "      <th>total_deaths</th>\n",
              "      <th>new_deaths</th>\n",
              "      <th>new_deaths_smoothed</th>\n",
              "      <th>total_cases_per_million</th>\n",
              "      <th>new_cases_per_million</th>\n",
              "      <th>new_cases_smoothed_per_million</th>\n",
              "      <th>total_deaths_per_million</th>\n",
              "      <th>new_deaths_per_million</th>\n",
              "      <th>new_deaths_smoothed_per_million</th>\n",
              "      <th>reproduction_rate</th>\n",
              "      <th>icu_patients</th>\n",
              "      <th>icu_patients_per_million</th>\n",
              "      <th>hosp_patients</th>\n",
              "      <th>hosp_patients_per_million</th>\n",
              "      <th>weekly_icu_admissions</th>\n",
              "      <th>weekly_icu_admissions_per_million</th>\n",
              "      <th>weekly_hosp_admissions</th>\n",
              "      <th>weekly_hosp_admissions_per_million</th>\n",
              "      <th>new_tests</th>\n",
              "      <th>total_tests</th>\n",
              "      <th>total_tests_per_thousand</th>\n",
              "      <th>new_tests_per_thousand</th>\n",
              "      <th>new_tests_smoothed</th>\n",
              "      <th>new_tests_smoothed_per_thousand</th>\n",
              "      <th>positive_rate</th>\n",
              "      <th>tests_per_case</th>\n",
              "      <th>tests_units</th>\n",
              "      <th>total_vaccinations</th>\n",
              "      <th>people_vaccinated</th>\n",
              "      <th>people_fully_vaccinated</th>\n",
              "      <th>new_vaccinations</th>\n",
              "      <th>new_vaccinations_smoothed</th>\n",
              "      <th>total_vaccinations_per_hundred</th>\n",
              "      <th>people_vaccinated_per_hundred</th>\n",
              "      <th>people_fully_vaccinated_per_hundred</th>\n",
              "      <th>new_vaccinations_smoothed_per_million</th>\n",
              "      <th>stringency_index</th>\n",
              "      <th>population</th>\n",
              "      <th>population_density</th>\n",
              "      <th>median_age</th>\n",
              "      <th>aged_65_older</th>\n",
              "      <th>aged_70_older</th>\n",
              "      <th>gdp_per_capita</th>\n",
              "      <th>extreme_poverty</th>\n",
              "      <th>cardiovasc_death_rate</th>\n",
              "      <th>diabetes_prevalence</th>\n",
              "      <th>female_smokers</th>\n",
              "      <th>male_smokers</th>\n",
              "      <th>handwashing_facilities</th>\n",
              "      <th>hospital_beds_per_thousand</th>\n",
              "      <th>life_expectancy</th>\n",
              "      <th>human_development_index</th>\n",
              "    </tr>\n",
              "  </thead>\n",
              "  <tbody>\n",
              "    <tr>\n",
              "      <th>31936</th>\n",
              "      <td>ISR</td>\n",
              "      <td>Asia</td>\n",
              "      <td>Israel</td>\n",
              "      <td>2021-02-26</td>\n",
              "      <td>NaN</td>\n",
              "      <td>NaN</td>\n",
              "      <td>NaN</td>\n",
              "      <td>NaN</td>\n",
              "      <td>NaN</td>\n",
              "      <td>NaN</td>\n",
              "      <td>NaN</td>\n",
              "      <td>NaN</td>\n",
              "      <td>NaN</td>\n",
              "      <td>NaN</td>\n",
              "      <td>NaN</td>\n",
              "      <td>NaN</td>\n",
              "      <td>NaN</td>\n",
              "      <td>299.0</td>\n",
              "      <td>34.544</td>\n",
              "      <td>1172.0</td>\n",
              "      <td>135.405</td>\n",
              "      <td>NaN</td>\n",
              "      <td>NaN</td>\n",
              "      <td>NaN</td>\n",
              "      <td>NaN</td>\n",
              "      <td>NaN</td>\n",
              "      <td>NaN</td>\n",
              "      <td>NaN</td>\n",
              "      <td>NaN</td>\n",
              "      <td>NaN</td>\n",
              "      <td>NaN</td>\n",
              "      <td>NaN</td>\n",
              "      <td>NaN</td>\n",
              "      <td>NaN</td>\n",
              "      <td>NaN</td>\n",
              "      <td>NaN</td>\n",
              "      <td>NaN</td>\n",
              "      <td>NaN</td>\n",
              "      <td>NaN</td>\n",
              "      <td>NaN</td>\n",
              "      <td>NaN</td>\n",
              "      <td>NaN</td>\n",
              "      <td>NaN</td>\n",
              "      <td>NaN</td>\n",
              "      <td>8655541.0</td>\n",
              "      <td>402.606</td>\n",
              "      <td>30.6</td>\n",
              "      <td>11.733</td>\n",
              "      <td>7.359</td>\n",
              "      <td>33132.32</td>\n",
              "      <td>0.5</td>\n",
              "      <td>93.32</td>\n",
              "      <td>6.74</td>\n",
              "      <td>15.4</td>\n",
              "      <td>35.4</td>\n",
              "      <td>NaN</td>\n",
              "      <td>2.99</td>\n",
              "      <td>82.97</td>\n",
              "      <td>0.919</td>\n",
              "    </tr>\n",
              "  </tbody>\n",
              "</table>\n",
              "</div>"
            ],
            "text/plain": [
              "      iso_code continent  ... life_expectancy human_development_index\n",
              "31936      ISR      Asia  ...           82.97                   0.919\n",
              "\n",
              "[1 rows x 59 columns]"
            ]
          },
          "metadata": {
            "tags": []
          },
          "execution_count": 9
        }
      ]
    },
    {
      "cell_type": "code",
      "metadata": {
        "colab": {
          "base_uri": "https://localhost:8080/",
          "height": 117
        },
        "id": "oF42JU3KWWE6",
        "outputId": "eb32c5af-842c-4d05-ac3f-39729667e436"
      },
      "source": [
        "# Localizando os dados para o dia mais recente do Dataset, organizando pelos lugares com mais mortes\r\n",
        "total_mortes = covid.loc[covid.date == dmax].sort_values(by='total_deaths', ascending = False)\r\n",
        "\r\n",
        "# Deixando apenas os dados referentes à países no Dataset\r\n",
        "total_mortes = total_mortes.dropna(subset=['continent'])\r\n",
        "total_mortes[:5]"
      ],
      "execution_count": 10,
      "outputs": [
        {
          "output_type": "execute_result",
          "data": {
            "text/html": [
              "<div>\n",
              "<style scoped>\n",
              "    .dataframe tbody tr th:only-of-type {\n",
              "        vertical-align: middle;\n",
              "    }\n",
              "\n",
              "    .dataframe tbody tr th {\n",
              "        vertical-align: top;\n",
              "    }\n",
              "\n",
              "    .dataframe thead th {\n",
              "        text-align: right;\n",
              "    }\n",
              "</style>\n",
              "<table border=\"1\" class=\"dataframe\">\n",
              "  <thead>\n",
              "    <tr style=\"text-align: right;\">\n",
              "      <th></th>\n",
              "      <th>iso_code</th>\n",
              "      <th>continent</th>\n",
              "      <th>location</th>\n",
              "      <th>date</th>\n",
              "      <th>total_cases</th>\n",
              "      <th>new_cases</th>\n",
              "      <th>new_cases_smoothed</th>\n",
              "      <th>total_deaths</th>\n",
              "      <th>new_deaths</th>\n",
              "      <th>new_deaths_smoothed</th>\n",
              "      <th>total_cases_per_million</th>\n",
              "      <th>new_cases_per_million</th>\n",
              "      <th>new_cases_smoothed_per_million</th>\n",
              "      <th>total_deaths_per_million</th>\n",
              "      <th>new_deaths_per_million</th>\n",
              "      <th>new_deaths_smoothed_per_million</th>\n",
              "      <th>reproduction_rate</th>\n",
              "      <th>icu_patients</th>\n",
              "      <th>icu_patients_per_million</th>\n",
              "      <th>hosp_patients</th>\n",
              "      <th>hosp_patients_per_million</th>\n",
              "      <th>weekly_icu_admissions</th>\n",
              "      <th>weekly_icu_admissions_per_million</th>\n",
              "      <th>weekly_hosp_admissions</th>\n",
              "      <th>weekly_hosp_admissions_per_million</th>\n",
              "      <th>new_tests</th>\n",
              "      <th>total_tests</th>\n",
              "      <th>total_tests_per_thousand</th>\n",
              "      <th>new_tests_per_thousand</th>\n",
              "      <th>new_tests_smoothed</th>\n",
              "      <th>new_tests_smoothed_per_thousand</th>\n",
              "      <th>positive_rate</th>\n",
              "      <th>tests_per_case</th>\n",
              "      <th>tests_units</th>\n",
              "      <th>total_vaccinations</th>\n",
              "      <th>people_vaccinated</th>\n",
              "      <th>people_fully_vaccinated</th>\n",
              "      <th>new_vaccinations</th>\n",
              "      <th>new_vaccinations_smoothed</th>\n",
              "      <th>total_vaccinations_per_hundred</th>\n",
              "      <th>people_vaccinated_per_hundred</th>\n",
              "      <th>people_fully_vaccinated_per_hundred</th>\n",
              "      <th>new_vaccinations_smoothed_per_million</th>\n",
              "      <th>stringency_index</th>\n",
              "      <th>population</th>\n",
              "      <th>population_density</th>\n",
              "      <th>median_age</th>\n",
              "      <th>aged_65_older</th>\n",
              "      <th>aged_70_older</th>\n",
              "      <th>gdp_per_capita</th>\n",
              "      <th>extreme_poverty</th>\n",
              "      <th>cardiovasc_death_rate</th>\n",
              "      <th>diabetes_prevalence</th>\n",
              "      <th>female_smokers</th>\n",
              "      <th>male_smokers</th>\n",
              "      <th>handwashing_facilities</th>\n",
              "      <th>hospital_beds_per_thousand</th>\n",
              "      <th>life_expectancy</th>\n",
              "      <th>human_development_index</th>\n",
              "    </tr>\n",
              "  </thead>\n",
              "  <tbody>\n",
              "    <tr>\n",
              "      <th>31936</th>\n",
              "      <td>ISR</td>\n",
              "      <td>Asia</td>\n",
              "      <td>Israel</td>\n",
              "      <td>2021-02-26</td>\n",
              "      <td>NaN</td>\n",
              "      <td>NaN</td>\n",
              "      <td>NaN</td>\n",
              "      <td>NaN</td>\n",
              "      <td>NaN</td>\n",
              "      <td>NaN</td>\n",
              "      <td>NaN</td>\n",
              "      <td>NaN</td>\n",
              "      <td>NaN</td>\n",
              "      <td>NaN</td>\n",
              "      <td>NaN</td>\n",
              "      <td>NaN</td>\n",
              "      <td>NaN</td>\n",
              "      <td>299.0</td>\n",
              "      <td>34.544</td>\n",
              "      <td>1172.0</td>\n",
              "      <td>135.405</td>\n",
              "      <td>NaN</td>\n",
              "      <td>NaN</td>\n",
              "      <td>NaN</td>\n",
              "      <td>NaN</td>\n",
              "      <td>NaN</td>\n",
              "      <td>NaN</td>\n",
              "      <td>NaN</td>\n",
              "      <td>NaN</td>\n",
              "      <td>NaN</td>\n",
              "      <td>NaN</td>\n",
              "      <td>NaN</td>\n",
              "      <td>NaN</td>\n",
              "      <td>NaN</td>\n",
              "      <td>NaN</td>\n",
              "      <td>NaN</td>\n",
              "      <td>NaN</td>\n",
              "      <td>NaN</td>\n",
              "      <td>NaN</td>\n",
              "      <td>NaN</td>\n",
              "      <td>NaN</td>\n",
              "      <td>NaN</td>\n",
              "      <td>NaN</td>\n",
              "      <td>NaN</td>\n",
              "      <td>8655541.0</td>\n",
              "      <td>402.606</td>\n",
              "      <td>30.6</td>\n",
              "      <td>11.733</td>\n",
              "      <td>7.359</td>\n",
              "      <td>33132.32</td>\n",
              "      <td>0.5</td>\n",
              "      <td>93.32</td>\n",
              "      <td>6.74</td>\n",
              "      <td>15.4</td>\n",
              "      <td>35.4</td>\n",
              "      <td>NaN</td>\n",
              "      <td>2.99</td>\n",
              "      <td>82.97</td>\n",
              "      <td>0.919</td>\n",
              "    </tr>\n",
              "  </tbody>\n",
              "</table>\n",
              "</div>"
            ],
            "text/plain": [
              "      iso_code continent  ... life_expectancy human_development_index\n",
              "31936      ISR      Asia  ...           82.97                   0.919\n",
              "\n",
              "[1 rows x 59 columns]"
            ]
          },
          "metadata": {
            "tags": []
          },
          "execution_count": 10
        }
      ]
    },
    {
      "cell_type": "markdown",
      "metadata": {
        "id": "KZKg9u8MJNAe"
      },
      "source": [
        "Agora vamos plotar alguns gráficos para facilitar a visualização."
      ]
    },
    {
      "cell_type": "code",
      "metadata": {
        "colab": {
          "base_uri": "https://localhost:8080/",
          "height": 373
        },
        "id": "SjcSauQnj54N",
        "outputId": "10996f27-2f63-4dc0-e657-da316095bca5"
      },
      "source": [
        "# Top ten de mortes\r\n",
        "top10_tm = total_mortes.head(10)\r\n",
        "\r\n",
        "# Plotando o total de mortes\r\n",
        "fig, ax = plt.subplots(figsize=(10,5))\r\n",
        "ax.bar('location','total_deaths', data=top10_tm)\r\n",
        "plt.xticks(rotation=90)\r\n",
        "plt.suptitle('Países com mais mortes por COVID-19 no dia {}'.format(covid.date.dt.date.max()))\r\n",
        "plt.show()"
      ],
      "execution_count": 11,
      "outputs": [
        {
          "output_type": "display_data",
          "data": {
            "image/png": "[encoded data removed]",
            "text/plain": [
              "<Figure size 720x360 with 1 Axes>"
            ]
          },
          "metadata": {
            "tags": [],
            "needs_background": "light"
          }
        }
      ]
    },
    {
      "cell_type": "code",
      "metadata": {
        "colab": {
          "base_uri": "https://localhost:8080/",
          "height": 381
        },
        "id": "0jD5nfiWlxXo",
        "outputId": "3380041b-d266-4cef-dbb2-5ed9d35f8fb2"
      },
      "source": [
        "# Criando backup pra não comprometer o dataset original\r\n",
        "covid1 = covid.copy()\r\n",
        "\r\n",
        "# Plotando o a evolução da covid no mundo\r\n",
        "covid1 = covid1.loc[covid1.location ==\"World\"].reset_index(drop=True)\r\n",
        "covid1.groupby(['date'])['total_cases'].sum().plot(figsize=(10,5))\r\n",
        "plt.suptitle('Evolução de Nº de casos da COVID-19 na série histórica de estudo',fontsize=15)\r\n",
        "plt.show()"
      ],
      "execution_count": 12,
      "outputs": [
        {
          "output_type": "display_data",
          "data": {
            "image/png": "[encoded data removed]",
            "text/plain": [
              "<Figure size 720x360 with 1 Axes>"
            ]
          },
          "metadata": {
            "tags": [],
            "needs_background": "light"
          }
        }
      ]
    },
    {
      "cell_type": "markdown",
      "metadata": {
        "id": "lVhbsTGRZtgb"
      },
      "source": [
        "### **Dados de Vacinas**\r\n",
        "\r\n",
        "<center><img width=\"65%\" src=\"https://raw.githubusercontent.com/otaviodefilpo/covid-19-inbrazil-vaccines-cases-deaths/main/vacina-paises.jpeg\"></center>\r\n",
        "\r\n",
        "***Partindo para as análises sobre vacinas!***\r\n",
        "\r\n",
        "Observando o Dataset vemos que os dados sobre vacina possuem muitos valores em NaN, pois como a vacina foi criada apenas recentemente, esses dados não existiam nos primeiros meses da nossa série. Os nossos próximos passos são:\r\n",
        "* Isolar os dados referentes à vacinas que são:\r\n",
        "\r\n",
        "`total_vaccinations`,\t`people_vaccinated`, `people_fully_vaccinated`, `\tnew_vaccinations`,\t`new_vaccinations_smoothed`, `\ttotal_vaccinations_per_hundred`, `people_vaccinated_per_hundred`, `\tpeople_fully_vaccinated_per_hundred`, `\tnew_vaccinations_smoothed_per_million`\r\n",
        "\r\n",
        "**Adicionaremos também alguns dados gerais para auxiliar nossa análise que são:*\r\n",
        "\r\n",
        "`iso_code`,\t`continent`, `location`,\t`date`, `life_expectancy`, `human_development_index`, `aged_65_older`, `aged_70_older`, `stringency_index`,`population_density`, `median_age`\r\n",
        "\r\n",
        "* Limpar esses dados mais antigos que não serão úteis para visualizar dados sobre vacinas"
      ]
    },
    {
      "cell_type": "code",
      "metadata": {
        "id": "Am9OeHNTaapT"
      },
      "source": [
        "# Criando dataframe sobre Vacinas\r\n",
        "vacinas = covid[['iso_code', 'continent', 'location', 'date',\r\n",
        "                 'total_vaccinations', 'people_vaccinated', 'people_fully_vaccinated',\r\n",
        "                'new_vaccinations', 'new_vaccinations_smoothed', 'total_vaccinations_per_hundred',\r\n",
        "                'people_vaccinated_per_hundred', 'people_fully_vaccinated_per_hundred', 'new_vaccinations_smoothed_per_million',\r\n",
        "                 'life_expectancy', 'human_development_index', 'aged_65_older',\r\n",
        "                 'aged_70_older', 'stringency_index', 'population_density', 'median_age']].copy()"
      ],
      "execution_count": 13,
      "outputs": []
    },
    {
      "cell_type": "code",
      "metadata": {
        "id": "YLj8jdWbi7Y0"
      },
      "source": [
        "# Limpando os valores ausentes anteriores à primeira vacina\r\n",
        "vacinas.dropna(subset = ['total_vaccinations'] , axis=0, inplace= True)"
      ],
      "execution_count": 14,
      "outputs": []
    },
    {
      "cell_type": "code",
      "metadata": {
        "colab": {
          "base_uri": "https://localhost:8080/"
        },
        "id": "m6kjT4yenLLA",
        "outputId": "b0b83cfa-fac9-477b-ee86-b550e1fc7d3d"
      },
      "source": [
        "# Verificando o tamanho do nosso novo dataset\r\n",
        "print(\"O dataframe possui {} entradas e {} variáveis\".format(vacinas.shape[0],vacinas.shape[1]))"
      ],
      "execution_count": 15,
      "outputs": [
        {
          "output_type": "stream",
          "text": [
            "O dataframe possui 2720 entradas e 20 variáveis\n"
          ],
          "name": "stdout"
        }
      ]
    },
    {
      "cell_type": "code",
      "metadata": {
        "colab": {
          "base_uri": "https://localhost:8080/"
        },
        "id": "uM-kliuLpthB",
        "outputId": "5b32a5ff-1cae-4393-ad60-e4ec4df9b221"
      },
      "source": [
        "# Verificando quantos valores ausentes possuímos no nosso Dataset\r\n",
        "round((vacinas.isnull().sum() / vacinas.shape[0]).sort_values(ascending=False),2)"
      ],
      "execution_count": 16,
      "outputs": [
        {
          "output_type": "execute_result",
          "data": {
            "text/plain": [
              "people_fully_vaccinated_per_hundred      0.46\n",
              "people_fully_vaccinated                  0.46\n",
              "stringency_index                         0.20\n",
              "people_vaccinated_per_hundred            0.17\n",
              "people_vaccinated                        0.17\n",
              "new_vaccinations                         0.15\n",
              "aged_70_older                            0.08\n",
              "median_age                               0.07\n",
              "aged_65_older                            0.07\n",
              "human_development_index                  0.07\n",
              "continent                                0.05\n",
              "new_vaccinations_smoothed_per_million    0.04\n",
              "new_vaccinations_smoothed                0.04\n",
              "population_density                       0.03\n",
              "life_expectancy                          0.03\n",
              "location                                 0.00\n",
              "total_vaccinations_per_hundred           0.00\n",
              "date                                     0.00\n",
              "total_vaccinations                       0.00\n",
              "iso_code                                 0.00\n",
              "dtype: float64"
            ]
          },
          "metadata": {
            "tags": []
          },
          "execution_count": 16
        }
      ]
    },
    {
      "cell_type": "code",
      "metadata": {
        "colab": {
          "base_uri": "https://localhost:8080/",
          "height": 317
        },
        "id": "hj_E7-BerGz6",
        "outputId": "501bdde1-7519-4866-a2b7-8b6e10e64690"
      },
      "source": [
        "# Agora vamos utilizar o método describe()\r\n",
        "vacinas.describe()"
      ],
      "execution_count": 17,
      "outputs": [
        {
          "output_type": "execute_result",
          "data": {
            "text/html": [
              "<div>\n",
              "<style scoped>\n",
              "    .dataframe tbody tr th:only-of-type {\n",
              "        vertical-align: middle;\n",
              "    }\n",
              "\n",
              "    .dataframe tbody tr th {\n",
              "        vertical-align: top;\n",
              "    }\n",
              "\n",
              "    .dataframe thead th {\n",
              "        text-align: right;\n",
              "    }\n",
              "</style>\n",
              "<table border=\"1\" class=\"dataframe\">\n",
              "  <thead>\n",
              "    <tr style=\"text-align: right;\">\n",
              "      <th></th>\n",
              "      <th>total_vaccinations</th>\n",
              "      <th>people_vaccinated</th>\n",
              "      <th>people_fully_vaccinated</th>\n",
              "      <th>new_vaccinations</th>\n",
              "      <th>new_vaccinations_smoothed</th>\n",
              "      <th>total_vaccinations_per_hundred</th>\n",
              "      <th>people_vaccinated_per_hundred</th>\n",
              "      <th>people_fully_vaccinated_per_hundred</th>\n",
              "      <th>new_vaccinations_smoothed_per_million</th>\n",
              "      <th>life_expectancy</th>\n",
              "      <th>human_development_index</th>\n",
              "      <th>aged_65_older</th>\n",
              "      <th>aged_70_older</th>\n",
              "      <th>stringency_index</th>\n",
              "      <th>population_density</th>\n",
              "      <th>median_age</th>\n",
              "    </tr>\n",
              "  </thead>\n",
              "  <tbody>\n",
              "    <tr>\n",
              "      <th>count</th>\n",
              "      <td>2.720000e+03</td>\n",
              "      <td>2.268000e+03</td>\n",
              "      <td>1.480000e+03</td>\n",
              "      <td>2.308000e+03</td>\n",
              "      <td>2.602000e+03</td>\n",
              "      <td>2720.000000</td>\n",
              "      <td>2268.000000</td>\n",
              "      <td>1480.000000</td>\n",
              "      <td>2602.000000</td>\n",
              "      <td>2647.000000</td>\n",
              "      <td>2533.000000</td>\n",
              "      <td>2525.000000</td>\n",
              "      <td>2500.000000</td>\n",
              "      <td>2183.000000</td>\n",
              "      <td>2641.000000</td>\n",
              "      <td>2525.000000</td>\n",
              "    </tr>\n",
              "    <tr>\n",
              "      <th>mean</th>\n",
              "      <td>3.851671e+06</td>\n",
              "      <td>2.966492e+06</td>\n",
              "      <td>1.132120e+06</td>\n",
              "      <td>1.787450e+05</td>\n",
              "      <td>1.545181e+05</td>\n",
              "      <td>6.052563</td>\n",
              "      <td>4.708131</td>\n",
              "      <td>2.246270</td>\n",
              "      <td>2412.403536</td>\n",
              "      <td>78.923838</td>\n",
              "      <td>0.859015</td>\n",
              "      <td>14.458769</td>\n",
              "      <td>9.469415</td>\n",
              "      <td>68.038012</td>\n",
              "      <td>332.528938</td>\n",
              "      <td>38.608792</td>\n",
              "    </tr>\n",
              "    <tr>\n",
              "      <th>std</th>\n",
              "      <td>1.808607e+07</td>\n",
              "      <td>1.171039e+07</td>\n",
              "      <td>4.291008e+06</td>\n",
              "      <td>7.393045e+05</td>\n",
              "      <td>6.100859e+05</td>\n",
              "      <td>12.523077</td>\n",
              "      <td>8.743058</td>\n",
              "      <td>5.455982</td>\n",
              "      <td>4246.081193</td>\n",
              "      <td>3.654256</td>\n",
              "      <td>0.078656</td>\n",
              "      <td>6.149828</td>\n",
              "      <td>4.373510</td>\n",
              "      <td>12.491993</td>\n",
              "      <td>1106.170701</td>\n",
              "      <td>6.115107</td>\n",
              "    </tr>\n",
              "    <tr>\n",
              "      <th>min</th>\n",
              "      <td>0.000000e+00</td>\n",
              "      <td>0.000000e+00</td>\n",
              "      <td>1.000000e+00</td>\n",
              "      <td>-5.001200e+04</td>\n",
              "      <td>1.000000e+00</td>\n",
              "      <td>0.000000</td>\n",
              "      <td>0.000000</td>\n",
              "      <td>0.000000</td>\n",
              "      <td>0.000000</td>\n",
              "      <td>61.490000</td>\n",
              "      <td>0.512000</td>\n",
              "      <td>1.144000</td>\n",
              "      <td>0.526000</td>\n",
              "      <td>16.670000</td>\n",
              "      <td>0.137000</td>\n",
              "      <td>18.700000</td>\n",
              "    </tr>\n",
              "    <tr>\n",
              "      <th>25%</th>\n",
              "      <td>2.978375e+04</td>\n",
              "      <td>2.812625e+04</td>\n",
              "      <td>1.227200e+04</td>\n",
              "      <td>2.077000e+03</td>\n",
              "      <td>2.237000e+03</td>\n",
              "      <td>0.530000</td>\n",
              "      <td>0.500000</td>\n",
              "      <td>0.190000</td>\n",
              "      <td>429.250000</td>\n",
              "      <td>76.680000</td>\n",
              "      <td>0.816000</td>\n",
              "      <td>8.696000</td>\n",
              "      <td>5.355000</td>\n",
              "      <td>58.330000</td>\n",
              "      <td>55.133000</td>\n",
              "      <td>32.400000</td>\n",
              "    </tr>\n",
              "    <tr>\n",
              "      <th>50%</th>\n",
              "      <td>2.009375e+05</td>\n",
              "      <td>1.826750e+05</td>\n",
              "      <td>6.371300e+04</td>\n",
              "      <td>1.182400e+04</td>\n",
              "      <td>1.091400e+04</td>\n",
              "      <td>2.225000</td>\n",
              "      <td>2.160000</td>\n",
              "      <td>0.780000</td>\n",
              "      <td>1126.000000</td>\n",
              "      <td>78.930000</td>\n",
              "      <td>0.882000</td>\n",
              "      <td>16.821000</td>\n",
              "      <td>10.797000</td>\n",
              "      <td>71.300000</td>\n",
              "      <td>106.749000</td>\n",
              "      <td>41.200000</td>\n",
              "    </tr>\n",
              "    <tr>\n",
              "      <th>75%</th>\n",
              "      <td>1.092772e+06</td>\n",
              "      <td>1.008592e+06</td>\n",
              "      <td>4.260188e+05</td>\n",
              "      <td>7.098275e+04</td>\n",
              "      <td>6.654775e+04</td>\n",
              "      <td>5.452500</td>\n",
              "      <td>3.945000</td>\n",
              "      <td>1.932500</td>\n",
              "      <td>1916.750000</td>\n",
              "      <td>82.050000</td>\n",
              "      <td>0.919000</td>\n",
              "      <td>19.426000</td>\n",
              "      <td>13.079000</td>\n",
              "      <td>78.700000</td>\n",
              "      <td>214.243000</td>\n",
              "      <td>43.300000</td>\n",
              "    </tr>\n",
              "    <tr>\n",
              "      <th>max</th>\n",
              "      <td>2.276156e+08</td>\n",
              "      <td>1.355676e+08</td>\n",
              "      <td>4.764403e+07</td>\n",
              "      <td>1.276027e+07</td>\n",
              "      <td>6.208411e+06</td>\n",
              "      <td>99.050000</td>\n",
              "      <td>60.680000</td>\n",
              "      <td>38.370000</td>\n",
              "      <td>54264.000000</td>\n",
              "      <td>86.750000</td>\n",
              "      <td>0.957000</td>\n",
              "      <td>27.049000</td>\n",
              "      <td>18.493000</td>\n",
              "      <td>92.590000</td>\n",
              "      <td>20546.766000</td>\n",
              "      <td>48.200000</td>\n",
              "    </tr>\n",
              "  </tbody>\n",
              "</table>\n",
              "</div>"
            ],
            "text/plain": [
              "       total_vaccinations  people_vaccinated  ...  population_density   median_age\n",
              "count        2.720000e+03       2.268000e+03  ...         2641.000000  2525.000000\n",
              "mean         3.851671e+06       2.966492e+06  ...          332.528938    38.608792\n",
              "std          1.808607e+07       1.171039e+07  ...         1106.170701     6.115107\n",
              "min          0.000000e+00       0.000000e+00  ...            0.137000    18.700000\n",
              "25%          2.978375e+04       2.812625e+04  ...           55.133000    32.400000\n",
              "50%          2.009375e+05       1.826750e+05  ...          106.749000    41.200000\n",
              "75%          1.092772e+06       1.008592e+06  ...          214.243000    43.300000\n",
              "max          2.276156e+08       1.355676e+08  ...        20546.766000    48.200000\n",
              "\n",
              "[8 rows x 16 columns]"
            ]
          },
          "metadata": {
            "tags": []
          },
          "execution_count": 17
        }
      ]
    },
    {
      "cell_type": "markdown",
      "metadata": {
        "id": "BJJnWMx5n2mh"
      },
      "source": [
        "Aqui temos alguns valores que são outliers, pois são muito maiores que o normal para a fração do dataset, mas como realmente temos países que tiveram muitos valores que extrapolaram a normalidade, vamos usá-los para visualizar essas discrepâncias de números."
      ]
    },
    {
      "cell_type": "markdown",
      "metadata": {
        "id": "6u6-bESytGkL"
      },
      "source": [
        "Vamos observar se existe alguma correlação significativa entre os dados."
      ]
    },
    {
      "cell_type": "code",
      "metadata": {
        "colab": {
          "base_uri": "https://localhost:8080/",
          "height": 740
        },
        "id": "8d-3G6rqtPMn",
        "outputId": "5b869b42-843a-46ec-cbf5-ff69342db61f"
      },
      "source": [
        "corr_vac = vacinas.corr()\r\n",
        "corr_vac\r\n",
        "fig, ax = plt.subplots(figsize=(10,10));\r\n",
        "sns.heatmap(corr_vac, cmap='RdBu', fmt='2f', square=True, linecolor='white');"
      ],
      "execution_count": 18,
      "outputs": [
        {
          "output_type": "display_data",
          "data": {
            "image/png": "[encoded data removed]",
            "text/plain": [
              "<Figure size 720x720 with 2 Axes>"
            ]
          },
          "metadata": {
            "tags": [],
            "needs_background": "light"
          }
        }
      ]
    },
    {
      "cell_type": "markdown",
      "metadata": {
        "id": "lL4B_T5AvpA3"
      },
      "source": [
        "Podemos observar que as correlações mais fortes entre variáveis são as que já eram esperadas, como número total de vacinas e novas vacinas, por exemplo, mas a própria escala nos mostra que não tivemos uma correlação inversa maior que 0.3."
      ]
    },
    {
      "cell_type": "markdown",
      "metadata": {
        "id": "7mf82bMcwAyg"
      },
      "source": [
        "Agora vamos observar dados relevantes sobre a vacinação:\r\n",
        "* 1) Quais os países com mais doses de vacina aplicadas? E por centenas de pessoas?\r\n",
        "* 2) Quais os países com mais pessoas vacinadas? E por centenas de pessoas?\r\n",
        "* 3) Quais os que mais vacinaram completamente? E por centenas de pessoas?\r\n",
        "\r\n",
        "Antes disso vamos definir um dataset para o dia mais atual dos nossos dados"
      ]
    },
    {
      "cell_type": "code",
      "metadata": {
        "id": "qyYvgLps_DO6"
      },
      "source": [
        "# Definindo dia mais recente do Dataset\r\n",
        "vac_hoje = vacinas.loc[vacinas.date == dmax]\r\n",
        "\r\n",
        "# Deixando apenas os dados referentes à países no Dataset\r\n",
        "vac_hoje = vac_hoje.dropna(subset=['continent'])"
      ],
      "execution_count": 19,
      "outputs": []
    },
    {
      "cell_type": "markdown",
      "metadata": {
        "id": "XkbDpt5S6AwJ"
      },
      "source": [
        "**1) Quais os países com mais doses de vacina aplicadas? E por centenas de pessoas?**"
      ]
    },
    {
      "cell_type": "code",
      "metadata": {
        "colab": {
          "base_uri": "https://localhost:8080/",
          "height": 513
        },
        "id": "neEKFHYtr2cD",
        "outputId": "3546befb-7ad0-42fb-83ad-b13fc9b6ff22"
      },
      "source": [
        "# Organizando as variáveis em ordem ascedente\r\n",
        "total_vacs = vac_hoje.sort_values(by='total_vaccinations', ascending = False)\r\n",
        "total_vacs_ph = vac_hoje.sort_values(by='total_vaccinations_per_hundred', ascending=False)\r\n",
        "\r\n",
        "# Plotando os países que mais vacinaram\r\n",
        "fig, (ax1, ax2) = plt.subplots(nrows=1, ncols=2, figsize=(15, 7))\r\n",
        "\r\n",
        "plt.suptitle('Atualizado no dia {}'.format(covid.date.dt.date.max()))\r\n",
        "ax1.bar('location','total_vaccinations', data=total_vacs.head(10))\r\n",
        "ax1.set_title('Países com mais doses de vacina da COVID-19', fontsize=15)\r\n",
        "ax1.set_ylabel('Milhões de doses')\r\n",
        "ax1.set_xlabel('Países')\r\n",
        "ax1.tick_params(labelrotation=90)\r\n",
        "\r\n",
        "ax2.bar('location','total_vaccinations_per_hundred', data=total_vacs_ph.head(10))\r\n",
        "ax2.set_title('Países com mais doses de vacina da COVID-19, por centenas de pessoas'.format(covid.date.dt.date.max()), fontsize= 12)\r\n",
        "ax2.set_ylabel('Doses por centenas de pessoas')\r\n",
        "ax2.set_xlabel('Países')\r\n",
        "ax2.tick_params(labelrotation=90)"
      ],
      "execution_count": 20,
      "outputs": [
        {
          "output_type": "display_data",
          "data": {
            "image/png": "[encoded data removed]",
            "text/plain": [
              "<Figure size 1080x504 with 2 Axes>"
            ]
          },
          "metadata": {
            "tags": [],
            "needs_background": "light"
          }
        }
      ]
    },
    {
      "cell_type": "markdown",
      "metadata": {
        "id": "v28K4hzMp06F"
      },
      "source": [
        "Percebemos que há uma diferença entre os países que mais vacinaram por números absolutos e com esses valores por centenas de pessoas.\r\n",
        "\r\n",
        "Os países mais populosos se destacam em números absolutos, mas os países menores em população se destacam em conseguir vacinar uma parcela maior da sua população, com destaque para Israel."
      ]
    },
    {
      "cell_type": "markdown",
      "metadata": {
        "id": "XCyBrs4Y-ySs"
      },
      "source": [
        "**2) Quais os países com mais pessoas vacinadas? E por centenas de pessoas?**"
      ]
    },
    {
      "cell_type": "code",
      "metadata": {
        "colab": {
          "base_uri": "https://localhost:8080/",
          "height": 513
        },
        "id": "qM95HNdE-2Tf",
        "outputId": "f1cc0bbe-9525-4f99-dc39-ef4a93eca025"
      },
      "source": [
        "# Organizando as variáveis em ordem ascedente\r\n",
        "total_pvacs = vac_hoje.sort_values(by='people_vaccinated', ascending = False)\r\n",
        "total_pvacs_ph = vac_hoje.sort_values(by='people_vaccinated_per_hundred', ascending=False)\r\n",
        "\r\n",
        "# Plotando os países com mais pessoas vacinadas\r\n",
        "fig, (ax1, ax2) = plt.subplots(nrows=1, ncols=2, figsize=(15, 7))\r\n",
        "plt.suptitle('Atualizado no dia {}'.format(covid.date.dt.date.max()))\r\n",
        "\r\n",
        "ax1.bar('location','people_vaccinated', data=total_pvacs.head(10))\r\n",
        "ax1.set_title('Países com mais pessoas vacinadas contra COVID-19', fontsize=15)\r\n",
        "ax1.set_ylabel('Milhões de pessoas')\r\n",
        "ax1.set_xlabel('Países')\r\n",
        "ax1.tick_params(labelrotation=90)\r\n",
        "\r\n",
        "ax2.bar('location','people_vaccinated_per_hundred', data=total_pvacs_ph.head(10))\r\n",
        "ax2.set_title('Países com mais pessoas vacinadas contra COVID-19, por centenas de pessoas'.format(covid.date.dt.date.max()), fontsize=10)\r\n",
        "ax2.set_ylabel('Pessoas vacinadas por centenas de habitantes')\r\n",
        "ax2.set_xlabel('Países')\r\n",
        "ax2.tick_params(labelrotation=90)"
      ],
      "execution_count": 21,
      "outputs": [
        {
          "output_type": "display_data",
          "data": {
            "image/png": "[encoded data removed]",
            "text/plain": [
              "<Figure size 1080x504 with 2 Axes>"
            ]
          },
          "metadata": {
            "tags": [],
            "needs_background": "light"
          }
        }
      ]
    },
    {
      "cell_type": "markdown",
      "metadata": {
        "id": "tOWzcGnlqkVC"
      },
      "source": [
        "Aqui a diferença se repete, com novo destaque para Israel que já tem um número expressivo de ter vacinado 50 a cada 100 habitantes do país."
      ]
    },
    {
      "cell_type": "markdown",
      "metadata": {
        "id": "mbXNqqjQ6H2k"
      },
      "source": [
        "**3) Quais os que mais vacinaram completamente? E por centenas de pessoas?**"
      ]
    },
    {
      "cell_type": "code",
      "metadata": {
        "colab": {
          "base_uri": "https://localhost:8080/",
          "height": 513
        },
        "id": "dAKWSDrbDM5o",
        "outputId": "fee540de-2d5f-4844-d06a-b8fc79672ad0"
      },
      "source": [
        "# Organizando as variáveis em ordem ascedente\r\n",
        "total_vacsf = vac_hoje.sort_values(by='people_fully_vaccinated', ascending = False)\r\n",
        "total_vacsf_ph = vac_hoje.sort_values(by='people_fully_vaccinated_per_hundred', ascending=False)\r\n",
        "\r\n",
        "# Plotando os países com mais pessoas vacinadas\r\n",
        "fig, (ax1, ax2) = plt.subplots(nrows=1, ncols=2, figsize=(15, 7))\r\n",
        "plt.suptitle('Atualizado no dia {}'.format(covid.date.dt.date.max()))\r\n",
        "\r\n",
        "ax1.bar('location','people_fully_vaccinated', data=total_vacsf.head(10))\r\n",
        "ax1.set_title('Países com mais pessoas vacinadas completamente contra COVID-19', fontsize=12)\r\n",
        "ax1.set_ylabel('Milhões de pessoas')\r\n",
        "ax1.set_xlabel('Países')\r\n",
        "ax1.tick_params(labelrotation=90)\r\n",
        "\r\n",
        "ax2.bar('location','people_fully_vaccinated_per_hundred', data=total_vacsf_ph.head(10))\r\n",
        "ax2.set_title('Países com mais pessoas vacinadas completamente contra COVID-19, por centenas de pessoas'.format(covid.date.dt.date.max()), fontsize=10)\r\n",
        "ax2.set_ylabel('Pessoas vacinadas por centenas de habitantes')\r\n",
        "ax2.set_xlabel('Países')\r\n",
        "ax2.tick_params(labelrotation=90)"
      ],
      "execution_count": 22,
      "outputs": [
        {
          "output_type": "display_data",
          "data": {
            "image/png": "[encoded data removed]",
            "text/plain": [
              "<Figure size 1080x504 with 2 Axes>"
            ]
          },
          "metadata": {
            "tags": [],
            "needs_background": "light"
          }
        }
      ]
    },
    {
      "cell_type": "markdown",
      "metadata": {
        "id": "MU6XBcsdq66R"
      },
      "source": [
        "Esse indicador é diferente do anterior, pois ele trata do número de pessoas completamente vacinadas, ou seja, que tomaram todas as doses da vacina, Israel se destaca novamente aqui."
      ]
    },
    {
      "cell_type": "markdown",
      "metadata": {
        "id": "SViA5VZ7DYLA"
      },
      "source": [
        "### Análise Exploratória para o Brasil\n",
        "\n",
        "<center><img width=\"65%\" src=\"https://raw.githubusercontent.com/otaviodefilpo/covid-19-inbrazil-vaccines-cases-deaths/main/shutterstock_1743953129AMG_PHOTO.jpg\"></center>\n",
        "\n",
        "\n",
        "Agora vamos observar como os dados de vacinação estão se comportando no Brasil, país em que é do nosso interesse explorar mais profundamente as variáveis."
      ]
    },
    {
      "cell_type": "code",
      "metadata": {
        "id": "UDQA502_hAwI"
      },
      "source": [
        "# Criando um dataset com dados de vacina para o Brasil\r\n",
        "vac_brazil = vacinas.loc[vacinas.location ==\"Brazil\"].copy()"
      ],
      "execution_count": 23,
      "outputs": []
    },
    {
      "cell_type": "markdown",
      "metadata": {
        "id": "T8w7xm73FjCe"
      },
      "source": [
        "Agora vamos observar:\r\n",
        "* 1) Quando foi a primeira vacinação no Brasil\r\n",
        "* 2) Quantos dias demorou para vacinarmos em relação ao mundo\r\n",
        "* 3) Novas vacinações e total de vacinações em escala linear e logaritmica."
      ]
    },
    {
      "cell_type": "markdown",
      "metadata": {
        "id": "AbTBYLtxINOy"
      },
      "source": [
        "**1) Dia da primeira Vacinação**"
      ]
    },
    {
      "cell_type": "code",
      "metadata": {
        "colab": {
          "base_uri": "https://localhost:8080/"
        },
        "id": "MDSvMDqaFhZZ",
        "outputId": "bafa3f12-cdfa-47e4-881b-c3c996ce7dc5"
      },
      "source": [
        "aux1 = (vac_brazil.loc[vac_brazil['new_vaccinations'] != 0]).date.dt.date.min()\r\n",
        "print('A primeira vacinação no Brasil ocorreu no dia {}'.format(aux1))"
      ],
      "execution_count": 24,
      "outputs": [
        {
          "output_type": "stream",
          "text": [
            "A primeira vacinação no Brasil ocorreu no dia 2021-01-16\n"
          ],
          "name": "stdout"
        }
      ]
    },
    {
      "cell_type": "markdown",
      "metadata": {
        "id": "dl4NeiN6IxD7"
      },
      "source": [
        "**2) Diferença de dias da primeira vacinação em relação ao mundo**"
      ]
    },
    {
      "cell_type": "code",
      "metadata": {
        "colab": {
          "base_uri": "https://localhost:8080/"
        },
        "id": "r080ak-yI5Hg",
        "outputId": "7564663f-5fad-432d-b9ca-0aa918ec6d17"
      },
      "source": [
        "# Diminuindo os dias\r\n",
        "dif_vac = vac_brazil.date.min() - vacinas.date.min()\r\n",
        "print('O Brasil começou a vacinação {} dias após o primeiro do mundo'.format(dif_vac.days))"
      ],
      "execution_count": 25,
      "outputs": [
        {
          "output_type": "stream",
          "text": [
            "O Brasil começou a vacinação 34 dias após o primeiro do mundo\n"
          ],
          "name": "stdout"
        }
      ]
    },
    {
      "cell_type": "markdown",
      "metadata": {
        "id": "TVaXPu0xKbAA"
      },
      "source": [
        "**3) Comportamento da vacinação no Brasil**"
      ]
    },
    {
      "cell_type": "code",
      "metadata": {
        "colab": {
          "base_uri": "https://localhost:8080/",
          "height": 746
        },
        "id": "3cY5UiArKO8p",
        "outputId": "7e730870-68c3-4fb6-b403-d4df3202a7d0"
      },
      "source": [
        "# Estabelecendo variáveis auxiliares\r\n",
        "date = vac_brazil.date.dt.date\r\n",
        "nvacs = vac_brazil['new_vaccinations']\r\n",
        "tvacs = vac_brazil['total_vaccinations']\r\n",
        "\r\n",
        "# Plotando o total de vacinas e novas vacinas em escala linear e logarítmica.\r\n",
        "plt.suptitle('Atualizado no dia {}'.format(vac_brazil.date.max()));\r\n",
        "fig, ((ax1, ax2), (ax3,ax4)) = plt.subplots(nrows=2, ncols=2, figsize= (15,10))\r\n",
        "ax1.set_title('Vacinações no Brasil')\r\n",
        "ax1.set_xlabel('Data')\r\n",
        "ax1.set_ylabel('N de vacinações')\r\n",
        "ax1.plot(date, tvacs)\r\n",
        "ax1.set_xticklabels(date, rotation = 45)\r\n",
        "\r\n",
        "ax2.set_title('Vacinações no Brasil (Escala logarítmica)')\r\n",
        "ax2.set_xlabel('Data')\r\n",
        "ax2.set_ylabel('N de vacinações')\r\n",
        "ax2.set_yscale('log')\r\n",
        "ax2.plot(date, tvacs)\r\n",
        "ax2.set_xticklabels(date, rotation = 45)\r\n",
        "\r\n",
        "ax3.set_title('Novas vacinações no Brasil')\r\n",
        "ax3.set_xlabel('Data')\r\n",
        "ax3.set_ylabel('N de novas vacinações')\r\n",
        "ax3.plot(date, nvacs)\r\n",
        "ax3.set_xticklabels(date, rotation = 45)\r\n",
        "\r\n",
        "ax4.set_title('Novas vacinações no Brasil - (Escala logarítmica)')\r\n",
        "ax4.set_xlabel('Data')\r\n",
        "ax4.set_ylabel('N de novas vacinações')\r\n",
        "ax4.set_yscale('log')\r\n",
        "ax4.plot(date, nvacs)\r\n",
        "ax4.set_xticklabels(date, rotation = 45)\r\n",
        "\r\n",
        "plt.tight_layout()\r\n",
        "plt.show()"
      ],
      "execution_count": 26,
      "outputs": [
        {
          "output_type": "display_data",
          "data": {
            "text/plain": [
              "<Figure size 432x288 with 0 Axes>"
            ]
          },
          "metadata": {
            "tags": []
          }
        },
        {
          "output_type": "display_data",
          "data": {
            "image/png": "[encoded data removed]",
            "text/plain": [
              "<Figure size 1080x720 with 4 Axes>"
            ]
          },
          "metadata": {
            "tags": [],
            "needs_background": "light"
          }
        }
      ]
    },
    {
      "cell_type": "markdown",
      "metadata": {
        "id": "legclBLlrpnf"
      },
      "source": [
        "Aqui vemos que a vacinação se mantém num nível constante no país, mas quando olhamos para novas vacinações, vemos que alguns dias registraram quedas grandes, oscilando bastante desde o começo do processo."
      ]
    },
    {
      "cell_type": "markdown",
      "metadata": {
        "id": "x4axjbCnUSKS"
      },
      "source": [
        "**Agora para finalizar, vamos entender como estão algumas proporções de indicadores importantes da Pandemia do COVID-19 para o Brasil**\r\n",
        "\r\n",
        "Primeiramente vamos importar algumas bibliotecas que nos auxiliarão"
      ]
    },
    {
      "cell_type": "code",
      "metadata": {
        "id": "zG-jLTTrVGSj",
        "colab": {
          "base_uri": "https://localhost:8080/"
        },
        "outputId": "fe8320c5-7bb5-4e1d-f3b2-8d2b17c9d41b"
      },
      "source": [
        "# instalar o pywaffle\r\n",
        "!pip install pywaffle -q\r\n",
        "from pywaffle import Waffle"
      ],
      "execution_count": 27,
      "outputs": [
        {
          "output_type": "stream",
          "text": [
            "\u001b[?25l\r\u001b[K     |▋                               | 10kB 17.0MB/s eta 0:00:01\r\u001b[K     |█▎                              | 20kB 12.2MB/s eta 0:00:01\r\u001b[K     |█▉                              | 30kB 10.6MB/s eta 0:00:01\r\u001b[K     |██▌                             | 40kB 7.7MB/s eta 0:00:01\r\u001b[K     |███                             | 51kB 4.4MB/s eta 0:00:01\r\u001b[K     |███▊                            | 61kB 4.7MB/s eta 0:00:01\r\u001b[K     |████▍                           | 71kB 5.0MB/s eta 0:00:01\r\u001b[K     |█████                           | 81kB 5.3MB/s eta 0:00:01\r\u001b[K     |█████▋                          | 92kB 5.5MB/s eta 0:00:01\r\u001b[K     |██████▏                         | 102kB 4.1MB/s eta 0:00:01\r\u001b[K     |██████▉                         | 112kB 4.1MB/s eta 0:00:01\r\u001b[K     |███████▌                        | 122kB 4.1MB/s eta 0:00:01\r\u001b[K     |████████                        | 133kB 4.1MB/s eta 0:00:01\r\u001b[K     |████████▊                       | 143kB 4.1MB/s eta 0:00:01\r\u001b[K     |█████████▎                      | 153kB 4.1MB/s eta 0:00:01\r\u001b[K     |██████████                      | 163kB 4.1MB/s eta 0:00:01\r\u001b[K     |██████████▋                     | 174kB 4.1MB/s eta 0:00:01\r\u001b[K     |███████████▏                    | 184kB 4.1MB/s eta 0:00:01\r\u001b[K     |███████████▉                    | 194kB 4.1MB/s eta 0:00:01\r\u001b[K     |████████████▍                   | 204kB 4.1MB/s eta 0:00:01\r\u001b[K     |█████████████                   | 215kB 4.1MB/s eta 0:00:01\r\u001b[K     |█████████████▊                  | 225kB 4.1MB/s eta 0:00:01\r\u001b[K     |██████████████▎                 | 235kB 4.1MB/s eta 0:00:01\r\u001b[K     |███████████████                 | 245kB 4.1MB/s eta 0:00:01\r\u001b[K     |███████████████▌                | 256kB 4.1MB/s eta 0:00:01\r\u001b[K     |████████████████▏               | 266kB 4.1MB/s eta 0:00:01\r\u001b[K     |████████████████▉               | 276kB 4.1MB/s eta 0:00:01\r\u001b[K     |█████████████████▍              | 286kB 4.1MB/s eta 0:00:01\r\u001b[K     |██████████████████              | 296kB 4.1MB/s eta 0:00:01\r\u001b[K     |██████████████████▋             | 307kB 4.1MB/s eta 0:00:01\r\u001b[K     |███████████████████▎            | 317kB 4.1MB/s eta 0:00:01\r\u001b[K     |████████████████████            | 327kB 4.1MB/s eta 0:00:01\r\u001b[K     |████████████████████▌           | 337kB 4.1MB/s eta 0:00:01\r\u001b[K     |█████████████████████▏          | 348kB 4.1MB/s eta 0:00:01\r\u001b[K     |█████████████████████▊          | 358kB 4.1MB/s eta 0:00:01\r\u001b[K     |██████████████████████▍         | 368kB 4.1MB/s eta 0:00:01\r\u001b[K     |███████████████████████         | 378kB 4.1MB/s eta 0:00:01\r\u001b[K     |███████████████████████▋        | 389kB 4.1MB/s eta 0:00:01\r\u001b[K     |████████████████████████▎       | 399kB 4.1MB/s eta 0:00:01\r\u001b[K     |████████████████████████▉       | 409kB 4.1MB/s eta 0:00:01\r\u001b[K     |█████████████████████████▌      | 419kB 4.1MB/s eta 0:00:01\r\u001b[K     |██████████████████████████▏     | 430kB 4.1MB/s eta 0:00:01\r\u001b[K     |██████████████████████████▊     | 440kB 4.1MB/s eta 0:00:01\r\u001b[K     |███████████████████████████▍    | 450kB 4.1MB/s eta 0:00:01\r\u001b[K     |████████████████████████████    | 460kB 4.1MB/s eta 0:00:01\r\u001b[K     |████████████████████████████▋   | 471kB 4.1MB/s eta 0:00:01\r\u001b[K     |█████████████████████████████▎  | 481kB 4.1MB/s eta 0:00:01\r\u001b[K     |█████████████████████████████▉  | 491kB 4.1MB/s eta 0:00:01\r\u001b[K     |██████████████████████████████▌ | 501kB 4.1MB/s eta 0:00:01\r\u001b[K     |███████████████████████████████ | 512kB 4.1MB/s eta 0:00:01\r\u001b[K     |███████████████████████████████▊| 522kB 4.1MB/s eta 0:00:01\r\u001b[K     |████████████████████████████████| 532kB 4.1MB/s \n",
            "\u001b[?25h"
          ],
          "name": "stdout"
        }
      ]
    },
    {
      "cell_type": "markdown",
      "metadata": {
        "id": "Dxi6TvU-XJHC"
      },
      "source": [
        "Agora vamos criar um dataset com dados gerais da COVID-19 no Brasil, para que possamos entender algumas variáveis que serão úteis agora."
      ]
    },
    {
      "cell_type": "code",
      "metadata": {
        "id": "kSvvCj5HXTip"
      },
      "source": [
        "# Separando um dataset para o Brazil apenas\r\n",
        "covid_brazil = covid.loc[covid.location ==\"Brazil\"].copy()"
      ],
      "execution_count": 28,
      "outputs": []
    },
    {
      "cell_type": "markdown",
      "metadata": {
        "id": "K0HEOreobm8G"
      },
      "source": [
        "**Proporção de número de casos em relação à população**"
      ]
    },
    {
      "cell_type": "code",
      "metadata": {
        "id": "Qq8gZaHOWE79"
      },
      "source": [
        "# Estabelecendo variáveis auxiliares\r\n",
        "pct_tcasos = (covid_brazil.total_cases.max() / covid_brazil.population.max())*100\r\n",
        "pct_ncasos = 100 - pct_tcasos"
      ],
      "execution_count": 29,
      "outputs": []
    },
    {
      "cell_type": "code",
      "metadata": {
        "colab": {
          "base_uri": "https://localhost:8080/",
          "height": 305
        },
        "id": "TH36d52dbJQ1",
        "outputId": "a29d67a1-f275-4ea0-c5aa-5251fdad165f"
      },
      "source": [
        "# Plotando gráfico de waffle \r\n",
        "fig = plt.figure(figsize=(5,5),\r\n",
        "    FigureClass=Waffle,\r\n",
        "    rows = 10, columns = 10,\r\n",
        "    values = {'População': pct_ncasos,\r\n",
        "              'Número de casos':pct_tcasos},\r\n",
        "              colors=(\"#232066\", \"#983D3D\"),\r\n",
        "              legend={'loc':'upper left','bbox_to_anchor':(1,1)},\r\n",
        "              icons='child', icon_size=20,\r\n",
        "              icon_legend=True\r\n",
        ")\r\n",
        "\r\n",
        "fig.set_tight_layout(False)\r\n",
        "plt.show();"
      ],
      "execution_count": 30,
      "outputs": [
        {
          "output_type": "display_data",
          "data": {
            "image/png": "[encoded data removed]",
            "text/plain": [
              "<Waffle size 360x360 with 1 Axes>"
            ]
          },
          "metadata": {
            "tags": [],
            "needs_background": "light"
          }
        }
      ]
    },
    {
      "cell_type": "markdown",
      "metadata": {
        "id": "E0E14UECTxZR"
      },
      "source": [
        "**Proporção de mortes em relação ao número de casos**"
      ]
    },
    {
      "cell_type": "code",
      "metadata": {
        "id": "Zbd2XQsNfmSD"
      },
      "source": [
        "# Estabelecendo variáveis auxiliares\r\n",
        "pct_mortes = (covid_brazil.total_deaths.max() / covid_brazil.total_cases.max())*100\r\n",
        "pct_nmortes = 100 - pct_mortes"
      ],
      "execution_count": 31,
      "outputs": []
    },
    {
      "cell_type": "code",
      "metadata": {
        "colab": {
          "base_uri": "https://localhost:8080/",
          "height": 305
        },
        "id": "MFiPwrqHf-Gr",
        "outputId": "0ceecf3b-8675-488c-dc59-e4191e7fad5b"
      },
      "source": [
        "# Plotando gráfico de waffle \r\n",
        "fig = plt.figure(figsize=(5,5),\r\n",
        "    FigureClass=Waffle,\r\n",
        "    rows = 10, columns = 10,\r\n",
        "    values = {'Número de casos': pct_nmortes,\r\n",
        "              'Número de mortes':pct_mortes},\r\n",
        "              colors=(\"#232066\", \"#983D3D\"),\r\n",
        "              legend={'loc':'upper left','bbox_to_anchor':(1,1)},\r\n",
        "              icons='child', icon_size=20,\r\n",
        "              icon_legend=True\r\n",
        ")\r\n",
        "\r\n",
        "fig.set_tight_layout(False)\r\n",
        "plt.show();"
      ],
      "execution_count": 32,
      "outputs": [
        {
          "output_type": "display_data",
          "data": {
            "image/png": "[encoded data removed]",
            "text/plain": [
              "<Waffle size 360x360 with 1 Axes>"
            ]
          },
          "metadata": {
            "tags": [],
            "needs_background": "light"
          }
        }
      ]
    },
    {
      "cell_type": "markdown",
      "metadata": {
        "id": "xki8mntthFxW"
      },
      "source": [
        "**Proporção de pessoas vacinadas em relação à população**"
      ]
    },
    {
      "cell_type": "code",
      "metadata": {
        "id": "WkcbStF4hQJS"
      },
      "source": [
        "# Estabelecendo variáveis auxiliares\r\n",
        "pct_ptvac = (vac_brazil.people_fully_vaccinated.max() / covid_brazil.population.max())*100\r\n",
        "pct_pvaca = ((vac_brazil.people_vaccinated.max() - pct_ptvac) / covid_brazil.population.max())*100\r\n",
        "pop_nvac = 100 - (pct_ptvac + pct_pvaca)"
      ],
      "execution_count": 33,
      "outputs": []
    },
    {
      "cell_type": "code",
      "metadata": {
        "colab": {
          "base_uri": "https://localhost:8080/",
          "height": 305
        },
        "id": "IBz4x0UGgSfR",
        "outputId": "c8231860-055e-4fb0-affd-cf186c9c8dee"
      },
      "source": [
        "# Plotando gráfico de waffle \r\n",
        "fig = plt.figure(figsize=(5,5),\r\n",
        "    FigureClass=Waffle,\r\n",
        "    rows = 10, columns = 10,\r\n",
        "    values = {'População vacinada completamente': pct_ptvac,\r\n",
        "              'População vacinada':pct_pvaca,\r\n",
        "              'População não vacinada':pop_nvac},\r\n",
        "              colors=(\"#DCB732\",\"#983D3D\",\"#232066\"),\r\n",
        "              legend={'loc':'upper left','bbox_to_anchor':(1,1)},\r\n",
        "              icons='child', icon_size=20,\r\n",
        "              icon_legend=True\r\n",
        ")\r\n",
        "\r\n",
        "fig.set_tight_layout(False)\r\n",
        "plt.show();"
      ],
      "execution_count": 34,
      "outputs": [
        {
          "output_type": "display_data",
          "data": {
            "image/png": "[encoded data removed]",
            "text/plain": [
              "<Waffle size 360x360 with 1 Axes>"
            ]
          },
          "metadata": {
            "tags": [],
            "needs_background": "light"
          }
        }
      ]
    },
    {
      "cell_type": "markdown",
      "metadata": {
        "id": "LCsiXvM3BcsO"
      },
      "source": [
        "# **Conclusão**\n",
        "\n",
        "A Pandemia do COVID-19 foi bastante cruel com países que não tinham estrutura para enfrentá-la, problema mais recorrente nos países mais populosos, que tiveram grande parcela da população contaminada e por sua vez com um grande número de pessoas com situação evoluindo ao falecimento.\n",
        "\n",
        "A Vacina é ainda mais cruel com esses países mais populosos, pois ainda há de demorar muito tempo para que eles consigam imunizar toda população, com exceção dos EUA, que têm situação bem grave e fazem seu poder econômico valer para que consigam mais doses de vacina.\n",
        "\n",
        "A notícia boa é que estamos no início do fim da pandemia e a vacinação vem evoluindo no mundo, então mesmo que demore, isso tudo passará!\n",
        "\n",
        "Me segue no [LinkedIn, Medium e Github!]('https://www.linkedin.com/in/otaviodefilpo/')\n",
        "\n",
        "Eu posto artigos e projetos novos quase toda semana, já têm vários disponíveis nesses lugares do link, espero que você goste!\n",
        "\n",
        "Abraços e até o próximo projeto!"
      ]
    }
  ]
}