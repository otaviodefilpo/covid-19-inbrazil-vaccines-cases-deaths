{
  "nbformat": 4,
  "nbformat_minor": 0,
  "metadata": {
    "colab": {
      "name": "Panorama do COVID-19 no Brasil - Otávio de Filpo.ipynb",
      "provenance": [],
      "collapsed_sections": [],
      "include_colab_link": true
    },
    "kernelspec": {
      "name": "python3",
      "display_name": "Python 3"
    }
  },
  "cells": [
    {
      "cell_type": "markdown",
      "metadata": {
        "id": "view-in-github",
        "colab_type": "text"
      },
      "source": [
        "<a href=\"https://colab.research.google.com/github/otaviodefilpo/covid-19-inbrazil-vaccines-cases-deaths/blob/main/Panorama_do_COVID_19_no_Brasil_Ot%C3%A1vio_de_Filpo.ipynb\" target=\"_parent\"><img src=\"https://colab.research.google.com/assets/colab-badge.svg\" alt=\"Open In Colab\"/></a>"
      ]
    },
    {
      "cell_type": "markdown",
      "metadata": {
        "id": "-eFQZydM9O9J"
      },
      "source": [
        "\n",
        "\n",
        "*Projeto Módulo 3 - Data Science Na Prática*\n",
        "\n",
        "*by [sigmoidal.ai](https://sigmoidal.ai)*  \n",
        "\n",
        "---"
      ]
    },
    {
      "cell_type": "markdown",
      "metadata": {
        "id": "kLI0gJtzDGuQ"
      },
      "source": [
        "# Panoramas da Pandemia do COVID-19 no Brasil - Vacina, Casos e Mortes\n",
        "\n",
        "<center><img  width=\"65%\" src=\"https://raw.githubusercontent.com/otaviodefilpo/covid-19-inbrazil-vaccines-cases-deaths/main/25pfn2mn5yfqnp93t1vzom9q0.jpg\"></center>\n",
        "\n",
        "O COVID-19 é um vírus que pegou todo o planeta de surpresa, pois mesmo em comparativo com outros Corona Vírus, ele tem comportamento bem diferente para o que a sociedade estava acostumada de uma doença viral. \n",
        "\n",
        "A luz no fim do túnel que todo mundo estava aguardando era a vacina, que vinha sendo desenvolvida incansávelmente por várias iniciatiavas ao redor do planeta. Após muitos dias de espera e trabalho árduo desses pesquisadores, no dia 08 de Dezembro de 2021, Margaret Keenan, uma britânica de 90 anos, tornou-se [a primeira pessoa no mundo a receber a vacina]('https://www.cnnbrasil.com.br/internacional/2020/12/08/britanica-de-90-anos-e-primeira-a-receber-a-vacina-da-pfizer-fora-dos-testes') da Pfizer contra a Covid-19 fora de um ensaio clínico. Logo após esse dia histórico, outras vacinas foram sendo testadas e aprovadas para o uso na população, dando início ao fim da Pandemia do COVID-19.\n",
        "\n",
        "Todos os países trataram a pandemia de maneira diferente e como vimos nas características acima citadas, comparações entre práticas de combate ao vírus não são simples de serem feitas, logo precisamos entender como foi e como está o panorama da Pandemia no Brasil e em outros países para buscarmos encontrar diferenças pontuais que possam nos dizer algo sobre a pandemia e seu esperado fim com a expansão das campanhas de vacinação.\n",
        "\n",
        "Nesta análise vamos explorar os dados sobre a vacina do COVID-19 para entender como a vacinação vem se comportando nos países para entender quem vem tendo bons resultados e quem ainda precisa melhorar suas políticas.\n",
        "\n",
        "\n",
        "\n",
        "\n",
        "\n",
        "\n"
      ]
    },
    {
      "cell_type": "markdown",
      "metadata": {
        "id": "HBaaJP9PW013"
      },
      "source": [
        "# **Obtenção dos dados**\n",
        "<center><img  width=\"65%\" src=\"https://miro.medium.com/max/2400/0*pbFNABgYl7GmJLp6.png\"></center>\n",
        "\n",
        "Os dados foram obtidos no repositório do *Our World in Data* para a COVID-19, que pode ser acessado [NESTE LINK]('https://github.com/owid/covid-19-data/tree/master/public/data').\n",
        "\n",
        "O trabalho do *Our World in Data* é de extrema credibilidade e reuniu neste repositório as informações de vários outros repositórios locais ao redor do mundo, sendo hoje uma das melhores fontes de dados acessíveis ao público sobre a pandemia da COVID-19.\n",
        "\n",
        "Esse repositório é atualizado diariamente e inclui dados de casos confirmados, mortes confirmadas, hospitalizações, testes, vacinas e outras variáveis de possível interesse para diferentes explorações de dados.\n",
        "\n",
        "Vale à pena acessar o link que disponibilizei acima para entender mais detalhes técnicos sobre o trabalho do grupo, que se você não conhecia, vale à pena acompanhar a partir de agora."
      ]
    },
    {
      "cell_type": "markdown",
      "metadata": {
        "id": "Yx_aEQteNiZU"
      },
      "source": [
        "# **Dicionário de variáveis**\n",
        "O dicionário na íntegra com todas as fontes e links relacionados estão disponíveis [NESTE LINK]('https://github.com/owid/covid-19-data/blob/master/public/data/owid-covid-codebook.csv')\n",
        "\n",
        "`column` - Descrição\n",
        "\n",
        "`iso_code` - códigos de países de três letras - 3166-1 alfa-3 ISO\n",
        "\n",
        "`continent` - Continente da localização geográfica\n",
        "\n",
        "`location` - Localização geográfica\n",
        "\n",
        "`date` - Data de observação\n",
        "\n",
        "`total_cases` - Total de casos confirmados de COVID-19\n",
        "\n",
        "`new_cases` - Novos casos de COVID-19 confirmado\n",
        "\n",
        "`new_cases_smoothed` - Novos casos de COVID-19 (7-dia alisada) confirmou\n",
        "\n",
        "`total_deaths` - Total de mortes atribuídas a COVID-19\n",
        "\n",
        "`new_deaths` - Novas mortes atribuídas a COVID-19\n",
        "\n",
        "`new_deaths_smoothed` - Novas mortes atribuídas a COVID-19 (suavizado 7 dias)\n",
        "\n",
        "`total_cases_per_million` - Total de casos confirmados de COVID-19 por 1.000.000 de pessoas\n",
        "\n",
        "`new_cases_per_million` - Nova casos confirmados de COVID-19 por 1.000.000 de pessoas\n",
        "\n",
        "`new_cases_smoothed_per_million` - Nova casos confirmados de COVID-19 (7 dias suavizado) por 1.000.000 de pessoas\n",
        "\n",
        "`total_deaths_per_million` - Total de mortes atribuídas a COVID-19 por 1.000.000 de pessoas\n",
        "\n",
        "`new_deaths_per_million` - Novas mortes atribuídas ao COVID-19 por 1.000.000 de pessoas\n",
        "\n",
        "`new_deaths_smoothed_per_million` - Novas mortes atribuídas a COVID-19 (alisada de 7 dias) por 1.000.000 de pessoas\n",
        "\n",
        "`reproduction_rate` - estimativa em tempo real da taxa de reprodução efectiva (R) de COVID-19.\n",
        "\n",
        "`icu_patients` - Número de COVID-19 pacientes em unidades de cuidados intensivos (UTIs) num dado dia\n",
        "\n",
        "`icu_patients_per_million` - Número de COVID-19 pacientes em unidades de terapia intensiva (UTIs) em um determinado dia por 1.000.000 de pessoas\n",
        "\n",
        "`hosp_patients` - Número de COVID-19 pacientes no hospital em um determinado dia\n",
        "\n",
        "`hosp_patients_per_million` - Número de COVID-19 pacientes no hospital em um determinado dia por 1.000.000 de pessoas\n",
        "\n",
        "`weekly_icu_admissions` - Número de COVID-19 pacientes recém-admitidos em unidades de cuidados intensivos (UTIs) em uma dada semana\n",
        "\n",
        "`weekly_icu_admissions_per_million` - Número de COVID-19 pacientes recém-admitidos em unidades de terapia intensiva (UTIs) em uma determinada semana por 1.000.000 de pessoas\n",
        "\n",
        "`weekly_hosp_admissions` - Número de COVID-19 pacientes recém-admitidos em hospitais em uma semana\n",
        "\n",
        "`weekly_hosp_admissions_per_million` - Número de COVID-19 pacientes recém-admitidos em hospitais em uma determinada semana por 1.000.000 de pessoas\n",
        "\n",
        "`total_tests` - Total de Testes para COVID-19\n",
        "\n",
        "`new_tests` - Os novos ensaios para COVID-19 (somente calculada para dias consecutivos)\n",
        "\n",
        "`total_tests_per_thousand` - Total de Testes para COVID-19 por 1.000 pessoas\n",
        "\n",
        "`new_tests_per_thousand` - Novos testes para COVID-19 por 1.000 pessoas\n",
        "\n",
        "`new_tests_smoothed` - Os novos ensaios para COVID-19 (7-dia alisado). Para os países que não relatam testando os dados em uma base diária, assumimos que o teste mudou igualmente em uma base diária sobre quaisquer períodos em que há dados f\n",
        "\n",
        "`new_tests_smoothed_per_thousand` - Os novos ensaios para COVID-19 (7-dia suavizado) por 1.000 pessoas\n",
        "\n",
        "`positive_rate` - O partes de COVID-19 testes que são positivas, dadas como uma média móvel em 7 dias (este é o inverso da tests_per_case)\n",
        "\n",
        "`tests_per_case` - Testes realizados por novo caso confirmado de COVID-19, dadas como uma média móvel em 7 dias (este é o inverso da positive_rate)\n",
        "\n",
        "`tests_units` - Unidades usadas pela localização para relatar seus dados de testes\n",
        "\n",
        "`total_vaccinations` - Número total de COVID-19 vacinação doses administradas\n",
        "\n",
        "`people_vaccinated` - Número total de pessoas que receberam pelo menos uma dose da vacina\n",
        "\n",
        "`people_fully_vaccinated` - Número total de pessoas que receberam todas as doses prescritas pelo protocolo de vacinação\n",
        "\n",
        "`new_vaccinations` - Nova COVID-19 doses administradas de vacinação (somente calculados para dias consecutivos)\n",
        "\n",
        "`new_vaccinations_smoothed` - Novas doses COVID-19 administrado de vacinação (7 dias de suavizados). Para os países que não relatam dados de vacinação em uma base diária, assumimos que a vacinação alterou igualmente em uma base diária sobre\n",
        "\n",
        "`total_vaccinations_per_hundred` - Número total de COVID-19 vacinação doses administradas por 100 pessoas na população total\n",
        "\n",
        "`people_vaccinated_per_hundred` - Número total de pessoas que receberam pelo menos uma dose da vacina por cada 100 pessoas no total da população\n",
        "\n",
        "`people_fully_vaccinated_per_hundred` - Número total de pessoas que receberam todas as doses prescritas pelo protocolo de vacinação por 100 pessoas na população total\n",
        "\n",
        "`new_vaccinations_smoothed_per_million` - Nova COVID-19 doses administradas vacinação (7 dias de suavizados) por 1.000.000 de pessoas na população total\n",
        "\n",
        "`stringency_index` - Governo Response Índice Rigor: medida composta com base em 9 indicadores de resposta incluindo o fechamento de escolas, fechamento de locais de trabalho, e proibição de viajar, escalonados para um valor de 0 a 100 (100\n",
        "\n",
        "`population` - População em 2020\n",
        "\n",
        "`population_density` - Número de pessoas divididas por área de terra, medido em quilômetros quadrados, dos anos mais recentes disponíveis\n",
        "\n",
        "`median_age` - A idade média da população, a projeção das Nações Unidas para 2020\n",
        "\n",
        "`aged_65_older` - Percentagem da população que é de 65 anos e mais velhos, dos anos mais recentes disponíveis\n",
        "\n",
        "`aged_70_older` - Parcela da população que é de 70 anos ou mais em 2015\n",
        "\n",
        "`gdp_per_capita` - Produto interno bruto a paridade de poder aquisitivo (constantes de 2011 dólares internacionais), dos anos mais recentes disponíveis\n",
        "\n",
        "`extreme_poverty` - Parcela da população vivendo em extrema pobreza, dos anos mais recentes disponíveis desde 2010\n",
        "\n",
        "`cardiovasc_death_rate` - Taxa de mortalidade por doenças cardiovasculares em 2017 (número anual de mortes por 100.000 pessoas)\n",
        "\n",
        "`diabetes_prevalence` - prevalência diabetes (% da população com idades entre 20 a 79) em 2017\n",
        "\n",
        "`female_smokers` - Percentagem de mulheres que fumam, dos anos mais recentes disponíveis\n",
        "\n",
        "`male_smokers` - Parcela de homens que fumam, dos anos mais recentes disponíveis\n",
        "\n",
        "`handwashing_facilities` - Percentagem da população com instalações de lavagem das mãos básicas sobre instalações, dos anos mais recentes disponíveis\n",
        "\n",
        "`hospital_beds_per_thousand` - camas hospitalares por 1.000 pessoas, dos anos mais recentes disponíveis desde 2010\n",
        "\n",
        "`life_expectancy` - A expectativa de vida ao nascer em 2019\n",
        "\n",
        "`human_development_index` - Um índice composto que mede a realização média em três dimensões básicas do desenvolvimento: uma vida longa e saudável humano, conhecimento e um padrão de vida decente."
      ]
    },
    {
      "cell_type": "markdown",
      "metadata": {
        "id": "ASVQ08auWJCn"
      },
      "source": [
        "# **Análise Exploratória de Dados**\n",
        "\n",
        "<center><img width=\"65%\" src=\"https://raw.githubusercontent.com/otaviodefilpo/covid-19-inbrazil-vaccines-cases-deaths/main/fingers-hands-notebook.jpg\"></center>\n",
        "\n",
        "\n",
        "Antes de entrar nas análises sobre a vacina, vamos observar dados chave para entender como a pandemia está neste momento, após partiremos para os dados de vacina e como ela acontece no Brasil e em outros grupos de países.\n",
        "\n",
        "***Mãos à obra!***"
      ]
    },
    {
      "cell_type": "markdown",
      "metadata": {
        "id": "0G19Z13hmf7e"
      },
      "source": [
        "**Dados Gerais da Pandemia no Mundo**\n",
        "<center><img width=\"65%\" src=\"https://raw.githubusercontent.com/otaviodefilpo/covid-19-inbrazil-vaccines-cases-deaths/main/i379024.jpeg\"></center>\n",
        "\n",
        "\n",
        "\n"
      ]
    },
    {
      "cell_type": "markdown",
      "metadata": {
        "id": "yzqzsafKF0Wy"
      },
      "source": [
        "Primeiramente importaremos as bibliotecas necessárias e os nossos dados"
      ]
    },
    {
      "cell_type": "code",
      "metadata": {
        "id": "lOtEJxe0DMEb"
      },
      "source": [
        "# importar as bibliotecas necessárias\n",
        "import pandas as pd\n",
        "import matplotlib.pyplot as plt\n",
        "import seaborn as sns\n",
        "import datetime as dt\n",
        "\n",
        "sns.set_style()\n",
        "%matplotlib inline\n",
        "\n",
        "import warnings\n",
        "warnings.filterwarnings('ignore')\n",
        "\n",
        "\n",
        "# importar o dataset COVID-19 para um DataFrame\n",
        "df = pd.read_csv('https://raw.githubusercontent.com/owid/covid-19-data/master/public/data/owid-covid-data.csv')"
      ],
      "execution_count": 1,
      "outputs": []
    },
    {
      "cell_type": "markdown",
      "metadata": {
        "id": "c97pAFcVF_gZ"
      },
      "source": [
        "Agora utilizaremos algumas funções para observar algumas características do nosso dataframe."
      ]
    },
    {
      "cell_type": "code",
      "metadata": {
        "id": "gO1fv3D1PS4k"
      },
      "source": [
        "# Criando um backup do dataset original\n",
        "covid = df.copy()"
      ],
      "execution_count": 2,
      "outputs": []
    },
    {
      "cell_type": "code",
      "metadata": {
        "colab": {
          "base_uri": "https://localhost:8080/",
          "height": 309
        },
        "id": "U0tcFOkKJTgw",
        "outputId": "d10df9ae-9ecb-48c7-b4b1-574cd661f087"
      },
      "source": [
        "# Observando as 5 primeiras entradas\n",
        "covid.head(5)"
      ],
      "execution_count": 3,
      "outputs": [
        {
          "output_type": "execute_result",
          "data": {
            "text/html": [
              "<div>\n",
              "<style scoped>\n",
              "    .dataframe tbody tr th:only-of-type {\n",
              "        vertical-align: middle;\n",
              "    }\n",
              "\n",
              "    .dataframe tbody tr th {\n",
              "        vertical-align: top;\n",
              "    }\n",
              "\n",
              "    .dataframe thead th {\n",
              "        text-align: right;\n",
              "    }\n",
              "</style>\n",
              "<table border=\"1\" class=\"dataframe\">\n",
              "  <thead>\n",
              "    <tr style=\"text-align: right;\">\n",
              "      <th></th>\n",
              "      <th>iso_code</th>\n",
              "      <th>continent</th>\n",
              "      <th>location</th>\n",
              "      <th>date</th>\n",
              "      <th>total_cases</th>\n",
              "      <th>new_cases</th>\n",
              "      <th>new_cases_smoothed</th>\n",
              "      <th>total_deaths</th>\n",
              "      <th>new_deaths</th>\n",
              "      <th>new_deaths_smoothed</th>\n",
              "      <th>total_cases_per_million</th>\n",
              "      <th>new_cases_per_million</th>\n",
              "      <th>new_cases_smoothed_per_million</th>\n",
              "      <th>total_deaths_per_million</th>\n",
              "      <th>new_deaths_per_million</th>\n",
              "      <th>new_deaths_smoothed_per_million</th>\n",
              "      <th>reproduction_rate</th>\n",
              "      <th>icu_patients</th>\n",
              "      <th>icu_patients_per_million</th>\n",
              "      <th>hosp_patients</th>\n",
              "      <th>hosp_patients_per_million</th>\n",
              "      <th>weekly_icu_admissions</th>\n",
              "      <th>weekly_icu_admissions_per_million</th>\n",
              "      <th>weekly_hosp_admissions</th>\n",
              "      <th>weekly_hosp_admissions_per_million</th>\n",
              "      <th>new_tests</th>\n",
              "      <th>total_tests</th>\n",
              "      <th>total_tests_per_thousand</th>\n",
              "      <th>new_tests_per_thousand</th>\n",
              "      <th>new_tests_smoothed</th>\n",
              "      <th>new_tests_smoothed_per_thousand</th>\n",
              "      <th>positive_rate</th>\n",
              "      <th>tests_per_case</th>\n",
              "      <th>tests_units</th>\n",
              "      <th>total_vaccinations</th>\n",
              "      <th>people_vaccinated</th>\n",
              "      <th>people_fully_vaccinated</th>\n",
              "      <th>new_vaccinations</th>\n",
              "      <th>new_vaccinations_smoothed</th>\n",
              "      <th>total_vaccinations_per_hundred</th>\n",
              "      <th>people_vaccinated_per_hundred</th>\n",
              "      <th>people_fully_vaccinated_per_hundred</th>\n",
              "      <th>new_vaccinations_smoothed_per_million</th>\n",
              "      <th>stringency_index</th>\n",
              "      <th>population</th>\n",
              "      <th>population_density</th>\n",
              "      <th>median_age</th>\n",
              "      <th>aged_65_older</th>\n",
              "      <th>aged_70_older</th>\n",
              "      <th>gdp_per_capita</th>\n",
              "      <th>extreme_poverty</th>\n",
              "      <th>cardiovasc_death_rate</th>\n",
              "      <th>diabetes_prevalence</th>\n",
              "      <th>female_smokers</th>\n",
              "      <th>male_smokers</th>\n",
              "      <th>handwashing_facilities</th>\n",
              "      <th>hospital_beds_per_thousand</th>\n",
              "      <th>life_expectancy</th>\n",
              "      <th>human_development_index</th>\n",
              "    </tr>\n",
              "  </thead>\n",
              "  <tbody>\n",
              "    <tr>\n",
              "      <th>0</th>\n",
              "      <td>AFG</td>\n",
              "      <td>Asia</td>\n",
              "      <td>Afghanistan</td>\n",
              "      <td>2020-02-24</td>\n",
              "      <td>1.0</td>\n",
              "      <td>1.0</td>\n",
              "      <td>NaN</td>\n",
              "      <td>NaN</td>\n",
              "      <td>NaN</td>\n",
              "      <td>NaN</td>\n",
              "      <td>0.026</td>\n",
              "      <td>0.026</td>\n",
              "      <td>NaN</td>\n",
              "      <td>NaN</td>\n",
              "      <td>NaN</td>\n",
              "      <td>NaN</td>\n",
              "      <td>NaN</td>\n",
              "      <td>NaN</td>\n",
              "      <td>NaN</td>\n",
              "      <td>NaN</td>\n",
              "      <td>NaN</td>\n",
              "      <td>NaN</td>\n",
              "      <td>NaN</td>\n",
              "      <td>NaN</td>\n",
              "      <td>NaN</td>\n",
              "      <td>NaN</td>\n",
              "      <td>NaN</td>\n",
              "      <td>NaN</td>\n",
              "      <td>NaN</td>\n",
              "      <td>NaN</td>\n",
              "      <td>NaN</td>\n",
              "      <td>NaN</td>\n",
              "      <td>NaN</td>\n",
              "      <td>NaN</td>\n",
              "      <td>NaN</td>\n",
              "      <td>NaN</td>\n",
              "      <td>NaN</td>\n",
              "      <td>NaN</td>\n",
              "      <td>NaN</td>\n",
              "      <td>NaN</td>\n",
              "      <td>NaN</td>\n",
              "      <td>NaN</td>\n",
              "      <td>NaN</td>\n",
              "      <td>8.33</td>\n",
              "      <td>38928341.0</td>\n",
              "      <td>54.422</td>\n",
              "      <td>18.6</td>\n",
              "      <td>2.581</td>\n",
              "      <td>1.337</td>\n",
              "      <td>1803.987</td>\n",
              "      <td>NaN</td>\n",
              "      <td>597.029</td>\n",
              "      <td>9.59</td>\n",
              "      <td>NaN</td>\n",
              "      <td>NaN</td>\n",
              "      <td>37.746</td>\n",
              "      <td>0.5</td>\n",
              "      <td>64.83</td>\n",
              "      <td>0.511</td>\n",
              "    </tr>\n",
              "    <tr>\n",
              "      <th>1</th>\n",
              "      <td>AFG</td>\n",
              "      <td>Asia</td>\n",
              "      <td>Afghanistan</td>\n",
              "      <td>2020-02-25</td>\n",
              "      <td>1.0</td>\n",
              "      <td>0.0</td>\n",
              "      <td>NaN</td>\n",
              "      <td>NaN</td>\n",
              "      <td>NaN</td>\n",
              "      <td>NaN</td>\n",
              "      <td>0.026</td>\n",
              "      <td>0.000</td>\n",
              "      <td>NaN</td>\n",
              "      <td>NaN</td>\n",
              "      <td>NaN</td>\n",
              "      <td>NaN</td>\n",
              "      <td>NaN</td>\n",
              "      <td>NaN</td>\n",
              "      <td>NaN</td>\n",
              "      <td>NaN</td>\n",
              "      <td>NaN</td>\n",
              "      <td>NaN</td>\n",
              "      <td>NaN</td>\n",
              "      <td>NaN</td>\n",
              "      <td>NaN</td>\n",
              "      <td>NaN</td>\n",
              "      <td>NaN</td>\n",
              "      <td>NaN</td>\n",
              "      <td>NaN</td>\n",
              "      <td>NaN</td>\n",
              "      <td>NaN</td>\n",
              "      <td>NaN</td>\n",
              "      <td>NaN</td>\n",
              "      <td>NaN</td>\n",
              "      <td>NaN</td>\n",
              "      <td>NaN</td>\n",
              "      <td>NaN</td>\n",
              "      <td>NaN</td>\n",
              "      <td>NaN</td>\n",
              "      <td>NaN</td>\n",
              "      <td>NaN</td>\n",
              "      <td>NaN</td>\n",
              "      <td>NaN</td>\n",
              "      <td>8.33</td>\n",
              "      <td>38928341.0</td>\n",
              "      <td>54.422</td>\n",
              "      <td>18.6</td>\n",
              "      <td>2.581</td>\n",
              "      <td>1.337</td>\n",
              "      <td>1803.987</td>\n",
              "      <td>NaN</td>\n",
              "      <td>597.029</td>\n",
              "      <td>9.59</td>\n",
              "      <td>NaN</td>\n",
              "      <td>NaN</td>\n",
              "      <td>37.746</td>\n",
              "      <td>0.5</td>\n",
              "      <td>64.83</td>\n",
              "      <td>0.511</td>\n",
              "    </tr>\n",
              "    <tr>\n",
              "      <th>2</th>\n",
              "      <td>AFG</td>\n",
              "      <td>Asia</td>\n",
              "      <td>Afghanistan</td>\n",
              "      <td>2020-02-26</td>\n",
              "      <td>1.0</td>\n",
              "      <td>0.0</td>\n",
              "      <td>NaN</td>\n",
              "      <td>NaN</td>\n",
              "      <td>NaN</td>\n",
              "      <td>NaN</td>\n",
              "      <td>0.026</td>\n",
              "      <td>0.000</td>\n",
              "      <td>NaN</td>\n",
              "      <td>NaN</td>\n",
              "      <td>NaN</td>\n",
              "      <td>NaN</td>\n",
              "      <td>NaN</td>\n",
              "      <td>NaN</td>\n",
              "      <td>NaN</td>\n",
              "      <td>NaN</td>\n",
              "      <td>NaN</td>\n",
              "      <td>NaN</td>\n",
              "      <td>NaN</td>\n",
              "      <td>NaN</td>\n",
              "      <td>NaN</td>\n",
              "      <td>NaN</td>\n",
              "      <td>NaN</td>\n",
              "      <td>NaN</td>\n",
              "      <td>NaN</td>\n",
              "      <td>NaN</td>\n",
              "      <td>NaN</td>\n",
              "      <td>NaN</td>\n",
              "      <td>NaN</td>\n",
              "      <td>NaN</td>\n",
              "      <td>NaN</td>\n",
              "      <td>NaN</td>\n",
              "      <td>NaN</td>\n",
              "      <td>NaN</td>\n",
              "      <td>NaN</td>\n",
              "      <td>NaN</td>\n",
              "      <td>NaN</td>\n",
              "      <td>NaN</td>\n",
              "      <td>NaN</td>\n",
              "      <td>8.33</td>\n",
              "      <td>38928341.0</td>\n",
              "      <td>54.422</td>\n",
              "      <td>18.6</td>\n",
              "      <td>2.581</td>\n",
              "      <td>1.337</td>\n",
              "      <td>1803.987</td>\n",
              "      <td>NaN</td>\n",
              "      <td>597.029</td>\n",
              "      <td>9.59</td>\n",
              "      <td>NaN</td>\n",
              "      <td>NaN</td>\n",
              "      <td>37.746</td>\n",
              "      <td>0.5</td>\n",
              "      <td>64.83</td>\n",
              "      <td>0.511</td>\n",
              "    </tr>\n",
              "    <tr>\n",
              "      <th>3</th>\n",
              "      <td>AFG</td>\n",
              "      <td>Asia</td>\n",
              "      <td>Afghanistan</td>\n",
              "      <td>2020-02-27</td>\n",
              "      <td>1.0</td>\n",
              "      <td>0.0</td>\n",
              "      <td>NaN</td>\n",
              "      <td>NaN</td>\n",
              "      <td>NaN</td>\n",
              "      <td>NaN</td>\n",
              "      <td>0.026</td>\n",
              "      <td>0.000</td>\n",
              "      <td>NaN</td>\n",
              "      <td>NaN</td>\n",
              "      <td>NaN</td>\n",
              "      <td>NaN</td>\n",
              "      <td>NaN</td>\n",
              "      <td>NaN</td>\n",
              "      <td>NaN</td>\n",
              "      <td>NaN</td>\n",
              "      <td>NaN</td>\n",
              "      <td>NaN</td>\n",
              "      <td>NaN</td>\n",
              "      <td>NaN</td>\n",
              "      <td>NaN</td>\n",
              "      <td>NaN</td>\n",
              "      <td>NaN</td>\n",
              "      <td>NaN</td>\n",
              "      <td>NaN</td>\n",
              "      <td>NaN</td>\n",
              "      <td>NaN</td>\n",
              "      <td>NaN</td>\n",
              "      <td>NaN</td>\n",
              "      <td>NaN</td>\n",
              "      <td>NaN</td>\n",
              "      <td>NaN</td>\n",
              "      <td>NaN</td>\n",
              "      <td>NaN</td>\n",
              "      <td>NaN</td>\n",
              "      <td>NaN</td>\n",
              "      <td>NaN</td>\n",
              "      <td>NaN</td>\n",
              "      <td>NaN</td>\n",
              "      <td>8.33</td>\n",
              "      <td>38928341.0</td>\n",
              "      <td>54.422</td>\n",
              "      <td>18.6</td>\n",
              "      <td>2.581</td>\n",
              "      <td>1.337</td>\n",
              "      <td>1803.987</td>\n",
              "      <td>NaN</td>\n",
              "      <td>597.029</td>\n",
              "      <td>9.59</td>\n",
              "      <td>NaN</td>\n",
              "      <td>NaN</td>\n",
              "      <td>37.746</td>\n",
              "      <td>0.5</td>\n",
              "      <td>64.83</td>\n",
              "      <td>0.511</td>\n",
              "    </tr>\n",
              "    <tr>\n",
              "      <th>4</th>\n",
              "      <td>AFG</td>\n",
              "      <td>Asia</td>\n",
              "      <td>Afghanistan</td>\n",
              "      <td>2020-02-28</td>\n",
              "      <td>1.0</td>\n",
              "      <td>0.0</td>\n",
              "      <td>NaN</td>\n",
              "      <td>NaN</td>\n",
              "      <td>NaN</td>\n",
              "      <td>NaN</td>\n",
              "      <td>0.026</td>\n",
              "      <td>0.000</td>\n",
              "      <td>NaN</td>\n",
              "      <td>NaN</td>\n",
              "      <td>NaN</td>\n",
              "      <td>NaN</td>\n",
              "      <td>NaN</td>\n",
              "      <td>NaN</td>\n",
              "      <td>NaN</td>\n",
              "      <td>NaN</td>\n",
              "      <td>NaN</td>\n",
              "      <td>NaN</td>\n",
              "      <td>NaN</td>\n",
              "      <td>NaN</td>\n",
              "      <td>NaN</td>\n",
              "      <td>NaN</td>\n",
              "      <td>NaN</td>\n",
              "      <td>NaN</td>\n",
              "      <td>NaN</td>\n",
              "      <td>NaN</td>\n",
              "      <td>NaN</td>\n",
              "      <td>NaN</td>\n",
              "      <td>NaN</td>\n",
              "      <td>NaN</td>\n",
              "      <td>NaN</td>\n",
              "      <td>NaN</td>\n",
              "      <td>NaN</td>\n",
              "      <td>NaN</td>\n",
              "      <td>NaN</td>\n",
              "      <td>NaN</td>\n",
              "      <td>NaN</td>\n",
              "      <td>NaN</td>\n",
              "      <td>NaN</td>\n",
              "      <td>8.33</td>\n",
              "      <td>38928341.0</td>\n",
              "      <td>54.422</td>\n",
              "      <td>18.6</td>\n",
              "      <td>2.581</td>\n",
              "      <td>1.337</td>\n",
              "      <td>1803.987</td>\n",
              "      <td>NaN</td>\n",
              "      <td>597.029</td>\n",
              "      <td>9.59</td>\n",
              "      <td>NaN</td>\n",
              "      <td>NaN</td>\n",
              "      <td>37.746</td>\n",
              "      <td>0.5</td>\n",
              "      <td>64.83</td>\n",
              "      <td>0.511</td>\n",
              "    </tr>\n",
              "  </tbody>\n",
              "</table>\n",
              "</div>"
            ],
            "text/plain": [
              "  iso_code continent  ... life_expectancy human_development_index\n",
              "0      AFG      Asia  ...           64.83                   0.511\n",
              "1      AFG      Asia  ...           64.83                   0.511\n",
              "2      AFG      Asia  ...           64.83                   0.511\n",
              "3      AFG      Asia  ...           64.83                   0.511\n",
              "4      AFG      Asia  ...           64.83                   0.511\n",
              "\n",
              "[5 rows x 59 columns]"
            ]
          },
          "metadata": {
            "tags": []
          },
          "execution_count": 3
        }
      ]
    },
    {
      "cell_type": "code",
      "metadata": {
        "colab": {
          "base_uri": "https://localhost:8080/"
        },
        "id": "5YQRT4_AJmIy",
        "outputId": "f67df228-8f1d-4dc6-e242-01e40faf39a1"
      },
      "source": [
        "# Observando número de entradas e variáveis\n",
        "print(\"O dataset possui {} entradas e {} variáveis\".format(covid.shape[0],covid.shape[1]))"
      ],
      "execution_count": 4,
      "outputs": [
        {
          "output_type": "stream",
          "text": [
            "O dataset possui 76411 entradas e 59 variáveis\n"
          ],
          "name": "stdout"
        }
      ]
    },
    {
      "cell_type": "code",
      "metadata": {
        "colab": {
          "base_uri": "https://localhost:8080/"
        },
        "id": "zRE_xhxTLQ7l",
        "outputId": "44442763-1d37-4fdd-9a87-e75df3a75371"
      },
      "source": [
        "# Observando qual o timeseries do dataset\n",
        "dmin = covid.date.min()\n",
        "dmax = covid.date.max()\n",
        "print(\"O dataset vai do dia {} ao dia {}\".format(dmin,dmax))"
      ],
      "execution_count": 5,
      "outputs": [
        {
          "output_type": "stream",
          "text": [
            "O dataset vai do dia 2020-01-01 ao dia 2021-03-21\n"
          ],
          "name": "stdout"
        }
      ]
    },
    {
      "cell_type": "markdown",
      "metadata": {
        "id": "RYJvFccJTOpF"
      },
      "source": [
        "Agora vamos observar um panorama sobre os dados, quantos são, quais seus tipos e qual a porcentagem de dados ausentes possuímos no Dataset."
      ]
    },
    {
      "cell_type": "code",
      "metadata": {
        "colab": {
          "base_uri": "https://localhost:8080/"
        },
        "id": "HDpOdBcQTXj6",
        "outputId": "d7af163d-4a2c-49ba-fde4-e347a4129efe"
      },
      "source": [
        "#Usando o comando info()\n",
        "covid.info()"
      ],
      "execution_count": 6,
      "outputs": [
        {
          "output_type": "stream",
          "text": [
            "<class 'pandas.core.frame.DataFrame'>\n",
            "RangeIndex: 76411 entries, 0 to 76410\n",
            "Data columns (total 59 columns):\n",
            " #   Column                                 Non-Null Count  Dtype  \n",
            "---  ------                                 --------------  -----  \n",
            " 0   iso_code                               76411 non-null  object \n",
            " 1   continent                              72660 non-null  object \n",
            " 2   location                               76411 non-null  object \n",
            " 3   date                                   76411 non-null  object \n",
            " 4   total_cases                            75112 non-null  float64\n",
            " 5   new_cases                              75110 non-null  float64\n",
            " 6   new_cases_smoothed                     74109 non-null  float64\n",
            " 7   total_deaths                           65813 non-null  float64\n",
            " 8   new_deaths                             65971 non-null  float64\n",
            " 9   new_deaths_smoothed                    74109 non-null  float64\n",
            " 10  total_cases_per_million                74703 non-null  float64\n",
            " 11  new_cases_per_million                  74701 non-null  float64\n",
            " 12  new_cases_smoothed_per_million         73705 non-null  float64\n",
            " 13  total_deaths_per_million               65417 non-null  float64\n",
            " 14  new_deaths_per_million                 65575 non-null  float64\n",
            " 15  new_deaths_smoothed_per_million        73705 non-null  float64\n",
            " 16  reproduction_rate                      61662 non-null  float64\n",
            " 17  icu_patients                           7930 non-null   float64\n",
            " 18  icu_patients_per_million               7930 non-null   float64\n",
            " 19  hosp_patients                          9550 non-null   float64\n",
            " 20  hosp_patients_per_million              9550 non-null   float64\n",
            " 21  weekly_icu_admissions                  697 non-null    float64\n",
            " 22  weekly_icu_admissions_per_million      697 non-null    float64\n",
            " 23  weekly_hosp_admissions                 1224 non-null   float64\n",
            " 24  weekly_hosp_admissions_per_million     1224 non-null   float64\n",
            " 25  new_tests                              34911 non-null  float64\n",
            " 26  total_tests                            34670 non-null  float64\n",
            " 27  total_tests_per_thousand               34670 non-null  float64\n",
            " 28  new_tests_per_thousand                 34911 non-null  float64\n",
            " 29  new_tests_smoothed                     39917 non-null  float64\n",
            " 30  new_tests_smoothed_per_thousand        39917 non-null  float64\n",
            " 31  positive_rate                          38602 non-null  float64\n",
            " 32  tests_per_case                         38013 non-null  float64\n",
            " 33  tests_units                            41264 non-null  object \n",
            " 34  total_vaccinations                     5062 non-null   float64\n",
            " 35  people_vaccinated                      4549 non-null   float64\n",
            " 36  people_fully_vaccinated                3044 non-null   float64\n",
            " 37  new_vaccinations                       4320 non-null   float64\n",
            " 38  new_vaccinations_smoothed              7704 non-null   float64\n",
            " 39  total_vaccinations_per_hundred         5062 non-null   float64\n",
            " 40  people_vaccinated_per_hundred          4549 non-null   float64\n",
            " 41  people_fully_vaccinated_per_hundred    3044 non-null   float64\n",
            " 42  new_vaccinations_smoothed_per_million  7704 non-null   float64\n",
            " 43  stringency_index                       65057 non-null  float64\n",
            " 44  population                             75993 non-null  float64\n",
            " 45  population_density                     71318 non-null  float64\n",
            " 46  median_age                             69286 non-null  float64\n",
            " 47  aged_65_older                          68490 non-null  float64\n",
            " 48  aged_70_older                          68896 non-null  float64\n",
            " 49  gdp_per_capita                         69527 non-null  float64\n",
            " 50  extreme_poverty                        47442 non-null  float64\n",
            " 51  cardiovasc_death_rate                  70137 non-null  float64\n",
            " 52  diabetes_prevalence                    71047 non-null  float64\n",
            " 53  female_smokers                         55104 non-null  float64\n",
            " 54  male_smokers                           54294 non-null  float64\n",
            " 55  handwashing_facilities                 35207 non-null  float64\n",
            " 56  hospital_beds_per_thousand             64163 non-null  float64\n",
            " 57  life_expectancy                        72605 non-null  float64\n",
            " 58  human_development_index                70082 non-null  float64\n",
            "dtypes: float64(54), object(5)\n",
            "memory usage: 34.4+ MB\n"
          ],
          "name": "stdout"
        }
      ]
    },
    {
      "cell_type": "code",
      "metadata": {
        "colab": {
          "base_uri": "https://localhost:8080/"
        },
        "id": "TmYen2BCUGS_",
        "outputId": "56e08d0d-13f5-4159-eb19-95e5ab858fe7"
      },
      "source": [
        "# Visualizando a porcentagem de valores ausentes no Dataset\n",
        "round((covid.isnull().sum() / covid.shape[0]).sort_values(ascending=False),2)"
      ],
      "execution_count": 7,
      "outputs": [
        {
          "output_type": "execute_result",
          "data": {
            "text/plain": [
              "weekly_icu_admissions                    0.99\n",
              "weekly_icu_admissions_per_million        0.99\n",
              "weekly_hosp_admissions                   0.98\n",
              "weekly_hosp_admissions_per_million       0.98\n",
              "people_fully_vaccinated                  0.96\n",
              "people_fully_vaccinated_per_hundred      0.96\n",
              "new_vaccinations                         0.94\n",
              "people_vaccinated                        0.94\n",
              "people_vaccinated_per_hundred            0.94\n",
              "total_vaccinations                       0.93\n",
              "total_vaccinations_per_hundred           0.93\n",
              "new_vaccinations_smoothed                0.90\n",
              "new_vaccinations_smoothed_per_million    0.90\n",
              "icu_patients                             0.90\n",
              "icu_patients_per_million                 0.90\n",
              "hosp_patients                            0.88\n",
              "hosp_patients_per_million                0.88\n",
              "total_tests                              0.55\n",
              "total_tests_per_thousand                 0.55\n",
              "new_tests                                0.54\n",
              "new_tests_per_thousand                   0.54\n",
              "handwashing_facilities                   0.54\n",
              "tests_per_case                           0.50\n",
              "positive_rate                            0.49\n",
              "new_tests_smoothed_per_thousand          0.48\n",
              "new_tests_smoothed                       0.48\n",
              "tests_units                              0.46\n",
              "extreme_poverty                          0.38\n",
              "male_smokers                             0.29\n",
              "female_smokers                           0.28\n",
              "reproduction_rate                        0.19\n",
              "hospital_beds_per_thousand               0.16\n",
              "stringency_index                         0.15\n",
              "total_deaths_per_million                 0.14\n",
              "new_deaths_per_million                   0.14\n",
              "total_deaths                             0.14\n",
              "new_deaths                               0.14\n",
              "aged_65_older                            0.10\n",
              "aged_70_older                            0.10\n",
              "median_age                               0.09\n",
              "gdp_per_capita                           0.09\n",
              "human_development_index                  0.08\n",
              "cardiovasc_death_rate                    0.08\n",
              "diabetes_prevalence                      0.07\n",
              "population_density                       0.07\n",
              "life_expectancy                          0.05\n",
              "continent                                0.05\n",
              "new_cases_smoothed_per_million           0.04\n",
              "new_deaths_smoothed_per_million          0.04\n",
              "new_deaths_smoothed                      0.03\n",
              "new_cases_smoothed                       0.03\n",
              "new_cases_per_million                    0.02\n",
              "total_cases_per_million                  0.02\n",
              "new_cases                                0.02\n",
              "total_cases                              0.02\n",
              "population                               0.01\n",
              "date                                     0.00\n",
              "location                                 0.00\n",
              "iso_code                                 0.00\n",
              "dtype: float64"
            ]
          },
          "metadata": {
            "tags": []
          },
          "execution_count": 7
        }
      ]
    },
    {
      "cell_type": "markdown",
      "metadata": {
        "id": "8ikfsGJBVMny"
      },
      "source": [
        "Vamos adequar a coluna `date` ao formato datetime"
      ]
    },
    {
      "cell_type": "code",
      "metadata": {
        "id": "GZFGy3XQU_NX"
      },
      "source": [
        "# Usando o to_datetime do pandas\n",
        "covid['date'] = pd.to_datetime(covid.date)"
      ],
      "execution_count": 8,
      "outputs": []
    },
    {
      "cell_type": "markdown",
      "metadata": {
        "id": "hH_Png_iG2hy"
      },
      "source": [
        "Agora observando um panorama geral da Pandemia do COVID-19 no mundo."
      ]
    },
    {
      "cell_type": "code",
      "metadata": {
        "colab": {
          "base_uri": "https://localhost:8080/",
          "height": 309
        },
        "id": "qhxdbHNvVvGH",
        "outputId": "1d4f9b63-c22b-4b0d-c1b7-f7c180c2ac4b"
      },
      "source": [
        "# Localizando os dados para o dia mais recente do Dataset, organizando pelos lugares com mais casos\n",
        "total_casos = covid.loc[covid.date == dmax].sort_values(by=\"total_cases\", ascending=False)\n",
        "\n",
        "# Deixando apenas os dados referentes à países no Dataset\n",
        "total_casos = total_casos.dropna(subset=['continent'])\n",
        "total_casos[:5]"
      ],
      "execution_count": 9,
      "outputs": [
        {
          "output_type": "execute_result",
          "data": {
            "text/html": [
              "<div>\n",
              "<style scoped>\n",
              "    .dataframe tbody tr th:only-of-type {\n",
              "        vertical-align: middle;\n",
              "    }\n",
              "\n",
              "    .dataframe tbody tr th {\n",
              "        vertical-align: top;\n",
              "    }\n",
              "\n",
              "    .dataframe thead th {\n",
              "        text-align: right;\n",
              "    }\n",
              "</style>\n",
              "<table border=\"1\" class=\"dataframe\">\n",
              "  <thead>\n",
              "    <tr style=\"text-align: right;\">\n",
              "      <th></th>\n",
              "      <th>iso_code</th>\n",
              "      <th>continent</th>\n",
              "      <th>location</th>\n",
              "      <th>date</th>\n",
              "      <th>total_cases</th>\n",
              "      <th>new_cases</th>\n",
              "      <th>new_cases_smoothed</th>\n",
              "      <th>total_deaths</th>\n",
              "      <th>new_deaths</th>\n",
              "      <th>new_deaths_smoothed</th>\n",
              "      <th>total_cases_per_million</th>\n",
              "      <th>new_cases_per_million</th>\n",
              "      <th>new_cases_smoothed_per_million</th>\n",
              "      <th>total_deaths_per_million</th>\n",
              "      <th>new_deaths_per_million</th>\n",
              "      <th>new_deaths_smoothed_per_million</th>\n",
              "      <th>reproduction_rate</th>\n",
              "      <th>icu_patients</th>\n",
              "      <th>icu_patients_per_million</th>\n",
              "      <th>hosp_patients</th>\n",
              "      <th>hosp_patients_per_million</th>\n",
              "      <th>weekly_icu_admissions</th>\n",
              "      <th>weekly_icu_admissions_per_million</th>\n",
              "      <th>weekly_hosp_admissions</th>\n",
              "      <th>weekly_hosp_admissions_per_million</th>\n",
              "      <th>new_tests</th>\n",
              "      <th>total_tests</th>\n",
              "      <th>total_tests_per_thousand</th>\n",
              "      <th>new_tests_per_thousand</th>\n",
              "      <th>new_tests_smoothed</th>\n",
              "      <th>new_tests_smoothed_per_thousand</th>\n",
              "      <th>positive_rate</th>\n",
              "      <th>tests_per_case</th>\n",
              "      <th>tests_units</th>\n",
              "      <th>total_vaccinations</th>\n",
              "      <th>people_vaccinated</th>\n",
              "      <th>people_fully_vaccinated</th>\n",
              "      <th>new_vaccinations</th>\n",
              "      <th>new_vaccinations_smoothed</th>\n",
              "      <th>total_vaccinations_per_hundred</th>\n",
              "      <th>people_vaccinated_per_hundred</th>\n",
              "      <th>people_fully_vaccinated_per_hundred</th>\n",
              "      <th>new_vaccinations_smoothed_per_million</th>\n",
              "      <th>stringency_index</th>\n",
              "      <th>population</th>\n",
              "      <th>population_density</th>\n",
              "      <th>median_age</th>\n",
              "      <th>aged_65_older</th>\n",
              "      <th>aged_70_older</th>\n",
              "      <th>gdp_per_capita</th>\n",
              "      <th>extreme_poverty</th>\n",
              "      <th>cardiovasc_death_rate</th>\n",
              "      <th>diabetes_prevalence</th>\n",
              "      <th>female_smokers</th>\n",
              "      <th>male_smokers</th>\n",
              "      <th>handwashing_facilities</th>\n",
              "      <th>hospital_beds_per_thousand</th>\n",
              "      <th>life_expectancy</th>\n",
              "      <th>human_development_index</th>\n",
              "    </tr>\n",
              "  </thead>\n",
              "  <tbody>\n",
              "    <tr>\n",
              "      <th>72847</th>\n",
              "      <td>USA</td>\n",
              "      <td>North America</td>\n",
              "      <td>United States</td>\n",
              "      <td>2021-03-21</td>\n",
              "      <td>29818930.0</td>\n",
              "      <td>33645.0</td>\n",
              "      <td>54307.857</td>\n",
              "      <td>542359.0</td>\n",
              "      <td>432.0</td>\n",
              "      <td>1000.429</td>\n",
              "      <td>90086.681</td>\n",
              "      <td>101.646</td>\n",
              "      <td>164.071</td>\n",
              "      <td>1638.534</td>\n",
              "      <td>1.305</td>\n",
              "      <td>3.022</td>\n",
              "      <td>NaN</td>\n",
              "      <td>NaN</td>\n",
              "      <td>NaN</td>\n",
              "      <td>NaN</td>\n",
              "      <td>NaN</td>\n",
              "      <td>NaN</td>\n",
              "      <td>NaN</td>\n",
              "      <td>NaN</td>\n",
              "      <td>NaN</td>\n",
              "      <td>NaN</td>\n",
              "      <td>NaN</td>\n",
              "      <td>NaN</td>\n",
              "      <td>NaN</td>\n",
              "      <td>NaN</td>\n",
              "      <td>NaN</td>\n",
              "      <td>NaN</td>\n",
              "      <td>NaN</td>\n",
              "      <td>NaN</td>\n",
              "      <td>124481412.0</td>\n",
              "      <td>81415769.0</td>\n",
              "      <td>44141228.0</td>\n",
              "      <td>3039915.0</td>\n",
              "      <td>2488734.0</td>\n",
              "      <td>37.22</td>\n",
              "      <td>24.34</td>\n",
              "      <td>13.20</td>\n",
              "      <td>7441.0</td>\n",
              "      <td>NaN</td>\n",
              "      <td>3.310026e+08</td>\n",
              "      <td>35.608</td>\n",
              "      <td>38.3</td>\n",
              "      <td>15.413</td>\n",
              "      <td>9.732</td>\n",
              "      <td>54225.446</td>\n",
              "      <td>1.2</td>\n",
              "      <td>151.089</td>\n",
              "      <td>10.79</td>\n",
              "      <td>19.1</td>\n",
              "      <td>24.6</td>\n",
              "      <td>NaN</td>\n",
              "      <td>2.77</td>\n",
              "      <td>78.86</td>\n",
              "      <td>0.926</td>\n",
              "    </tr>\n",
              "    <tr>\n",
              "      <th>10204</th>\n",
              "      <td>BRA</td>\n",
              "      <td>South America</td>\n",
              "      <td>Brazil</td>\n",
              "      <td>2021-03-21</td>\n",
              "      <td>11998233.0</td>\n",
              "      <td>47774.0</td>\n",
              "      <td>73551.857</td>\n",
              "      <td>294042.0</td>\n",
              "      <td>1290.0</td>\n",
              "      <td>2259.000</td>\n",
              "      <td>56446.492</td>\n",
              "      <td>224.756</td>\n",
              "      <td>346.030</td>\n",
              "      <td>1383.340</td>\n",
              "      <td>6.069</td>\n",
              "      <td>10.628</td>\n",
              "      <td>NaN</td>\n",
              "      <td>NaN</td>\n",
              "      <td>NaN</td>\n",
              "      <td>NaN</td>\n",
              "      <td>NaN</td>\n",
              "      <td>NaN</td>\n",
              "      <td>NaN</td>\n",
              "      <td>NaN</td>\n",
              "      <td>NaN</td>\n",
              "      <td>NaN</td>\n",
              "      <td>NaN</td>\n",
              "      <td>NaN</td>\n",
              "      <td>NaN</td>\n",
              "      <td>NaN</td>\n",
              "      <td>NaN</td>\n",
              "      <td>NaN</td>\n",
              "      <td>NaN</td>\n",
              "      <td>NaN</td>\n",
              "      <td>13562176.0</td>\n",
              "      <td>10168973.0</td>\n",
              "      <td>3393203.0</td>\n",
              "      <td>83011.0</td>\n",
              "      <td>305644.0</td>\n",
              "      <td>6.38</td>\n",
              "      <td>4.78</td>\n",
              "      <td>1.60</td>\n",
              "      <td>1438.0</td>\n",
              "      <td>NaN</td>\n",
              "      <td>2.125594e+08</td>\n",
              "      <td>25.040</td>\n",
              "      <td>33.5</td>\n",
              "      <td>8.552</td>\n",
              "      <td>5.060</td>\n",
              "      <td>14103.452</td>\n",
              "      <td>3.4</td>\n",
              "      <td>177.961</td>\n",
              "      <td>8.11</td>\n",
              "      <td>10.1</td>\n",
              "      <td>17.9</td>\n",
              "      <td>NaN</td>\n",
              "      <td>2.20</td>\n",
              "      <td>75.88</td>\n",
              "      <td>0.765</td>\n",
              "    </tr>\n",
              "    <tr>\n",
              "      <th>31779</th>\n",
              "      <td>IND</td>\n",
              "      <td>Asia</td>\n",
              "      <td>India</td>\n",
              "      <td>2021-03-21</td>\n",
              "      <td>11646081.0</td>\n",
              "      <td>46951.0</td>\n",
              "      <td>37248.857</td>\n",
              "      <td>159967.0</td>\n",
              "      <td>212.0</td>\n",
              "      <td>177.429</td>\n",
              "      <td>8439.162</td>\n",
              "      <td>34.022</td>\n",
              "      <td>26.992</td>\n",
              "      <td>115.918</td>\n",
              "      <td>0.154</td>\n",
              "      <td>0.129</td>\n",
              "      <td>NaN</td>\n",
              "      <td>NaN</td>\n",
              "      <td>NaN</td>\n",
              "      <td>NaN</td>\n",
              "      <td>NaN</td>\n",
              "      <td>NaN</td>\n",
              "      <td>NaN</td>\n",
              "      <td>NaN</td>\n",
              "      <td>NaN</td>\n",
              "      <td>NaN</td>\n",
              "      <td>NaN</td>\n",
              "      <td>NaN</td>\n",
              "      <td>NaN</td>\n",
              "      <td>962144.0</td>\n",
              "      <td>0.697</td>\n",
              "      <td>0.039</td>\n",
              "      <td>25.8</td>\n",
              "      <td>samples tested</td>\n",
              "      <td>45065998.0</td>\n",
              "      <td>37574302.0</td>\n",
              "      <td>7491696.0</td>\n",
              "      <td>462157.0</td>\n",
              "      <td>2165423.0</td>\n",
              "      <td>3.27</td>\n",
              "      <td>2.72</td>\n",
              "      <td>0.54</td>\n",
              "      <td>1569.0</td>\n",
              "      <td>NaN</td>\n",
              "      <td>1.380004e+09</td>\n",
              "      <td>450.419</td>\n",
              "      <td>28.2</td>\n",
              "      <td>5.989</td>\n",
              "      <td>3.414</td>\n",
              "      <td>6426.674</td>\n",
              "      <td>21.2</td>\n",
              "      <td>282.280</td>\n",
              "      <td>10.39</td>\n",
              "      <td>1.9</td>\n",
              "      <td>20.6</td>\n",
              "      <td>59.55</td>\n",
              "      <td>0.53</td>\n",
              "      <td>69.66</td>\n",
              "      <td>0.645</td>\n",
              "    </tr>\n",
              "    <tr>\n",
              "      <th>56976</th>\n",
              "      <td>RUS</td>\n",
              "      <td>Europe</td>\n",
              "      <td>Russia</td>\n",
              "      <td>2021-03-21</td>\n",
              "      <td>4407031.0</td>\n",
              "      <td>9215.0</td>\n",
              "      <td>9378.571</td>\n",
              "      <td>93457.0</td>\n",
              "      <td>367.0</td>\n",
              "      <td>414.143</td>\n",
              "      <td>30198.700</td>\n",
              "      <td>63.145</td>\n",
              "      <td>64.266</td>\n",
              "      <td>640.404</td>\n",
              "      <td>2.515</td>\n",
              "      <td>2.838</td>\n",
              "      <td>NaN</td>\n",
              "      <td>NaN</td>\n",
              "      <td>NaN</td>\n",
              "      <td>NaN</td>\n",
              "      <td>NaN</td>\n",
              "      <td>NaN</td>\n",
              "      <td>NaN</td>\n",
              "      <td>NaN</td>\n",
              "      <td>NaN</td>\n",
              "      <td>NaN</td>\n",
              "      <td>117721946.0</td>\n",
              "      <td>806.677</td>\n",
              "      <td>NaN</td>\n",
              "      <td>314211.0</td>\n",
              "      <td>2.153</td>\n",
              "      <td>0.030</td>\n",
              "      <td>33.5</td>\n",
              "      <td>tests performed</td>\n",
              "      <td>8362575.0</td>\n",
              "      <td>5611139.0</td>\n",
              "      <td>2751436.0</td>\n",
              "      <td>56077.0</td>\n",
              "      <td>94812.0</td>\n",
              "      <td>5.73</td>\n",
              "      <td>3.84</td>\n",
              "      <td>1.89</td>\n",
              "      <td>650.0</td>\n",
              "      <td>NaN</td>\n",
              "      <td>1.459345e+08</td>\n",
              "      <td>8.823</td>\n",
              "      <td>39.6</td>\n",
              "      <td>14.178</td>\n",
              "      <td>9.393</td>\n",
              "      <td>24765.954</td>\n",
              "      <td>0.1</td>\n",
              "      <td>431.297</td>\n",
              "      <td>6.18</td>\n",
              "      <td>23.4</td>\n",
              "      <td>58.3</td>\n",
              "      <td>NaN</td>\n",
              "      <td>8.05</td>\n",
              "      <td>72.58</td>\n",
              "      <td>0.824</td>\n",
              "    </tr>\n",
              "    <tr>\n",
              "      <th>72422</th>\n",
              "      <td>GBR</td>\n",
              "      <td>Europe</td>\n",
              "      <td>United Kingdom</td>\n",
              "      <td>2021-03-21</td>\n",
              "      <td>4310195.0</td>\n",
              "      <td>5356.0</td>\n",
              "      <td>5497.857</td>\n",
              "      <td>126393.0</td>\n",
              "      <td>34.0</td>\n",
              "      <td>91.429</td>\n",
              "      <td>63491.659</td>\n",
              "      <td>78.897</td>\n",
              "      <td>80.987</td>\n",
              "      <td>1861.842</td>\n",
              "      <td>0.501</td>\n",
              "      <td>1.347</td>\n",
              "      <td>NaN</td>\n",
              "      <td>NaN</td>\n",
              "      <td>NaN</td>\n",
              "      <td>NaN</td>\n",
              "      <td>NaN</td>\n",
              "      <td>NaN</td>\n",
              "      <td>NaN</td>\n",
              "      <td>NaN</td>\n",
              "      <td>NaN</td>\n",
              "      <td>NaN</td>\n",
              "      <td>NaN</td>\n",
              "      <td>NaN</td>\n",
              "      <td>NaN</td>\n",
              "      <td>NaN</td>\n",
              "      <td>NaN</td>\n",
              "      <td>NaN</td>\n",
              "      <td>NaN</td>\n",
              "      <td>NaN</td>\n",
              "      <td>NaN</td>\n",
              "      <td>NaN</td>\n",
              "      <td>NaN</td>\n",
              "      <td>NaN</td>\n",
              "      <td>NaN</td>\n",
              "      <td>NaN</td>\n",
              "      <td>NaN</td>\n",
              "      <td>NaN</td>\n",
              "      <td>NaN</td>\n",
              "      <td>NaN</td>\n",
              "      <td>6.788600e+07</td>\n",
              "      <td>272.898</td>\n",
              "      <td>40.8</td>\n",
              "      <td>18.517</td>\n",
              "      <td>12.527</td>\n",
              "      <td>39753.244</td>\n",
              "      <td>0.2</td>\n",
              "      <td>122.137</td>\n",
              "      <td>4.28</td>\n",
              "      <td>20.0</td>\n",
              "      <td>24.7</td>\n",
              "      <td>NaN</td>\n",
              "      <td>2.54</td>\n",
              "      <td>81.32</td>\n",
              "      <td>0.932</td>\n",
              "    </tr>\n",
              "  </tbody>\n",
              "</table>\n",
              "</div>"
            ],
            "text/plain": [
              "      iso_code      continent  ... life_expectancy human_development_index\n",
              "72847      USA  North America  ...           78.86                   0.926\n",
              "10204      BRA  South America  ...           75.88                   0.765\n",
              "31779      IND           Asia  ...           69.66                   0.645\n",
              "56976      RUS         Europe  ...           72.58                   0.824\n",
              "72422      GBR         Europe  ...           81.32                   0.932\n",
              "\n",
              "[5 rows x 59 columns]"
            ]
          },
          "metadata": {
            "tags": []
          },
          "execution_count": 9
        }
      ]
    },
    {
      "cell_type": "code",
      "metadata": {
        "colab": {
          "base_uri": "https://localhost:8080/",
          "height": 309
        },
        "id": "oF42JU3KWWE6",
        "outputId": "751ebbe9-a75a-4faf-989c-40319ac499d2"
      },
      "source": [
        "# Localizando os dados para o dia mais recente do Dataset, organizando pelos lugares com mais mortes\n",
        "total_mortes = covid.loc[covid.date == dmax].sort_values(by='total_deaths', ascending = False)\n",
        "\n",
        "# Deixando apenas os dados referentes à países no Dataset\n",
        "total_mortes = total_mortes.dropna(subset=['continent'])\n",
        "total_mortes[:5]"
      ],
      "execution_count": 10,
      "outputs": [
        {
          "output_type": "execute_result",
          "data": {
            "text/html": [
              "<div>\n",
              "<style scoped>\n",
              "    .dataframe tbody tr th:only-of-type {\n",
              "        vertical-align: middle;\n",
              "    }\n",
              "\n",
              "    .dataframe tbody tr th {\n",
              "        vertical-align: top;\n",
              "    }\n",
              "\n",
              "    .dataframe thead th {\n",
              "        text-align: right;\n",
              "    }\n",
              "</style>\n",
              "<table border=\"1\" class=\"dataframe\">\n",
              "  <thead>\n",
              "    <tr style=\"text-align: right;\">\n",
              "      <th></th>\n",
              "      <th>iso_code</th>\n",
              "      <th>continent</th>\n",
              "      <th>location</th>\n",
              "      <th>date</th>\n",
              "      <th>total_cases</th>\n",
              "      <th>new_cases</th>\n",
              "      <th>new_cases_smoothed</th>\n",
              "      <th>total_deaths</th>\n",
              "      <th>new_deaths</th>\n",
              "      <th>new_deaths_smoothed</th>\n",
              "      <th>total_cases_per_million</th>\n",
              "      <th>new_cases_per_million</th>\n",
              "      <th>new_cases_smoothed_per_million</th>\n",
              "      <th>total_deaths_per_million</th>\n",
              "      <th>new_deaths_per_million</th>\n",
              "      <th>new_deaths_smoothed_per_million</th>\n",
              "      <th>reproduction_rate</th>\n",
              "      <th>icu_patients</th>\n",
              "      <th>icu_patients_per_million</th>\n",
              "      <th>hosp_patients</th>\n",
              "      <th>hosp_patients_per_million</th>\n",
              "      <th>weekly_icu_admissions</th>\n",
              "      <th>weekly_icu_admissions_per_million</th>\n",
              "      <th>weekly_hosp_admissions</th>\n",
              "      <th>weekly_hosp_admissions_per_million</th>\n",
              "      <th>new_tests</th>\n",
              "      <th>total_tests</th>\n",
              "      <th>total_tests_per_thousand</th>\n",
              "      <th>new_tests_per_thousand</th>\n",
              "      <th>new_tests_smoothed</th>\n",
              "      <th>new_tests_smoothed_per_thousand</th>\n",
              "      <th>positive_rate</th>\n",
              "      <th>tests_per_case</th>\n",
              "      <th>tests_units</th>\n",
              "      <th>total_vaccinations</th>\n",
              "      <th>people_vaccinated</th>\n",
              "      <th>people_fully_vaccinated</th>\n",
              "      <th>new_vaccinations</th>\n",
              "      <th>new_vaccinations_smoothed</th>\n",
              "      <th>total_vaccinations_per_hundred</th>\n",
              "      <th>people_vaccinated_per_hundred</th>\n",
              "      <th>people_fully_vaccinated_per_hundred</th>\n",
              "      <th>new_vaccinations_smoothed_per_million</th>\n",
              "      <th>stringency_index</th>\n",
              "      <th>population</th>\n",
              "      <th>population_density</th>\n",
              "      <th>median_age</th>\n",
              "      <th>aged_65_older</th>\n",
              "      <th>aged_70_older</th>\n",
              "      <th>gdp_per_capita</th>\n",
              "      <th>extreme_poverty</th>\n",
              "      <th>cardiovasc_death_rate</th>\n",
              "      <th>diabetes_prevalence</th>\n",
              "      <th>female_smokers</th>\n",
              "      <th>male_smokers</th>\n",
              "      <th>handwashing_facilities</th>\n",
              "      <th>hospital_beds_per_thousand</th>\n",
              "      <th>life_expectancy</th>\n",
              "      <th>human_development_index</th>\n",
              "    </tr>\n",
              "  </thead>\n",
              "  <tbody>\n",
              "    <tr>\n",
              "      <th>72847</th>\n",
              "      <td>USA</td>\n",
              "      <td>North America</td>\n",
              "      <td>United States</td>\n",
              "      <td>2021-03-21</td>\n",
              "      <td>29818930.0</td>\n",
              "      <td>33645.0</td>\n",
              "      <td>54307.857</td>\n",
              "      <td>542359.0</td>\n",
              "      <td>432.0</td>\n",
              "      <td>1000.429</td>\n",
              "      <td>90086.681</td>\n",
              "      <td>101.646</td>\n",
              "      <td>164.071</td>\n",
              "      <td>1638.534</td>\n",
              "      <td>1.305</td>\n",
              "      <td>3.022</td>\n",
              "      <td>NaN</td>\n",
              "      <td>NaN</td>\n",
              "      <td>NaN</td>\n",
              "      <td>NaN</td>\n",
              "      <td>NaN</td>\n",
              "      <td>NaN</td>\n",
              "      <td>NaN</td>\n",
              "      <td>NaN</td>\n",
              "      <td>NaN</td>\n",
              "      <td>NaN</td>\n",
              "      <td>NaN</td>\n",
              "      <td>NaN</td>\n",
              "      <td>NaN</td>\n",
              "      <td>NaN</td>\n",
              "      <td>NaN</td>\n",
              "      <td>NaN</td>\n",
              "      <td>NaN</td>\n",
              "      <td>NaN</td>\n",
              "      <td>124481412.0</td>\n",
              "      <td>81415769.0</td>\n",
              "      <td>44141228.0</td>\n",
              "      <td>3039915.0</td>\n",
              "      <td>2488734.0</td>\n",
              "      <td>37.22</td>\n",
              "      <td>24.34</td>\n",
              "      <td>13.20</td>\n",
              "      <td>7441.0</td>\n",
              "      <td>NaN</td>\n",
              "      <td>3.310026e+08</td>\n",
              "      <td>35.608</td>\n",
              "      <td>38.3</td>\n",
              "      <td>15.413</td>\n",
              "      <td>9.732</td>\n",
              "      <td>54225.446</td>\n",
              "      <td>1.2</td>\n",
              "      <td>151.089</td>\n",
              "      <td>10.79</td>\n",
              "      <td>19.1</td>\n",
              "      <td>24.6</td>\n",
              "      <td>NaN</td>\n",
              "      <td>2.77</td>\n",
              "      <td>78.86</td>\n",
              "      <td>0.926</td>\n",
              "    </tr>\n",
              "    <tr>\n",
              "      <th>10204</th>\n",
              "      <td>BRA</td>\n",
              "      <td>South America</td>\n",
              "      <td>Brazil</td>\n",
              "      <td>2021-03-21</td>\n",
              "      <td>11998233.0</td>\n",
              "      <td>47774.0</td>\n",
              "      <td>73551.857</td>\n",
              "      <td>294042.0</td>\n",
              "      <td>1290.0</td>\n",
              "      <td>2259.000</td>\n",
              "      <td>56446.492</td>\n",
              "      <td>224.756</td>\n",
              "      <td>346.030</td>\n",
              "      <td>1383.340</td>\n",
              "      <td>6.069</td>\n",
              "      <td>10.628</td>\n",
              "      <td>NaN</td>\n",
              "      <td>NaN</td>\n",
              "      <td>NaN</td>\n",
              "      <td>NaN</td>\n",
              "      <td>NaN</td>\n",
              "      <td>NaN</td>\n",
              "      <td>NaN</td>\n",
              "      <td>NaN</td>\n",
              "      <td>NaN</td>\n",
              "      <td>NaN</td>\n",
              "      <td>NaN</td>\n",
              "      <td>NaN</td>\n",
              "      <td>NaN</td>\n",
              "      <td>NaN</td>\n",
              "      <td>NaN</td>\n",
              "      <td>NaN</td>\n",
              "      <td>NaN</td>\n",
              "      <td>NaN</td>\n",
              "      <td>13562176.0</td>\n",
              "      <td>10168973.0</td>\n",
              "      <td>3393203.0</td>\n",
              "      <td>83011.0</td>\n",
              "      <td>305644.0</td>\n",
              "      <td>6.38</td>\n",
              "      <td>4.78</td>\n",
              "      <td>1.60</td>\n",
              "      <td>1438.0</td>\n",
              "      <td>NaN</td>\n",
              "      <td>2.125594e+08</td>\n",
              "      <td>25.040</td>\n",
              "      <td>33.5</td>\n",
              "      <td>8.552</td>\n",
              "      <td>5.060</td>\n",
              "      <td>14103.452</td>\n",
              "      <td>3.4</td>\n",
              "      <td>177.961</td>\n",
              "      <td>8.11</td>\n",
              "      <td>10.1</td>\n",
              "      <td>17.9</td>\n",
              "      <td>NaN</td>\n",
              "      <td>2.20</td>\n",
              "      <td>75.88</td>\n",
              "      <td>0.765</td>\n",
              "    </tr>\n",
              "    <tr>\n",
              "      <th>44798</th>\n",
              "      <td>MEX</td>\n",
              "      <td>North America</td>\n",
              "      <td>Mexico</td>\n",
              "      <td>2021-03-21</td>\n",
              "      <td>2195772.0</td>\n",
              "      <td>2133.0</td>\n",
              "      <td>4211.714</td>\n",
              "      <td>198036.0</td>\n",
              "      <td>209.0</td>\n",
              "      <td>475.143</td>\n",
              "      <td>17030.366</td>\n",
              "      <td>16.544</td>\n",
              "      <td>32.666</td>\n",
              "      <td>1535.963</td>\n",
              "      <td>1.621</td>\n",
              "      <td>3.685</td>\n",
              "      <td>NaN</td>\n",
              "      <td>NaN</td>\n",
              "      <td>NaN</td>\n",
              "      <td>NaN</td>\n",
              "      <td>NaN</td>\n",
              "      <td>NaN</td>\n",
              "      <td>NaN</td>\n",
              "      <td>NaN</td>\n",
              "      <td>NaN</td>\n",
              "      <td>NaN</td>\n",
              "      <td>NaN</td>\n",
              "      <td>NaN</td>\n",
              "      <td>NaN</td>\n",
              "      <td>NaN</td>\n",
              "      <td>NaN</td>\n",
              "      <td>NaN</td>\n",
              "      <td>NaN</td>\n",
              "      <td>NaN</td>\n",
              "      <td>5612291.0</td>\n",
              "      <td>4895523.0</td>\n",
              "      <td>716768.0</td>\n",
              "      <td>153277.0</td>\n",
              "      <td>181766.0</td>\n",
              "      <td>4.35</td>\n",
              "      <td>3.80</td>\n",
              "      <td>0.56</td>\n",
              "      <td>1410.0</td>\n",
              "      <td>NaN</td>\n",
              "      <td>1.289328e+08</td>\n",
              "      <td>66.444</td>\n",
              "      <td>29.3</td>\n",
              "      <td>6.857</td>\n",
              "      <td>4.321</td>\n",
              "      <td>17336.469</td>\n",
              "      <td>2.5</td>\n",
              "      <td>152.783</td>\n",
              "      <td>13.06</td>\n",
              "      <td>6.9</td>\n",
              "      <td>21.4</td>\n",
              "      <td>87.847</td>\n",
              "      <td>1.38</td>\n",
              "      <td>75.05</td>\n",
              "      <td>0.779</td>\n",
              "    </tr>\n",
              "    <tr>\n",
              "      <th>31779</th>\n",
              "      <td>IND</td>\n",
              "      <td>Asia</td>\n",
              "      <td>India</td>\n",
              "      <td>2021-03-21</td>\n",
              "      <td>11646081.0</td>\n",
              "      <td>46951.0</td>\n",
              "      <td>37248.857</td>\n",
              "      <td>159967.0</td>\n",
              "      <td>212.0</td>\n",
              "      <td>177.429</td>\n",
              "      <td>8439.162</td>\n",
              "      <td>34.022</td>\n",
              "      <td>26.992</td>\n",
              "      <td>115.918</td>\n",
              "      <td>0.154</td>\n",
              "      <td>0.129</td>\n",
              "      <td>NaN</td>\n",
              "      <td>NaN</td>\n",
              "      <td>NaN</td>\n",
              "      <td>NaN</td>\n",
              "      <td>NaN</td>\n",
              "      <td>NaN</td>\n",
              "      <td>NaN</td>\n",
              "      <td>NaN</td>\n",
              "      <td>NaN</td>\n",
              "      <td>NaN</td>\n",
              "      <td>NaN</td>\n",
              "      <td>NaN</td>\n",
              "      <td>NaN</td>\n",
              "      <td>962144.0</td>\n",
              "      <td>0.697</td>\n",
              "      <td>0.039</td>\n",
              "      <td>25.8</td>\n",
              "      <td>samples tested</td>\n",
              "      <td>45065998.0</td>\n",
              "      <td>37574302.0</td>\n",
              "      <td>7491696.0</td>\n",
              "      <td>462157.0</td>\n",
              "      <td>2165423.0</td>\n",
              "      <td>3.27</td>\n",
              "      <td>2.72</td>\n",
              "      <td>0.54</td>\n",
              "      <td>1569.0</td>\n",
              "      <td>NaN</td>\n",
              "      <td>1.380004e+09</td>\n",
              "      <td>450.419</td>\n",
              "      <td>28.2</td>\n",
              "      <td>5.989</td>\n",
              "      <td>3.414</td>\n",
              "      <td>6426.674</td>\n",
              "      <td>21.2</td>\n",
              "      <td>282.280</td>\n",
              "      <td>10.39</td>\n",
              "      <td>1.9</td>\n",
              "      <td>20.6</td>\n",
              "      <td>59.550</td>\n",
              "      <td>0.53</td>\n",
              "      <td>69.66</td>\n",
              "      <td>0.645</td>\n",
              "    </tr>\n",
              "    <tr>\n",
              "      <th>72422</th>\n",
              "      <td>GBR</td>\n",
              "      <td>Europe</td>\n",
              "      <td>United Kingdom</td>\n",
              "      <td>2021-03-21</td>\n",
              "      <td>4310195.0</td>\n",
              "      <td>5356.0</td>\n",
              "      <td>5497.857</td>\n",
              "      <td>126393.0</td>\n",
              "      <td>34.0</td>\n",
              "      <td>91.429</td>\n",
              "      <td>63491.659</td>\n",
              "      <td>78.897</td>\n",
              "      <td>80.987</td>\n",
              "      <td>1861.842</td>\n",
              "      <td>0.501</td>\n",
              "      <td>1.347</td>\n",
              "      <td>NaN</td>\n",
              "      <td>NaN</td>\n",
              "      <td>NaN</td>\n",
              "      <td>NaN</td>\n",
              "      <td>NaN</td>\n",
              "      <td>NaN</td>\n",
              "      <td>NaN</td>\n",
              "      <td>NaN</td>\n",
              "      <td>NaN</td>\n",
              "      <td>NaN</td>\n",
              "      <td>NaN</td>\n",
              "      <td>NaN</td>\n",
              "      <td>NaN</td>\n",
              "      <td>NaN</td>\n",
              "      <td>NaN</td>\n",
              "      <td>NaN</td>\n",
              "      <td>NaN</td>\n",
              "      <td>NaN</td>\n",
              "      <td>NaN</td>\n",
              "      <td>NaN</td>\n",
              "      <td>NaN</td>\n",
              "      <td>NaN</td>\n",
              "      <td>NaN</td>\n",
              "      <td>NaN</td>\n",
              "      <td>NaN</td>\n",
              "      <td>NaN</td>\n",
              "      <td>NaN</td>\n",
              "      <td>NaN</td>\n",
              "      <td>6.788600e+07</td>\n",
              "      <td>272.898</td>\n",
              "      <td>40.8</td>\n",
              "      <td>18.517</td>\n",
              "      <td>12.527</td>\n",
              "      <td>39753.244</td>\n",
              "      <td>0.2</td>\n",
              "      <td>122.137</td>\n",
              "      <td>4.28</td>\n",
              "      <td>20.0</td>\n",
              "      <td>24.7</td>\n",
              "      <td>NaN</td>\n",
              "      <td>2.54</td>\n",
              "      <td>81.32</td>\n",
              "      <td>0.932</td>\n",
              "    </tr>\n",
              "  </tbody>\n",
              "</table>\n",
              "</div>"
            ],
            "text/plain": [
              "      iso_code      continent  ... life_expectancy human_development_index\n",
              "72847      USA  North America  ...           78.86                   0.926\n",
              "10204      BRA  South America  ...           75.88                   0.765\n",
              "44798      MEX  North America  ...           75.05                   0.779\n",
              "31779      IND           Asia  ...           69.66                   0.645\n",
              "72422      GBR         Europe  ...           81.32                   0.932\n",
              "\n",
              "[5 rows x 59 columns]"
            ]
          },
          "metadata": {
            "tags": []
          },
          "execution_count": 10
        }
      ]
    },
    {
      "cell_type": "markdown",
      "metadata": {
        "id": "KZKg9u8MJNAe"
      },
      "source": [
        "Agora vamos plotar alguns gráficos para facilitar a visualização."
      ]
    },
    {
      "cell_type": "code",
      "metadata": {
        "colab": {
          "base_uri": "https://localhost:8080/",
          "height": 426
        },
        "id": "SjcSauQnj54N",
        "outputId": "450f4520-f96c-4f1e-edb8-a1e7a632b42a"
      },
      "source": [
        "# Top ten de mortes\n",
        "top10_tm = total_mortes.head(10)\n",
        "\n",
        "# Plotando o total de mortes\n",
        "fig, ax = plt.subplots(figsize=(10,5))\n",
        "ax.bar('location','total_deaths', data=top10_tm)\n",
        "plt.xticks(rotation=90)\n",
        "plt.suptitle('Países com mais mortes por COVID-19 no dia {}'.format(covid.date.dt.date.max()))\n",
        "plt.show()"
      ],
      "execution_count": 11,
      "outputs": [
        {
          "output_type": "display_data",
          "data": {
            "image/png": "[encoded data removed]",
            "text/plain": [
              "<Figure size 720x360 with 1 Axes>"
            ]
          },
          "metadata": {
            "tags": [],
            "needs_background": "light"
          }
        }
      ]
    },
    {
      "cell_type": "code",
      "metadata": {
        "colab": {
          "base_uri": "https://localhost:8080/",
          "height": 381
        },
        "id": "0jD5nfiWlxXo",
        "outputId": "ee112202-3101-4048-f9c8-eb4551766363"
      },
      "source": [
        "# Criando backup pra não comprometer o dataset original\n",
        "covid1 = covid.copy()\n",
        "\n",
        "# Plotando o a evolução da covid no mundo\n",
        "covid1 = covid1.loc[covid1.location ==\"World\"].reset_index(drop=True)\n",
        "covid1.groupby(['date'])['total_cases'].sum().plot(figsize=(10,5))\n",
        "plt.suptitle('Evolução de Nº de casos da COVID-19 na série histórica de estudo',fontsize=15)\n",
        "plt.show()"
      ],
      "execution_count": 12,
      "outputs": [
        {
          "output_type": "display_data",
          "data": {
            "image/png": "[encoded data removed]",
            "text/plain": [
              "<Figure size 720x360 with 1 Axes>"
            ]
          },
          "metadata": {
            "tags": [],
            "needs_background": "light"
          }
        }
      ]
    },
    {
      "cell_type": "markdown",
      "metadata": {
        "id": "lVhbsTGRZtgb"
      },
      "source": [
        "### **Dados de Vacinas**\n",
        "\n",
        "<center><img width=\"65%\" src=\"https://raw.githubusercontent.com/otaviodefilpo/covid-19-inbrazil-vaccines-cases-deaths/main/vacina-paises.jpeg\"></center>\n",
        "\n",
        "***Partindo para as análises sobre vacinas!***\n",
        "\n",
        "Observando o Dataset vemos que os dados sobre vacina possuem muitos valores em NaN, pois como a vacina foi criada apenas recentemente, esses dados não existiam nos primeiros meses da nossa série. Os nossos próximos passos são:\n",
        "* Isolar os dados referentes à vacinas que são:\n",
        "\n",
        "`total_vaccinations`,\t`people_vaccinated`, `people_fully_vaccinated`, `\tnew_vaccinations`,\t`new_vaccinations_smoothed`, `\ttotal_vaccinations_per_hundred`, `people_vaccinated_per_hundred`, `\tpeople_fully_vaccinated_per_hundred`, `\tnew_vaccinations_smoothed_per_million`\n",
        "\n",
        "**Adicionaremos também alguns dados gerais para auxiliar nossa análise que são:*\n",
        "\n",
        "`iso_code`,\t`continent`, `location`,\t`date`, `life_expectancy`, `human_development_index`, `aged_65_older`, `aged_70_older`, `stringency_index`,`population_density`, `median_age`\n",
        "\n",
        "* Limpar esses dados mais antigos que não serão úteis para visualizar dados sobre vacinas"
      ]
    },
    {
      "cell_type": "code",
      "metadata": {
        "id": "Am9OeHNTaapT"
      },
      "source": [
        "# Criando dataframe sobre Vacinas\n",
        "vacinas = covid[['iso_code', 'continent', 'location', 'date',\n",
        "                 'total_vaccinations', 'people_vaccinated', 'people_fully_vaccinated',\n",
        "                'new_vaccinations', 'new_vaccinations_smoothed', 'total_vaccinations_per_hundred',\n",
        "                'people_vaccinated_per_hundred', 'people_fully_vaccinated_per_hundred', 'new_vaccinations_smoothed_per_million',\n",
        "                 'life_expectancy', 'human_development_index', 'aged_65_older',\n",
        "                 'aged_70_older', 'stringency_index', 'population_density', 'median_age']].copy()"
      ],
      "execution_count": 13,
      "outputs": []
    },
    {
      "cell_type": "code",
      "metadata": {
        "id": "YLj8jdWbi7Y0"
      },
      "source": [
        "# Limpando os valores ausentes anteriores à primeira vacina\n",
        "vacinas.dropna(subset = ['total_vaccinations'] , axis=0, inplace= True)"
      ],
      "execution_count": 14,
      "outputs": []
    },
    {
      "cell_type": "code",
      "metadata": {
        "colab": {
          "base_uri": "https://localhost:8080/"
        },
        "id": "m6kjT4yenLLA",
        "outputId": "623fd2ef-cbcd-4eef-b255-cfc9b464e8d9"
      },
      "source": [
        "# Verificando o tamanho do nosso novo dataset\n",
        "print(\"O dataframe possui {} entradas e {} variáveis\".format(vacinas.shape[0],vacinas.shape[1]))"
      ],
      "execution_count": 15,
      "outputs": [
        {
          "output_type": "stream",
          "text": [
            "O dataframe possui 5062 entradas e 20 variáveis\n"
          ],
          "name": "stdout"
        }
      ]
    },
    {
      "cell_type": "code",
      "metadata": {
        "colab": {
          "base_uri": "https://localhost:8080/"
        },
        "id": "uM-kliuLpthB",
        "outputId": "3cec7d74-9ef4-4ce4-b356-176a294310cf"
      },
      "source": [
        "# Verificando quantos valores ausentes possuímos no nosso Dataset\n",
        "round((vacinas.isnull().sum() / vacinas.shape[0]).sort_values(ascending=False),2)"
      ],
      "execution_count": 16,
      "outputs": [
        {
          "output_type": "execute_result",
          "data": {
            "text/plain": [
              "people_fully_vaccinated_per_hundred      0.40\n",
              "people_fully_vaccinated                  0.40\n",
              "stringency_index                         0.26\n",
              "aged_70_older                            0.17\n",
              "human_development_index                  0.16\n",
              "median_age                               0.16\n",
              "aged_65_older                            0.16\n",
              "new_vaccinations                         0.15\n",
              "continent                                0.13\n",
              "population_density                       0.12\n",
              "people_vaccinated_per_hundred            0.11\n",
              "people_vaccinated                        0.11\n",
              "life_expectancy                          0.11\n",
              "new_vaccinations_smoothed_per_million    0.03\n",
              "new_vaccinations_smoothed                0.03\n",
              "location                                 0.00\n",
              "total_vaccinations_per_hundred           0.00\n",
              "date                                     0.00\n",
              "total_vaccinations                       0.00\n",
              "iso_code                                 0.00\n",
              "dtype: float64"
            ]
          },
          "metadata": {
            "tags": []
          },
          "execution_count": 16
        }
      ]
    },
    {
      "cell_type": "code",
      "metadata": {
        "colab": {
          "base_uri": "https://localhost:8080/",
          "height": 317
        },
        "id": "hj_E7-BerGz6",
        "outputId": "70ee59aa-9d57-4f1f-edbd-b8f2f866d4f0"
      },
      "source": [
        "# Agora vamos utilizar o método describe()\n",
        "vacinas.describe()"
      ],
      "execution_count": 17,
      "outputs": [
        {
          "output_type": "execute_result",
          "data": {
            "text/html": [
              "<div>\n",
              "<style scoped>\n",
              "    .dataframe tbody tr th:only-of-type {\n",
              "        vertical-align: middle;\n",
              "    }\n",
              "\n",
              "    .dataframe tbody tr th {\n",
              "        vertical-align: top;\n",
              "    }\n",
              "\n",
              "    .dataframe thead th {\n",
              "        text-align: right;\n",
              "    }\n",
              "</style>\n",
              "<table border=\"1\" class=\"dataframe\">\n",
              "  <thead>\n",
              "    <tr style=\"text-align: right;\">\n",
              "      <th></th>\n",
              "      <th>total_vaccinations</th>\n",
              "      <th>people_vaccinated</th>\n",
              "      <th>people_fully_vaccinated</th>\n",
              "      <th>new_vaccinations</th>\n",
              "      <th>new_vaccinations_smoothed</th>\n",
              "      <th>total_vaccinations_per_hundred</th>\n",
              "      <th>people_vaccinated_per_hundred</th>\n",
              "      <th>people_fully_vaccinated_per_hundred</th>\n",
              "      <th>new_vaccinations_smoothed_per_million</th>\n",
              "      <th>life_expectancy</th>\n",
              "      <th>human_development_index</th>\n",
              "      <th>aged_65_older</th>\n",
              "      <th>aged_70_older</th>\n",
              "      <th>stringency_index</th>\n",
              "      <th>population_density</th>\n",
              "      <th>median_age</th>\n",
              "    </tr>\n",
              "  </thead>\n",
              "  <tbody>\n",
              "    <tr>\n",
              "      <th>count</th>\n",
              "      <td>5.062000e+03</td>\n",
              "      <td>4.480000e+03</td>\n",
              "      <td>3.043000e+03</td>\n",
              "      <td>4.320000e+03</td>\n",
              "      <td>4.890000e+03</td>\n",
              "      <td>5062.000000</td>\n",
              "      <td>4480.000000</td>\n",
              "      <td>3043.000000</td>\n",
              "      <td>4890.000000</td>\n",
              "      <td>4492.000000</td>\n",
              "      <td>4258.000000</td>\n",
              "      <td>4261.000000</td>\n",
              "      <td>4212.000000</td>\n",
              "      <td>3724.000000</td>\n",
              "      <td>4478.000000</td>\n",
              "      <td>4261.000000</td>\n",
              "    </tr>\n",
              "    <tr>\n",
              "      <th>mean</th>\n",
              "      <td>7.840636e+06</td>\n",
              "      <td>5.526846e+06</td>\n",
              "      <td>2.631362e+06</td>\n",
              "      <td>2.952445e+05</td>\n",
              "      <td>2.466828e+05</td>\n",
              "      <td>8.110687</td>\n",
              "      <td>5.790612</td>\n",
              "      <td>3.258321</td>\n",
              "      <td>2473.508180</td>\n",
              "      <td>78.311817</td>\n",
              "      <td>0.841857</td>\n",
              "      <td>13.667792</td>\n",
              "      <td>8.907596</td>\n",
              "      <td>66.795610</td>\n",
              "      <td>449.690666</td>\n",
              "      <td>37.511030</td>\n",
              "    </tr>\n",
              "    <tr>\n",
              "      <th>std</th>\n",
              "      <td>3.086908e+07</td>\n",
              "      <td>1.950357e+07</td>\n",
              "      <td>8.762232e+06</td>\n",
              "      <td>1.082770e+06</td>\n",
              "      <td>8.477626e+05</td>\n",
              "      <td>16.348514</td>\n",
              "      <td>10.628041</td>\n",
              "      <td>7.285463</td>\n",
              "      <td>3915.525745</td>\n",
              "      <td>4.542227</td>\n",
              "      <td>0.095673</td>\n",
              "      <td>6.268056</td>\n",
              "      <td>4.446175</td>\n",
              "      <td>13.352598</td>\n",
              "      <td>1906.689832</td>\n",
              "      <td>6.966618</td>\n",
              "    </tr>\n",
              "    <tr>\n",
              "      <th>min</th>\n",
              "      <td>0.000000e+00</td>\n",
              "      <td>0.000000e+00</td>\n",
              "      <td>1.000000e+00</td>\n",
              "      <td>0.000000e+00</td>\n",
              "      <td>1.000000e+00</td>\n",
              "      <td>0.000000</td>\n",
              "      <td>0.000000</td>\n",
              "      <td>0.000000</td>\n",
              "      <td>0.000000</td>\n",
              "      <td>54.690000</td>\n",
              "      <td>0.456000</td>\n",
              "      <td>1.144000</td>\n",
              "      <td>0.526000</td>\n",
              "      <td>8.330000</td>\n",
              "      <td>0.137000</td>\n",
              "      <td>16.400000</td>\n",
              "    </tr>\n",
              "    <tr>\n",
              "      <th>25%</th>\n",
              "      <td>4.183350e+04</td>\n",
              "      <td>3.710500e+04</td>\n",
              "      <td>2.314700e+04</td>\n",
              "      <td>3.016750e+03</td>\n",
              "      <td>2.789250e+03</td>\n",
              "      <td>0.540000</td>\n",
              "      <td>0.480000</td>\n",
              "      <td>0.290000</td>\n",
              "      <td>419.250000</td>\n",
              "      <td>75.930000</td>\n",
              "      <td>0.782000</td>\n",
              "      <td>8.153000</td>\n",
              "      <td>5.030000</td>\n",
              "      <td>57.410000</td>\n",
              "      <td>45.135000</td>\n",
              "      <td>31.100000</td>\n",
              "    </tr>\n",
              "    <tr>\n",
              "      <th>50%</th>\n",
              "      <td>3.199710e+05</td>\n",
              "      <td>2.828895e+05</td>\n",
              "      <td>1.831070e+05</td>\n",
              "      <td>1.735950e+04</td>\n",
              "      <td>1.455550e+04</td>\n",
              "      <td>2.855000</td>\n",
              "      <td>2.510000</td>\n",
              "      <td>1.240000</td>\n",
              "      <td>1266.000000</td>\n",
              "      <td>78.800000</td>\n",
              "      <td>0.864000</td>\n",
              "      <td>15.322000</td>\n",
              "      <td>9.732000</td>\n",
              "      <td>69.440000</td>\n",
              "      <td>104.914000</td>\n",
              "      <td>39.700000</td>\n",
              "    </tr>\n",
              "    <tr>\n",
              "      <th>75%</th>\n",
              "      <td>2.313788e+06</td>\n",
              "      <td>2.003072e+06</td>\n",
              "      <td>1.117512e+06</td>\n",
              "      <td>1.117682e+05</td>\n",
              "      <td>9.561625e+04</td>\n",
              "      <td>8.327500</td>\n",
              "      <td>6.170000</td>\n",
              "      <td>3.000000</td>\n",
              "      <td>2563.750000</td>\n",
              "      <td>82.050000</td>\n",
              "      <td>0.919000</td>\n",
              "      <td>19.062000</td>\n",
              "      <td>12.849000</td>\n",
              "      <td>76.850000</td>\n",
              "      <td>214.243000</td>\n",
              "      <td>43.100000</td>\n",
              "    </tr>\n",
              "    <tr>\n",
              "      <th>max</th>\n",
              "      <td>4.481627e+08</td>\n",
              "      <td>2.637092e+08</td>\n",
              "      <td>1.016098e+08</td>\n",
              "      <td>1.987960e+07</td>\n",
              "      <td>1.224956e+07</td>\n",
              "      <td>157.820000</td>\n",
              "      <td>89.400000</td>\n",
              "      <td>68.420000</td>\n",
              "      <td>54264.000000</td>\n",
              "      <td>86.750000</td>\n",
              "      <td>0.957000</td>\n",
              "      <td>27.049000</td>\n",
              "      <td>18.493000</td>\n",
              "      <td>92.590000</td>\n",
              "      <td>20546.766000</td>\n",
              "      <td>48.200000</td>\n",
              "    </tr>\n",
              "  </tbody>\n",
              "</table>\n",
              "</div>"
            ],
            "text/plain": [
              "       total_vaccinations  people_vaccinated  ...  population_density   median_age\n",
              "count        5.062000e+03       4.480000e+03  ...         4478.000000  4261.000000\n",
              "mean         7.840636e+06       5.526846e+06  ...          449.690666    37.511030\n",
              "std          3.086908e+07       1.950357e+07  ...         1906.689832     6.966618\n",
              "min          0.000000e+00       0.000000e+00  ...            0.137000    16.400000\n",
              "25%          4.183350e+04       3.710500e+04  ...           45.135000    31.100000\n",
              "50%          3.199710e+05       2.828895e+05  ...          104.914000    39.700000\n",
              "75%          2.313788e+06       2.003072e+06  ...          214.243000    43.100000\n",
              "max          4.481627e+08       2.637092e+08  ...        20546.766000    48.200000\n",
              "\n",
              "[8 rows x 16 columns]"
            ]
          },
          "metadata": {
            "tags": []
          },
          "execution_count": 17
        }
      ]
    },
    {
      "cell_type": "markdown",
      "metadata": {
        "id": "BJJnWMx5n2mh"
      },
      "source": [
        "Aqui temos alguns valores que são outliers, pois são muito maiores que o normal para a fração do dataset, mas como realmente temos países que tiveram muitos valores que extrapolaram a normalidade, vamos usá-los para visualizar essas discrepâncias de números."
      ]
    },
    {
      "cell_type": "markdown",
      "metadata": {
        "id": "6u6-bESytGkL"
      },
      "source": [
        "Vamos observar se existe alguma correlação significativa entre os dados."
      ]
    },
    {
      "cell_type": "code",
      "metadata": {
        "colab": {
          "base_uri": "https://localhost:8080/",
          "height": 740
        },
        "id": "8d-3G6rqtPMn",
        "outputId": "445bb749-1e4f-4a7d-b2a8-e929a3a2f84a"
      },
      "source": [
        "corr_vac = vacinas.corr()\n",
        "corr_vac\n",
        "fig, ax = plt.subplots(figsize=(10,10));\n",
        "sns.heatmap(corr_vac, cmap='RdBu', fmt='2f', square=True, linecolor='white');"
      ],
      "execution_count": 18,
      "outputs": [
        {
          "output_type": "display_data",
          "data": {
            "image/png": "[encoded data removed]",
            "text/plain": [
              "<Figure size 720x720 with 2 Axes>"
            ]
          },
          "metadata": {
            "tags": [],
            "needs_background": "light"
          }
        }
      ]
    },
    {
      "cell_type": "markdown",
      "metadata": {
        "id": "lL4B_T5AvpA3"
      },
      "source": [
        "Podemos observar que as correlações mais fortes entre variáveis são as que já eram esperadas, como número total de vacinas e novas vacinas, por exemplo, mas a própria escala nos mostra que não tivemos uma correlação inversa maior que 0.3."
      ]
    },
    {
      "cell_type": "markdown",
      "metadata": {
        "id": "7mf82bMcwAyg"
      },
      "source": [
        "Agora vamos observar dados relevantes sobre a vacinação:\n",
        "* 1) Quais os países com mais doses de vacina aplicadas? E por centenas de pessoas?\n",
        "* 2) Quais os países com mais pessoas vacinadas? E por centenas de pessoas?\n",
        "* 3) Quais os que mais vacinaram completamente? E por centenas de pessoas?\n",
        "\n",
        "Antes disso vamos definir um dataset para o dia mais atual dos nossos dados"
      ]
    },
    {
      "cell_type": "code",
      "metadata": {
        "id": "qyYvgLps_DO6"
      },
      "source": [
        "# Definindo dia mais recente do Dataset\n",
        "vac_hoje = vacinas.loc[vacinas.date == dmax]\n",
        "\n",
        "# Deixando apenas os dados referentes à países no Dataset\n",
        "vac_hoje = vac_hoje.dropna(subset=['continent'])"
      ],
      "execution_count": 19,
      "outputs": []
    },
    {
      "cell_type": "markdown",
      "metadata": {
        "id": "XkbDpt5S6AwJ"
      },
      "source": [
        "**1) Quais os países com mais doses de vacina aplicadas? E por centenas de pessoas?**"
      ]
    },
    {
      "cell_type": "code",
      "metadata": {
        "colab": {
          "base_uri": "https://localhost:8080/",
          "height": 590
        },
        "id": "neEKFHYtr2cD",
        "outputId": "3ed69fb6-0351-496b-dd0b-2f48c2902193"
      },
      "source": [
        "# Organizando as variáveis em ordem ascedente\n",
        "total_vacs = vac_hoje.sort_values(by='total_vaccinations', ascending = False)\n",
        "total_vacs_ph = vac_hoje.sort_values(by='total_vaccinations_per_hundred', ascending=False)\n",
        "\n",
        "# Plotando os países que mais vacinaram\n",
        "fig, (ax1, ax2) = plt.subplots(nrows=1, ncols=2, figsize=(15, 7))\n",
        "\n",
        "plt.suptitle('Atualizado no dia {}'.format(covid.date.dt.date.max()))\n",
        "ax1.bar('location','total_vaccinations', data=total_vacs.head(10))\n",
        "ax1.set_title('Países com mais doses de vacina da COVID-19', fontsize=15)\n",
        "ax1.set_ylabel('Milhões de doses')\n",
        "ax1.set_xlabel('Países')\n",
        "ax1.tick_params(labelrotation=90)\n",
        "\n",
        "ax2.bar('location','total_vaccinations_per_hundred', data=total_vacs_ph.head(10))\n",
        "ax2.set_title('Países com mais doses de vacina da COVID-19, por centenas de pessoas'.format(covid.date.dt.date.max()), fontsize= 12)\n",
        "ax2.set_ylabel('Doses por centenas de pessoas')\n",
        "ax2.set_xlabel('Países')\n",
        "ax2.tick_params(labelrotation=90)"
      ],
      "execution_count": 20,
      "outputs": [
        {
          "output_type": "display_data",
          "data": {
            "image/png": "[encoded data removed]",
            "text/plain": [
              "<Figure size 1080x504 with 2 Axes>"
            ]
          },
          "metadata": {
            "tags": [],
            "needs_background": "light"
          }
        }
      ]
    },
    {
      "cell_type": "markdown",
      "metadata": {
        "id": "v28K4hzMp06F"
      },
      "source": [
        "Percebemos que há uma diferença entre os países que mais vacinaram por números absolutos e com esses valores por centenas de pessoas.\n",
        "\n",
        "Os países mais populosos se destacam em números absolutos, mas os países menores em população se destacam em conseguir vacinar uma parcela maior da sua população, com destaque para Israel."
      ]
    },
    {
      "cell_type": "markdown",
      "metadata": {
        "id": "XCyBrs4Y-ySs"
      },
      "source": [
        "**2) Quais os países com mais pessoas vacinadas? E por centenas de pessoas?**"
      ]
    },
    {
      "cell_type": "code",
      "metadata": {
        "colab": {
          "base_uri": "https://localhost:8080/",
          "height": 550
        },
        "id": "qM95HNdE-2Tf",
        "outputId": "2475ec4e-f22f-417b-8819-1b5c7194ef05"
      },
      "source": [
        "# Organizando as variáveis em ordem ascedente\n",
        "total_pvacs = vac_hoje.sort_values(by='people_vaccinated', ascending = False)\n",
        "total_pvacs_ph = vac_hoje.sort_values(by='people_vaccinated_per_hundred', ascending=False)\n",
        "\n",
        "# Plotando os países com mais pessoas vacinadas\n",
        "fig, (ax1, ax2) = plt.subplots(nrows=1, ncols=2, figsize=(15, 7))\n",
        "plt.suptitle('Atualizado no dia {}'.format(covid.date.dt.date.max()))\n",
        "\n",
        "ax1.bar('location','people_vaccinated', data=total_pvacs.head(10))\n",
        "ax1.set_title('Países com mais pessoas vacinadas contra COVID-19', fontsize=15)\n",
        "ax1.set_ylabel('Milhões de pessoas')\n",
        "ax1.set_xlabel('Países')\n",
        "ax1.tick_params(labelrotation=90)\n",
        "\n",
        "ax2.bar('location','people_vaccinated_per_hundred', data=total_pvacs_ph.head(10))\n",
        "ax2.set_title('Países com mais pessoas vacinadas contra COVID-19, por centenas de pessoas'.format(covid.date.dt.date.max()), fontsize=10)\n",
        "ax2.set_ylabel('Pessoas vacinadas por centenas de habitantes')\n",
        "ax2.set_xlabel('Países')\n",
        "ax2.tick_params(labelrotation=90)"
      ],
      "execution_count": 21,
      "outputs": [
        {
          "output_type": "display_data",
          "data": {
            "image/png": "[encoded data removed]",
            "text/plain": [
              "<Figure size 1080x504 with 2 Axes>"
            ]
          },
          "metadata": {
            "tags": [],
            "needs_background": "light"
          }
        }
      ]
    },
    {
      "cell_type": "markdown",
      "metadata": {
        "id": "tOWzcGnlqkVC"
      },
      "source": [
        "Aqui a diferença se repete, com novo destaque para Israel que já tem um número expressivo de ter vacinado 50 a cada 100 habitantes do país."
      ]
    },
    {
      "cell_type": "markdown",
      "metadata": {
        "id": "mbXNqqjQ6H2k"
      },
      "source": [
        "**3) Quais os que mais vacinaram completamente? E por centenas de pessoas?**"
      ]
    },
    {
      "cell_type": "code",
      "metadata": {
        "colab": {
          "base_uri": "https://localhost:8080/",
          "height": 550
        },
        "id": "dAKWSDrbDM5o",
        "outputId": "a606e64e-9678-4957-8575-4ebb1113b9db"
      },
      "source": [
        "# Organizando as variáveis em ordem ascedente\n",
        "total_vacsf = vac_hoje.sort_values(by='people_fully_vaccinated', ascending = False)\n",
        "total_vacsf_ph = vac_hoje.sort_values(by='people_fully_vaccinated_per_hundred', ascending=False)\n",
        "\n",
        "# Plotando os países com mais pessoas vacinadas\n",
        "fig, (ax1, ax2) = plt.subplots(nrows=1, ncols=2, figsize=(15, 7))\n",
        "plt.suptitle('Atualizado no dia {}'.format(covid.date.dt.date.max()))\n",
        "\n",
        "ax1.bar('location','people_fully_vaccinated', data=total_vacsf.head(10))\n",
        "ax1.set_title('Países com mais pessoas vacinadas completamente contra COVID-19', fontsize=12)\n",
        "ax1.set_ylabel('Milhões de pessoas')\n",
        "ax1.set_xlabel('Países')\n",
        "ax1.tick_params(labelrotation=90)\n",
        "\n",
        "ax2.bar('location','people_fully_vaccinated_per_hundred', data=total_vacsf_ph.head(10))\n",
        "ax2.set_title('Países com mais pessoas vacinadas completamente contra COVID-19, por centenas de pessoas'.format(covid.date.dt.date.max()), fontsize=10)\n",
        "ax2.set_ylabel('Pessoas vacinadas por centenas de habitantes')\n",
        "ax2.set_xlabel('Países')\n",
        "ax2.tick_params(labelrotation=90)"
      ],
      "execution_count": 22,
      "outputs": [
        {
          "output_type": "display_data",
          "data": {
            "image/png": "[encoded data removed]",
            "text/plain": [
              "<Figure size 1080x504 with 2 Axes>"
            ]
          },
          "metadata": {
            "tags": [],
            "needs_background": "light"
          }
        }
      ]
    },
    {
      "cell_type": "markdown",
      "metadata": {
        "id": "MU6XBcsdq66R"
      },
      "source": [
        "Esse indicador é diferente do anterior, pois ele trata do número de pessoas completamente vacinadas, ou seja, que tomaram todas as doses da vacina, Israel se destaca novamente aqui."
      ]
    },
    {
      "cell_type": "markdown",
      "metadata": {
        "id": "SViA5VZ7DYLA"
      },
      "source": [
        "### Análise Exploratória para o Brasil\n",
        "\n",
        "<center><img width=\"65%\" src=\"https://raw.githubusercontent.com/otaviodefilpo/covid-19-inbrazil-vaccines-cases-deaths/main/shutterstock_1743953129AMG_PHOTO.jpg\"></center>\n",
        "\n",
        "\n",
        "Agora vamos observar como os dados de vacinação estão se comportando no Brasil, país em que é do nosso interesse explorar mais profundamente as variáveis."
      ]
    },
    {
      "cell_type": "code",
      "metadata": {
        "id": "UDQA502_hAwI"
      },
      "source": [
        "# Criando um dataset com dados de vacina para o Brasil\n",
        "vac_brazil = vacinas.loc[vacinas.location ==\"Brazil\"].copy()"
      ],
      "execution_count": 23,
      "outputs": []
    },
    {
      "cell_type": "markdown",
      "metadata": {
        "id": "T8w7xm73FjCe"
      },
      "source": [
        "Agora vamos observar:\n",
        "* 1) Quando foi a primeira vacinação no Brasil\n",
        "* 2) Quantos dias demorou para vacinarmos em relação ao mundo\n",
        "* 3) Novas vacinações e total de vacinações em escala linear e logaritmica."
      ]
    },
    {
      "cell_type": "markdown",
      "metadata": {
        "id": "AbTBYLtxINOy"
      },
      "source": [
        "**1) Dia da primeira Vacinação**"
      ]
    },
    {
      "cell_type": "code",
      "metadata": {
        "colab": {
          "base_uri": "https://localhost:8080/"
        },
        "id": "MDSvMDqaFhZZ",
        "outputId": "f78c0720-37be-4adf-8819-5f05ad49e9be"
      },
      "source": [
        "aux1 = (vac_brazil.loc[vac_brazil['new_vaccinations'] != 0]).date.dt.date.min()\n",
        "print('A primeira vacinação no Brasil ocorreu no dia {}'.format(aux1))"
      ],
      "execution_count": 24,
      "outputs": [
        {
          "output_type": "stream",
          "text": [
            "A primeira vacinação no Brasil ocorreu no dia 2021-01-16\n"
          ],
          "name": "stdout"
        }
      ]
    },
    {
      "cell_type": "markdown",
      "metadata": {
        "id": "dl4NeiN6IxD7"
      },
      "source": [
        "**2) Diferença de dias da primeira vacinação em relação ao mundo**"
      ]
    },
    {
      "cell_type": "code",
      "metadata": {
        "colab": {
          "base_uri": "https://localhost:8080/"
        },
        "id": "r080ak-yI5Hg",
        "outputId": "5991fb01-27e0-47b5-ec17-059491d85bd7"
      },
      "source": [
        "# Diminuindo os dias\n",
        "dif_vac = vac_brazil.date.min() - vacinas.date.min()\n",
        "print('O Brasil começou a vacinação {} dias após o primeiro do mundo'.format(dif_vac.days))"
      ],
      "execution_count": 25,
      "outputs": [
        {
          "output_type": "stream",
          "text": [
            "O Brasil começou a vacinação 34 dias após o primeiro do mundo\n"
          ],
          "name": "stdout"
        }
      ]
    },
    {
      "cell_type": "markdown",
      "metadata": {
        "id": "TVaXPu0xKbAA"
      },
      "source": [
        "**3) Comportamento da vacinação no Brasil**"
      ]
    },
    {
      "cell_type": "code",
      "metadata": {
        "colab": {
          "base_uri": "https://localhost:8080/",
          "height": 746
        },
        "id": "3cY5UiArKO8p",
        "outputId": "9ebc03f3-ba78-4b63-c846-a02ab022bada"
      },
      "source": [
        "# Estabelecendo variáveis auxiliares\n",
        "date = vac_brazil.date.dt.date\n",
        "nvacs = vac_brazil['new_vaccinations']\n",
        "tvacs = vac_brazil['total_vaccinations']\n",
        "\n",
        "# Plotando o total de vacinas e novas vacinas em escala linear e logarítmica.\n",
        "plt.suptitle('Atualizado no dia {}'.format(vac_brazil.date.max()));\n",
        "fig, ((ax1, ax2), (ax3,ax4)) = plt.subplots(nrows=2, ncols=2, figsize= (15,10))\n",
        "ax1.set_title('Vacinações no Brasil')\n",
        "ax1.set_xlabel('Data')\n",
        "ax1.set_ylabel('N de vacinações')\n",
        "ax1.plot(date, tvacs)\n",
        "ax1.set_xticklabels(date, rotation = 45)\n",
        "\n",
        "ax2.set_title('Vacinações no Brasil (Escala logarítmica)')\n",
        "ax2.set_xlabel('Data')\n",
        "ax2.set_ylabel('N de vacinações')\n",
        "ax2.set_yscale('log')\n",
        "ax2.plot(date, tvacs)\n",
        "ax2.set_xticklabels(date, rotation = 45)\n",
        "\n",
        "ax3.set_title('Novas vacinações no Brasil')\n",
        "ax3.set_xlabel('Data')\n",
        "ax3.set_ylabel('N de novas vacinações')\n",
        "ax3.plot(date, nvacs)\n",
        "ax3.set_xticklabels(date, rotation = 45)\n",
        "\n",
        "ax4.set_title('Novas vacinações no Brasil - (Escala logarítmica)')\n",
        "ax4.set_xlabel('Data')\n",
        "ax4.set_ylabel('N de novas vacinações')\n",
        "ax4.set_yscale('log')\n",
        "ax4.plot(date, nvacs)\n",
        "ax4.set_xticklabels(date, rotation = 45)\n",
        "\n",
        "plt.tight_layout()\n",
        "plt.show()"
      ],
      "execution_count": 26,
      "outputs": [
        {
          "output_type": "display_data",
          "data": {
            "text/plain": [
              "<Figure size 432x288 with 0 Axes>"
            ]
          },
          "metadata": {
            "tags": []
          }
        },
        {
          "output_type": "display_data",
          "data": {
            "image/png": "[encoded data removed]",
            "text/plain": [
              "<Figure size 1080x720 with 4 Axes>"
            ]
          },
          "metadata": {
            "tags": [],
            "needs_background": "light"
          }
        }
      ]
    },
    {
      "cell_type": "markdown",
      "metadata": {
        "id": "legclBLlrpnf"
      },
      "source": [
        "Aqui vemos que a vacinação se mantém num nível constante no país, mas quando olhamos para novas vacinações, vemos que alguns dias registraram quedas grandes, oscilando bastante desde o começo do processo."
      ]
    },
    {
      "cell_type": "markdown",
      "metadata": {
        "id": "x4axjbCnUSKS"
      },
      "source": [
        "**Agora para finalizar, vamos entender como estão algumas proporções de indicadores importantes da Pandemia do COVID-19 para o Brasil**\n",
        "\n",
        "Primeiramente vamos importar algumas bibliotecas que nos auxiliarão"
      ]
    },
    {
      "cell_type": "code",
      "metadata": {
        "id": "zG-jLTTrVGSj",
        "colab": {
          "base_uri": "https://localhost:8080/"
        },
        "outputId": "1add3af0-0045-45ee-9eb1-7299b55073fd"
      },
      "source": [
        "# instalar o pywaffle\n",
        "!pip install pywaffle -q\n",
        "from pywaffle import Waffle"
      ],
      "execution_count": 27,
      "outputs": [
        {
          "output_type": "stream",
          "text": [
            "\u001b[?25l\r\u001b[K     |▋                               | 10kB 19.3MB/s eta 0:00:01\r\u001b[K     |█▎                              | 20kB 23.8MB/s eta 0:00:01\r\u001b[K     |█▉                              | 30kB 11.3MB/s eta 0:00:01\r\u001b[K     |██▌                             | 40kB 9.8MB/s eta 0:00:01\r\u001b[K     |███                             | 51kB 7.1MB/s eta 0:00:01\r\u001b[K     |███▊                            | 61kB 6.9MB/s eta 0:00:01\r\u001b[K     |████▍                           | 71kB 7.8MB/s eta 0:00:01\r\u001b[K     |█████                           | 81kB 8.2MB/s eta 0:00:01\r\u001b[K     |█████▋                          | 92kB 8.1MB/s eta 0:00:01\r\u001b[K     |██████▏                         | 102kB 8.2MB/s eta 0:00:01\r\u001b[K     |██████▉                         | 112kB 8.2MB/s eta 0:00:01\r\u001b[K     |███████▌                        | 122kB 8.2MB/s eta 0:00:01\r\u001b[K     |████████                        | 133kB 8.2MB/s eta 0:00:01\r\u001b[K     |████████▊                       | 143kB 8.2MB/s eta 0:00:01\r\u001b[K     |█████████▎                      | 153kB 8.2MB/s eta 0:00:01\r\u001b[K     |██████████                      | 163kB 8.2MB/s eta 0:00:01\r\u001b[K     |██████████▋                     | 174kB 8.2MB/s eta 0:00:01\r\u001b[K     |███████████▏                    | 184kB 8.2MB/s eta 0:00:01\r\u001b[K     |███████████▉                    | 194kB 8.2MB/s eta 0:00:01\r\u001b[K     |████████████▍                   | 204kB 8.2MB/s eta 0:00:01\r\u001b[K     |█████████████                   | 215kB 8.2MB/s eta 0:00:01\r\u001b[K     |█████████████▊                  | 225kB 8.2MB/s eta 0:00:01\r\u001b[K     |██████████████▎                 | 235kB 8.2MB/s eta 0:00:01\r\u001b[K     |███████████████                 | 245kB 8.2MB/s eta 0:00:01\r\u001b[K     |███████████████▌                | 256kB 8.2MB/s eta 0:00:01\r\u001b[K     |████████████████▏               | 266kB 8.2MB/s eta 0:00:01\r\u001b[K     |████████████████▉               | 276kB 8.2MB/s eta 0:00:01\r\u001b[K     |█████████████████▍              | 286kB 8.2MB/s eta 0:00:01\r\u001b[K     |██████████████████              | 296kB 8.2MB/s eta 0:00:01\r\u001b[K     |██████████████████▋             | 307kB 8.2MB/s eta 0:00:01\r\u001b[K     |███████████████████▎            | 317kB 8.2MB/s eta 0:00:01\r\u001b[K     |████████████████████            | 327kB 8.2MB/s eta 0:00:01\r\u001b[K     |████████████████████▌           | 337kB 8.2MB/s eta 0:00:01\r\u001b[K     |█████████████████████▏          | 348kB 8.2MB/s eta 0:00:01\r\u001b[K     |█████████████████████▊          | 358kB 8.2MB/s eta 0:00:01\r\u001b[K     |██████████████████████▍         | 368kB 8.2MB/s eta 0:00:01\r\u001b[K     |███████████████████████         | 378kB 8.2MB/s eta 0:00:01\r\u001b[K     |███████████████████████▋        | 389kB 8.2MB/s eta 0:00:01\r\u001b[K     |████████████████████████▎       | 399kB 8.2MB/s eta 0:00:01\r\u001b[K     |████████████████████████▉       | 409kB 8.2MB/s eta 0:00:01\r\u001b[K     |█████████████████████████▌      | 419kB 8.2MB/s eta 0:00:01\r\u001b[K     |██████████████████████████▏     | 430kB 8.2MB/s eta 0:00:01\r\u001b[K     |██████████████████████████▊     | 440kB 8.2MB/s eta 0:00:01\r\u001b[K     |███████████████████████████▍    | 450kB 8.2MB/s eta 0:00:01\r\u001b[K     |████████████████████████████    | 460kB 8.2MB/s eta 0:00:01\r\u001b[K     |████████████████████████████▋   | 471kB 8.2MB/s eta 0:00:01\r\u001b[K     |█████████████████████████████▎  | 481kB 8.2MB/s eta 0:00:01\r\u001b[K     |█████████████████████████████▉  | 491kB 8.2MB/s eta 0:00:01\r\u001b[K     |██████████████████████████████▌ | 501kB 8.2MB/s eta 0:00:01\r\u001b[K     |███████████████████████████████ | 512kB 8.2MB/s eta 0:00:01\r\u001b[K     |███████████████████████████████▊| 522kB 8.2MB/s eta 0:00:01\r\u001b[K     |████████████████████████████████| 532kB 8.2MB/s \n",
            "\u001b[?25h"
          ],
          "name": "stdout"
        }
      ]
    },
    {
      "cell_type": "markdown",
      "metadata": {
        "id": "Dxi6TvU-XJHC"
      },
      "source": [
        "Agora vamos criar um dataset com dados gerais da COVID-19 no Brasil, para que possamos entender algumas variáveis que serão úteis agora."
      ]
    },
    {
      "cell_type": "code",
      "metadata": {
        "id": "kSvvCj5HXTip"
      },
      "source": [
        "# Separando um dataset para o Brazil apenas\n",
        "covid_brazil = covid.loc[covid.location ==\"Brazil\"].copy()"
      ],
      "execution_count": 28,
      "outputs": []
    },
    {
      "cell_type": "markdown",
      "metadata": {
        "id": "K0HEOreobm8G"
      },
      "source": [
        "**Proporção de número de casos em relação à população**"
      ]
    },
    {
      "cell_type": "code",
      "metadata": {
        "id": "Qq8gZaHOWE79"
      },
      "source": [
        "# Estabelecendo variáveis auxiliares\n",
        "pct_tcasos = (covid_brazil.total_cases.max() / covid_brazil.population.max())*100\n",
        "pct_ncasos = 100 - pct_tcasos"
      ],
      "execution_count": 29,
      "outputs": []
    },
    {
      "cell_type": "code",
      "metadata": {
        "colab": {
          "base_uri": "https://localhost:8080/",
          "height": 305
        },
        "id": "TH36d52dbJQ1",
        "outputId": "95220108-575b-4bbb-9f12-335b8daf7e19"
      },
      "source": [
        "# Plotando gráfico de waffle \n",
        "fig = plt.figure(figsize=(5,5),\n",
        "    FigureClass=Waffle,\n",
        "    rows = 10, columns = 10,\n",
        "    values = {'População': pct_ncasos,\n",
        "              'Número de casos':pct_tcasos},\n",
        "              colors=(\"#232066\", \"#983D3D\"),\n",
        "              legend={'loc':'upper left','bbox_to_anchor':(1,1)},\n",
        "              icons='child', icon_size=20,\n",
        "              icon_legend=True\n",
        ")\n",
        "\n",
        "fig.set_tight_layout(False)\n",
        "plt.show();"
      ],
      "execution_count": 30,
      "outputs": [
        {
          "output_type": "display_data",
          "data": {
            "image/png": "[encoded data removed]",
            "text/plain": [
              "<Waffle size 360x360 with 1 Axes>"
            ]
          },
          "metadata": {
            "tags": [],
            "needs_background": "light"
          }
        }
      ]
    },
    {
      "cell_type": "markdown",
      "metadata": {
        "id": "E0E14UECTxZR"
      },
      "source": [
        "**Proporção de mortes em relação ao número de casos**"
      ]
    },
    {
      "cell_type": "code",
      "metadata": {
        "id": "Zbd2XQsNfmSD"
      },
      "source": [
        "# Estabelecendo variáveis auxiliares\n",
        "pct_mortes = (covid_brazil.total_deaths.max() / covid_brazil.total_cases.max())*100\n",
        "pct_nmortes = 100 - pct_mortes"
      ],
      "execution_count": 31,
      "outputs": []
    },
    {
      "cell_type": "code",
      "metadata": {
        "colab": {
          "base_uri": "https://localhost:8080/",
          "height": 305
        },
        "id": "MFiPwrqHf-Gr",
        "outputId": "eb4e1082-a7fb-4c2f-e0f0-255b32170c52"
      },
      "source": [
        "# Plotando gráfico de waffle \n",
        "fig = plt.figure(figsize=(5,5),\n",
        "    FigureClass=Waffle,\n",
        "    rows = 10, columns = 10,\n",
        "    values = {'Número de casos': pct_nmortes,\n",
        "              'Número de mortes':pct_mortes},\n",
        "              colors=(\"#232066\", \"#983D3D\"),\n",
        "              legend={'loc':'upper left','bbox_to_anchor':(1,1)},\n",
        "              icons='child', icon_size=20,\n",
        "              icon_legend=True\n",
        ")\n",
        "\n",
        "fig.set_tight_layout(False)\n",
        "plt.show();"
      ],
      "execution_count": 32,
      "outputs": [
        {
          "output_type": "display_data",
          "data": {
            "image/png": "[encoded data removed]",
            "text/plain": [
              "<Waffle size 360x360 with 1 Axes>"
            ]
          },
          "metadata": {
            "tags": [],
            "needs_background": "light"
          }
        }
      ]
    },
    {
      "cell_type": "markdown",
      "metadata": {
        "id": "xki8mntthFxW"
      },
      "source": [
        "**Proporção de pessoas vacinadas em relação à população**"
      ]
    },
    {
      "cell_type": "code",
      "metadata": {
        "id": "WkcbStF4hQJS"
      },
      "source": [
        "# Estabelecendo variáveis auxiliares\n",
        "pct_ptvac = (vac_brazil.people_fully_vaccinated.max() / covid_brazil.population.max())*100\n",
        "pct_pvaca = ((vac_brazil.people_vaccinated.max() - pct_ptvac) / covid_brazil.population.max())*100\n",
        "pop_nvac = 100 - (pct_ptvac + pct_pvaca)"
      ],
      "execution_count": 33,
      "outputs": []
    },
    {
      "cell_type": "code",
      "metadata": {
        "colab": {
          "base_uri": "https://localhost:8080/",
          "height": 305
        },
        "id": "IBz4x0UGgSfR",
        "outputId": "ad874535-8870-477e-a6f2-bf044b6102c7"
      },
      "source": [
        "# Plotando gráfico de waffle \n",
        "fig = plt.figure(figsize=(5,5),\n",
        "    FigureClass=Waffle,\n",
        "    rows = 10, columns = 10,\n",
        "    values = {'População vacinada completamente': pct_ptvac,\n",
        "              'População vacinada':pct_pvaca,\n",
        "              'População não vacinada':pop_nvac},\n",
        "              colors=(\"#DCB732\",\"#983D3D\",\"#232066\"),\n",
        "              legend={'loc':'upper left','bbox_to_anchor':(1,1)},\n",
        "              icons='child', icon_size=20,\n",
        "              icon_legend=True\n",
        ")\n",
        "\n",
        "fig.set_tight_layout(False)\n",
        "plt.show();"
      ],
      "execution_count": 34,
      "outputs": [
        {
          "output_type": "display_data",
          "data": {
            "image/png": "[encoded data removed]",
            "text/plain": [
              "<Waffle size 360x360 with 1 Axes>"
            ]
          },
          "metadata": {
            "tags": [],
            "needs_background": "light"
          }
        }
      ]
    },
    {
      "cell_type": "markdown",
      "metadata": {
        "id": "LCsiXvM3BcsO"
      },
      "source": [
        "# **Conclusão**\n",
        "\n",
        "A Pandemia do COVID-19 foi bastante cruel com países que não tinham estrutura para enfrentá-la, problema mais recorrente nos países mais populosos, que tiveram grande parcela da população contaminada e por sua vez com um grande número de pessoas com situação evoluindo ao falecimento.\n",
        "\n",
        "A Vacina é ainda mais cruel com esses países mais populosos, pois ainda há de demorar muito tempo para que eles consigam imunizar toda população, com exceção dos EUA, que têm situação bem grave e fazem seu poder econômico valer para que consigam mais doses de vacina.\n",
        "\n",
        "A notícia boa é que estamos no início do fim da pandemia e a vacinação vem evoluindo no mundo, então mesmo que demore, isso tudo passará!\n",
        "\n",
        "Me segue no [LinkedIn, Medium e Github!]('https://www.linkedin.com/in/otaviodefilpo/')\n",
        "\n",
        "Eu posto artigos e projetos novos quase toda semana, já têm vários disponíveis nesses lugares do link, espero que você goste!\n",
        "\n",
        "Abraços e até o próximo projeto!"
      ]
    }
  ]
}