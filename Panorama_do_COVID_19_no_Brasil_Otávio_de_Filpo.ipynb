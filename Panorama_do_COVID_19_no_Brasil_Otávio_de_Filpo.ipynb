{
  "nbformat": 4,
  "nbformat_minor": 0,
  "metadata": {
    "colab": {
      "name": "Panorama do COVID-19 no Brasil - Otávio de Filpo.ipynb",
      "provenance": [],
      "collapsed_sections": [],
      "include_colab_link": true
    },
    "kernelspec": {
      "name": "python3",
      "display_name": "Python 3"
    }
  },
  "cells": [
    {
      "cell_type": "markdown",
      "metadata": {
        "id": "view-in-github",
        "colab_type": "text"
      },
      "source": [
        "<a href=\"https://colab.research.google.com/github/otaviodefilpo/covid-19-inbrazil-vaccines-cases-deaths/blob/main/Panorama_do_COVID_19_no_Brasil_Ot%C3%A1vio_de_Filpo.ipynb\" target=\"_parent\"><img src=\"https://colab.research.google.com/assets/colab-badge.svg\" alt=\"Open In Colab\"/></a>"
      ]
    },
    {
      "cell_type": "markdown",
      "metadata": {
        "id": "-eFQZydM9O9J"
      },
      "source": [
        "\n",
        "\n",
        "*Projeto Módulo 3 - Data Science Na Prática*\n",
        "\n",
        "*by [sigmoidal.ai](https://sigmoidal.ai)*  \n",
        "\n",
        "---"
      ]
    },
    {
      "cell_type": "markdown",
      "metadata": {
        "id": "kLI0gJtzDGuQ"
      },
      "source": [
        "# Panoramas da Pandemia do COVID-19 no Brasil - Vacina, Casos e Mortes\n",
        "\n",
        "<center><img  width=\"65%\" src=\"https://raw.githubusercontent.com/otaviodefilpo/covid-19-inbrazil-vaccines-cases-deaths/main/25pfn2mn5yfqnp93t1vzom9q0.jpg\"></center>\n",
        "\n",
        "O COVID-19 é um vírus que pegou todo o planeta de surpresa, pois mesmo em comparativo com outros Corona Vírus, ele tem comportamento bem diferente para o que a sociedade estava acostumada de uma doença viral. \n",
        "\n",
        "A luz no fim do túnel que todo mundo estava aguardando era a vacina, que vinha sendo desenvolvida incansávelmente por várias iniciatiavas ao redor do planeta. Após muitos dias de espera e trabalho árduo desses pesquisadores, no dia 08 de Dezembro de 2021, Margaret Keenan, uma britânica de 90 anos, tornou-se [a primeira pessoa no mundo a receber a vacina]('https://www.cnnbrasil.com.br/internacional/2020/12/08/britanica-de-90-anos-e-primeira-a-receber-a-vacina-da-pfizer-fora-dos-testes') da Pfizer contra a Covid-19 fora de um ensaio clínico. Logo após esse dia histórico, outras vacinas foram sendo testadas e aprovadas para o uso na população, dando início ao fim da Pandemia do COVID-19.\n",
        "\n",
        "Todos os países trataram a pandemia de maneira diferente e como vimos nas características acima citadas, comparações entre práticas de combate ao vírus não são simples de serem feitas, logo precisamos entender como foi e como está o panorama da Pandemia no Brasil e em outros países para buscarmos encontrar diferenças pontuais que possam nos dizer algo sobre a pandemia e seu esperado fim com a expansão das campanhas de vacinação.\n",
        "\n",
        "Nesta análise vamos explorar os dados sobre a vacina do COVID-19 para entender como a vacinação vem se comportando nos países para entender quem vem tendo bons resultados e quem ainda precisa melhorar suas políticas.\n",
        "\n",
        "\n",
        "\n",
        "\n",
        "\n",
        "\n"
      ]
    },
    {
      "cell_type": "markdown",
      "metadata": {
        "id": "HBaaJP9PW013"
      },
      "source": [
        "# **Obtenção dos dados**\r\n",
        "<center><img  width=\"65%\" src=\"https://miro.medium.com/max/2400/0*pbFNABgYl7GmJLp6.png\"></center>\r\n",
        "\r\n",
        "Os dados foram obtidos no repositório do *Our World in Data* para a COVID-19, que pode ser acessado [NESTE LINK]('https://github.com/owid/covid-19-data/tree/master/public/data').\r\n",
        "\r\n",
        "O trabalho do *Our World in Data* é de extrema credibilidade e reuniu neste repositório as informações de vários outros repositórios locais ao redor do mundo, sendo hoje uma das melhores fontes de dados acessíveis ao público sobre a pandemia da COVID-19.\r\n",
        "\r\n",
        "Esse repositório é atualizado diariamente e inclui dados de casos confirmados, mortes confirmadas, hospitalizações, testes, vacinas e outras variáveis de possível interesse para diferentes explorações de dados.\r\n",
        "\r\n",
        "Vale à pena acessar o link que disponibilizei acima para entender mais detalhes técnicos sobre o trabalho do grupo, que se você não conhecia, vale à pena acompanhar a partir de agora."
      ]
    },
    {
      "cell_type": "markdown",
      "metadata": {
        "id": "Yx_aEQteNiZU"
      },
      "source": [
        "# **Dicionário de variáveis**\r\n",
        "O dicionário na íntegra com todas as fontes e links relacionados estão disponíveis [NESTE LINK]('https://github.com/owid/covid-19-data/blob/master/public/data/owid-covid-codebook.csv')\r\n",
        "\r\n",
        "`column` - Descrição\r\n",
        "\r\n",
        "`iso_code` - códigos de países de três letras - 3166-1 alfa-3 ISO\r\n",
        "\r\n",
        "`continent` - Continente da localização geográfica\r\n",
        "\r\n",
        "`location` - Localização geográfica\r\n",
        "\r\n",
        "`date` - Data de observação\r\n",
        "\r\n",
        "`total_cases` - Total de casos confirmados de COVID-19\r\n",
        "\r\n",
        "`new_cases` - Novos casos de COVID-19 confirmado\r\n",
        "\r\n",
        "`new_cases_smoothed` - Novos casos de COVID-19 (7-dia alisada) confirmou\r\n",
        "\r\n",
        "`total_deaths` - Total de mortes atribuídas a COVID-19\r\n",
        "\r\n",
        "`new_deaths` - Novas mortes atribuídas a COVID-19\r\n",
        "\r\n",
        "`new_deaths_smoothed` - Novas mortes atribuídas a COVID-19 (suavizado 7 dias)\r\n",
        "\r\n",
        "`total_cases_per_million` - Total de casos confirmados de COVID-19 por 1.000.000 de pessoas\r\n",
        "\r\n",
        "`new_cases_per_million` - Nova casos confirmados de COVID-19 por 1.000.000 de pessoas\r\n",
        "\r\n",
        "`new_cases_smoothed_per_million` - Nova casos confirmados de COVID-19 (7 dias suavizado) por 1.000.000 de pessoas\r\n",
        "\r\n",
        "`total_deaths_per_million` - Total de mortes atribuídas a COVID-19 por 1.000.000 de pessoas\r\n",
        "\r\n",
        "`new_deaths_per_million` - Novas mortes atribuídas ao COVID-19 por 1.000.000 de pessoas\r\n",
        "\r\n",
        "`new_deaths_smoothed_per_million` - Novas mortes atribuídas a COVID-19 (alisada de 7 dias) por 1.000.000 de pessoas\r\n",
        "\r\n",
        "`reproduction_rate` - estimativa em tempo real da taxa de reprodução efectiva (R) de COVID-19.\r\n",
        "\r\n",
        "`icu_patients` - Número de COVID-19 pacientes em unidades de cuidados intensivos (UTIs) num dado dia\r\n",
        "\r\n",
        "`icu_patients_per_million` - Número de COVID-19 pacientes em unidades de terapia intensiva (UTIs) em um determinado dia por 1.000.000 de pessoas\r\n",
        "\r\n",
        "`hosp_patients` - Número de COVID-19 pacientes no hospital em um determinado dia\r\n",
        "\r\n",
        "`hosp_patients_per_million` - Número de COVID-19 pacientes no hospital em um determinado dia por 1.000.000 de pessoas\r\n",
        "\r\n",
        "`weekly_icu_admissions` - Número de COVID-19 pacientes recém-admitidos em unidades de cuidados intensivos (UTIs) em uma dada semana\r\n",
        "\r\n",
        "`weekly_icu_admissions_per_million` - Número de COVID-19 pacientes recém-admitidos em unidades de terapia intensiva (UTIs) em uma determinada semana por 1.000.000 de pessoas\r\n",
        "\r\n",
        "`weekly_hosp_admissions` - Número de COVID-19 pacientes recém-admitidos em hospitais em uma semana\r\n",
        "\r\n",
        "`weekly_hosp_admissions_per_million` - Número de COVID-19 pacientes recém-admitidos em hospitais em uma determinada semana por 1.000.000 de pessoas\r\n",
        "\r\n",
        "`total_tests` - Total de Testes para COVID-19\r\n",
        "\r\n",
        "`new_tests` - Os novos ensaios para COVID-19 (somente calculada para dias consecutivos)\r\n",
        "\r\n",
        "`total_tests_per_thousand` - Total de Testes para COVID-19 por 1.000 pessoas\r\n",
        "\r\n",
        "`new_tests_per_thousand` - Novos testes para COVID-19 por 1.000 pessoas\r\n",
        "\r\n",
        "`new_tests_smoothed` - Os novos ensaios para COVID-19 (7-dia alisado). Para os países que não relatam testando os dados em uma base diária, assumimos que o teste mudou igualmente em uma base diária sobre quaisquer períodos em que há dados f\r\n",
        "\r\n",
        "`new_tests_smoothed_per_thousand` - Os novos ensaios para COVID-19 (7-dia suavizado) por 1.000 pessoas\r\n",
        "\r\n",
        "`positive_rate` - O partes de COVID-19 testes que são positivas, dadas como uma média móvel em 7 dias (este é o inverso da tests_per_case)\r\n",
        "\r\n",
        "`tests_per_case` - Testes realizados por novo caso confirmado de COVID-19, dadas como uma média móvel em 7 dias (este é o inverso da positive_rate)\r\n",
        "\r\n",
        "`tests_units` - Unidades usadas pela localização para relatar seus dados de testes\r\n",
        "\r\n",
        "`total_vaccinations` - Número total de COVID-19 vacinação doses administradas\r\n",
        "\r\n",
        "`people_vaccinated` - Número total de pessoas que receberam pelo menos uma dose da vacina\r\n",
        "\r\n",
        "`people_fully_vaccinated` - Número total de pessoas que receberam todas as doses prescritas pelo protocolo de vacinação\r\n",
        "\r\n",
        "`new_vaccinations` - Nova COVID-19 doses administradas de vacinação (somente calculados para dias consecutivos)\r\n",
        "\r\n",
        "`new_vaccinations_smoothed` - Novas doses COVID-19 administrado de vacinação (7 dias de suavizados). Para os países que não relatam dados de vacinação em uma base diária, assumimos que a vacinação alterou igualmente em uma base diária sobre\r\n",
        "\r\n",
        "`total_vaccinations_per_hundred` - Número total de COVID-19 vacinação doses administradas por 100 pessoas na população total\r\n",
        "\r\n",
        "`people_vaccinated_per_hundred` - Número total de pessoas que receberam pelo menos uma dose da vacina por cada 100 pessoas no total da população\r\n",
        "\r\n",
        "`people_fully_vaccinated_per_hundred` - Número total de pessoas que receberam todas as doses prescritas pelo protocolo de vacinação por 100 pessoas na população total\r\n",
        "\r\n",
        "`new_vaccinations_smoothed_per_million` - Nova COVID-19 doses administradas vacinação (7 dias de suavizados) por 1.000.000 de pessoas na população total\r\n",
        "\r\n",
        "`stringency_index` - Governo Response Índice Rigor: medida composta com base em 9 indicadores de resposta incluindo o fechamento de escolas, fechamento de locais de trabalho, e proibição de viajar, escalonados para um valor de 0 a 100 (100\r\n",
        "\r\n",
        "`population` - População em 2020\r\n",
        "\r\n",
        "`population_density` - Número de pessoas divididas por área de terra, medido em quilômetros quadrados, dos anos mais recentes disponíveis\r\n",
        "\r\n",
        "`median_age` - A idade média da população, a projeção das Nações Unidas para 2020\r\n",
        "\r\n",
        "`aged_65_older` - Percentagem da população que é de 65 anos e mais velhos, dos anos mais recentes disponíveis\r\n",
        "\r\n",
        "`aged_70_older` - Parcela da população que é de 70 anos ou mais em 2015\r\n",
        "\r\n",
        "`gdp_per_capita` - Produto interno bruto a paridade de poder aquisitivo (constantes de 2011 dólares internacionais), dos anos mais recentes disponíveis\r\n",
        "\r\n",
        "`extreme_poverty` - Parcela da população vivendo em extrema pobreza, dos anos mais recentes disponíveis desde 2010\r\n",
        "\r\n",
        "`cardiovasc_death_rate` - Taxa de mortalidade por doenças cardiovasculares em 2017 (número anual de mortes por 100.000 pessoas)\r\n",
        "\r\n",
        "`diabetes_prevalence` - prevalência diabetes (% da população com idades entre 20 a 79) em 2017\r\n",
        "\r\n",
        "`female_smokers` - Percentagem de mulheres que fumam, dos anos mais recentes disponíveis\r\n",
        "\r\n",
        "`male_smokers` - Parcela de homens que fumam, dos anos mais recentes disponíveis\r\n",
        "\r\n",
        "`handwashing_facilities` - Percentagem da população com instalações de lavagem das mãos básicas sobre instalações, dos anos mais recentes disponíveis\r\n",
        "\r\n",
        "`hospital_beds_per_thousand` - camas hospitalares por 1.000 pessoas, dos anos mais recentes disponíveis desde 2010\r\n",
        "\r\n",
        "`life_expectancy` - A expectativa de vida ao nascer em 2019\r\n",
        "\r\n",
        "`human_development_index` - Um índice composto que mede a realização média em três dimensões básicas do desenvolvimento: uma vida longa e saudável humano, conhecimento e um padrão de vida decente."
      ]
    },
    {
      "cell_type": "markdown",
      "metadata": {
        "id": "ASVQ08auWJCn"
      },
      "source": [
        "# **Análise Exploratória de Dados**\r\n",
        "\r\n",
        "<center><img width=\"65%\" src=\"https://raw.githubusercontent.com/otaviodefilpo/covid-19-inbrazil-vaccines-cases-deaths/main/fingers-hands-notebook.jpg\"></center>\r\n",
        "\r\n",
        "\r\n",
        "Antes de entrar nas análises sobre a vacina, vamos observar dados chave para entender como a pandemia está neste momento, após partiremos para os dados de vacina e como ela acontece no Brasil e em outros grupos de países.\r\n",
        "\r\n",
        "***Mãos à obra!***"
      ]
    },
    {
      "cell_type": "markdown",
      "metadata": {
        "id": "0G19Z13hmf7e"
      },
      "source": [
        "**Dados Gerais da Pandemia no Mundo**\r\n",
        "<center><img width=\"65%\" src=\"https://raw.githubusercontent.com/otaviodefilpo/covid-19-inbrazil-vaccines-cases-deaths/main/i379024.jpeg\"></center>\r\n",
        "\r\n",
        "\r\n",
        "\r\n"
      ]
    },
    {
      "cell_type": "markdown",
      "metadata": {
        "id": "yzqzsafKF0Wy"
      },
      "source": [
        "Primeiramente importaremos as bibliotecas necessárias e os nossos dados"
      ]
    },
    {
      "cell_type": "code",
      "metadata": {
        "id": "lOtEJxe0DMEb"
      },
      "source": [
        "# importar as bibliotecas necessárias\n",
        "import pandas as pd\n",
        "import matplotlib.pyplot as plt\n",
        "import seaborn as sns\n",
        "import datetime as dt\n",
        "\n",
        "sns.set_style()\n",
        "%matplotlib inline\n",
        "\n",
        "import warnings\n",
        "warnings.filterwarnings('ignore')\n",
        "\n",
        "\n",
        "# importar o dataset COVID-19 para um DataFrame\n",
        "df = pd.read_csv('https://raw.githubusercontent.com/owid/covid-19-data/master/public/data/owid-covid-data.csv')"
      ],
      "execution_count": 1,
      "outputs": []
    },
    {
      "cell_type": "markdown",
      "metadata": {
        "id": "c97pAFcVF_gZ"
      },
      "source": [
        "Agora utilizaremos algumas funções para observar algumas características do nosso dataframe."
      ]
    },
    {
      "cell_type": "code",
      "metadata": {
        "id": "gO1fv3D1PS4k"
      },
      "source": [
        "# Criando um backup do dataset original\r\n",
        "covid = df.copy()"
      ],
      "execution_count": 2,
      "outputs": []
    },
    {
      "cell_type": "code",
      "metadata": {
        "colab": {
          "base_uri": "https://localhost:8080/",
          "height": 309
        },
        "id": "U0tcFOkKJTgw",
        "outputId": "5c0c90a7-6471-4f0c-d7b7-d274da8b9c30"
      },
      "source": [
        "# Observando as 5 primeiras entradas\r\n",
        "covid.head(5)"
      ],
      "execution_count": 3,
      "outputs": [
        {
          "output_type": "execute_result",
          "data": {
            "text/html": [
              "<div>\n",
              "<style scoped>\n",
              "    .dataframe tbody tr th:only-of-type {\n",
              "        vertical-align: middle;\n",
              "    }\n",
              "\n",
              "    .dataframe tbody tr th {\n",
              "        vertical-align: top;\n",
              "    }\n",
              "\n",
              "    .dataframe thead th {\n",
              "        text-align: right;\n",
              "    }\n",
              "</style>\n",
              "<table border=\"1\" class=\"dataframe\">\n",
              "  <thead>\n",
              "    <tr style=\"text-align: right;\">\n",
              "      <th></th>\n",
              "      <th>iso_code</th>\n",
              "      <th>continent</th>\n",
              "      <th>location</th>\n",
              "      <th>date</th>\n",
              "      <th>total_cases</th>\n",
              "      <th>new_cases</th>\n",
              "      <th>new_cases_smoothed</th>\n",
              "      <th>total_deaths</th>\n",
              "      <th>new_deaths</th>\n",
              "      <th>new_deaths_smoothed</th>\n",
              "      <th>total_cases_per_million</th>\n",
              "      <th>new_cases_per_million</th>\n",
              "      <th>new_cases_smoothed_per_million</th>\n",
              "      <th>total_deaths_per_million</th>\n",
              "      <th>new_deaths_per_million</th>\n",
              "      <th>new_deaths_smoothed_per_million</th>\n",
              "      <th>reproduction_rate</th>\n",
              "      <th>icu_patients</th>\n",
              "      <th>icu_patients_per_million</th>\n",
              "      <th>hosp_patients</th>\n",
              "      <th>hosp_patients_per_million</th>\n",
              "      <th>weekly_icu_admissions</th>\n",
              "      <th>weekly_icu_admissions_per_million</th>\n",
              "      <th>weekly_hosp_admissions</th>\n",
              "      <th>weekly_hosp_admissions_per_million</th>\n",
              "      <th>new_tests</th>\n",
              "      <th>total_tests</th>\n",
              "      <th>total_tests_per_thousand</th>\n",
              "      <th>new_tests_per_thousand</th>\n",
              "      <th>new_tests_smoothed</th>\n",
              "      <th>new_tests_smoothed_per_thousand</th>\n",
              "      <th>positive_rate</th>\n",
              "      <th>tests_per_case</th>\n",
              "      <th>tests_units</th>\n",
              "      <th>total_vaccinations</th>\n",
              "      <th>people_vaccinated</th>\n",
              "      <th>people_fully_vaccinated</th>\n",
              "      <th>new_vaccinations</th>\n",
              "      <th>new_vaccinations_smoothed</th>\n",
              "      <th>total_vaccinations_per_hundred</th>\n",
              "      <th>people_vaccinated_per_hundred</th>\n",
              "      <th>people_fully_vaccinated_per_hundred</th>\n",
              "      <th>new_vaccinations_smoothed_per_million</th>\n",
              "      <th>stringency_index</th>\n",
              "      <th>population</th>\n",
              "      <th>population_density</th>\n",
              "      <th>median_age</th>\n",
              "      <th>aged_65_older</th>\n",
              "      <th>aged_70_older</th>\n",
              "      <th>gdp_per_capita</th>\n",
              "      <th>extreme_poverty</th>\n",
              "      <th>cardiovasc_death_rate</th>\n",
              "      <th>diabetes_prevalence</th>\n",
              "      <th>female_smokers</th>\n",
              "      <th>male_smokers</th>\n",
              "      <th>handwashing_facilities</th>\n",
              "      <th>hospital_beds_per_thousand</th>\n",
              "      <th>life_expectancy</th>\n",
              "      <th>human_development_index</th>\n",
              "    </tr>\n",
              "  </thead>\n",
              "  <tbody>\n",
              "    <tr>\n",
              "      <th>0</th>\n",
              "      <td>AFG</td>\n",
              "      <td>Asia</td>\n",
              "      <td>Afghanistan</td>\n",
              "      <td>2020-02-24</td>\n",
              "      <td>1.0</td>\n",
              "      <td>1.0</td>\n",
              "      <td>NaN</td>\n",
              "      <td>NaN</td>\n",
              "      <td>NaN</td>\n",
              "      <td>NaN</td>\n",
              "      <td>0.026</td>\n",
              "      <td>0.026</td>\n",
              "      <td>NaN</td>\n",
              "      <td>NaN</td>\n",
              "      <td>NaN</td>\n",
              "      <td>NaN</td>\n",
              "      <td>NaN</td>\n",
              "      <td>NaN</td>\n",
              "      <td>NaN</td>\n",
              "      <td>NaN</td>\n",
              "      <td>NaN</td>\n",
              "      <td>NaN</td>\n",
              "      <td>NaN</td>\n",
              "      <td>NaN</td>\n",
              "      <td>NaN</td>\n",
              "      <td>NaN</td>\n",
              "      <td>NaN</td>\n",
              "      <td>NaN</td>\n",
              "      <td>NaN</td>\n",
              "      <td>NaN</td>\n",
              "      <td>NaN</td>\n",
              "      <td>NaN</td>\n",
              "      <td>NaN</td>\n",
              "      <td>NaN</td>\n",
              "      <td>NaN</td>\n",
              "      <td>NaN</td>\n",
              "      <td>NaN</td>\n",
              "      <td>NaN</td>\n",
              "      <td>NaN</td>\n",
              "      <td>NaN</td>\n",
              "      <td>NaN</td>\n",
              "      <td>NaN</td>\n",
              "      <td>NaN</td>\n",
              "      <td>8.33</td>\n",
              "      <td>38928341.0</td>\n",
              "      <td>54.422</td>\n",
              "      <td>18.6</td>\n",
              "      <td>2.581</td>\n",
              "      <td>1.337</td>\n",
              "      <td>1803.987</td>\n",
              "      <td>NaN</td>\n",
              "      <td>597.029</td>\n",
              "      <td>9.59</td>\n",
              "      <td>NaN</td>\n",
              "      <td>NaN</td>\n",
              "      <td>37.746</td>\n",
              "      <td>0.5</td>\n",
              "      <td>64.83</td>\n",
              "      <td>0.511</td>\n",
              "    </tr>\n",
              "    <tr>\n",
              "      <th>1</th>\n",
              "      <td>AFG</td>\n",
              "      <td>Asia</td>\n",
              "      <td>Afghanistan</td>\n",
              "      <td>2020-02-25</td>\n",
              "      <td>1.0</td>\n",
              "      <td>0.0</td>\n",
              "      <td>NaN</td>\n",
              "      <td>NaN</td>\n",
              "      <td>NaN</td>\n",
              "      <td>NaN</td>\n",
              "      <td>0.026</td>\n",
              "      <td>0.000</td>\n",
              "      <td>NaN</td>\n",
              "      <td>NaN</td>\n",
              "      <td>NaN</td>\n",
              "      <td>NaN</td>\n",
              "      <td>NaN</td>\n",
              "      <td>NaN</td>\n",
              "      <td>NaN</td>\n",
              "      <td>NaN</td>\n",
              "      <td>NaN</td>\n",
              "      <td>NaN</td>\n",
              "      <td>NaN</td>\n",
              "      <td>NaN</td>\n",
              "      <td>NaN</td>\n",
              "      <td>NaN</td>\n",
              "      <td>NaN</td>\n",
              "      <td>NaN</td>\n",
              "      <td>NaN</td>\n",
              "      <td>NaN</td>\n",
              "      <td>NaN</td>\n",
              "      <td>NaN</td>\n",
              "      <td>NaN</td>\n",
              "      <td>NaN</td>\n",
              "      <td>NaN</td>\n",
              "      <td>NaN</td>\n",
              "      <td>NaN</td>\n",
              "      <td>NaN</td>\n",
              "      <td>NaN</td>\n",
              "      <td>NaN</td>\n",
              "      <td>NaN</td>\n",
              "      <td>NaN</td>\n",
              "      <td>NaN</td>\n",
              "      <td>8.33</td>\n",
              "      <td>38928341.0</td>\n",
              "      <td>54.422</td>\n",
              "      <td>18.6</td>\n",
              "      <td>2.581</td>\n",
              "      <td>1.337</td>\n",
              "      <td>1803.987</td>\n",
              "      <td>NaN</td>\n",
              "      <td>597.029</td>\n",
              "      <td>9.59</td>\n",
              "      <td>NaN</td>\n",
              "      <td>NaN</td>\n",
              "      <td>37.746</td>\n",
              "      <td>0.5</td>\n",
              "      <td>64.83</td>\n",
              "      <td>0.511</td>\n",
              "    </tr>\n",
              "    <tr>\n",
              "      <th>2</th>\n",
              "      <td>AFG</td>\n",
              "      <td>Asia</td>\n",
              "      <td>Afghanistan</td>\n",
              "      <td>2020-02-26</td>\n",
              "      <td>1.0</td>\n",
              "      <td>0.0</td>\n",
              "      <td>NaN</td>\n",
              "      <td>NaN</td>\n",
              "      <td>NaN</td>\n",
              "      <td>NaN</td>\n",
              "      <td>0.026</td>\n",
              "      <td>0.000</td>\n",
              "      <td>NaN</td>\n",
              "      <td>NaN</td>\n",
              "      <td>NaN</td>\n",
              "      <td>NaN</td>\n",
              "      <td>NaN</td>\n",
              "      <td>NaN</td>\n",
              "      <td>NaN</td>\n",
              "      <td>NaN</td>\n",
              "      <td>NaN</td>\n",
              "      <td>NaN</td>\n",
              "      <td>NaN</td>\n",
              "      <td>NaN</td>\n",
              "      <td>NaN</td>\n",
              "      <td>NaN</td>\n",
              "      <td>NaN</td>\n",
              "      <td>NaN</td>\n",
              "      <td>NaN</td>\n",
              "      <td>NaN</td>\n",
              "      <td>NaN</td>\n",
              "      <td>NaN</td>\n",
              "      <td>NaN</td>\n",
              "      <td>NaN</td>\n",
              "      <td>NaN</td>\n",
              "      <td>NaN</td>\n",
              "      <td>NaN</td>\n",
              "      <td>NaN</td>\n",
              "      <td>NaN</td>\n",
              "      <td>NaN</td>\n",
              "      <td>NaN</td>\n",
              "      <td>NaN</td>\n",
              "      <td>NaN</td>\n",
              "      <td>8.33</td>\n",
              "      <td>38928341.0</td>\n",
              "      <td>54.422</td>\n",
              "      <td>18.6</td>\n",
              "      <td>2.581</td>\n",
              "      <td>1.337</td>\n",
              "      <td>1803.987</td>\n",
              "      <td>NaN</td>\n",
              "      <td>597.029</td>\n",
              "      <td>9.59</td>\n",
              "      <td>NaN</td>\n",
              "      <td>NaN</td>\n",
              "      <td>37.746</td>\n",
              "      <td>0.5</td>\n",
              "      <td>64.83</td>\n",
              "      <td>0.511</td>\n",
              "    </tr>\n",
              "    <tr>\n",
              "      <th>3</th>\n",
              "      <td>AFG</td>\n",
              "      <td>Asia</td>\n",
              "      <td>Afghanistan</td>\n",
              "      <td>2020-02-27</td>\n",
              "      <td>1.0</td>\n",
              "      <td>0.0</td>\n",
              "      <td>NaN</td>\n",
              "      <td>NaN</td>\n",
              "      <td>NaN</td>\n",
              "      <td>NaN</td>\n",
              "      <td>0.026</td>\n",
              "      <td>0.000</td>\n",
              "      <td>NaN</td>\n",
              "      <td>NaN</td>\n",
              "      <td>NaN</td>\n",
              "      <td>NaN</td>\n",
              "      <td>NaN</td>\n",
              "      <td>NaN</td>\n",
              "      <td>NaN</td>\n",
              "      <td>NaN</td>\n",
              "      <td>NaN</td>\n",
              "      <td>NaN</td>\n",
              "      <td>NaN</td>\n",
              "      <td>NaN</td>\n",
              "      <td>NaN</td>\n",
              "      <td>NaN</td>\n",
              "      <td>NaN</td>\n",
              "      <td>NaN</td>\n",
              "      <td>NaN</td>\n",
              "      <td>NaN</td>\n",
              "      <td>NaN</td>\n",
              "      <td>NaN</td>\n",
              "      <td>NaN</td>\n",
              "      <td>NaN</td>\n",
              "      <td>NaN</td>\n",
              "      <td>NaN</td>\n",
              "      <td>NaN</td>\n",
              "      <td>NaN</td>\n",
              "      <td>NaN</td>\n",
              "      <td>NaN</td>\n",
              "      <td>NaN</td>\n",
              "      <td>NaN</td>\n",
              "      <td>NaN</td>\n",
              "      <td>8.33</td>\n",
              "      <td>38928341.0</td>\n",
              "      <td>54.422</td>\n",
              "      <td>18.6</td>\n",
              "      <td>2.581</td>\n",
              "      <td>1.337</td>\n",
              "      <td>1803.987</td>\n",
              "      <td>NaN</td>\n",
              "      <td>597.029</td>\n",
              "      <td>9.59</td>\n",
              "      <td>NaN</td>\n",
              "      <td>NaN</td>\n",
              "      <td>37.746</td>\n",
              "      <td>0.5</td>\n",
              "      <td>64.83</td>\n",
              "      <td>0.511</td>\n",
              "    </tr>\n",
              "    <tr>\n",
              "      <th>4</th>\n",
              "      <td>AFG</td>\n",
              "      <td>Asia</td>\n",
              "      <td>Afghanistan</td>\n",
              "      <td>2020-02-28</td>\n",
              "      <td>1.0</td>\n",
              "      <td>0.0</td>\n",
              "      <td>NaN</td>\n",
              "      <td>NaN</td>\n",
              "      <td>NaN</td>\n",
              "      <td>NaN</td>\n",
              "      <td>0.026</td>\n",
              "      <td>0.000</td>\n",
              "      <td>NaN</td>\n",
              "      <td>NaN</td>\n",
              "      <td>NaN</td>\n",
              "      <td>NaN</td>\n",
              "      <td>NaN</td>\n",
              "      <td>NaN</td>\n",
              "      <td>NaN</td>\n",
              "      <td>NaN</td>\n",
              "      <td>NaN</td>\n",
              "      <td>NaN</td>\n",
              "      <td>NaN</td>\n",
              "      <td>NaN</td>\n",
              "      <td>NaN</td>\n",
              "      <td>NaN</td>\n",
              "      <td>NaN</td>\n",
              "      <td>NaN</td>\n",
              "      <td>NaN</td>\n",
              "      <td>NaN</td>\n",
              "      <td>NaN</td>\n",
              "      <td>NaN</td>\n",
              "      <td>NaN</td>\n",
              "      <td>NaN</td>\n",
              "      <td>NaN</td>\n",
              "      <td>NaN</td>\n",
              "      <td>NaN</td>\n",
              "      <td>NaN</td>\n",
              "      <td>NaN</td>\n",
              "      <td>NaN</td>\n",
              "      <td>NaN</td>\n",
              "      <td>NaN</td>\n",
              "      <td>NaN</td>\n",
              "      <td>8.33</td>\n",
              "      <td>38928341.0</td>\n",
              "      <td>54.422</td>\n",
              "      <td>18.6</td>\n",
              "      <td>2.581</td>\n",
              "      <td>1.337</td>\n",
              "      <td>1803.987</td>\n",
              "      <td>NaN</td>\n",
              "      <td>597.029</td>\n",
              "      <td>9.59</td>\n",
              "      <td>NaN</td>\n",
              "      <td>NaN</td>\n",
              "      <td>37.746</td>\n",
              "      <td>0.5</td>\n",
              "      <td>64.83</td>\n",
              "      <td>0.511</td>\n",
              "    </tr>\n",
              "  </tbody>\n",
              "</table>\n",
              "</div>"
            ],
            "text/plain": [
              "  iso_code continent  ... life_expectancy human_development_index\n",
              "0      AFG      Asia  ...           64.83                   0.511\n",
              "1      AFG      Asia  ...           64.83                   0.511\n",
              "2      AFG      Asia  ...           64.83                   0.511\n",
              "3      AFG      Asia  ...           64.83                   0.511\n",
              "4      AFG      Asia  ...           64.83                   0.511\n",
              "\n",
              "[5 rows x 59 columns]"
            ]
          },
          "metadata": {
            "tags": []
          },
          "execution_count": 3
        }
      ]
    },
    {
      "cell_type": "code",
      "metadata": {
        "colab": {
          "base_uri": "https://localhost:8080/"
        },
        "id": "5YQRT4_AJmIy",
        "outputId": "3b3bd9da-3edf-4879-a227-eb67b9fde7e2"
      },
      "source": [
        "# Observando número de entradas e variáveis\r\n",
        "print(\"O dataset possui {} entradas e {} variáveis\".format(covid.shape[0],covid.shape[1]))"
      ],
      "execution_count": 4,
      "outputs": [
        {
          "output_type": "stream",
          "text": [
            "O dataset possui 72979 entradas e 59 variáveis\n"
          ],
          "name": "stdout"
        }
      ]
    },
    {
      "cell_type": "code",
      "metadata": {
        "colab": {
          "base_uri": "https://localhost:8080/"
        },
        "id": "zRE_xhxTLQ7l",
        "outputId": "d5d8eabd-0dff-464e-a985-c20735aa9631"
      },
      "source": [
        "# Observando qual o timeseries do dataset\r\n",
        "dmin = covid.date.min()\r\n",
        "dmax = covid.date.max()\r\n",
        "print(\"O dataset vai do dia {} ao dia {}\".format(dmin,dmax))"
      ],
      "execution_count": 5,
      "outputs": [
        {
          "output_type": "stream",
          "text": [
            "O dataset vai do dia 2020-01-01 ao dia 2021-03-05\n"
          ],
          "name": "stdout"
        }
      ]
    },
    {
      "cell_type": "markdown",
      "metadata": {
        "id": "RYJvFccJTOpF"
      },
      "source": [
        "Agora vamos observar um panorama sobre os dados, quantos são, quais seus tipos e qual a porcentagem de dados ausentes possuímos no Dataset."
      ]
    },
    {
      "cell_type": "code",
      "metadata": {
        "colab": {
          "base_uri": "https://localhost:8080/"
        },
        "id": "HDpOdBcQTXj6",
        "outputId": "c91fc247-c54d-4f33-eb42-0131bbb84748"
      },
      "source": [
        "#Usando o comando info()\r\n",
        "covid.info()"
      ],
      "execution_count": 6,
      "outputs": [
        {
          "output_type": "stream",
          "text": [
            "<class 'pandas.core.frame.DataFrame'>\n",
            "RangeIndex: 72979 entries, 0 to 72978\n",
            "Data columns (total 59 columns):\n",
            " #   Column                                 Non-Null Count  Dtype  \n",
            "---  ------                                 --------------  -----  \n",
            " 0   iso_code                               72979 non-null  object \n",
            " 1   continent                              69363 non-null  object \n",
            " 2   location                               72979 non-null  object \n",
            " 3   date                                   72979 non-null  object \n",
            " 4   total_cases                            71928 non-null  float64\n",
            " 5   new_cases                              71926 non-null  float64\n",
            " 6   new_cases_smoothed                     70925 non-null  float64\n",
            " 7   total_deaths                           62794 non-null  float64\n",
            " 8   new_deaths                             62952 non-null  float64\n",
            " 9   new_deaths_smoothed                    70925 non-null  float64\n",
            " 10  total_cases_per_million                71535 non-null  float64\n",
            " 11  new_cases_per_million                  71533 non-null  float64\n",
            " 12  new_cases_smoothed_per_million         70537 non-null  float64\n",
            " 13  total_deaths_per_million               62414 non-null  float64\n",
            " 14  new_deaths_per_million                 62572 non-null  float64\n",
            " 15  new_deaths_smoothed_per_million        70537 non-null  float64\n",
            " 16  reproduction_rate                      58932 non-null  float64\n",
            " 17  icu_patients                           7639 non-null   float64\n",
            " 18  icu_patients_per_million               7639 non-null   float64\n",
            " 19  hosp_patients                          9185 non-null   float64\n",
            " 20  hosp_patients_per_million              9185 non-null   float64\n",
            " 21  weekly_icu_admissions                  645 non-null    float64\n",
            " 22  weekly_icu_admissions_per_million      645 non-null    float64\n",
            " 23  weekly_hosp_admissions                 1229 non-null   float64\n",
            " 24  weekly_hosp_admissions_per_million     1229 non-null   float64\n",
            " 25  new_tests                              32938 non-null  float64\n",
            " 26  total_tests                            32763 non-null  float64\n",
            " 27  total_tests_per_thousand               32763 non-null  float64\n",
            " 28  new_tests_per_thousand                 32938 non-null  float64\n",
            " 29  new_tests_smoothed                     37578 non-null  float64\n",
            " 30  new_tests_smoothed_per_thousand        37578 non-null  float64\n",
            " 31  positive_rate                          36371 non-null  float64\n",
            " 32  tests_per_case                         35810 non-null  float64\n",
            " 33  tests_units                            38884 non-null  object \n",
            " 34  total_vaccinations                     3286 non-null   float64\n",
            " 35  people_vaccinated                      2858 non-null   float64\n",
            " 36  people_fully_vaccinated                1892 non-null   float64\n",
            " 37  new_vaccinations                       2771 non-null   float64\n",
            " 38  new_vaccinations_smoothed              4903 non-null   float64\n",
            " 39  total_vaccinations_per_hundred         3286 non-null   float64\n",
            " 40  people_vaccinated_per_hundred          2858 non-null   float64\n",
            " 41  people_fully_vaccinated_per_hundred    1892 non-null   float64\n",
            " 42  new_vaccinations_smoothed_per_million  4903 non-null   float64\n",
            " 43  stringency_index                       62358 non-null  float64\n",
            " 44  population                             72577 non-null  float64\n",
            " 45  population_density                     68178 non-null  float64\n",
            " 46  median_age                             66296 non-null  float64\n",
            " 47  aged_65_older                          65532 non-null  float64\n",
            " 48  aged_70_older                          65922 non-null  float64\n",
            " 49  gdp_per_capita                         66493 non-null  float64\n",
            " 50  extreme_poverty                        45400 non-null  float64\n",
            " 51  cardiovasc_death_rate                  67136 non-null  float64\n",
            " 52  diabetes_prevalence                    67980 non-null  float64\n",
            " 53  female_smokers                         52787 non-null  float64\n",
            " 54  male_smokers                           52062 non-null  float64\n",
            " 55  handwashing_facilities                 33687 non-null  float64\n",
            " 56  hospital_beds_per_thousand             61462 non-null  float64\n",
            " 57  life_expectancy                        69341 non-null  float64\n",
            " 58  human_development_index                67075 non-null  float64\n",
            "dtypes: float64(54), object(5)\n",
            "memory usage: 32.9+ MB\n"
          ],
          "name": "stdout"
        }
      ]
    },
    {
      "cell_type": "code",
      "metadata": {
        "colab": {
          "base_uri": "https://localhost:8080/"
        },
        "id": "TmYen2BCUGS_",
        "outputId": "dcb11ac1-668d-4dcf-c29a-5e696c682c7b"
      },
      "source": [
        "# Visualizando a porcentagem de valores ausentes no Dataset\r\n",
        "round((covid.isnull().sum() / covid.shape[0]).sort_values(ascending=False),2)"
      ],
      "execution_count": 7,
      "outputs": [
        {
          "output_type": "execute_result",
          "data": {
            "text/plain": [
              "weekly_icu_admissions                    0.99\n",
              "weekly_icu_admissions_per_million        0.99\n",
              "weekly_hosp_admissions                   0.98\n",
              "weekly_hosp_admissions_per_million       0.98\n",
              "people_fully_vaccinated                  0.97\n",
              "people_fully_vaccinated_per_hundred      0.97\n",
              "new_vaccinations                         0.96\n",
              "people_vaccinated                        0.96\n",
              "people_vaccinated_per_hundred            0.96\n",
              "total_vaccinations                       0.95\n",
              "total_vaccinations_per_hundred           0.95\n",
              "new_vaccinations_smoothed                0.93\n",
              "new_vaccinations_smoothed_per_million    0.93\n",
              "icu_patients                             0.90\n",
              "icu_patients_per_million                 0.90\n",
              "hosp_patients                            0.87\n",
              "hosp_patients_per_million                0.87\n",
              "total_tests                              0.55\n",
              "total_tests_per_thousand                 0.55\n",
              "new_tests                                0.55\n",
              "new_tests_per_thousand                   0.55\n",
              "handwashing_facilities                   0.54\n",
              "tests_per_case                           0.51\n",
              "positive_rate                            0.50\n",
              "new_tests_smoothed_per_thousand          0.49\n",
              "new_tests_smoothed                       0.49\n",
              "tests_units                              0.47\n",
              "extreme_poverty                          0.38\n",
              "male_smokers                             0.29\n",
              "female_smokers                           0.28\n",
              "reproduction_rate                        0.19\n",
              "hospital_beds_per_thousand               0.16\n",
              "stringency_index                         0.15\n",
              "total_deaths_per_million                 0.14\n",
              "new_deaths_per_million                   0.14\n",
              "total_deaths                             0.14\n",
              "new_deaths                               0.14\n",
              "aged_65_older                            0.10\n",
              "aged_70_older                            0.10\n",
              "median_age                               0.09\n",
              "gdp_per_capita                           0.09\n",
              "human_development_index                  0.08\n",
              "cardiovasc_death_rate                    0.08\n",
              "diabetes_prevalence                      0.07\n",
              "population_density                       0.07\n",
              "life_expectancy                          0.05\n",
              "continent                                0.05\n",
              "new_cases_smoothed_per_million           0.03\n",
              "new_deaths_smoothed_per_million          0.03\n",
              "new_deaths_smoothed                      0.03\n",
              "new_cases_smoothed                       0.03\n",
              "new_cases_per_million                    0.02\n",
              "total_cases_per_million                  0.02\n",
              "new_cases                                0.01\n",
              "total_cases                              0.01\n",
              "population                               0.01\n",
              "date                                     0.00\n",
              "location                                 0.00\n",
              "iso_code                                 0.00\n",
              "dtype: float64"
            ]
          },
          "metadata": {
            "tags": []
          },
          "execution_count": 7
        }
      ]
    },
    {
      "cell_type": "markdown",
      "metadata": {
        "id": "8ikfsGJBVMny"
      },
      "source": [
        "Vamos adequar a coluna `date` ao formato datetime"
      ]
    },
    {
      "cell_type": "code",
      "metadata": {
        "id": "GZFGy3XQU_NX"
      },
      "source": [
        "# Usando o to_datetime do pandas\r\n",
        "covid['date'] = pd.to_datetime(covid.date)"
      ],
      "execution_count": 8,
      "outputs": []
    },
    {
      "cell_type": "markdown",
      "metadata": {
        "id": "hH_Png_iG2hy"
      },
      "source": [
        "Agora observando um panorama geral da Pandemia do COVID-19 no mundo."
      ]
    },
    {
      "cell_type": "code",
      "metadata": {
        "colab": {
          "base_uri": "https://localhost:8080/",
          "height": 309
        },
        "id": "qhxdbHNvVvGH",
        "outputId": "89e7b4ea-a281-4b56-f693-8ed2ed5d72ee"
      },
      "source": [
        "# Localizando os dados para o dia mais recente do Dataset, organizando pelos lugares com mais casos\r\n",
        "total_casos = covid.loc[covid.date == dmax].sort_values(by=\"total_cases\", ascending=False)\r\n",
        "\r\n",
        "# Deixando apenas os dados referentes à países no Dataset\r\n",
        "total_casos = total_casos.dropna(subset=['continent'])\r\n",
        "total_casos[:5]"
      ],
      "execution_count": 9,
      "outputs": [
        {
          "output_type": "execute_result",
          "data": {
            "text/html": [
              "<div>\n",
              "<style scoped>\n",
              "    .dataframe tbody tr th:only-of-type {\n",
              "        vertical-align: middle;\n",
              "    }\n",
              "\n",
              "    .dataframe tbody tr th {\n",
              "        vertical-align: top;\n",
              "    }\n",
              "\n",
              "    .dataframe thead th {\n",
              "        text-align: right;\n",
              "    }\n",
              "</style>\n",
              "<table border=\"1\" class=\"dataframe\">\n",
              "  <thead>\n",
              "    <tr style=\"text-align: right;\">\n",
              "      <th></th>\n",
              "      <th>iso_code</th>\n",
              "      <th>continent</th>\n",
              "      <th>location</th>\n",
              "      <th>date</th>\n",
              "      <th>total_cases</th>\n",
              "      <th>new_cases</th>\n",
              "      <th>new_cases_smoothed</th>\n",
              "      <th>total_deaths</th>\n",
              "      <th>new_deaths</th>\n",
              "      <th>new_deaths_smoothed</th>\n",
              "      <th>total_cases_per_million</th>\n",
              "      <th>new_cases_per_million</th>\n",
              "      <th>new_cases_smoothed_per_million</th>\n",
              "      <th>total_deaths_per_million</th>\n",
              "      <th>new_deaths_per_million</th>\n",
              "      <th>new_deaths_smoothed_per_million</th>\n",
              "      <th>reproduction_rate</th>\n",
              "      <th>icu_patients</th>\n",
              "      <th>icu_patients_per_million</th>\n",
              "      <th>hosp_patients</th>\n",
              "      <th>hosp_patients_per_million</th>\n",
              "      <th>weekly_icu_admissions</th>\n",
              "      <th>weekly_icu_admissions_per_million</th>\n",
              "      <th>weekly_hosp_admissions</th>\n",
              "      <th>weekly_hosp_admissions_per_million</th>\n",
              "      <th>new_tests</th>\n",
              "      <th>total_tests</th>\n",
              "      <th>total_tests_per_thousand</th>\n",
              "      <th>new_tests_per_thousand</th>\n",
              "      <th>new_tests_smoothed</th>\n",
              "      <th>new_tests_smoothed_per_thousand</th>\n",
              "      <th>positive_rate</th>\n",
              "      <th>tests_per_case</th>\n",
              "      <th>tests_units</th>\n",
              "      <th>total_vaccinations</th>\n",
              "      <th>people_vaccinated</th>\n",
              "      <th>people_fully_vaccinated</th>\n",
              "      <th>new_vaccinations</th>\n",
              "      <th>new_vaccinations_smoothed</th>\n",
              "      <th>total_vaccinations_per_hundred</th>\n",
              "      <th>people_vaccinated_per_hundred</th>\n",
              "      <th>people_fully_vaccinated_per_hundred</th>\n",
              "      <th>new_vaccinations_smoothed_per_million</th>\n",
              "      <th>stringency_index</th>\n",
              "      <th>population</th>\n",
              "      <th>population_density</th>\n",
              "      <th>median_age</th>\n",
              "      <th>aged_65_older</th>\n",
              "      <th>aged_70_older</th>\n",
              "      <th>gdp_per_capita</th>\n",
              "      <th>extreme_poverty</th>\n",
              "      <th>cardiovasc_death_rate</th>\n",
              "      <th>diabetes_prevalence</th>\n",
              "      <th>female_smokers</th>\n",
              "      <th>male_smokers</th>\n",
              "      <th>handwashing_facilities</th>\n",
              "      <th>hospital_beds_per_thousand</th>\n",
              "      <th>life_expectancy</th>\n",
              "      <th>human_development_index</th>\n",
              "    </tr>\n",
              "  </thead>\n",
              "  <tbody>\n",
              "    <tr>\n",
              "      <th>69575</th>\n",
              "      <td>USA</td>\n",
              "      <td>North America</td>\n",
              "      <td>United States</td>\n",
              "      <td>2021-03-05</td>\n",
              "      <td>28894541.0</td>\n",
              "      <td>66786.0</td>\n",
              "      <td>61621.571</td>\n",
              "      <td>522877.0</td>\n",
              "      <td>1758.0</td>\n",
              "      <td>1730.429</td>\n",
              "      <td>87293.988</td>\n",
              "      <td>201.769</td>\n",
              "      <td>186.166</td>\n",
              "      <td>1579.676</td>\n",
              "      <td>5.311</td>\n",
              "      <td>5.228</td>\n",
              "      <td>0.92</td>\n",
              "      <td>NaN</td>\n",
              "      <td>NaN</td>\n",
              "      <td>NaN</td>\n",
              "      <td>NaN</td>\n",
              "      <td>NaN</td>\n",
              "      <td>NaN</td>\n",
              "      <td>NaN</td>\n",
              "      <td>NaN</td>\n",
              "      <td>NaN</td>\n",
              "      <td>NaN</td>\n",
              "      <td>NaN</td>\n",
              "      <td>NaN</td>\n",
              "      <td>NaN</td>\n",
              "      <td>NaN</td>\n",
              "      <td>NaN</td>\n",
              "      <td>NaN</td>\n",
              "      <td>NaN</td>\n",
              "      <td>85008094.0</td>\n",
              "      <td>55547697.0</td>\n",
              "      <td>28701201.0</td>\n",
              "      <td>2435246.0</td>\n",
              "      <td>2079147.0</td>\n",
              "      <td>25.42</td>\n",
              "      <td>16.61</td>\n",
              "      <td>8.58</td>\n",
              "      <td>6217.0</td>\n",
              "      <td>NaN</td>\n",
              "      <td>3.310026e+08</td>\n",
              "      <td>35.608</td>\n",
              "      <td>38.3</td>\n",
              "      <td>15.413</td>\n",
              "      <td>9.732</td>\n",
              "      <td>54225.446</td>\n",
              "      <td>1.2</td>\n",
              "      <td>151.089</td>\n",
              "      <td>10.79</td>\n",
              "      <td>19.1</td>\n",
              "      <td>24.6</td>\n",
              "      <td>NaN</td>\n",
              "      <td>2.77</td>\n",
              "      <td>78.86</td>\n",
              "      <td>0.926</td>\n",
              "    </tr>\n",
              "    <tr>\n",
              "      <th>30388</th>\n",
              "      <td>IND</td>\n",
              "      <td>Asia</td>\n",
              "      <td>India</td>\n",
              "      <td>2021-03-05</td>\n",
              "      <td>11192045.0</td>\n",
              "      <td>18284.0</td>\n",
              "      <td>16009.429</td>\n",
              "      <td>157656.0</td>\n",
              "      <td>108.0</td>\n",
              "      <td>102.571</td>\n",
              "      <td>8110.152</td>\n",
              "      <td>13.249</td>\n",
              "      <td>11.601</td>\n",
              "      <td>114.243</td>\n",
              "      <td>0.078</td>\n",
              "      <td>0.074</td>\n",
              "      <td>1.09</td>\n",
              "      <td>NaN</td>\n",
              "      <td>NaN</td>\n",
              "      <td>NaN</td>\n",
              "      <td>NaN</td>\n",
              "      <td>NaN</td>\n",
              "      <td>NaN</td>\n",
              "      <td>NaN</td>\n",
              "      <td>NaN</td>\n",
              "      <td>NaN</td>\n",
              "      <td>NaN</td>\n",
              "      <td>NaN</td>\n",
              "      <td>NaN</td>\n",
              "      <td>NaN</td>\n",
              "      <td>NaN</td>\n",
              "      <td>NaN</td>\n",
              "      <td>NaN</td>\n",
              "      <td>NaN</td>\n",
              "      <td>19497704.0</td>\n",
              "      <td>15996683.0</td>\n",
              "      <td>3501021.0</td>\n",
              "      <td>1492201.0</td>\n",
              "      <td>820109.0</td>\n",
              "      <td>1.41</td>\n",
              "      <td>1.16</td>\n",
              "      <td>0.25</td>\n",
              "      <td>594.0</td>\n",
              "      <td>NaN</td>\n",
              "      <td>1.380004e+09</td>\n",
              "      <td>450.419</td>\n",
              "      <td>28.2</td>\n",
              "      <td>5.989</td>\n",
              "      <td>3.414</td>\n",
              "      <td>6426.674</td>\n",
              "      <td>21.2</td>\n",
              "      <td>282.280</td>\n",
              "      <td>10.39</td>\n",
              "      <td>1.9</td>\n",
              "      <td>20.6</td>\n",
              "      <td>59.55</td>\n",
              "      <td>0.53</td>\n",
              "      <td>69.66</td>\n",
              "      <td>0.645</td>\n",
              "    </tr>\n",
              "    <tr>\n",
              "      <th>9755</th>\n",
              "      <td>BRA</td>\n",
              "      <td>South America</td>\n",
              "      <td>Brazil</td>\n",
              "      <td>2021-03-05</td>\n",
              "      <td>10869227.0</td>\n",
              "      <td>75495.0</td>\n",
              "      <td>59085.286</td>\n",
              "      <td>262770.0</td>\n",
              "      <td>1800.0</td>\n",
              "      <td>1419.286</td>\n",
              "      <td>51135.008</td>\n",
              "      <td>355.171</td>\n",
              "      <td>277.971</td>\n",
              "      <td>1236.219</td>\n",
              "      <td>8.468</td>\n",
              "      <td>6.677</td>\n",
              "      <td>1.11</td>\n",
              "      <td>NaN</td>\n",
              "      <td>NaN</td>\n",
              "      <td>NaN</td>\n",
              "      <td>NaN</td>\n",
              "      <td>NaN</td>\n",
              "      <td>NaN</td>\n",
              "      <td>NaN</td>\n",
              "      <td>NaN</td>\n",
              "      <td>NaN</td>\n",
              "      <td>NaN</td>\n",
              "      <td>NaN</td>\n",
              "      <td>NaN</td>\n",
              "      <td>NaN</td>\n",
              "      <td>NaN</td>\n",
              "      <td>NaN</td>\n",
              "      <td>NaN</td>\n",
              "      <td>NaN</td>\n",
              "      <td>10169160.0</td>\n",
              "      <td>7701146.0</td>\n",
              "      <td>2468014.0</td>\n",
              "      <td>429484.0</td>\n",
              "      <td>295339.0</td>\n",
              "      <td>4.78</td>\n",
              "      <td>3.62</td>\n",
              "      <td>1.16</td>\n",
              "      <td>1389.0</td>\n",
              "      <td>NaN</td>\n",
              "      <td>2.125594e+08</td>\n",
              "      <td>25.040</td>\n",
              "      <td>33.5</td>\n",
              "      <td>8.552</td>\n",
              "      <td>5.060</td>\n",
              "      <td>14103.452</td>\n",
              "      <td>3.4</td>\n",
              "      <td>177.961</td>\n",
              "      <td>8.11</td>\n",
              "      <td>10.1</td>\n",
              "      <td>17.9</td>\n",
              "      <td>NaN</td>\n",
              "      <td>2.20</td>\n",
              "      <td>75.88</td>\n",
              "      <td>0.765</td>\n",
              "    </tr>\n",
              "    <tr>\n",
              "      <th>54403</th>\n",
              "      <td>RUS</td>\n",
              "      <td>Europe</td>\n",
              "      <td>Russia</td>\n",
              "      <td>2021-03-05</td>\n",
              "      <td>4252876.0</td>\n",
              "      <td>10906.0</td>\n",
              "      <td>11017.000</td>\n",
              "      <td>86821.0</td>\n",
              "      <td>453.0</td>\n",
              "      <td>417.286</td>\n",
              "      <td>29142.370</td>\n",
              "      <td>74.732</td>\n",
              "      <td>75.493</td>\n",
              "      <td>594.931</td>\n",
              "      <td>3.104</td>\n",
              "      <td>2.859</td>\n",
              "      <td>0.92</td>\n",
              "      <td>NaN</td>\n",
              "      <td>NaN</td>\n",
              "      <td>NaN</td>\n",
              "      <td>NaN</td>\n",
              "      <td>NaN</td>\n",
              "      <td>NaN</td>\n",
              "      <td>NaN</td>\n",
              "      <td>NaN</td>\n",
              "      <td>NaN</td>\n",
              "      <td>NaN</td>\n",
              "      <td>NaN</td>\n",
              "      <td>NaN</td>\n",
              "      <td>NaN</td>\n",
              "      <td>NaN</td>\n",
              "      <td>NaN</td>\n",
              "      <td>NaN</td>\n",
              "      <td>NaN</td>\n",
              "      <td>6301854.0</td>\n",
              "      <td>4908178.0</td>\n",
              "      <td>1393676.0</td>\n",
              "      <td>291110.0</td>\n",
              "      <td>182043.0</td>\n",
              "      <td>4.32</td>\n",
              "      <td>3.36</td>\n",
              "      <td>0.96</td>\n",
              "      <td>1247.0</td>\n",
              "      <td>NaN</td>\n",
              "      <td>1.459345e+08</td>\n",
              "      <td>8.823</td>\n",
              "      <td>39.6</td>\n",
              "      <td>14.178</td>\n",
              "      <td>9.393</td>\n",
              "      <td>24765.954</td>\n",
              "      <td>0.1</td>\n",
              "      <td>431.297</td>\n",
              "      <td>6.18</td>\n",
              "      <td>23.4</td>\n",
              "      <td>58.3</td>\n",
              "      <td>NaN</td>\n",
              "      <td>8.05</td>\n",
              "      <td>72.58</td>\n",
              "      <td>0.824</td>\n",
              "    </tr>\n",
              "    <tr>\n",
              "      <th>69166</th>\n",
              "      <td>GBR</td>\n",
              "      <td>Europe</td>\n",
              "      <td>United Kingdom</td>\n",
              "      <td>2021-03-05</td>\n",
              "      <td>4219788.0</td>\n",
              "      <td>6024.0</td>\n",
              "      <td>6353.286</td>\n",
              "      <td>124495.0</td>\n",
              "      <td>236.0</td>\n",
              "      <td>263.857</td>\n",
              "      <td>62159.911</td>\n",
              "      <td>88.737</td>\n",
              "      <td>93.588</td>\n",
              "      <td>1833.883</td>\n",
              "      <td>3.476</td>\n",
              "      <td>3.887</td>\n",
              "      <td>0.74</td>\n",
              "      <td>NaN</td>\n",
              "      <td>NaN</td>\n",
              "      <td>NaN</td>\n",
              "      <td>NaN</td>\n",
              "      <td>NaN</td>\n",
              "      <td>NaN</td>\n",
              "      <td>NaN</td>\n",
              "      <td>NaN</td>\n",
              "      <td>NaN</td>\n",
              "      <td>NaN</td>\n",
              "      <td>NaN</td>\n",
              "      <td>NaN</td>\n",
              "      <td>NaN</td>\n",
              "      <td>NaN</td>\n",
              "      <td>NaN</td>\n",
              "      <td>NaN</td>\n",
              "      <td>NaN</td>\n",
              "      <td>NaN</td>\n",
              "      <td>NaN</td>\n",
              "      <td>NaN</td>\n",
              "      <td>NaN</td>\n",
              "      <td>NaN</td>\n",
              "      <td>NaN</td>\n",
              "      <td>NaN</td>\n",
              "      <td>NaN</td>\n",
              "      <td>NaN</td>\n",
              "      <td>NaN</td>\n",
              "      <td>6.788600e+07</td>\n",
              "      <td>272.898</td>\n",
              "      <td>40.8</td>\n",
              "      <td>18.517</td>\n",
              "      <td>12.527</td>\n",
              "      <td>39753.244</td>\n",
              "      <td>0.2</td>\n",
              "      <td>122.137</td>\n",
              "      <td>4.28</td>\n",
              "      <td>20.0</td>\n",
              "      <td>24.7</td>\n",
              "      <td>NaN</td>\n",
              "      <td>2.54</td>\n",
              "      <td>81.32</td>\n",
              "      <td>0.932</td>\n",
              "    </tr>\n",
              "  </tbody>\n",
              "</table>\n",
              "</div>"
            ],
            "text/plain": [
              "      iso_code      continent  ... life_expectancy human_development_index\n",
              "69575      USA  North America  ...           78.86                   0.926\n",
              "30388      IND           Asia  ...           69.66                   0.645\n",
              "9755       BRA  South America  ...           75.88                   0.765\n",
              "54403      RUS         Europe  ...           72.58                   0.824\n",
              "69166      GBR         Europe  ...           81.32                   0.932\n",
              "\n",
              "[5 rows x 59 columns]"
            ]
          },
          "metadata": {
            "tags": []
          },
          "execution_count": 9
        }
      ]
    },
    {
      "cell_type": "code",
      "metadata": {
        "colab": {
          "base_uri": "https://localhost:8080/",
          "height": 309
        },
        "id": "oF42JU3KWWE6",
        "outputId": "3597171c-3fb5-4b9e-9729-91251a445eaa"
      },
      "source": [
        "# Localizando os dados para o dia mais recente do Dataset, organizando pelos lugares com mais mortes\r\n",
        "total_mortes = covid.loc[covid.date == dmax].sort_values(by='total_deaths', ascending = False)\r\n",
        "\r\n",
        "# Deixando apenas os dados referentes à países no Dataset\r\n",
        "total_mortes = total_mortes.dropna(subset=['continent'])\r\n",
        "total_mortes[:5]"
      ],
      "execution_count": 10,
      "outputs": [
        {
          "output_type": "execute_result",
          "data": {
            "text/html": [
              "<div>\n",
              "<style scoped>\n",
              "    .dataframe tbody tr th:only-of-type {\n",
              "        vertical-align: middle;\n",
              "    }\n",
              "\n",
              "    .dataframe tbody tr th {\n",
              "        vertical-align: top;\n",
              "    }\n",
              "\n",
              "    .dataframe thead th {\n",
              "        text-align: right;\n",
              "    }\n",
              "</style>\n",
              "<table border=\"1\" class=\"dataframe\">\n",
              "  <thead>\n",
              "    <tr style=\"text-align: right;\">\n",
              "      <th></th>\n",
              "      <th>iso_code</th>\n",
              "      <th>continent</th>\n",
              "      <th>location</th>\n",
              "      <th>date</th>\n",
              "      <th>total_cases</th>\n",
              "      <th>new_cases</th>\n",
              "      <th>new_cases_smoothed</th>\n",
              "      <th>total_deaths</th>\n",
              "      <th>new_deaths</th>\n",
              "      <th>new_deaths_smoothed</th>\n",
              "      <th>total_cases_per_million</th>\n",
              "      <th>new_cases_per_million</th>\n",
              "      <th>new_cases_smoothed_per_million</th>\n",
              "      <th>total_deaths_per_million</th>\n",
              "      <th>new_deaths_per_million</th>\n",
              "      <th>new_deaths_smoothed_per_million</th>\n",
              "      <th>reproduction_rate</th>\n",
              "      <th>icu_patients</th>\n",
              "      <th>icu_patients_per_million</th>\n",
              "      <th>hosp_patients</th>\n",
              "      <th>hosp_patients_per_million</th>\n",
              "      <th>weekly_icu_admissions</th>\n",
              "      <th>weekly_icu_admissions_per_million</th>\n",
              "      <th>weekly_hosp_admissions</th>\n",
              "      <th>weekly_hosp_admissions_per_million</th>\n",
              "      <th>new_tests</th>\n",
              "      <th>total_tests</th>\n",
              "      <th>total_tests_per_thousand</th>\n",
              "      <th>new_tests_per_thousand</th>\n",
              "      <th>new_tests_smoothed</th>\n",
              "      <th>new_tests_smoothed_per_thousand</th>\n",
              "      <th>positive_rate</th>\n",
              "      <th>tests_per_case</th>\n",
              "      <th>tests_units</th>\n",
              "      <th>total_vaccinations</th>\n",
              "      <th>people_vaccinated</th>\n",
              "      <th>people_fully_vaccinated</th>\n",
              "      <th>new_vaccinations</th>\n",
              "      <th>new_vaccinations_smoothed</th>\n",
              "      <th>total_vaccinations_per_hundred</th>\n",
              "      <th>people_vaccinated_per_hundred</th>\n",
              "      <th>people_fully_vaccinated_per_hundred</th>\n",
              "      <th>new_vaccinations_smoothed_per_million</th>\n",
              "      <th>stringency_index</th>\n",
              "      <th>population</th>\n",
              "      <th>population_density</th>\n",
              "      <th>median_age</th>\n",
              "      <th>aged_65_older</th>\n",
              "      <th>aged_70_older</th>\n",
              "      <th>gdp_per_capita</th>\n",
              "      <th>extreme_poverty</th>\n",
              "      <th>cardiovasc_death_rate</th>\n",
              "      <th>diabetes_prevalence</th>\n",
              "      <th>female_smokers</th>\n",
              "      <th>male_smokers</th>\n",
              "      <th>handwashing_facilities</th>\n",
              "      <th>hospital_beds_per_thousand</th>\n",
              "      <th>life_expectancy</th>\n",
              "      <th>human_development_index</th>\n",
              "    </tr>\n",
              "  </thead>\n",
              "  <tbody>\n",
              "    <tr>\n",
              "      <th>69575</th>\n",
              "      <td>USA</td>\n",
              "      <td>North America</td>\n",
              "      <td>United States</td>\n",
              "      <td>2021-03-05</td>\n",
              "      <td>28894541.0</td>\n",
              "      <td>66786.0</td>\n",
              "      <td>61621.571</td>\n",
              "      <td>522877.0</td>\n",
              "      <td>1758.0</td>\n",
              "      <td>1730.429</td>\n",
              "      <td>87293.988</td>\n",
              "      <td>201.769</td>\n",
              "      <td>186.166</td>\n",
              "      <td>1579.676</td>\n",
              "      <td>5.311</td>\n",
              "      <td>5.228</td>\n",
              "      <td>0.92</td>\n",
              "      <td>NaN</td>\n",
              "      <td>NaN</td>\n",
              "      <td>NaN</td>\n",
              "      <td>NaN</td>\n",
              "      <td>NaN</td>\n",
              "      <td>NaN</td>\n",
              "      <td>NaN</td>\n",
              "      <td>NaN</td>\n",
              "      <td>NaN</td>\n",
              "      <td>NaN</td>\n",
              "      <td>NaN</td>\n",
              "      <td>NaN</td>\n",
              "      <td>NaN</td>\n",
              "      <td>NaN</td>\n",
              "      <td>NaN</td>\n",
              "      <td>NaN</td>\n",
              "      <td>NaN</td>\n",
              "      <td>85008094.0</td>\n",
              "      <td>55547697.0</td>\n",
              "      <td>28701201.0</td>\n",
              "      <td>2435246.0</td>\n",
              "      <td>2079147.0</td>\n",
              "      <td>25.42</td>\n",
              "      <td>16.61</td>\n",
              "      <td>8.58</td>\n",
              "      <td>6217.0</td>\n",
              "      <td>NaN</td>\n",
              "      <td>3.310026e+08</td>\n",
              "      <td>35.608</td>\n",
              "      <td>38.3</td>\n",
              "      <td>15.413</td>\n",
              "      <td>9.732</td>\n",
              "      <td>54225.446</td>\n",
              "      <td>1.2</td>\n",
              "      <td>151.089</td>\n",
              "      <td>10.79</td>\n",
              "      <td>19.1</td>\n",
              "      <td>24.6</td>\n",
              "      <td>NaN</td>\n",
              "      <td>2.77</td>\n",
              "      <td>78.86</td>\n",
              "      <td>0.926</td>\n",
              "    </tr>\n",
              "    <tr>\n",
              "      <th>9755</th>\n",
              "      <td>BRA</td>\n",
              "      <td>South America</td>\n",
              "      <td>Brazil</td>\n",
              "      <td>2021-03-05</td>\n",
              "      <td>10869227.0</td>\n",
              "      <td>75495.0</td>\n",
              "      <td>59085.286</td>\n",
              "      <td>262770.0</td>\n",
              "      <td>1800.0</td>\n",
              "      <td>1419.286</td>\n",
              "      <td>51135.008</td>\n",
              "      <td>355.171</td>\n",
              "      <td>277.971</td>\n",
              "      <td>1236.219</td>\n",
              "      <td>8.468</td>\n",
              "      <td>6.677</td>\n",
              "      <td>1.11</td>\n",
              "      <td>NaN</td>\n",
              "      <td>NaN</td>\n",
              "      <td>NaN</td>\n",
              "      <td>NaN</td>\n",
              "      <td>NaN</td>\n",
              "      <td>NaN</td>\n",
              "      <td>NaN</td>\n",
              "      <td>NaN</td>\n",
              "      <td>NaN</td>\n",
              "      <td>NaN</td>\n",
              "      <td>NaN</td>\n",
              "      <td>NaN</td>\n",
              "      <td>NaN</td>\n",
              "      <td>NaN</td>\n",
              "      <td>NaN</td>\n",
              "      <td>NaN</td>\n",
              "      <td>NaN</td>\n",
              "      <td>10169160.0</td>\n",
              "      <td>7701146.0</td>\n",
              "      <td>2468014.0</td>\n",
              "      <td>429484.0</td>\n",
              "      <td>295339.0</td>\n",
              "      <td>4.78</td>\n",
              "      <td>3.62</td>\n",
              "      <td>1.16</td>\n",
              "      <td>1389.0</td>\n",
              "      <td>NaN</td>\n",
              "      <td>2.125594e+08</td>\n",
              "      <td>25.040</td>\n",
              "      <td>33.5</td>\n",
              "      <td>8.552</td>\n",
              "      <td>5.060</td>\n",
              "      <td>14103.452</td>\n",
              "      <td>3.4</td>\n",
              "      <td>177.961</td>\n",
              "      <td>8.11</td>\n",
              "      <td>10.1</td>\n",
              "      <td>17.9</td>\n",
              "      <td>NaN</td>\n",
              "      <td>2.20</td>\n",
              "      <td>75.88</td>\n",
              "      <td>0.765</td>\n",
              "    </tr>\n",
              "    <tr>\n",
              "      <th>42801</th>\n",
              "      <td>MEX</td>\n",
              "      <td>North America</td>\n",
              "      <td>Mexico</td>\n",
              "      <td>2021-03-05</td>\n",
              "      <td>2119305.0</td>\n",
              "      <td>6797.0</td>\n",
              "      <td>6060.429</td>\n",
              "      <td>189578.0</td>\n",
              "      <td>712.0</td>\n",
              "      <td>729.143</td>\n",
              "      <td>16437.290</td>\n",
              "      <td>52.717</td>\n",
              "      <td>47.005</td>\n",
              "      <td>1470.363</td>\n",
              "      <td>5.522</td>\n",
              "      <td>5.655</td>\n",
              "      <td>0.91</td>\n",
              "      <td>NaN</td>\n",
              "      <td>NaN</td>\n",
              "      <td>NaN</td>\n",
              "      <td>NaN</td>\n",
              "      <td>NaN</td>\n",
              "      <td>NaN</td>\n",
              "      <td>NaN</td>\n",
              "      <td>NaN</td>\n",
              "      <td>NaN</td>\n",
              "      <td>NaN</td>\n",
              "      <td>NaN</td>\n",
              "      <td>NaN</td>\n",
              "      <td>NaN</td>\n",
              "      <td>NaN</td>\n",
              "      <td>NaN</td>\n",
              "      <td>NaN</td>\n",
              "      <td>NaN</td>\n",
              "      <td>2731900.0</td>\n",
              "      <td>2128766.0</td>\n",
              "      <td>603134.0</td>\n",
              "      <td>55865.0</td>\n",
              "      <td>65838.0</td>\n",
              "      <td>2.12</td>\n",
              "      <td>1.65</td>\n",
              "      <td>0.47</td>\n",
              "      <td>511.0</td>\n",
              "      <td>NaN</td>\n",
              "      <td>1.289328e+08</td>\n",
              "      <td>66.444</td>\n",
              "      <td>29.3</td>\n",
              "      <td>6.857</td>\n",
              "      <td>4.321</td>\n",
              "      <td>17336.469</td>\n",
              "      <td>2.5</td>\n",
              "      <td>152.783</td>\n",
              "      <td>13.06</td>\n",
              "      <td>6.9</td>\n",
              "      <td>21.4</td>\n",
              "      <td>87.847</td>\n",
              "      <td>1.38</td>\n",
              "      <td>75.05</td>\n",
              "      <td>0.779</td>\n",
              "    </tr>\n",
              "    <tr>\n",
              "      <th>30388</th>\n",
              "      <td>IND</td>\n",
              "      <td>Asia</td>\n",
              "      <td>India</td>\n",
              "      <td>2021-03-05</td>\n",
              "      <td>11192045.0</td>\n",
              "      <td>18284.0</td>\n",
              "      <td>16009.429</td>\n",
              "      <td>157656.0</td>\n",
              "      <td>108.0</td>\n",
              "      <td>102.571</td>\n",
              "      <td>8110.152</td>\n",
              "      <td>13.249</td>\n",
              "      <td>11.601</td>\n",
              "      <td>114.243</td>\n",
              "      <td>0.078</td>\n",
              "      <td>0.074</td>\n",
              "      <td>1.09</td>\n",
              "      <td>NaN</td>\n",
              "      <td>NaN</td>\n",
              "      <td>NaN</td>\n",
              "      <td>NaN</td>\n",
              "      <td>NaN</td>\n",
              "      <td>NaN</td>\n",
              "      <td>NaN</td>\n",
              "      <td>NaN</td>\n",
              "      <td>NaN</td>\n",
              "      <td>NaN</td>\n",
              "      <td>NaN</td>\n",
              "      <td>NaN</td>\n",
              "      <td>NaN</td>\n",
              "      <td>NaN</td>\n",
              "      <td>NaN</td>\n",
              "      <td>NaN</td>\n",
              "      <td>NaN</td>\n",
              "      <td>19497704.0</td>\n",
              "      <td>15996683.0</td>\n",
              "      <td>3501021.0</td>\n",
              "      <td>1492201.0</td>\n",
              "      <td>820109.0</td>\n",
              "      <td>1.41</td>\n",
              "      <td>1.16</td>\n",
              "      <td>0.25</td>\n",
              "      <td>594.0</td>\n",
              "      <td>NaN</td>\n",
              "      <td>1.380004e+09</td>\n",
              "      <td>450.419</td>\n",
              "      <td>28.2</td>\n",
              "      <td>5.989</td>\n",
              "      <td>3.414</td>\n",
              "      <td>6426.674</td>\n",
              "      <td>21.2</td>\n",
              "      <td>282.280</td>\n",
              "      <td>10.39</td>\n",
              "      <td>1.9</td>\n",
              "      <td>20.6</td>\n",
              "      <td>59.550</td>\n",
              "      <td>0.53</td>\n",
              "      <td>69.66</td>\n",
              "      <td>0.645</td>\n",
              "    </tr>\n",
              "    <tr>\n",
              "      <th>69166</th>\n",
              "      <td>GBR</td>\n",
              "      <td>Europe</td>\n",
              "      <td>United Kingdom</td>\n",
              "      <td>2021-03-05</td>\n",
              "      <td>4219788.0</td>\n",
              "      <td>6024.0</td>\n",
              "      <td>6353.286</td>\n",
              "      <td>124495.0</td>\n",
              "      <td>236.0</td>\n",
              "      <td>263.857</td>\n",
              "      <td>62159.911</td>\n",
              "      <td>88.737</td>\n",
              "      <td>93.588</td>\n",
              "      <td>1833.883</td>\n",
              "      <td>3.476</td>\n",
              "      <td>3.887</td>\n",
              "      <td>0.74</td>\n",
              "      <td>NaN</td>\n",
              "      <td>NaN</td>\n",
              "      <td>NaN</td>\n",
              "      <td>NaN</td>\n",
              "      <td>NaN</td>\n",
              "      <td>NaN</td>\n",
              "      <td>NaN</td>\n",
              "      <td>NaN</td>\n",
              "      <td>NaN</td>\n",
              "      <td>NaN</td>\n",
              "      <td>NaN</td>\n",
              "      <td>NaN</td>\n",
              "      <td>NaN</td>\n",
              "      <td>NaN</td>\n",
              "      <td>NaN</td>\n",
              "      <td>NaN</td>\n",
              "      <td>NaN</td>\n",
              "      <td>NaN</td>\n",
              "      <td>NaN</td>\n",
              "      <td>NaN</td>\n",
              "      <td>NaN</td>\n",
              "      <td>NaN</td>\n",
              "      <td>NaN</td>\n",
              "      <td>NaN</td>\n",
              "      <td>NaN</td>\n",
              "      <td>NaN</td>\n",
              "      <td>NaN</td>\n",
              "      <td>6.788600e+07</td>\n",
              "      <td>272.898</td>\n",
              "      <td>40.8</td>\n",
              "      <td>18.517</td>\n",
              "      <td>12.527</td>\n",
              "      <td>39753.244</td>\n",
              "      <td>0.2</td>\n",
              "      <td>122.137</td>\n",
              "      <td>4.28</td>\n",
              "      <td>20.0</td>\n",
              "      <td>24.7</td>\n",
              "      <td>NaN</td>\n",
              "      <td>2.54</td>\n",
              "      <td>81.32</td>\n",
              "      <td>0.932</td>\n",
              "    </tr>\n",
              "  </tbody>\n",
              "</table>\n",
              "</div>"
            ],
            "text/plain": [
              "      iso_code      continent  ... life_expectancy human_development_index\n",
              "69575      USA  North America  ...           78.86                   0.926\n",
              "9755       BRA  South America  ...           75.88                   0.765\n",
              "42801      MEX  North America  ...           75.05                   0.779\n",
              "30388      IND           Asia  ...           69.66                   0.645\n",
              "69166      GBR         Europe  ...           81.32                   0.932\n",
              "\n",
              "[5 rows x 59 columns]"
            ]
          },
          "metadata": {
            "tags": []
          },
          "execution_count": 10
        }
      ]
    },
    {
      "cell_type": "markdown",
      "metadata": {
        "id": "KZKg9u8MJNAe"
      },
      "source": [
        "Agora vamos plotar alguns gráficos para facilitar a visualização."
      ]
    },
    {
      "cell_type": "code",
      "metadata": {
        "colab": {
          "base_uri": "https://localhost:8080/",
          "height": 426
        },
        "id": "SjcSauQnj54N",
        "outputId": "158b3cad-6b60-4293-e0bb-7992aa7be1d4"
      },
      "source": [
        "# Top ten de mortes\r\n",
        "top10_tm = total_mortes.head(10)\r\n",
        "\r\n",
        "# Plotando o total de mortes\r\n",
        "fig, ax = plt.subplots(figsize=(10,5))\r\n",
        "ax.bar('location','total_deaths', data=top10_tm)\r\n",
        "plt.xticks(rotation=90)\r\n",
        "plt.suptitle('Países com mais mortes por COVID-19 no dia {}'.format(covid.date.dt.date.max()))\r\n",
        "plt.show()"
      ],
      "execution_count": 11,
      "outputs": [
        {
          "output_type": "display_data",
          "data": {
            "image/png": "[encoded data removed]",
            "text/plain": [
              "<Figure size 720x360 with 1 Axes>"
            ]
          },
          "metadata": {
            "tags": [],
            "needs_background": "light"
          }
        }
      ]
    },
    {
      "cell_type": "code",
      "metadata": {
        "colab": {
          "base_uri": "https://localhost:8080/",
          "height": 381
        },
        "id": "0jD5nfiWlxXo",
        "outputId": "3a0e4a96-b316-43c6-df12-07ea9bff774e"
      },
      "source": [
        "# Criando backup pra não comprometer o dataset original\r\n",
        "covid1 = covid.copy()\r\n",
        "\r\n",
        "# Plotando o a evolução da covid no mundo\r\n",
        "covid1 = covid1.loc[covid1.location ==\"World\"].reset_index(drop=True)\r\n",
        "covid1.groupby(['date'])['total_cases'].sum().plot(figsize=(10,5))\r\n",
        "plt.suptitle('Evolução de Nº de casos da COVID-19 na série histórica de estudo',fontsize=15)\r\n",
        "plt.show()"
      ],
      "execution_count": 12,
      "outputs": [
        {
          "output_type": "display_data",
          "data": {
            "image/png": "[encoded data removed]",
            "text/plain": [
              "<Figure size 720x360 with 1 Axes>"
            ]
          },
          "metadata": {
            "tags": [],
            "needs_background": "light"
          }
        }
      ]
    },
    {
      "cell_type": "markdown",
      "metadata": {
        "id": "lVhbsTGRZtgb"
      },
      "source": [
        "### **Dados de Vacinas**\r\n",
        "\r\n",
        "<center><img width=\"65%\" src=\"https://raw.githubusercontent.com/otaviodefilpo/covid-19-inbrazil-vaccines-cases-deaths/main/vacina-paises.jpeg\"></center>\r\n",
        "\r\n",
        "***Partindo para as análises sobre vacinas!***\r\n",
        "\r\n",
        "Observando o Dataset vemos que os dados sobre vacina possuem muitos valores em NaN, pois como a vacina foi criada apenas recentemente, esses dados não existiam nos primeiros meses da nossa série. Os nossos próximos passos são:\r\n",
        "* Isolar os dados referentes à vacinas que são:\r\n",
        "\r\n",
        "`total_vaccinations`,\t`people_vaccinated`, `people_fully_vaccinated`, `\tnew_vaccinations`,\t`new_vaccinations_smoothed`, `\ttotal_vaccinations_per_hundred`, `people_vaccinated_per_hundred`, `\tpeople_fully_vaccinated_per_hundred`, `\tnew_vaccinations_smoothed_per_million`\r\n",
        "\r\n",
        "**Adicionaremos também alguns dados gerais para auxiliar nossa análise que são:*\r\n",
        "\r\n",
        "`iso_code`,\t`continent`, `location`,\t`date`, `life_expectancy`, `human_development_index`, `aged_65_older`, `aged_70_older`, `stringency_index`,`population_density`, `median_age`\r\n",
        "\r\n",
        "* Limpar esses dados mais antigos que não serão úteis para visualizar dados sobre vacinas"
      ]
    },
    {
      "cell_type": "code",
      "metadata": {
        "id": "Am9OeHNTaapT"
      },
      "source": [
        "# Criando dataframe sobre Vacinas\r\n",
        "vacinas = covid[['iso_code', 'continent', 'location', 'date',\r\n",
        "                 'total_vaccinations', 'people_vaccinated', 'people_fully_vaccinated',\r\n",
        "                'new_vaccinations', 'new_vaccinations_smoothed', 'total_vaccinations_per_hundred',\r\n",
        "                'people_vaccinated_per_hundred', 'people_fully_vaccinated_per_hundred', 'new_vaccinations_smoothed_per_million',\r\n",
        "                 'life_expectancy', 'human_development_index', 'aged_65_older',\r\n",
        "                 'aged_70_older', 'stringency_index', 'population_density', 'median_age']].copy()"
      ],
      "execution_count": 13,
      "outputs": []
    },
    {
      "cell_type": "code",
      "metadata": {
        "id": "YLj8jdWbi7Y0"
      },
      "source": [
        "# Limpando os valores ausentes anteriores à primeira vacina\r\n",
        "vacinas.dropna(subset = ['total_vaccinations'] , axis=0, inplace= True)"
      ],
      "execution_count": 14,
      "outputs": []
    },
    {
      "cell_type": "code",
      "metadata": {
        "colab": {
          "base_uri": "https://localhost:8080/"
        },
        "id": "m6kjT4yenLLA",
        "outputId": "79ecf7c4-ddc6-4a9b-9819-65453882e0f8"
      },
      "source": [
        "# Verificando o tamanho do nosso novo dataset\r\n",
        "print(\"O dataframe possui {} entradas e {} variáveis\".format(vacinas.shape[0],vacinas.shape[1]))"
      ],
      "execution_count": 15,
      "outputs": [
        {
          "output_type": "stream",
          "text": [
            "O dataframe possui 3286 entradas e 20 variáveis\n"
          ],
          "name": "stdout"
        }
      ]
    },
    {
      "cell_type": "code",
      "metadata": {
        "colab": {
          "base_uri": "https://localhost:8080/"
        },
        "id": "uM-kliuLpthB",
        "outputId": "27cb2dab-c1d6-4dd6-ac6a-0e24b7afd13e"
      },
      "source": [
        "# Verificando quantos valores ausentes possuímos no nosso Dataset\r\n",
        "round((vacinas.isnull().sum() / vacinas.shape[0]).sort_values(ascending=False),2)"
      ],
      "execution_count": 16,
      "outputs": [
        {
          "output_type": "execute_result",
          "data": {
            "text/plain": [
              "people_fully_vaccinated_per_hundred      0.42\n",
              "people_fully_vaccinated                  0.42\n",
              "stringency_index                         0.21\n",
              "new_vaccinations                         0.16\n",
              "people_vaccinated_per_hundred            0.14\n",
              "people_vaccinated                        0.14\n",
              "aged_70_older                            0.08\n",
              "median_age                               0.07\n",
              "aged_65_older                            0.07\n",
              "human_development_index                  0.07\n",
              "continent                                0.05\n",
              "new_vaccinations_smoothed_per_million    0.04\n",
              "new_vaccinations_smoothed                0.04\n",
              "population_density                       0.03\n",
              "life_expectancy                          0.03\n",
              "location                                 0.00\n",
              "total_vaccinations_per_hundred           0.00\n",
              "date                                     0.00\n",
              "total_vaccinations                       0.00\n",
              "iso_code                                 0.00\n",
              "dtype: float64"
            ]
          },
          "metadata": {
            "tags": []
          },
          "execution_count": 16
        }
      ]
    },
    {
      "cell_type": "code",
      "metadata": {
        "colab": {
          "base_uri": "https://localhost:8080/",
          "height": 317
        },
        "id": "hj_E7-BerGz6",
        "outputId": "ca59bed4-0c42-4bcf-c835-f2f20d723b70"
      },
      "source": [
        "# Agora vamos utilizar o método describe()\r\n",
        "vacinas.describe()"
      ],
      "execution_count": 17,
      "outputs": [
        {
          "output_type": "execute_result",
          "data": {
            "text/html": [
              "<div>\n",
              "<style scoped>\n",
              "    .dataframe tbody tr th:only-of-type {\n",
              "        vertical-align: middle;\n",
              "    }\n",
              "\n",
              "    .dataframe tbody tr th {\n",
              "        vertical-align: top;\n",
              "    }\n",
              "\n",
              "    .dataframe thead th {\n",
              "        text-align: right;\n",
              "    }\n",
              "</style>\n",
              "<table border=\"1\" class=\"dataframe\">\n",
              "  <thead>\n",
              "    <tr style=\"text-align: right;\">\n",
              "      <th></th>\n",
              "      <th>total_vaccinations</th>\n",
              "      <th>people_vaccinated</th>\n",
              "      <th>people_fully_vaccinated</th>\n",
              "      <th>new_vaccinations</th>\n",
              "      <th>new_vaccinations_smoothed</th>\n",
              "      <th>total_vaccinations_per_hundred</th>\n",
              "      <th>people_vaccinated_per_hundred</th>\n",
              "      <th>people_fully_vaccinated_per_hundred</th>\n",
              "      <th>new_vaccinations_smoothed_per_million</th>\n",
              "      <th>life_expectancy</th>\n",
              "      <th>human_development_index</th>\n",
              "      <th>aged_65_older</th>\n",
              "      <th>aged_70_older</th>\n",
              "      <th>stringency_index</th>\n",
              "      <th>population_density</th>\n",
              "      <th>median_age</th>\n",
              "    </tr>\n",
              "  </thead>\n",
              "  <tbody>\n",
              "    <tr>\n",
              "      <th>count</th>\n",
              "      <td>3.286000e+03</td>\n",
              "      <td>2.814000e+03</td>\n",
              "      <td>1.891000e+03</td>\n",
              "      <td>2.771000e+03</td>\n",
              "      <td>3.151000e+03</td>\n",
              "      <td>3286.000000</td>\n",
              "      <td>2814.000000</td>\n",
              "      <td>1891.000000</td>\n",
              "      <td>3151.000000</td>\n",
              "      <td>3202.000000</td>\n",
              "      <td>3055.000000</td>\n",
              "      <td>3043.000000</td>\n",
              "      <td>3010.000000</td>\n",
              "      <td>2596.000000</td>\n",
              "      <td>3192.000000</td>\n",
              "      <td>3043.000000</td>\n",
              "    </tr>\n",
              "    <tr>\n",
              "      <th>mean</th>\n",
              "      <td>4.437156e+06</td>\n",
              "      <td>3.336656e+06</td>\n",
              "      <td>1.399745e+06</td>\n",
              "      <td>1.926501e+05</td>\n",
              "      <td>1.610325e+05</td>\n",
              "      <td>6.994391</td>\n",
              "      <td>5.260768</td>\n",
              "      <td>2.641142</td>\n",
              "      <td>2496.872421</td>\n",
              "      <td>78.792589</td>\n",
              "      <td>0.854836</td>\n",
              "      <td>14.228627</td>\n",
              "      <td>9.308973</td>\n",
              "      <td>67.901383</td>\n",
              "      <td>329.421290</td>\n",
              "      <td>38.314197</td>\n",
              "    </tr>\n",
              "    <tr>\n",
              "      <th>std</th>\n",
              "      <td>2.139369e+07</td>\n",
              "      <td>1.374708e+07</td>\n",
              "      <td>5.552360e+06</td>\n",
              "      <td>8.251820e+05</td>\n",
              "      <td>6.631655e+05</td>\n",
              "      <td>14.241411</td>\n",
              "      <td>9.656268</td>\n",
              "      <td>6.161818</td>\n",
              "      <td>4209.144025</td>\n",
              "      <td>3.846036</td>\n",
              "      <td>0.082732</td>\n",
              "      <td>6.172641</td>\n",
              "      <td>4.387488</td>\n",
              "      <td>12.398133</td>\n",
              "      <td>1074.223157</td>\n",
              "      <td>6.304682</td>\n",
              "    </tr>\n",
              "    <tr>\n",
              "      <th>min</th>\n",
              "      <td>0.000000e+00</td>\n",
              "      <td>0.000000e+00</td>\n",
              "      <td>1.000000e+00</td>\n",
              "      <td>-1.107600e+04</td>\n",
              "      <td>1.000000e+00</td>\n",
              "      <td>0.000000</td>\n",
              "      <td>0.000000</td>\n",
              "      <td>0.000000</td>\n",
              "      <td>0.000000</td>\n",
              "      <td>61.490000</td>\n",
              "      <td>0.512000</td>\n",
              "      <td>1.144000</td>\n",
              "      <td>0.526000</td>\n",
              "      <td>19.440000</td>\n",
              "      <td>0.137000</td>\n",
              "      <td>18.700000</td>\n",
              "    </tr>\n",
              "    <tr>\n",
              "      <th>25%</th>\n",
              "      <td>3.204425e+04</td>\n",
              "      <td>3.067425e+04</td>\n",
              "      <td>1.588050e+04</td>\n",
              "      <td>2.346000e+03</td>\n",
              "      <td>2.331500e+03</td>\n",
              "      <td>0.540000</td>\n",
              "      <td>0.550000</td>\n",
              "      <td>0.260000</td>\n",
              "      <td>437.000000</td>\n",
              "      <td>76.670000</td>\n",
              "      <td>0.814000</td>\n",
              "      <td>8.606000</td>\n",
              "      <td>5.331000</td>\n",
              "      <td>60.190000</td>\n",
              "      <td>45.135000</td>\n",
              "      <td>31.900000</td>\n",
              "    </tr>\n",
              "    <tr>\n",
              "      <th>50%</th>\n",
              "      <td>2.186450e+05</td>\n",
              "      <td>2.064080e+05</td>\n",
              "      <td>8.654600e+04</td>\n",
              "      <td>1.296000e+04</td>\n",
              "      <td>1.128700e+04</td>\n",
              "      <td>2.540000</td>\n",
              "      <td>2.370000</td>\n",
              "      <td>0.940000</td>\n",
              "      <td>1192.000000</td>\n",
              "      <td>78.920000</td>\n",
              "      <td>0.880000</td>\n",
              "      <td>16.763000</td>\n",
              "      <td>10.202000</td>\n",
              "      <td>70.370000</td>\n",
              "      <td>104.914000</td>\n",
              "      <td>41.000000</td>\n",
              "    </tr>\n",
              "    <tr>\n",
              "      <th>75%</th>\n",
              "      <td>1.254901e+06</td>\n",
              "      <td>1.088853e+06</td>\n",
              "      <td>4.926310e+05</td>\n",
              "      <td>7.374550e+04</td>\n",
              "      <td>6.695200e+04</td>\n",
              "      <td>6.627500</td>\n",
              "      <td>4.730000</td>\n",
              "      <td>2.330000</td>\n",
              "      <td>2215.500000</td>\n",
              "      <td>82.050000</td>\n",
              "      <td>0.919000</td>\n",
              "      <td>19.426000</td>\n",
              "      <td>13.053000</td>\n",
              "      <td>76.850000</td>\n",
              "      <td>214.243000</td>\n",
              "      <td>43.300000</td>\n",
              "    </tr>\n",
              "    <tr>\n",
              "      <th>max</th>\n",
              "      <td>2.919272e+08</td>\n",
              "      <td>1.722122e+08</td>\n",
              "      <td>6.300283e+07</td>\n",
              "      <td>1.650363e+07</td>\n",
              "      <td>8.071404e+06</td>\n",
              "      <td>122.640000</td>\n",
              "      <td>77.660000</td>\n",
              "      <td>44.980000</td>\n",
              "      <td>54264.000000</td>\n",
              "      <td>86.750000</td>\n",
              "      <td>0.957000</td>\n",
              "      <td>27.049000</td>\n",
              "      <td>18.493000</td>\n",
              "      <td>92.590000</td>\n",
              "      <td>20546.766000</td>\n",
              "      <td>48.200000</td>\n",
              "    </tr>\n",
              "  </tbody>\n",
              "</table>\n",
              "</div>"
            ],
            "text/plain": [
              "       total_vaccinations  people_vaccinated  ...  population_density   median_age\n",
              "count        3.286000e+03       2.814000e+03  ...         3192.000000  3043.000000\n",
              "mean         4.437156e+06       3.336656e+06  ...          329.421290    38.314197\n",
              "std          2.139369e+07       1.374708e+07  ...         1074.223157     6.304682\n",
              "min          0.000000e+00       0.000000e+00  ...            0.137000    18.700000\n",
              "25%          3.204425e+04       3.067425e+04  ...           45.135000    31.900000\n",
              "50%          2.186450e+05       2.064080e+05  ...          104.914000    41.000000\n",
              "75%          1.254901e+06       1.088853e+06  ...          214.243000    43.300000\n",
              "max          2.919272e+08       1.722122e+08  ...        20546.766000    48.200000\n",
              "\n",
              "[8 rows x 16 columns]"
            ]
          },
          "metadata": {
            "tags": []
          },
          "execution_count": 17
        }
      ]
    },
    {
      "cell_type": "markdown",
      "metadata": {
        "id": "BJJnWMx5n2mh"
      },
      "source": [
        "Aqui temos alguns valores que são outliers, pois são muito maiores que o normal para a fração do dataset, mas como realmente temos países que tiveram muitos valores que extrapolaram a normalidade, vamos usá-los para visualizar essas discrepâncias de números."
      ]
    },
    {
      "cell_type": "markdown",
      "metadata": {
        "id": "6u6-bESytGkL"
      },
      "source": [
        "Vamos observar se existe alguma correlação significativa entre os dados."
      ]
    },
    {
      "cell_type": "code",
      "metadata": {
        "colab": {
          "base_uri": "https://localhost:8080/",
          "height": 740
        },
        "id": "8d-3G6rqtPMn",
        "outputId": "56235422-8b56-4272-e271-56fe32a6ae17"
      },
      "source": [
        "corr_vac = vacinas.corr()\r\n",
        "corr_vac\r\n",
        "fig, ax = plt.subplots(figsize=(10,10));\r\n",
        "sns.heatmap(corr_vac, cmap='RdBu', fmt='2f', square=True, linecolor='white');"
      ],
      "execution_count": 18,
      "outputs": [
        {
          "output_type": "display_data",
          "data": {
            "image/png": "[encoded data removed]",
            "text/plain": [
              "<Figure size 720x720 with 2 Axes>"
            ]
          },
          "metadata": {
            "tags": [],
            "needs_background": "light"
          }
        }
      ]
    },
    {
      "cell_type": "markdown",
      "metadata": {
        "id": "lL4B_T5AvpA3"
      },
      "source": [
        "Podemos observar que as correlações mais fortes entre variáveis são as que já eram esperadas, como número total de vacinas e novas vacinas, por exemplo, mas a própria escala nos mostra que não tivemos uma correlação inversa maior que 0.3."
      ]
    },
    {
      "cell_type": "markdown",
      "metadata": {
        "id": "7mf82bMcwAyg"
      },
      "source": [
        "Agora vamos observar dados relevantes sobre a vacinação:\r\n",
        "* 1) Quais os países com mais doses de vacina aplicadas? E por centenas de pessoas?\r\n",
        "* 2) Quais os países com mais pessoas vacinadas? E por centenas de pessoas?\r\n",
        "* 3) Quais os que mais vacinaram completamente? E por centenas de pessoas?\r\n",
        "\r\n",
        "Antes disso vamos definir um dataset para o dia mais atual dos nossos dados"
      ]
    },
    {
      "cell_type": "code",
      "metadata": {
        "id": "qyYvgLps_DO6"
      },
      "source": [
        "# Definindo dia mais recente do Dataset\r\n",
        "vac_hoje = vacinas.loc[vacinas.date == dmax]\r\n",
        "\r\n",
        "# Deixando apenas os dados referentes à países no Dataset\r\n",
        "vac_hoje = vac_hoje.dropna(subset=['continent'])"
      ],
      "execution_count": 19,
      "outputs": []
    },
    {
      "cell_type": "markdown",
      "metadata": {
        "id": "XkbDpt5S6AwJ"
      },
      "source": [
        "**1) Quais os países com mais doses de vacina aplicadas? E por centenas de pessoas?**"
      ]
    },
    {
      "cell_type": "code",
      "metadata": {
        "colab": {
          "base_uri": "https://localhost:8080/",
          "height": 590
        },
        "id": "neEKFHYtr2cD",
        "outputId": "993d75b6-9978-4bff-da41-a118a6abcb2d"
      },
      "source": [
        "# Organizando as variáveis em ordem ascedente\r\n",
        "total_vacs = vac_hoje.sort_values(by='total_vaccinations', ascending = False)\r\n",
        "total_vacs_ph = vac_hoje.sort_values(by='total_vaccinations_per_hundred', ascending=False)\r\n",
        "\r\n",
        "# Plotando os países que mais vacinaram\r\n",
        "fig, (ax1, ax2) = plt.subplots(nrows=1, ncols=2, figsize=(15, 7))\r\n",
        "\r\n",
        "plt.suptitle('Atualizado no dia {}'.format(covid.date.dt.date.max()))\r\n",
        "ax1.bar('location','total_vaccinations', data=total_vacs.head(10))\r\n",
        "ax1.set_title('Países com mais doses de vacina da COVID-19', fontsize=15)\r\n",
        "ax1.set_ylabel('Milhões de doses')\r\n",
        "ax1.set_xlabel('Países')\r\n",
        "ax1.tick_params(labelrotation=90)\r\n",
        "\r\n",
        "ax2.bar('location','total_vaccinations_per_hundred', data=total_vacs_ph.head(10))\r\n",
        "ax2.set_title('Países com mais doses de vacina da COVID-19, por centenas de pessoas'.format(covid.date.dt.date.max()), fontsize= 12)\r\n",
        "ax2.set_ylabel('Doses por centenas de pessoas')\r\n",
        "ax2.set_xlabel('Países')\r\n",
        "ax2.tick_params(labelrotation=90)"
      ],
      "execution_count": 20,
      "outputs": [
        {
          "output_type": "display_data",
          "data": {
            "image/png": "[encoded data removed]",
            "text/plain": [
              "<Figure size 1080x504 with 2 Axes>"
            ]
          },
          "metadata": {
            "tags": [],
            "needs_background": "light"
          }
        }
      ]
    },
    {
      "cell_type": "markdown",
      "metadata": {
        "id": "v28K4hzMp06F"
      },
      "source": [
        "Percebemos que há uma diferença entre os países que mais vacinaram por números absolutos e com esses valores por centenas de pessoas.\r\n",
        "\r\n",
        "Os países mais populosos se destacam em números absolutos, mas os países menores em população se destacam em conseguir vacinar uma parcela maior da sua população, com destaque para Israel."
      ]
    },
    {
      "cell_type": "markdown",
      "metadata": {
        "id": "XCyBrs4Y-ySs"
      },
      "source": [
        "**2) Quais os países com mais pessoas vacinadas? E por centenas de pessoas?**"
      ]
    },
    {
      "cell_type": "code",
      "metadata": {
        "colab": {
          "base_uri": "https://localhost:8080/",
          "height": 550
        },
        "id": "qM95HNdE-2Tf",
        "outputId": "a00a9c54-7f44-4277-a00b-614db6b208ad"
      },
      "source": [
        "# Organizando as variáveis em ordem ascedente\r\n",
        "total_pvacs = vac_hoje.sort_values(by='people_vaccinated', ascending = False)\r\n",
        "total_pvacs_ph = vac_hoje.sort_values(by='people_vaccinated_per_hundred', ascending=False)\r\n",
        "\r\n",
        "# Plotando os países com mais pessoas vacinadas\r\n",
        "fig, (ax1, ax2) = plt.subplots(nrows=1, ncols=2, figsize=(15, 7))\r\n",
        "plt.suptitle('Atualizado no dia {}'.format(covid.date.dt.date.max()))\r\n",
        "\r\n",
        "ax1.bar('location','people_vaccinated', data=total_pvacs.head(10))\r\n",
        "ax1.set_title('Países com mais pessoas vacinadas contra COVID-19', fontsize=15)\r\n",
        "ax1.set_ylabel('Milhões de pessoas')\r\n",
        "ax1.set_xlabel('Países')\r\n",
        "ax1.tick_params(labelrotation=90)\r\n",
        "\r\n",
        "ax2.bar('location','people_vaccinated_per_hundred', data=total_pvacs_ph.head(10))\r\n",
        "ax2.set_title('Países com mais pessoas vacinadas contra COVID-19, por centenas de pessoas'.format(covid.date.dt.date.max()), fontsize=10)\r\n",
        "ax2.set_ylabel('Pessoas vacinadas por centenas de habitantes')\r\n",
        "ax2.set_xlabel('Países')\r\n",
        "ax2.tick_params(labelrotation=90)"
      ],
      "execution_count": 21,
      "outputs": [
        {
          "output_type": "display_data",
          "data": {
            "image/png": "[encoded data removed]",
            "text/plain": [
              "<Figure size 1080x504 with 2 Axes>"
            ]
          },
          "metadata": {
            "tags": [],
            "needs_background": "light"
          }
        }
      ]
    },
    {
      "cell_type": "markdown",
      "metadata": {
        "id": "tOWzcGnlqkVC"
      },
      "source": [
        "Aqui a diferença se repete, com novo destaque para Israel que já tem um número expressivo de ter vacinado 50 a cada 100 habitantes do país."
      ]
    },
    {
      "cell_type": "markdown",
      "metadata": {
        "id": "mbXNqqjQ6H2k"
      },
      "source": [
        "**3) Quais os que mais vacinaram completamente? E por centenas de pessoas?**"
      ]
    },
    {
      "cell_type": "code",
      "metadata": {
        "colab": {
          "base_uri": "https://localhost:8080/",
          "height": 554
        },
        "id": "dAKWSDrbDM5o",
        "outputId": "e8a7dc9a-ce86-417b-df6a-9ab676b75b52"
      },
      "source": [
        "# Organizando as variáveis em ordem ascedente\r\n",
        "total_vacsf = vac_hoje.sort_values(by='people_fully_vaccinated', ascending = False)\r\n",
        "total_vacsf_ph = vac_hoje.sort_values(by='people_fully_vaccinated_per_hundred', ascending=False)\r\n",
        "\r\n",
        "# Plotando os países com mais pessoas vacinadas\r\n",
        "fig, (ax1, ax2) = plt.subplots(nrows=1, ncols=2, figsize=(15, 7))\r\n",
        "plt.suptitle('Atualizado no dia {}'.format(covid.date.dt.date.max()))\r\n",
        "\r\n",
        "ax1.bar('location','people_fully_vaccinated', data=total_vacsf.head(10))\r\n",
        "ax1.set_title('Países com mais pessoas vacinadas completamente contra COVID-19', fontsize=12)\r\n",
        "ax1.set_ylabel('Milhões de pessoas')\r\n",
        "ax1.set_xlabel('Países')\r\n",
        "ax1.tick_params(labelrotation=90)\r\n",
        "\r\n",
        "ax2.bar('location','people_fully_vaccinated_per_hundred', data=total_vacsf_ph.head(10))\r\n",
        "ax2.set_title('Países com mais pessoas vacinadas completamente contra COVID-19, por centenas de pessoas'.format(covid.date.dt.date.max()), fontsize=10)\r\n",
        "ax2.set_ylabel('Pessoas vacinadas por centenas de habitantes')\r\n",
        "ax2.set_xlabel('Países')\r\n",
        "ax2.tick_params(labelrotation=90)"
      ],
      "execution_count": 22,
      "outputs": [
        {
          "output_type": "display_data",
          "data": {
            "image/png": "[encoded data removed]",
            "text/plain": [
              "<Figure size 1080x504 with 2 Axes>"
            ]
          },
          "metadata": {
            "tags": [],
            "needs_background": "light"
          }
        }
      ]
    },
    {
      "cell_type": "markdown",
      "metadata": {
        "id": "MU6XBcsdq66R"
      },
      "source": [
        "Esse indicador é diferente do anterior, pois ele trata do número de pessoas completamente vacinadas, ou seja, que tomaram todas as doses da vacina, Israel se destaca novamente aqui."
      ]
    },
    {
      "cell_type": "markdown",
      "metadata": {
        "id": "SViA5VZ7DYLA"
      },
      "source": [
        "### Análise Exploratória para o Brasil\n",
        "\n",
        "<center><img width=\"65%\" src=\"https://raw.githubusercontent.com/otaviodefilpo/covid-19-inbrazil-vaccines-cases-deaths/main/shutterstock_1743953129AMG_PHOTO.jpg\"></center>\n",
        "\n",
        "\n",
        "Agora vamos observar como os dados de vacinação estão se comportando no Brasil, país em que é do nosso interesse explorar mais profundamente as variáveis."
      ]
    },
    {
      "cell_type": "code",
      "metadata": {
        "id": "UDQA502_hAwI"
      },
      "source": [
        "# Criando um dataset com dados de vacina para o Brasil\r\n",
        "vac_brazil = vacinas.loc[vacinas.location ==\"Brazil\"].copy()"
      ],
      "execution_count": 23,
      "outputs": []
    },
    {
      "cell_type": "markdown",
      "metadata": {
        "id": "T8w7xm73FjCe"
      },
      "source": [
        "Agora vamos observar:\r\n",
        "* 1) Quando foi a primeira vacinação no Brasil\r\n",
        "* 2) Quantos dias demorou para vacinarmos em relação ao mundo\r\n",
        "* 3) Novas vacinações e total de vacinações em escala linear e logaritmica."
      ]
    },
    {
      "cell_type": "markdown",
      "metadata": {
        "id": "AbTBYLtxINOy"
      },
      "source": [
        "**1) Dia da primeira Vacinação**"
      ]
    },
    {
      "cell_type": "code",
      "metadata": {
        "colab": {
          "base_uri": "https://localhost:8080/"
        },
        "id": "MDSvMDqaFhZZ",
        "outputId": "a4e07b1b-5fdd-46a9-81a6-0d68184cd7c1"
      },
      "source": [
        "aux1 = (vac_brazil.loc[vac_brazil['new_vaccinations'] != 0]).date.dt.date.min()\r\n",
        "print('A primeira vacinação no Brasil ocorreu no dia {}'.format(aux1))"
      ],
      "execution_count": 24,
      "outputs": [
        {
          "output_type": "stream",
          "text": [
            "A primeira vacinação no Brasil ocorreu no dia 2021-01-16\n"
          ],
          "name": "stdout"
        }
      ]
    },
    {
      "cell_type": "markdown",
      "metadata": {
        "id": "dl4NeiN6IxD7"
      },
      "source": [
        "**2) Diferença de dias da primeira vacinação em relação ao mundo**"
      ]
    },
    {
      "cell_type": "code",
      "metadata": {
        "colab": {
          "base_uri": "https://localhost:8080/"
        },
        "id": "r080ak-yI5Hg",
        "outputId": "b5447fc2-6098-45f6-dab4-97ca3759f9a1"
      },
      "source": [
        "# Diminuindo os dias\r\n",
        "dif_vac = vac_brazil.date.min() - vacinas.date.min()\r\n",
        "print('O Brasil começou a vacinação {} dias após o primeiro do mundo'.format(dif_vac.days))"
      ],
      "execution_count": 25,
      "outputs": [
        {
          "output_type": "stream",
          "text": [
            "O Brasil começou a vacinação 39 dias após o primeiro do mundo\n"
          ],
          "name": "stdout"
        }
      ]
    },
    {
      "cell_type": "markdown",
      "metadata": {
        "id": "TVaXPu0xKbAA"
      },
      "source": [
        "**3) Comportamento da vacinação no Brasil**"
      ]
    },
    {
      "cell_type": "code",
      "metadata": {
        "colab": {
          "base_uri": "https://localhost:8080/",
          "height": 746
        },
        "id": "3cY5UiArKO8p",
        "outputId": "dc802364-b679-417c-8656-052cf1235d1a"
      },
      "source": [
        "# Estabelecendo variáveis auxiliares\r\n",
        "date = vac_brazil.date.dt.date\r\n",
        "nvacs = vac_brazil['new_vaccinations']\r\n",
        "tvacs = vac_brazil['total_vaccinations']\r\n",
        "\r\n",
        "# Plotando o total de vacinas e novas vacinas em escala linear e logarítmica.\r\n",
        "plt.suptitle('Atualizado no dia {}'.format(vac_brazil.date.max()));\r\n",
        "fig, ((ax1, ax2), (ax3,ax4)) = plt.subplots(nrows=2, ncols=2, figsize= (15,10))\r\n",
        "ax1.set_title('Vacinações no Brasil')\r\n",
        "ax1.set_xlabel('Data')\r\n",
        "ax1.set_ylabel('N de vacinações')\r\n",
        "ax1.plot(date, tvacs)\r\n",
        "ax1.set_xticklabels(date, rotation = 45)\r\n",
        "\r\n",
        "ax2.set_title('Vacinações no Brasil (Escala logarítmica)')\r\n",
        "ax2.set_xlabel('Data')\r\n",
        "ax2.set_ylabel('N de vacinações')\r\n",
        "ax2.set_yscale('log')\r\n",
        "ax2.plot(date, tvacs)\r\n",
        "ax2.set_xticklabels(date, rotation = 45)\r\n",
        "\r\n",
        "ax3.set_title('Novas vacinações no Brasil')\r\n",
        "ax3.set_xlabel('Data')\r\n",
        "ax3.set_ylabel('N de novas vacinações')\r\n",
        "ax3.plot(date, nvacs)\r\n",
        "ax3.set_xticklabels(date, rotation = 45)\r\n",
        "\r\n",
        "ax4.set_title('Novas vacinações no Brasil - (Escala logarítmica)')\r\n",
        "ax4.set_xlabel('Data')\r\n",
        "ax4.set_ylabel('N de novas vacinações')\r\n",
        "ax4.set_yscale('log')\r\n",
        "ax4.plot(date, nvacs)\r\n",
        "ax4.set_xticklabels(date, rotation = 45)\r\n",
        "\r\n",
        "plt.tight_layout()\r\n",
        "plt.show()"
      ],
      "execution_count": 26,
      "outputs": [
        {
          "output_type": "display_data",
          "data": {
            "text/plain": [
              "<Figure size 432x288 with 0 Axes>"
            ]
          },
          "metadata": {
            "tags": []
          }
        },
        {
          "output_type": "display_data",
          "data": {
            "image/png": "[encoded data removed]",
            "text/plain": [
              "<Figure size 1080x720 with 4 Axes>"
            ]
          },
          "metadata": {
            "tags": [],
            "needs_background": "light"
          }
        }
      ]
    },
    {
      "cell_type": "markdown",
      "metadata": {
        "id": "legclBLlrpnf"
      },
      "source": [
        "Aqui vemos que a vacinação se mantém num nível constante no país, mas quando olhamos para novas vacinações, vemos que alguns dias registraram quedas grandes, oscilando bastante desde o começo do processo."
      ]
    },
    {
      "cell_type": "markdown",
      "metadata": {
        "id": "x4axjbCnUSKS"
      },
      "source": [
        "**Agora para finalizar, vamos entender como estão algumas proporções de indicadores importantes da Pandemia do COVID-19 para o Brasil**\r\n",
        "\r\n",
        "Primeiramente vamos importar algumas bibliotecas que nos auxiliarão"
      ]
    },
    {
      "cell_type": "code",
      "metadata": {
        "id": "zG-jLTTrVGSj",
        "colab": {
          "base_uri": "https://localhost:8080/"
        },
        "outputId": "df4fc0dc-cbff-444d-cc44-11ef1d30485a"
      },
      "source": [
        "# instalar o pywaffle\r\n",
        "!pip install pywaffle -q\r\n",
        "from pywaffle import Waffle"
      ],
      "execution_count": 27,
      "outputs": [
        {
          "output_type": "stream",
          "text": [
            "\u001b[?25l\r\u001b[K     |▋                               | 10kB 20.2MB/s eta 0:00:01\r\u001b[K     |█▎                              | 20kB 25.3MB/s eta 0:00:01\r\u001b[K     |█▉                              | 30kB 11.5MB/s eta 0:00:01\r\u001b[K     |██▌                             | 40kB 9.0MB/s eta 0:00:01\r\u001b[K     |███                             | 51kB 7.4MB/s eta 0:00:01\r\u001b[K     |███▊                            | 61kB 7.2MB/s eta 0:00:01\r\u001b[K     |████▍                           | 71kB 7.6MB/s eta 0:00:01\r\u001b[K     |█████                           | 81kB 7.7MB/s eta 0:00:01\r\u001b[K     |█████▋                          | 92kB 7.7MB/s eta 0:00:01\r\u001b[K     |██████▏                         | 102kB 6.9MB/s eta 0:00:01\r\u001b[K     |██████▉                         | 112kB 6.9MB/s eta 0:00:01\r\u001b[K     |███████▌                        | 122kB 6.9MB/s eta 0:00:01\r\u001b[K     |████████                        | 133kB 6.9MB/s eta 0:00:01\r\u001b[K     |████████▊                       | 143kB 6.9MB/s eta 0:00:01\r\u001b[K     |█████████▎                      | 153kB 6.9MB/s eta 0:00:01\r\u001b[K     |██████████                      | 163kB 6.9MB/s eta 0:00:01\r\u001b[K     |██████████▋                     | 174kB 6.9MB/s eta 0:00:01\r\u001b[K     |███████████▏                    | 184kB 6.9MB/s eta 0:00:01\r\u001b[K     |███████████▉                    | 194kB 6.9MB/s eta 0:00:01\r\u001b[K     |████████████▍                   | 204kB 6.9MB/s eta 0:00:01\r\u001b[K     |█████████████                   | 215kB 6.9MB/s eta 0:00:01\r\u001b[K     |█████████████▊                  | 225kB 6.9MB/s eta 0:00:01\r\u001b[K     |██████████████▎                 | 235kB 6.9MB/s eta 0:00:01\r\u001b[K     |███████████████                 | 245kB 6.9MB/s eta 0:00:01\r\u001b[K     |███████████████▌                | 256kB 6.9MB/s eta 0:00:01\r\u001b[K     |████████████████▏               | 266kB 6.9MB/s eta 0:00:01\r\u001b[K     |████████████████▉               | 276kB 6.9MB/s eta 0:00:01\r\u001b[K     |█████████████████▍              | 286kB 6.9MB/s eta 0:00:01\r\u001b[K     |██████████████████              | 296kB 6.9MB/s eta 0:00:01\r\u001b[K     |██████████████████▋             | 307kB 6.9MB/s eta 0:00:01\r\u001b[K     |███████████████████▎            | 317kB 6.9MB/s eta 0:00:01\r\u001b[K     |████████████████████            | 327kB 6.9MB/s eta 0:00:01\r\u001b[K     |████████████████████▌           | 337kB 6.9MB/s eta 0:00:01\r\u001b[K     |█████████████████████▏          | 348kB 6.9MB/s eta 0:00:01\r\u001b[K     |█████████████████████▊          | 358kB 6.9MB/s eta 0:00:01\r\u001b[K     |██████████████████████▍         | 368kB 6.9MB/s eta 0:00:01\r\u001b[K     |███████████████████████         | 378kB 6.9MB/s eta 0:00:01\r\u001b[K     |███████████████████████▋        | 389kB 6.9MB/s eta 0:00:01\r\u001b[K     |████████████████████████▎       | 399kB 6.9MB/s eta 0:00:01\r\u001b[K     |████████████████████████▉       | 409kB 6.9MB/s eta 0:00:01\r\u001b[K     |█████████████████████████▌      | 419kB 6.9MB/s eta 0:00:01\r\u001b[K     |██████████████████████████▏     | 430kB 6.9MB/s eta 0:00:01\r\u001b[K     |██████████████████████████▊     | 440kB 6.9MB/s eta 0:00:01\r\u001b[K     |███████████████████████████▍    | 450kB 6.9MB/s eta 0:00:01\r\u001b[K     |████████████████████████████    | 460kB 6.9MB/s eta 0:00:01\r\u001b[K     |████████████████████████████▋   | 471kB 6.9MB/s eta 0:00:01\r\u001b[K     |█████████████████████████████▎  | 481kB 6.9MB/s eta 0:00:01\r\u001b[K     |█████████████████████████████▉  | 491kB 6.9MB/s eta 0:00:01\r\u001b[K     |██████████████████████████████▌ | 501kB 6.9MB/s eta 0:00:01\r\u001b[K     |███████████████████████████████ | 512kB 6.9MB/s eta 0:00:01\r\u001b[K     |███████████████████████████████▊| 522kB 6.9MB/s eta 0:00:01\r\u001b[K     |████████████████████████████████| 532kB 6.9MB/s \n",
            "\u001b[?25h"
          ],
          "name": "stdout"
        }
      ]
    },
    {
      "cell_type": "markdown",
      "metadata": {
        "id": "Dxi6TvU-XJHC"
      },
      "source": [
        "Agora vamos criar um dataset com dados gerais da COVID-19 no Brasil, para que possamos entender algumas variáveis que serão úteis agora."
      ]
    },
    {
      "cell_type": "code",
      "metadata": {
        "id": "kSvvCj5HXTip"
      },
      "source": [
        "# Separando um dataset para o Brazil apenas\r\n",
        "covid_brazil = covid.loc[covid.location ==\"Brazil\"].copy()"
      ],
      "execution_count": 28,
      "outputs": []
    },
    {
      "cell_type": "markdown",
      "metadata": {
        "id": "K0HEOreobm8G"
      },
      "source": [
        "**Proporção de número de casos em relação à população**"
      ]
    },
    {
      "cell_type": "code",
      "metadata": {
        "id": "Qq8gZaHOWE79"
      },
      "source": [
        "# Estabelecendo variáveis auxiliares\r\n",
        "pct_tcasos = (covid_brazil.total_cases.max() / covid_brazil.population.max())*100\r\n",
        "pct_ncasos = 100 - pct_tcasos"
      ],
      "execution_count": 29,
      "outputs": []
    },
    {
      "cell_type": "code",
      "metadata": {
        "colab": {
          "base_uri": "https://localhost:8080/",
          "height": 305
        },
        "id": "TH36d52dbJQ1",
        "outputId": "9652560d-6df1-4876-c197-c7dc187f646a"
      },
      "source": [
        "# Plotando gráfico de waffle \r\n",
        "fig = plt.figure(figsize=(5,5),\r\n",
        "    FigureClass=Waffle,\r\n",
        "    rows = 10, columns = 10,\r\n",
        "    values = {'População': pct_ncasos,\r\n",
        "              'Número de casos':pct_tcasos},\r\n",
        "              colors=(\"#232066\", \"#983D3D\"),\r\n",
        "              legend={'loc':'upper left','bbox_to_anchor':(1,1)},\r\n",
        "              icons='child', icon_size=20,\r\n",
        "              icon_legend=True\r\n",
        ")\r\n",
        "\r\n",
        "fig.set_tight_layout(False)\r\n",
        "plt.show();"
      ],
      "execution_count": 30,
      "outputs": [
        {
          "output_type": "display_data",
          "data": {
            "image/png": "[encoded data removed]",
            "text/plain": [
              "<Waffle size 360x360 with 1 Axes>"
            ]
          },
          "metadata": {
            "tags": [],
            "needs_background": "light"
          }
        }
      ]
    },
    {
      "cell_type": "markdown",
      "metadata": {
        "id": "E0E14UECTxZR"
      },
      "source": [
        "**Proporção de mortes em relação ao número de casos**"
      ]
    },
    {
      "cell_type": "code",
      "metadata": {
        "id": "Zbd2XQsNfmSD"
      },
      "source": [
        "# Estabelecendo variáveis auxiliares\r\n",
        "pct_mortes = (covid_brazil.total_deaths.max() / covid_brazil.total_cases.max())*100\r\n",
        "pct_nmortes = 100 - pct_mortes"
      ],
      "execution_count": 31,
      "outputs": []
    },
    {
      "cell_type": "code",
      "metadata": {
        "colab": {
          "base_uri": "https://localhost:8080/",
          "height": 305
        },
        "id": "MFiPwrqHf-Gr",
        "outputId": "65261da5-c64d-4394-e078-c2be9f30e586"
      },
      "source": [
        "# Plotando gráfico de waffle \r\n",
        "fig = plt.figure(figsize=(5,5),\r\n",
        "    FigureClass=Waffle,\r\n",
        "    rows = 10, columns = 10,\r\n",
        "    values = {'Número de casos': pct_nmortes,\r\n",
        "              'Número de mortes':pct_mortes},\r\n",
        "              colors=(\"#232066\", \"#983D3D\"),\r\n",
        "              legend={'loc':'upper left','bbox_to_anchor':(1,1)},\r\n",
        "              icons='child', icon_size=20,\r\n",
        "              icon_legend=True\r\n",
        ")\r\n",
        "\r\n",
        "fig.set_tight_layout(False)\r\n",
        "plt.show();"
      ],
      "execution_count": 32,
      "outputs": [
        {
          "output_type": "display_data",
          "data": {
            "image/png": "[encoded data removed]",
            "text/plain": [
              "<Waffle size 360x360 with 1 Axes>"
            ]
          },
          "metadata": {
            "tags": [],
            "needs_background": "light"
          }
        }
      ]
    },
    {
      "cell_type": "markdown",
      "metadata": {
        "id": "xki8mntthFxW"
      },
      "source": [
        "**Proporção de pessoas vacinadas em relação à população**"
      ]
    },
    {
      "cell_type": "code",
      "metadata": {
        "id": "WkcbStF4hQJS"
      },
      "source": [
        "# Estabelecendo variáveis auxiliares\r\n",
        "pct_ptvac = (vac_brazil.people_fully_vaccinated.max() / covid_brazil.population.max())*100\r\n",
        "pct_pvaca = ((vac_brazil.people_vaccinated.max() - pct_ptvac) / covid_brazil.population.max())*100\r\n",
        "pop_nvac = 100 - (pct_ptvac + pct_pvaca)"
      ],
      "execution_count": 33,
      "outputs": []
    },
    {
      "cell_type": "code",
      "metadata": {
        "colab": {
          "base_uri": "https://localhost:8080/",
          "height": 305
        },
        "id": "IBz4x0UGgSfR",
        "outputId": "ae25688c-bceb-4346-ac1c-234de6add246"
      },
      "source": [
        "# Plotando gráfico de waffle \r\n",
        "fig = plt.figure(figsize=(5,5),\r\n",
        "    FigureClass=Waffle,\r\n",
        "    rows = 10, columns = 10,\r\n",
        "    values = {'População vacinada completamente': pct_ptvac,\r\n",
        "              'População vacinada':pct_pvaca,\r\n",
        "              'População não vacinada':pop_nvac},\r\n",
        "              colors=(\"#DCB732\",\"#983D3D\",\"#232066\"),\r\n",
        "              legend={'loc':'upper left','bbox_to_anchor':(1,1)},\r\n",
        "              icons='child', icon_size=20,\r\n",
        "              icon_legend=True\r\n",
        ")\r\n",
        "\r\n",
        "fig.set_tight_layout(False)\r\n",
        "plt.show();"
      ],
      "execution_count": 34,
      "outputs": [
        {
          "output_type": "display_data",
          "data": {
            "image/png": "[encoded data removed]",
            "text/plain": [
              "<Waffle size 360x360 with 1 Axes>"
            ]
          },
          "metadata": {
            "tags": [],
            "needs_background": "light"
          }
        }
      ]
    },
    {
      "cell_type": "markdown",
      "metadata": {
        "id": "LCsiXvM3BcsO"
      },
      "source": [
        "# **Conclusão**\n",
        "\n",
        "A Pandemia do COVID-19 foi bastante cruel com países que não tinham estrutura para enfrentá-la, problema mais recorrente nos países mais populosos, que tiveram grande parcela da população contaminada e por sua vez com um grande número de pessoas com situação evoluindo ao falecimento.\n",
        "\n",
        "A Vacina é ainda mais cruel com esses países mais populosos, pois ainda há de demorar muito tempo para que eles consigam imunizar toda população, com exceção dos EUA, que têm situação bem grave e fazem seu poder econômico valer para que consigam mais doses de vacina.\n",
        "\n",
        "A notícia boa é que estamos no início do fim da pandemia e a vacinação vem evoluindo no mundo, então mesmo que demore, isso tudo passará!\n",
        "\n",
        "Me segue no [LinkedIn, Medium e Github!]('https://www.linkedin.com/in/otaviodefilpo/')\n",
        "\n",
        "Eu posto artigos e projetos novos quase toda semana, já têm vários disponíveis nesses lugares do link, espero que você goste!\n",
        "\n",
        "Abraços e até o próximo projeto!"
      ]
    }
  ]
}