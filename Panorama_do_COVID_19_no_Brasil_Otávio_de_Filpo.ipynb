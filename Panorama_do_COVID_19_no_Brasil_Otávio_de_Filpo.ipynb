{
  "nbformat": 4,
  "nbformat_minor": 0,
  "metadata": {
    "colab": {
      "name": "Panorama do COVID-19 no Brasil - Otávio de Filpo.ipynb",
      "provenance": [],
      "collapsed_sections": [],
      "include_colab_link": true
    },
    "kernelspec": {
      "name": "python3",
      "display_name": "Python 3"
    }
  },
  "cells": [
    {
      "cell_type": "markdown",
      "metadata": {
        "id": "view-in-github",
        "colab_type": "text"
      },
      "source": [
        "<a href=\"https://colab.research.google.com/github/otaviodefilpo/covid-19-inbrazil-vaccines-cases-deaths/blob/main/Panorama_do_COVID_19_no_Brasil_Ot%C3%A1vio_de_Filpo.ipynb\" target=\"_parent\"><img src=\"https://colab.research.google.com/assets/colab-badge.svg\" alt=\"Open In Colab\"/></a>"
      ]
    },
    {
      "cell_type": "markdown",
      "metadata": {
        "id": "-eFQZydM9O9J"
      },
      "source": [
        "\n",
        "\n",
        "*Projeto Módulo 3 - Data Science Na Prática*\n",
        "\n",
        "*by [sigmoidal.ai](https://sigmoidal.ai)*  \n",
        "\n",
        "---\n",
        "  "
      ]
    },
    {
      "cell_type": "markdown",
      "metadata": {
        "id": "kLI0gJtzDGuQ"
      },
      "source": [
        "# Panoramas da Pandemia do COVID-19 no Brasil - Vacina, Casos e Mortes\n",
        "\n",
        "<center><img  width=\"65%\" src=\"https://statig0.akamaized.net/bancodeimagens/25/pf/n2/25pfn2mn5yfqnp93t1vzom9q0.jpg\"></center>\n",
        "\n",
        "O COVID-19 é um vírus que pegou todo o planeta de surpresa, pois mesmo em comparativo com outros Corona Vírus, ele tem comportamento bem diferente para o que a sociedade estava acostumada de uma doença viral. \n",
        "\n",
        "A luz no fim do túnel que todo mundo estava aguardando era a vacina, que vinha sendo desenvolvida incansávelmente por várias iniciatiavas ao redor do planeta. Após muitos dias de espera e trabalho árduo desses pesquisadores, no dia 08 de Dezembro de 2021, Margaret Keenan, uma britânica de 90 anos, tornou-se [a primeira pessoa no mundo a receber a vacina]('https://www.cnnbrasil.com.br/internacional/2020/12/08/britanica-de-90-anos-e-primeira-a-receber-a-vacina-da-pfizer-fora-dos-testes') da Pfizer contra a Covid-19 fora de um ensaio clínico. Logo após esse dia histórico, outras vacinas foram sendo testadas e aprovadas para o uso na população, dando início ao fim da Pandemia do COVID-19.\n",
        "\n",
        "Todos os países trataram a pandemia de maneira diferente e como vimos nas características acima citadas, comparações entre práticas de combate ao vírus não são simples de serem feitas, logo precisamos entender como foi e como está o panorama da Pandemia no Brasil e em outros países para buscarmos encontrar diferenças pontuais que possam nos dizer algo sobre a pandemia e seu esperado fim com a expansão das campanhas de vacinação.\n",
        "\n",
        "Nesta análise vamos explorar os dados sobre a vacina do COVID-19 para entender como a vacinação vem se comportando nos países para entender quem vem tendo bons resultados e quem ainda precisa melhorar suas políticas.\n",
        "\n",
        "\n",
        "\n",
        "\n",
        "\n",
        "\n"
      ]
    },
    {
      "cell_type": "markdown",
      "metadata": {
        "id": "HBaaJP9PW013"
      },
      "source": [
        "# **Obtenção dos dados**\r\n",
        "\r\n",
        "Os dados foram obtidos no repositório do *Our World in Data* para a COVID-19, que pode ser acessado [NESTE LINK]('https://github.com/owid/covid-19-data/tree/master/public/data').\r\n",
        "\r\n",
        "O trabalho do *Our World in Data* é de extrema credibilidade e reuniu neste repositório as informações de vários outros repositórios locais ao redor do mundo, sendo hoje uma das melhores fontes de dados acessíveis ao público sobre a pandemia da COVID-19.\r\n",
        "\r\n",
        "Esse repositório é atualizado diariamente e inclui dados de casos confirmados, mortes confirmadas, hospitalizações, testes, vacinas e outras variáveis de possível interesse para diferentes explorações de dados.\r\n",
        "\r\n",
        "Vale à pena acessar o link que disponibilizei acima para entender mais detalhes técnicos sobre o trabalho do grupo, que se você não conhecia, vale à pena acompanhar a partir de agora."
      ]
    },
    {
      "cell_type": "markdown",
      "metadata": {
        "id": "Yx_aEQteNiZU"
      },
      "source": [
        "# **Dicionário de variáveis**\r\n",
        "O dicionário na íntegra com todas as fontes e links relacionados estão disponíveis [NESTE LINK]('https://github.com/owid/covid-19-data/blob/master/public/data/owid-covid-codebook.csv')\r\n",
        "\r\n",
        "`column` - Descrição\r\n",
        "\r\n",
        "`iso_code` - códigos de países de três letras - 3166-1 alfa-3 ISO\r\n",
        "\r\n",
        "`continent` - Continente da localização geográfica\r\n",
        "\r\n",
        "`location` - Localização geográfica\r\n",
        "\r\n",
        "`date` - Data de observação\r\n",
        "\r\n",
        "`total_cases` - Total de casos confirmados de COVID-19\r\n",
        "\r\n",
        "`new_cases` - Novos casos de COVID-19 confirmado\r\n",
        "\r\n",
        "`new_cases_smoothed` - Novos casos de COVID-19 (7-dia alisada) confirmou\r\n",
        "\r\n",
        "`total_deaths` - Total de mortes atribuídas a COVID-19\r\n",
        "\r\n",
        "`new_deaths` - Novas mortes atribuídas a COVID-19\r\n",
        "\r\n",
        "`new_deaths_smoothed` - Novas mortes atribuídas a COVID-19 (suavizado 7 dias)\r\n",
        "\r\n",
        "`total_cases_per_million` - Total de casos confirmados de COVID-19 por 1.000.000 de pessoas\r\n",
        "\r\n",
        "`new_cases_per_million` - Nova casos confirmados de COVID-19 por 1.000.000 de pessoas\r\n",
        "\r\n",
        "`new_cases_smoothed_per_million` - Nova casos confirmados de COVID-19 (7 dias suavizado) por 1.000.000 de pessoas\r\n",
        "\r\n",
        "`total_deaths_per_million` - Total de mortes atribuídas a COVID-19 por 1.000.000 de pessoas\r\n",
        "\r\n",
        "`new_deaths_per_million` - Novas mortes atribuídas ao COVID-19 por 1.000.000 de pessoas\r\n",
        "\r\n",
        "`new_deaths_smoothed_per_million` - Novas mortes atribuídas a COVID-19 (alisada de 7 dias) por 1.000.000 de pessoas\r\n",
        "\r\n",
        "`reproduction_rate` - estimativa em tempo real da taxa de reprodução efectiva (R) de COVID-19.\r\n",
        "\r\n",
        "`icu_patients` - Número de COVID-19 pacientes em unidades de cuidados intensivos (UTIs) num dado dia\r\n",
        "\r\n",
        "`icu_patients_per_million` - Número de COVID-19 pacientes em unidades de terapia intensiva (UTIs) em um determinado dia por 1.000.000 de pessoas\r\n",
        "\r\n",
        "`hosp_patients` - Número de COVID-19 pacientes no hospital em um determinado dia\r\n",
        "\r\n",
        "`hosp_patients_per_million` - Número de COVID-19 pacientes no hospital em um determinado dia por 1.000.000 de pessoas\r\n",
        "\r\n",
        "`weekly_icu_admissions` - Número de COVID-19 pacientes recém-admitidos em unidades de cuidados intensivos (UTIs) em uma dada semana\r\n",
        "\r\n",
        "`weekly_icu_admissions_per_million` - Número de COVID-19 pacientes recém-admitidos em unidades de terapia intensiva (UTIs) em uma determinada semana por 1.000.000 de pessoas\r\n",
        "\r\n",
        "`weekly_hosp_admissions` - Número de COVID-19 pacientes recém-admitidos em hospitais em uma semana\r\n",
        "\r\n",
        "`weekly_hosp_admissions_per_million` - Número de COVID-19 pacientes recém-admitidos em hospitais em uma determinada semana por 1.000.000 de pessoas\r\n",
        "\r\n",
        "`total_tests` - Total de Testes para COVID-19\r\n",
        "\r\n",
        "`new_tests` - Os novos ensaios para COVID-19 (somente calculada para dias consecutivos)\r\n",
        "\r\n",
        "`total_tests_per_thousand` - Total de Testes para COVID-19 por 1.000 pessoas\r\n",
        "\r\n",
        "`new_tests_per_thousand` - Novos testes para COVID-19 por 1.000 pessoas\r\n",
        "\r\n",
        "`new_tests_smoothed` - Os novos ensaios para COVID-19 (7-dia alisado). Para os países que não relatam testando os dados em uma base diária, assumimos que o teste mudou igualmente em uma base diária sobre quaisquer períodos em que há dados f\r\n",
        "\r\n",
        "`new_tests_smoothed_per_thousand` - Os novos ensaios para COVID-19 (7-dia suavizado) por 1.000 pessoas\r\n",
        "\r\n",
        "`positive_rate` - O partes de COVID-19 testes que são positivas, dadas como uma média móvel em 7 dias (este é o inverso da tests_per_case)\r\n",
        "\r\n",
        "`tests_per_case` - Testes realizados por novo caso confirmado de COVID-19, dadas como uma média móvel em 7 dias (este é o inverso da positive_rate)\r\n",
        "\r\n",
        "`tests_units` - Unidades usadas pela localização para relatar seus dados de testes\r\n",
        "\r\n",
        "`total_vaccinations` - Número total de COVID-19 vacinação doses administradas\r\n",
        "\r\n",
        "`people_vaccinated` - Número total de pessoas que receberam pelo menos uma dose da vacina\r\n",
        "\r\n",
        "`people_fully_vaccinated` - Número total de pessoas que receberam todas as doses prescritas pelo protocolo de vacinação\r\n",
        "\r\n",
        "`new_vaccinations` - Nova COVID-19 doses administradas de vacinação (somente calculados para dias consecutivos)\r\n",
        "\r\n",
        "`new_vaccinations_smoothed` - Novas doses COVID-19 administrado de vacinação (7 dias de suavizados). Para os países que não relatam dados de vacinação em uma base diária, assumimos que a vacinação alterou igualmente em uma base diária sobre\r\n",
        "\r\n",
        "`total_vaccinations_per_hundred` - Número total de COVID-19 vacinação doses administradas por 100 pessoas na população total\r\n",
        "\r\n",
        "`people_vaccinated_per_hundred` - Número total de pessoas que receberam pelo menos uma dose da vacina por cada 100 pessoas no total da população\r\n",
        "\r\n",
        "`people_fully_vaccinated_per_hundred` - Número total de pessoas que receberam todas as doses prescritas pelo protocolo de vacinação por 100 pessoas na população total\r\n",
        "\r\n",
        "`new_vaccinations_smoothed_per_million` - Nova COVID-19 doses administradas vacinação (7 dias de suavizados) por 1.000.000 de pessoas na população total\r\n",
        "\r\n",
        "`stringency_index` - Governo Response Índice Rigor: medida composta com base em 9 indicadores de resposta incluindo o fechamento de escolas, fechamento de locais de trabalho, e proibição de viajar, escalonados para um valor de 0 a 100 (100\r\n",
        "\r\n",
        "`population` - População em 2020\r\n",
        "\r\n",
        "`population_density` - Número de pessoas divididas por área de terra, medido em quilômetros quadrados, dos anos mais recentes disponíveis\r\n",
        "\r\n",
        "`median_age` - A idade média da população, a projeção das Nações Unidas para 2020\r\n",
        "\r\n",
        "`aged_65_older` - Percentagem da população que é de 65 anos e mais velhos, dos anos mais recentes disponíveis\r\n",
        "\r\n",
        "`aged_70_older` - Parcela da população que é de 70 anos ou mais em 2015\r\n",
        "\r\n",
        "`gdp_per_capita` - Produto interno bruto a paridade de poder aquisitivo (constantes de 2011 dólares internacionais), dos anos mais recentes disponíveis\r\n",
        "\r\n",
        "`extreme_poverty` - Parcela da população vivendo em extrema pobreza, dos anos mais recentes disponíveis desde 2010\r\n",
        "\r\n",
        "`cardiovasc_death_rate` - Taxa de mortalidade por doenças cardiovasculares em 2017 (número anual de mortes por 100.000 pessoas)\r\n",
        "\r\n",
        "`diabetes_prevalence` - prevalência diabetes (% da população com idades entre 20 a 79) em 2017\r\n",
        "\r\n",
        "`female_smokers` - Percentagem de mulheres que fumam, dos anos mais recentes disponíveis\r\n",
        "\r\n",
        "`male_smokers` - Parcela de homens que fumam, dos anos mais recentes disponíveis\r\n",
        "\r\n",
        "`handwashing_facilities` - Percentagem da população com instalações de lavagem das mãos básicas sobre instalações, dos anos mais recentes disponíveis\r\n",
        "\r\n",
        "`hospital_beds_per_thousand` - camas hospitalares por 1.000 pessoas, dos anos mais recentes disponíveis desde 2010\r\n",
        "\r\n",
        "`life_expectancy` - A expectativa de vida ao nascer em 2019\r\n",
        "\r\n",
        "`human_development_index` - Um índice composto que mede a realização média em três dimensões básicas do desenvolvimento: uma vida longa e saudável humano, conhecimento e um padrão de vida decente."
      ]
    },
    {
      "cell_type": "markdown",
      "metadata": {
        "id": "ASVQ08auWJCn"
      },
      "source": [
        "# **Análise Exploratória de Dados**\r\n",
        "\r\n",
        "Antes de entrar nas análises sobre a vacina, vamos observar dados chave para entender como a pandemia está neste momento, após partiremos para os dados de vacina e como ela acontece no Brasil e em outros grupos de países.\r\n",
        "\r\n",
        "***Mãos à obra!***"
      ]
    },
    {
      "cell_type": "markdown",
      "metadata": {
        "id": "0G19Z13hmf7e"
      },
      "source": [
        "**Dados Gerais da Pandemia no Mundo**"
      ]
    },
    {
      "cell_type": "markdown",
      "metadata": {
        "id": "yzqzsafKF0Wy"
      },
      "source": [
        "Primeiramente importaremos as bibliotecas necessárias e os nossos dados"
      ]
    },
    {
      "cell_type": "code",
      "metadata": {
        "id": "lOtEJxe0DMEb"
      },
      "source": [
        "# importar as bibliotecas necessárias\n",
        "import pandas as pd\n",
        "import matplotlib.pyplot as plt\n",
        "import seaborn as sns\n",
        "import datetime as dt\n",
        "\n",
        "sns.set_style()\n",
        "%matplotlib inline\n",
        "\n",
        "import warnings\n",
        "warnings.filterwarnings('ignore')\n",
        "\n",
        "\n",
        "# importar o dataset COVID-19 para um DataFrame\n",
        "df = pd.read_csv('https://raw.githubusercontent.com/owid/covid-19-data/master/public/data/owid-covid-data.csv')"
      ],
      "execution_count": null,
      "outputs": []
    },
    {
      "cell_type": "markdown",
      "metadata": {
        "id": "c97pAFcVF_gZ"
      },
      "source": [
        "Agora utilizaremos algumas funções para observar algumas características do nosso dataframe."
      ]
    },
    {
      "cell_type": "code",
      "metadata": {
        "id": "gO1fv3D1PS4k"
      },
      "source": [
        "# Criando um backup do dataset original\r\n",
        "covid = df.copy()"
      ],
      "execution_count": null,
      "outputs": []
    },
    {
      "cell_type": "code",
      "metadata": {
        "colab": {
          "base_uri": "https://localhost:8080/",
          "height": 309
        },
        "id": "U0tcFOkKJTgw",
        "outputId": "32b5997d-c673-43dd-c039-533119146391"
      },
      "source": [
        "# Observando as 5 primeiras entradas\r\n",
        "covid.head(5)"
      ],
      "execution_count": null,
      "outputs": [
        {
          "output_type": "execute_result",
          "data": {
            "text/html": [
              "<div>\n",
              "<style scoped>\n",
              "    .dataframe tbody tr th:only-of-type {\n",
              "        vertical-align: middle;\n",
              "    }\n",
              "\n",
              "    .dataframe tbody tr th {\n",
              "        vertical-align: top;\n",
              "    }\n",
              "\n",
              "    .dataframe thead th {\n",
              "        text-align: right;\n",
              "    }\n",
              "</style>\n",
              "<table border=\"1\" class=\"dataframe\">\n",
              "  <thead>\n",
              "    <tr style=\"text-align: right;\">\n",
              "      <th></th>\n",
              "      <th>iso_code</th>\n",
              "      <th>continent</th>\n",
              "      <th>location</th>\n",
              "      <th>date</th>\n",
              "      <th>total_cases</th>\n",
              "      <th>new_cases</th>\n",
              "      <th>new_cases_smoothed</th>\n",
              "      <th>total_deaths</th>\n",
              "      <th>new_deaths</th>\n",
              "      <th>new_deaths_smoothed</th>\n",
              "      <th>total_cases_per_million</th>\n",
              "      <th>new_cases_per_million</th>\n",
              "      <th>new_cases_smoothed_per_million</th>\n",
              "      <th>total_deaths_per_million</th>\n",
              "      <th>new_deaths_per_million</th>\n",
              "      <th>new_deaths_smoothed_per_million</th>\n",
              "      <th>reproduction_rate</th>\n",
              "      <th>icu_patients</th>\n",
              "      <th>icu_patients_per_million</th>\n",
              "      <th>hosp_patients</th>\n",
              "      <th>hosp_patients_per_million</th>\n",
              "      <th>weekly_icu_admissions</th>\n",
              "      <th>weekly_icu_admissions_per_million</th>\n",
              "      <th>weekly_hosp_admissions</th>\n",
              "      <th>weekly_hosp_admissions_per_million</th>\n",
              "      <th>new_tests</th>\n",
              "      <th>total_tests</th>\n",
              "      <th>total_tests_per_thousand</th>\n",
              "      <th>new_tests_per_thousand</th>\n",
              "      <th>new_tests_smoothed</th>\n",
              "      <th>new_tests_smoothed_per_thousand</th>\n",
              "      <th>positive_rate</th>\n",
              "      <th>tests_per_case</th>\n",
              "      <th>tests_units</th>\n",
              "      <th>total_vaccinations</th>\n",
              "      <th>people_vaccinated</th>\n",
              "      <th>people_fully_vaccinated</th>\n",
              "      <th>new_vaccinations</th>\n",
              "      <th>new_vaccinations_smoothed</th>\n",
              "      <th>total_vaccinations_per_hundred</th>\n",
              "      <th>people_vaccinated_per_hundred</th>\n",
              "      <th>people_fully_vaccinated_per_hundred</th>\n",
              "      <th>new_vaccinations_smoothed_per_million</th>\n",
              "      <th>stringency_index</th>\n",
              "      <th>population</th>\n",
              "      <th>population_density</th>\n",
              "      <th>median_age</th>\n",
              "      <th>aged_65_older</th>\n",
              "      <th>aged_70_older</th>\n",
              "      <th>gdp_per_capita</th>\n",
              "      <th>extreme_poverty</th>\n",
              "      <th>cardiovasc_death_rate</th>\n",
              "      <th>diabetes_prevalence</th>\n",
              "      <th>female_smokers</th>\n",
              "      <th>male_smokers</th>\n",
              "      <th>handwashing_facilities</th>\n",
              "      <th>hospital_beds_per_thousand</th>\n",
              "      <th>life_expectancy</th>\n",
              "      <th>human_development_index</th>\n",
              "    </tr>\n",
              "  </thead>\n",
              "  <tbody>\n",
              "    <tr>\n",
              "      <th>0</th>\n",
              "      <td>AFG</td>\n",
              "      <td>Asia</td>\n",
              "      <td>Afghanistan</td>\n",
              "      <td>2020-02-24</td>\n",
              "      <td>1.0</td>\n",
              "      <td>1.0</td>\n",
              "      <td>NaN</td>\n",
              "      <td>NaN</td>\n",
              "      <td>NaN</td>\n",
              "      <td>NaN</td>\n",
              "      <td>0.026</td>\n",
              "      <td>0.026</td>\n",
              "      <td>NaN</td>\n",
              "      <td>NaN</td>\n",
              "      <td>NaN</td>\n",
              "      <td>NaN</td>\n",
              "      <td>NaN</td>\n",
              "      <td>NaN</td>\n",
              "      <td>NaN</td>\n",
              "      <td>NaN</td>\n",
              "      <td>NaN</td>\n",
              "      <td>NaN</td>\n",
              "      <td>NaN</td>\n",
              "      <td>NaN</td>\n",
              "      <td>NaN</td>\n",
              "      <td>NaN</td>\n",
              "      <td>NaN</td>\n",
              "      <td>NaN</td>\n",
              "      <td>NaN</td>\n",
              "      <td>NaN</td>\n",
              "      <td>NaN</td>\n",
              "      <td>NaN</td>\n",
              "      <td>NaN</td>\n",
              "      <td>NaN</td>\n",
              "      <td>NaN</td>\n",
              "      <td>NaN</td>\n",
              "      <td>NaN</td>\n",
              "      <td>NaN</td>\n",
              "      <td>NaN</td>\n",
              "      <td>NaN</td>\n",
              "      <td>NaN</td>\n",
              "      <td>NaN</td>\n",
              "      <td>NaN</td>\n",
              "      <td>8.33</td>\n",
              "      <td>38928341.0</td>\n",
              "      <td>54.422</td>\n",
              "      <td>18.6</td>\n",
              "      <td>2.581</td>\n",
              "      <td>1.337</td>\n",
              "      <td>1803.987</td>\n",
              "      <td>NaN</td>\n",
              "      <td>597.029</td>\n",
              "      <td>9.59</td>\n",
              "      <td>NaN</td>\n",
              "      <td>NaN</td>\n",
              "      <td>37.746</td>\n",
              "      <td>0.5</td>\n",
              "      <td>64.83</td>\n",
              "      <td>0.511</td>\n",
              "    </tr>\n",
              "    <tr>\n",
              "      <th>1</th>\n",
              "      <td>AFG</td>\n",
              "      <td>Asia</td>\n",
              "      <td>Afghanistan</td>\n",
              "      <td>2020-02-25</td>\n",
              "      <td>1.0</td>\n",
              "      <td>0.0</td>\n",
              "      <td>NaN</td>\n",
              "      <td>NaN</td>\n",
              "      <td>NaN</td>\n",
              "      <td>NaN</td>\n",
              "      <td>0.026</td>\n",
              "      <td>0.000</td>\n",
              "      <td>NaN</td>\n",
              "      <td>NaN</td>\n",
              "      <td>NaN</td>\n",
              "      <td>NaN</td>\n",
              "      <td>NaN</td>\n",
              "      <td>NaN</td>\n",
              "      <td>NaN</td>\n",
              "      <td>NaN</td>\n",
              "      <td>NaN</td>\n",
              "      <td>NaN</td>\n",
              "      <td>NaN</td>\n",
              "      <td>NaN</td>\n",
              "      <td>NaN</td>\n",
              "      <td>NaN</td>\n",
              "      <td>NaN</td>\n",
              "      <td>NaN</td>\n",
              "      <td>NaN</td>\n",
              "      <td>NaN</td>\n",
              "      <td>NaN</td>\n",
              "      <td>NaN</td>\n",
              "      <td>NaN</td>\n",
              "      <td>NaN</td>\n",
              "      <td>NaN</td>\n",
              "      <td>NaN</td>\n",
              "      <td>NaN</td>\n",
              "      <td>NaN</td>\n",
              "      <td>NaN</td>\n",
              "      <td>NaN</td>\n",
              "      <td>NaN</td>\n",
              "      <td>NaN</td>\n",
              "      <td>NaN</td>\n",
              "      <td>8.33</td>\n",
              "      <td>38928341.0</td>\n",
              "      <td>54.422</td>\n",
              "      <td>18.6</td>\n",
              "      <td>2.581</td>\n",
              "      <td>1.337</td>\n",
              "      <td>1803.987</td>\n",
              "      <td>NaN</td>\n",
              "      <td>597.029</td>\n",
              "      <td>9.59</td>\n",
              "      <td>NaN</td>\n",
              "      <td>NaN</td>\n",
              "      <td>37.746</td>\n",
              "      <td>0.5</td>\n",
              "      <td>64.83</td>\n",
              "      <td>0.511</td>\n",
              "    </tr>\n",
              "    <tr>\n",
              "      <th>2</th>\n",
              "      <td>AFG</td>\n",
              "      <td>Asia</td>\n",
              "      <td>Afghanistan</td>\n",
              "      <td>2020-02-26</td>\n",
              "      <td>1.0</td>\n",
              "      <td>0.0</td>\n",
              "      <td>NaN</td>\n",
              "      <td>NaN</td>\n",
              "      <td>NaN</td>\n",
              "      <td>NaN</td>\n",
              "      <td>0.026</td>\n",
              "      <td>0.000</td>\n",
              "      <td>NaN</td>\n",
              "      <td>NaN</td>\n",
              "      <td>NaN</td>\n",
              "      <td>NaN</td>\n",
              "      <td>NaN</td>\n",
              "      <td>NaN</td>\n",
              "      <td>NaN</td>\n",
              "      <td>NaN</td>\n",
              "      <td>NaN</td>\n",
              "      <td>NaN</td>\n",
              "      <td>NaN</td>\n",
              "      <td>NaN</td>\n",
              "      <td>NaN</td>\n",
              "      <td>NaN</td>\n",
              "      <td>NaN</td>\n",
              "      <td>NaN</td>\n",
              "      <td>NaN</td>\n",
              "      <td>NaN</td>\n",
              "      <td>NaN</td>\n",
              "      <td>NaN</td>\n",
              "      <td>NaN</td>\n",
              "      <td>NaN</td>\n",
              "      <td>NaN</td>\n",
              "      <td>NaN</td>\n",
              "      <td>NaN</td>\n",
              "      <td>NaN</td>\n",
              "      <td>NaN</td>\n",
              "      <td>NaN</td>\n",
              "      <td>NaN</td>\n",
              "      <td>NaN</td>\n",
              "      <td>NaN</td>\n",
              "      <td>8.33</td>\n",
              "      <td>38928341.0</td>\n",
              "      <td>54.422</td>\n",
              "      <td>18.6</td>\n",
              "      <td>2.581</td>\n",
              "      <td>1.337</td>\n",
              "      <td>1803.987</td>\n",
              "      <td>NaN</td>\n",
              "      <td>597.029</td>\n",
              "      <td>9.59</td>\n",
              "      <td>NaN</td>\n",
              "      <td>NaN</td>\n",
              "      <td>37.746</td>\n",
              "      <td>0.5</td>\n",
              "      <td>64.83</td>\n",
              "      <td>0.511</td>\n",
              "    </tr>\n",
              "    <tr>\n",
              "      <th>3</th>\n",
              "      <td>AFG</td>\n",
              "      <td>Asia</td>\n",
              "      <td>Afghanistan</td>\n",
              "      <td>2020-02-27</td>\n",
              "      <td>1.0</td>\n",
              "      <td>0.0</td>\n",
              "      <td>NaN</td>\n",
              "      <td>NaN</td>\n",
              "      <td>NaN</td>\n",
              "      <td>NaN</td>\n",
              "      <td>0.026</td>\n",
              "      <td>0.000</td>\n",
              "      <td>NaN</td>\n",
              "      <td>NaN</td>\n",
              "      <td>NaN</td>\n",
              "      <td>NaN</td>\n",
              "      <td>NaN</td>\n",
              "      <td>NaN</td>\n",
              "      <td>NaN</td>\n",
              "      <td>NaN</td>\n",
              "      <td>NaN</td>\n",
              "      <td>NaN</td>\n",
              "      <td>NaN</td>\n",
              "      <td>NaN</td>\n",
              "      <td>NaN</td>\n",
              "      <td>NaN</td>\n",
              "      <td>NaN</td>\n",
              "      <td>NaN</td>\n",
              "      <td>NaN</td>\n",
              "      <td>NaN</td>\n",
              "      <td>NaN</td>\n",
              "      <td>NaN</td>\n",
              "      <td>NaN</td>\n",
              "      <td>NaN</td>\n",
              "      <td>NaN</td>\n",
              "      <td>NaN</td>\n",
              "      <td>NaN</td>\n",
              "      <td>NaN</td>\n",
              "      <td>NaN</td>\n",
              "      <td>NaN</td>\n",
              "      <td>NaN</td>\n",
              "      <td>NaN</td>\n",
              "      <td>NaN</td>\n",
              "      <td>8.33</td>\n",
              "      <td>38928341.0</td>\n",
              "      <td>54.422</td>\n",
              "      <td>18.6</td>\n",
              "      <td>2.581</td>\n",
              "      <td>1.337</td>\n",
              "      <td>1803.987</td>\n",
              "      <td>NaN</td>\n",
              "      <td>597.029</td>\n",
              "      <td>9.59</td>\n",
              "      <td>NaN</td>\n",
              "      <td>NaN</td>\n",
              "      <td>37.746</td>\n",
              "      <td>0.5</td>\n",
              "      <td>64.83</td>\n",
              "      <td>0.511</td>\n",
              "    </tr>\n",
              "    <tr>\n",
              "      <th>4</th>\n",
              "      <td>AFG</td>\n",
              "      <td>Asia</td>\n",
              "      <td>Afghanistan</td>\n",
              "      <td>2020-02-28</td>\n",
              "      <td>1.0</td>\n",
              "      <td>0.0</td>\n",
              "      <td>NaN</td>\n",
              "      <td>NaN</td>\n",
              "      <td>NaN</td>\n",
              "      <td>NaN</td>\n",
              "      <td>0.026</td>\n",
              "      <td>0.000</td>\n",
              "      <td>NaN</td>\n",
              "      <td>NaN</td>\n",
              "      <td>NaN</td>\n",
              "      <td>NaN</td>\n",
              "      <td>NaN</td>\n",
              "      <td>NaN</td>\n",
              "      <td>NaN</td>\n",
              "      <td>NaN</td>\n",
              "      <td>NaN</td>\n",
              "      <td>NaN</td>\n",
              "      <td>NaN</td>\n",
              "      <td>NaN</td>\n",
              "      <td>NaN</td>\n",
              "      <td>NaN</td>\n",
              "      <td>NaN</td>\n",
              "      <td>NaN</td>\n",
              "      <td>NaN</td>\n",
              "      <td>NaN</td>\n",
              "      <td>NaN</td>\n",
              "      <td>NaN</td>\n",
              "      <td>NaN</td>\n",
              "      <td>NaN</td>\n",
              "      <td>NaN</td>\n",
              "      <td>NaN</td>\n",
              "      <td>NaN</td>\n",
              "      <td>NaN</td>\n",
              "      <td>NaN</td>\n",
              "      <td>NaN</td>\n",
              "      <td>NaN</td>\n",
              "      <td>NaN</td>\n",
              "      <td>NaN</td>\n",
              "      <td>8.33</td>\n",
              "      <td>38928341.0</td>\n",
              "      <td>54.422</td>\n",
              "      <td>18.6</td>\n",
              "      <td>2.581</td>\n",
              "      <td>1.337</td>\n",
              "      <td>1803.987</td>\n",
              "      <td>NaN</td>\n",
              "      <td>597.029</td>\n",
              "      <td>9.59</td>\n",
              "      <td>NaN</td>\n",
              "      <td>NaN</td>\n",
              "      <td>37.746</td>\n",
              "      <td>0.5</td>\n",
              "      <td>64.83</td>\n",
              "      <td>0.511</td>\n",
              "    </tr>\n",
              "  </tbody>\n",
              "</table>\n",
              "</div>"
            ],
            "text/plain": [
              "  iso_code continent  ... life_expectancy human_development_index\n",
              "0      AFG      Asia  ...           64.83                   0.511\n",
              "1      AFG      Asia  ...           64.83                   0.511\n",
              "2      AFG      Asia  ...           64.83                   0.511\n",
              "3      AFG      Asia  ...           64.83                   0.511\n",
              "4      AFG      Asia  ...           64.83                   0.511\n",
              "\n",
              "[5 rows x 59 columns]"
            ]
          },
          "metadata": {
            "tags": []
          },
          "execution_count": 3
        }
      ]
    },
    {
      "cell_type": "code",
      "metadata": {
        "colab": {
          "base_uri": "https://localhost:8080/"
        },
        "id": "5YQRT4_AJmIy",
        "outputId": "544d2aaf-3778-4a23-acc6-55aeefd1cd35"
      },
      "source": [
        "# Observando número de entradas e variáveis\r\n",
        "print(\"O dataset possui {} entradas e {} variáveis\".format(covid.shape[0],covid.shape[1]))"
      ],
      "execution_count": null,
      "outputs": [
        {
          "output_type": "stream",
          "text": [
            "O dataset possui 70851 entradas e 59 variáveis\n"
          ],
          "name": "stdout"
        }
      ]
    },
    {
      "cell_type": "code",
      "metadata": {
        "colab": {
          "base_uri": "https://localhost:8080/"
        },
        "id": "zRE_xhxTLQ7l",
        "outputId": "ce9695b9-ca1d-4e2f-ea8a-6984d771df17"
      },
      "source": [
        "# Observando qual o timeseries do dataset\r\n",
        "dmin = covid.date.min()\r\n",
        "dmax = covid.date.max()\r\n",
        "print(\"O dataset vai do dia {} ao dia {}\".format(dmin,dmax))"
      ],
      "execution_count": null,
      "outputs": [
        {
          "output_type": "stream",
          "text": [
            "O dataset vai do dia 2020-01-01 ao dia 2021-02-23\n"
          ],
          "name": "stdout"
        }
      ]
    },
    {
      "cell_type": "markdown",
      "metadata": {
        "id": "RYJvFccJTOpF"
      },
      "source": [
        "Agora vamos observar um panorama sobre os dados, quantos são, quais seus tipos e qual a porcentagem de dados ausentes possuímos no Dataset."
      ]
    },
    {
      "cell_type": "code",
      "metadata": {
        "colab": {
          "base_uri": "https://localhost:8080/"
        },
        "id": "HDpOdBcQTXj6",
        "outputId": "bef861ec-be04-42bb-b6b0-c7717409e2b0"
      },
      "source": [
        "#Usando o comando info()\r\n",
        "covid.info()"
      ],
      "execution_count": null,
      "outputs": [
        {
          "output_type": "stream",
          "text": [
            "<class 'pandas.core.frame.DataFrame'>\n",
            "RangeIndex: 70851 entries, 0 to 70850\n",
            "Data columns (total 59 columns):\n",
            " #   Column                                 Non-Null Count  Dtype  \n",
            "---  ------                                 --------------  -----  \n",
            " 0   iso_code                               70851 non-null  object \n",
            " 1   continent                              67325 non-null  object \n",
            " 2   location                               70851 non-null  object \n",
            " 3   date                                   70851 non-null  object \n",
            " 4   total_cases                            69938 non-null  float64\n",
            " 5   new_cases                              69936 non-null  float64\n",
            " 6   new_cases_smoothed                     68935 non-null  float64\n",
            " 7   total_deaths                           60914 non-null  float64\n",
            " 8   new_deaths                             61072 non-null  float64\n",
            " 9   new_deaths_smoothed                    68935 non-null  float64\n",
            " 10  total_cases_per_million                69555 non-null  float64\n",
            " 11  new_cases_per_million                  69553 non-null  float64\n",
            " 12  new_cases_smoothed_per_million         68557 non-null  float64\n",
            " 13  total_deaths_per_million               60544 non-null  float64\n",
            " 14  new_deaths_per_million                 60702 non-null  float64\n",
            " 15  new_deaths_smoothed_per_million        68557 non-null  float64\n",
            " 16  reproduction_rate                      56738 non-null  float64\n",
            " 17  icu_patients                           7473 non-null   float64\n",
            " 18  icu_patients_per_million               7473 non-null   float64\n",
            " 19  hosp_patients                          8882 non-null   float64\n",
            " 20  hosp_patients_per_million              8882 non-null   float64\n",
            " 21  weekly_icu_admissions                  702 non-null    float64\n",
            " 22  weekly_icu_admissions_per_million      702 non-null    float64\n",
            " 23  weekly_hosp_admissions                 1155 non-null   float64\n",
            " 24  weekly_hosp_admissions_per_million     1155 non-null   float64\n",
            " 25  new_tests                              32012 non-null  float64\n",
            " 26  total_tests                            31878 non-null  float64\n",
            " 27  total_tests_per_thousand               31878 non-null  float64\n",
            " 28  new_tests_per_thousand                 32012 non-null  float64\n",
            " 29  new_tests_smoothed                     36506 non-null  float64\n",
            " 30  new_tests_smoothed_per_thousand        36506 non-null  float64\n",
            " 31  positive_rate                          35076 non-null  float64\n",
            " 32  tests_per_case                         34557 non-null  float64\n",
            " 33  tests_units                            37791 non-null  object \n",
            " 34  total_vaccinations                     2585 non-null   float64\n",
            " 35  people_vaccinated                      2175 non-null   float64\n",
            " 36  people_fully_vaccinated                1400 non-null   float64\n",
            " 37  new_vaccinations                       2192 non-null   float64\n",
            " 38  new_vaccinations_smoothed              3742 non-null   float64\n",
            " 39  total_vaccinations_per_hundred         2585 non-null   float64\n",
            " 40  people_vaccinated_per_hundred          2175 non-null   float64\n",
            " 41  people_fully_vaccinated_per_hundred    1400 non-null   float64\n",
            " 42  new_vaccinations_smoothed_per_million  3742 non-null   float64\n",
            " 43  stringency_index                       61003 non-null  float64\n",
            " 44  population                             70459 non-null  float64\n",
            " 45  population_density                     66235 non-null  float64\n",
            " 46  median_age                             64491 non-null  float64\n",
            " 47  aged_65_older                          63747 non-null  float64\n",
            " 48  aged_70_older                          64127 non-null  float64\n",
            " 49  gdp_per_capita                         64654 non-null  float64\n",
            " 50  extreme_poverty                        44174 non-null  float64\n",
            " 51  cardiovasc_death_rate                  65261 non-null  float64\n",
            " 52  diabetes_prevalence                    66068 non-null  float64\n",
            " 53  female_smokers                         51381 non-null  float64\n",
            " 54  male_smokers                           50676 non-null  float64\n",
            " 55  handwashing_facilities                 32737 non-null  float64\n",
            " 56  hospital_beds_per_thousand             59816 non-null  float64\n",
            " 57  life_expectancy                        67333 non-null  float64\n",
            " 58  human_development_index                65240 non-null  float64\n",
            "dtypes: float64(54), object(5)\n",
            "memory usage: 31.9+ MB\n"
          ],
          "name": "stdout"
        }
      ]
    },
    {
      "cell_type": "code",
      "metadata": {
        "colab": {
          "base_uri": "https://localhost:8080/"
        },
        "id": "TmYen2BCUGS_",
        "outputId": "62405145-750c-418e-c41e-187beefb939c"
      },
      "source": [
        "# Visualizando a porcentagem de valores ausentes no Dataset\r\n",
        "round((covid.isnull().sum() / covid.shape[0]).sort_values(ascending=False),2)"
      ],
      "execution_count": null,
      "outputs": [
        {
          "output_type": "execute_result",
          "data": {
            "text/plain": [
              "weekly_icu_admissions                    0.99\n",
              "weekly_icu_admissions_per_million        0.99\n",
              "weekly_hosp_admissions                   0.98\n",
              "weekly_hosp_admissions_per_million       0.98\n",
              "people_fully_vaccinated                  0.98\n",
              "people_fully_vaccinated_per_hundred      0.98\n",
              "people_vaccinated                        0.97\n",
              "people_vaccinated_per_hundred            0.97\n",
              "new_vaccinations                         0.97\n",
              "total_vaccinations                       0.96\n",
              "total_vaccinations_per_hundred           0.96\n",
              "new_vaccinations_smoothed                0.95\n",
              "new_vaccinations_smoothed_per_million    0.95\n",
              "icu_patients                             0.89\n",
              "icu_patients_per_million                 0.89\n",
              "hosp_patients                            0.87\n",
              "hosp_patients_per_million                0.87\n",
              "total_tests                              0.55\n",
              "total_tests_per_thousand                 0.55\n",
              "new_tests                                0.55\n",
              "new_tests_per_thousand                   0.55\n",
              "handwashing_facilities                   0.54\n",
              "tests_per_case                           0.51\n",
              "positive_rate                            0.50\n",
              "new_tests_smoothed_per_thousand          0.48\n",
              "new_tests_smoothed                       0.48\n",
              "tests_units                              0.47\n",
              "extreme_poverty                          0.38\n",
              "male_smokers                             0.28\n",
              "female_smokers                           0.27\n",
              "reproduction_rate                        0.20\n",
              "hospital_beds_per_thousand               0.16\n",
              "total_deaths_per_million                 0.15\n",
              "new_deaths_per_million                   0.14\n",
              "total_deaths                             0.14\n",
              "stringency_index                         0.14\n",
              "new_deaths                               0.14\n",
              "aged_65_older                            0.10\n",
              "aged_70_older                            0.09\n",
              "median_age                               0.09\n",
              "gdp_per_capita                           0.09\n",
              "human_development_index                  0.08\n",
              "cardiovasc_death_rate                    0.08\n",
              "diabetes_prevalence                      0.07\n",
              "population_density                       0.07\n",
              "continent                                0.05\n",
              "life_expectancy                          0.05\n",
              "new_deaths_smoothed_per_million          0.03\n",
              "new_cases_smoothed_per_million           0.03\n",
              "new_deaths_smoothed                      0.03\n",
              "new_cases_smoothed                       0.03\n",
              "new_cases_per_million                    0.02\n",
              "total_cases_per_million                  0.02\n",
              "new_cases                                0.01\n",
              "total_cases                              0.01\n",
              "population                               0.01\n",
              "date                                     0.00\n",
              "location                                 0.00\n",
              "iso_code                                 0.00\n",
              "dtype: float64"
            ]
          },
          "metadata": {
            "tags": []
          },
          "execution_count": 7
        }
      ]
    },
    {
      "cell_type": "markdown",
      "metadata": {
        "id": "8ikfsGJBVMny"
      },
      "source": [
        "Vamos adequar a coluna `date` ao formato datetime"
      ]
    },
    {
      "cell_type": "code",
      "metadata": {
        "id": "GZFGy3XQU_NX"
      },
      "source": [
        "# Usando o to_datetime do pandas\r\n",
        "covid['date'] = pd.to_datetime(covid.date)"
      ],
      "execution_count": null,
      "outputs": []
    },
    {
      "cell_type": "markdown",
      "metadata": {
        "id": "hH_Png_iG2hy"
      },
      "source": [
        "Agora observando um panorama geral da Pandemia do COVID-19 no mundo."
      ]
    },
    {
      "cell_type": "code",
      "metadata": {
        "colab": {
          "base_uri": "https://localhost:8080/",
          "height": 309
        },
        "id": "qhxdbHNvVvGH",
        "outputId": "b5b3e9f2-ddfc-44df-a74b-cc528c7a326a"
      },
      "source": [
        "# Localizando os dados para o dia mais recente do Dataset, organizando pelos lugares com mais casos\r\n",
        "total_casos = covid.loc[covid.date == dmax].sort_values(by=\"total_cases\", ascending=False)\r\n",
        "\r\n",
        "# Deixando apenas os dados referentes à países no Dataset\r\n",
        "total_casos = total_casos.dropna(subset=['continent'])\r\n",
        "total_casos[:5]"
      ],
      "execution_count": null,
      "outputs": [
        {
          "output_type": "execute_result",
          "data": {
            "text/html": [
              "<div>\n",
              "<style scoped>\n",
              "    .dataframe tbody tr th:only-of-type {\n",
              "        vertical-align: middle;\n",
              "    }\n",
              "\n",
              "    .dataframe tbody tr th {\n",
              "        vertical-align: top;\n",
              "    }\n",
              "\n",
              "    .dataframe thead th {\n",
              "        text-align: right;\n",
              "    }\n",
              "</style>\n",
              "<table border=\"1\" class=\"dataframe\">\n",
              "  <thead>\n",
              "    <tr style=\"text-align: right;\">\n",
              "      <th></th>\n",
              "      <th>iso_code</th>\n",
              "      <th>continent</th>\n",
              "      <th>location</th>\n",
              "      <th>date</th>\n",
              "      <th>total_cases</th>\n",
              "      <th>new_cases</th>\n",
              "      <th>new_cases_smoothed</th>\n",
              "      <th>total_deaths</th>\n",
              "      <th>new_deaths</th>\n",
              "      <th>new_deaths_smoothed</th>\n",
              "      <th>total_cases_per_million</th>\n",
              "      <th>new_cases_per_million</th>\n",
              "      <th>new_cases_smoothed_per_million</th>\n",
              "      <th>total_deaths_per_million</th>\n",
              "      <th>new_deaths_per_million</th>\n",
              "      <th>new_deaths_smoothed_per_million</th>\n",
              "      <th>reproduction_rate</th>\n",
              "      <th>icu_patients</th>\n",
              "      <th>icu_patients_per_million</th>\n",
              "      <th>hosp_patients</th>\n",
              "      <th>hosp_patients_per_million</th>\n",
              "      <th>weekly_icu_admissions</th>\n",
              "      <th>weekly_icu_admissions_per_million</th>\n",
              "      <th>weekly_hosp_admissions</th>\n",
              "      <th>weekly_hosp_admissions_per_million</th>\n",
              "      <th>new_tests</th>\n",
              "      <th>total_tests</th>\n",
              "      <th>total_tests_per_thousand</th>\n",
              "      <th>new_tests_per_thousand</th>\n",
              "      <th>new_tests_smoothed</th>\n",
              "      <th>new_tests_smoothed_per_thousand</th>\n",
              "      <th>positive_rate</th>\n",
              "      <th>tests_per_case</th>\n",
              "      <th>tests_units</th>\n",
              "      <th>total_vaccinations</th>\n",
              "      <th>people_vaccinated</th>\n",
              "      <th>people_fully_vaccinated</th>\n",
              "      <th>new_vaccinations</th>\n",
              "      <th>new_vaccinations_smoothed</th>\n",
              "      <th>total_vaccinations_per_hundred</th>\n",
              "      <th>people_vaccinated_per_hundred</th>\n",
              "      <th>people_fully_vaccinated_per_hundred</th>\n",
              "      <th>new_vaccinations_smoothed_per_million</th>\n",
              "      <th>stringency_index</th>\n",
              "      <th>population</th>\n",
              "      <th>population_density</th>\n",
              "      <th>median_age</th>\n",
              "      <th>aged_65_older</th>\n",
              "      <th>aged_70_older</th>\n",
              "      <th>gdp_per_capita</th>\n",
              "      <th>extreme_poverty</th>\n",
              "      <th>cardiovasc_death_rate</th>\n",
              "      <th>diabetes_prevalence</th>\n",
              "      <th>female_smokers</th>\n",
              "      <th>male_smokers</th>\n",
              "      <th>handwashing_facilities</th>\n",
              "      <th>hospital_beds_per_thousand</th>\n",
              "      <th>life_expectancy</th>\n",
              "      <th>human_development_index</th>\n",
              "    </tr>\n",
              "  </thead>\n",
              "  <tbody>\n",
              "    <tr>\n",
              "      <th>67547</th>\n",
              "      <td>USA</td>\n",
              "      <td>North America</td>\n",
              "      <td>United States</td>\n",
              "      <td>2021-02-23</td>\n",
              "      <td>28261595.0</td>\n",
              "      <td>71436.0</td>\n",
              "      <td>71562.143</td>\n",
              "      <td>502660.0</td>\n",
              "      <td>2350.0</td>\n",
              "      <td>2030.714</td>\n",
              "      <td>85381.779</td>\n",
              "      <td>215.817</td>\n",
              "      <td>216.198</td>\n",
              "      <td>1518.598</td>\n",
              "      <td>7.100</td>\n",
              "      <td>6.135</td>\n",
              "      <td>NaN</td>\n",
              "      <td>NaN</td>\n",
              "      <td>NaN</td>\n",
              "      <td>NaN</td>\n",
              "      <td>NaN</td>\n",
              "      <td>NaN</td>\n",
              "      <td>NaN</td>\n",
              "      <td>NaN</td>\n",
              "      <td>NaN</td>\n",
              "      <td>NaN</td>\n",
              "      <td>NaN</td>\n",
              "      <td>NaN</td>\n",
              "      <td>NaN</td>\n",
              "      <td>NaN</td>\n",
              "      <td>NaN</td>\n",
              "      <td>NaN</td>\n",
              "      <td>NaN</td>\n",
              "      <td>NaN</td>\n",
              "      <td>65032083.0</td>\n",
              "      <td>44544969.0</td>\n",
              "      <td>19882544.0</td>\n",
              "      <td>854609.0</td>\n",
              "      <td>1401674.0</td>\n",
              "      <td>19.44</td>\n",
              "      <td>13.32</td>\n",
              "      <td>5.94</td>\n",
              "      <td>4191.0</td>\n",
              "      <td>NaN</td>\n",
              "      <td>3.310026e+08</td>\n",
              "      <td>35.608</td>\n",
              "      <td>38.3</td>\n",
              "      <td>15.413</td>\n",
              "      <td>9.732</td>\n",
              "      <td>54225.446</td>\n",
              "      <td>1.2</td>\n",
              "      <td>151.089</td>\n",
              "      <td>10.79</td>\n",
              "      <td>19.1</td>\n",
              "      <td>24.6</td>\n",
              "      <td>NaN</td>\n",
              "      <td>2.77</td>\n",
              "      <td>78.86</td>\n",
              "      <td>0.926</td>\n",
              "    </tr>\n",
              "    <tr>\n",
              "      <th>29480</th>\n",
              "      <td>IND</td>\n",
              "      <td>Asia</td>\n",
              "      <td>India</td>\n",
              "      <td>2021-02-23</td>\n",
              "      <td>11030176.0</td>\n",
              "      <td>13742.0</td>\n",
              "      <td>13265.143</td>\n",
              "      <td>156567.0</td>\n",
              "      <td>104.0</td>\n",
              "      <td>93.429</td>\n",
              "      <td>7992.856</td>\n",
              "      <td>9.958</td>\n",
              "      <td>9.612</td>\n",
              "      <td>113.454</td>\n",
              "      <td>0.075</td>\n",
              "      <td>0.068</td>\n",
              "      <td>NaN</td>\n",
              "      <td>NaN</td>\n",
              "      <td>NaN</td>\n",
              "      <td>NaN</td>\n",
              "      <td>NaN</td>\n",
              "      <td>NaN</td>\n",
              "      <td>NaN</td>\n",
              "      <td>NaN</td>\n",
              "      <td>NaN</td>\n",
              "      <td>NaN</td>\n",
              "      <td>NaN</td>\n",
              "      <td>NaN</td>\n",
              "      <td>NaN</td>\n",
              "      <td>NaN</td>\n",
              "      <td>NaN</td>\n",
              "      <td>NaN</td>\n",
              "      <td>NaN</td>\n",
              "      <td>NaN</td>\n",
              "      <td>11907392.0</td>\n",
              "      <td>10585757.0</td>\n",
              "      <td>1321635.0</td>\n",
              "      <td>483298.0</td>\n",
              "      <td>435722.0</td>\n",
              "      <td>0.86</td>\n",
              "      <td>0.77</td>\n",
              "      <td>0.10</td>\n",
              "      <td>316.0</td>\n",
              "      <td>57.87</td>\n",
              "      <td>1.380004e+09</td>\n",
              "      <td>450.419</td>\n",
              "      <td>28.2</td>\n",
              "      <td>5.989</td>\n",
              "      <td>3.414</td>\n",
              "      <td>6426.674</td>\n",
              "      <td>21.2</td>\n",
              "      <td>282.280</td>\n",
              "      <td>10.39</td>\n",
              "      <td>1.9</td>\n",
              "      <td>20.6</td>\n",
              "      <td>59.55</td>\n",
              "      <td>0.53</td>\n",
              "      <td>69.66</td>\n",
              "      <td>0.645</td>\n",
              "    </tr>\n",
              "    <tr>\n",
              "      <th>9467</th>\n",
              "      <td>BRA</td>\n",
              "      <td>South America</td>\n",
              "      <td>Brazil</td>\n",
              "      <td>2021-02-23</td>\n",
              "      <td>10257875.0</td>\n",
              "      <td>62715.0</td>\n",
              "      <td>47984.857</td>\n",
              "      <td>248529.0</td>\n",
              "      <td>1386.0</td>\n",
              "      <td>1084.143</td>\n",
              "      <td>48258.861</td>\n",
              "      <td>295.047</td>\n",
              "      <td>225.748</td>\n",
              "      <td>1169.221</td>\n",
              "      <td>6.521</td>\n",
              "      <td>5.100</td>\n",
              "      <td>NaN</td>\n",
              "      <td>NaN</td>\n",
              "      <td>NaN</td>\n",
              "      <td>NaN</td>\n",
              "      <td>NaN</td>\n",
              "      <td>NaN</td>\n",
              "      <td>NaN</td>\n",
              "      <td>NaN</td>\n",
              "      <td>NaN</td>\n",
              "      <td>NaN</td>\n",
              "      <td>NaN</td>\n",
              "      <td>NaN</td>\n",
              "      <td>NaN</td>\n",
              "      <td>NaN</td>\n",
              "      <td>NaN</td>\n",
              "      <td>NaN</td>\n",
              "      <td>NaN</td>\n",
              "      <td>NaN</td>\n",
              "      <td>7297061.0</td>\n",
              "      <td>6002873.0</td>\n",
              "      <td>1294188.0</td>\n",
              "      <td>268705.0</td>\n",
              "      <td>241018.0</td>\n",
              "      <td>3.43</td>\n",
              "      <td>2.82</td>\n",
              "      <td>0.61</td>\n",
              "      <td>1134.0</td>\n",
              "      <td>NaN</td>\n",
              "      <td>2.125594e+08</td>\n",
              "      <td>25.040</td>\n",
              "      <td>33.5</td>\n",
              "      <td>8.552</td>\n",
              "      <td>5.060</td>\n",
              "      <td>14103.452</td>\n",
              "      <td>3.4</td>\n",
              "      <td>177.961</td>\n",
              "      <td>8.11</td>\n",
              "      <td>10.1</td>\n",
              "      <td>17.9</td>\n",
              "      <td>NaN</td>\n",
              "      <td>2.20</td>\n",
              "      <td>75.88</td>\n",
              "      <td>0.765</td>\n",
              "    </tr>\n",
              "    <tr>\n",
              "      <th>67148</th>\n",
              "      <td>GBR</td>\n",
              "      <td>Europe</td>\n",
              "      <td>United Kingdom</td>\n",
              "      <td>2021-02-23</td>\n",
              "      <td>4146760.0</td>\n",
              "      <td>8523.0</td>\n",
              "      <td>10917.714</td>\n",
              "      <td>121536.0</td>\n",
              "      <td>548.0</td>\n",
              "      <td>445.000</td>\n",
              "      <td>61084.167</td>\n",
              "      <td>125.549</td>\n",
              "      <td>160.824</td>\n",
              "      <td>1790.295</td>\n",
              "      <td>8.072</td>\n",
              "      <td>6.555</td>\n",
              "      <td>NaN</td>\n",
              "      <td>NaN</td>\n",
              "      <td>NaN</td>\n",
              "      <td>NaN</td>\n",
              "      <td>NaN</td>\n",
              "      <td>NaN</td>\n",
              "      <td>NaN</td>\n",
              "      <td>NaN</td>\n",
              "      <td>NaN</td>\n",
              "      <td>NaN</td>\n",
              "      <td>NaN</td>\n",
              "      <td>NaN</td>\n",
              "      <td>NaN</td>\n",
              "      <td>NaN</td>\n",
              "      <td>NaN</td>\n",
              "      <td>NaN</td>\n",
              "      <td>NaN</td>\n",
              "      <td>NaN</td>\n",
              "      <td>NaN</td>\n",
              "      <td>NaN</td>\n",
              "      <td>NaN</td>\n",
              "      <td>NaN</td>\n",
              "      <td>NaN</td>\n",
              "      <td>NaN</td>\n",
              "      <td>NaN</td>\n",
              "      <td>NaN</td>\n",
              "      <td>NaN</td>\n",
              "      <td>NaN</td>\n",
              "      <td>6.788600e+07</td>\n",
              "      <td>272.898</td>\n",
              "      <td>40.8</td>\n",
              "      <td>18.517</td>\n",
              "      <td>12.527</td>\n",
              "      <td>39753.244</td>\n",
              "      <td>0.2</td>\n",
              "      <td>122.137</td>\n",
              "      <td>4.28</td>\n",
              "      <td>20.0</td>\n",
              "      <td>24.7</td>\n",
              "      <td>NaN</td>\n",
              "      <td>2.54</td>\n",
              "      <td>81.32</td>\n",
              "      <td>0.932</td>\n",
              "    </tr>\n",
              "    <tr>\n",
              "      <th>52795</th>\n",
              "      <td>RUS</td>\n",
              "      <td>Europe</td>\n",
              "      <td>Russia</td>\n",
              "      <td>2021-02-23</td>\n",
              "      <td>4142126.0</td>\n",
              "      <td>11679.0</td>\n",
              "      <td>12655.857</td>\n",
              "      <td>82666.0</td>\n",
              "      <td>411.0</td>\n",
              "      <td>429.571</td>\n",
              "      <td>28383.467</td>\n",
              "      <td>80.029</td>\n",
              "      <td>86.723</td>\n",
              "      <td>566.460</td>\n",
              "      <td>2.816</td>\n",
              "      <td>2.944</td>\n",
              "      <td>NaN</td>\n",
              "      <td>NaN</td>\n",
              "      <td>NaN</td>\n",
              "      <td>NaN</td>\n",
              "      <td>NaN</td>\n",
              "      <td>NaN</td>\n",
              "      <td>NaN</td>\n",
              "      <td>NaN</td>\n",
              "      <td>NaN</td>\n",
              "      <td>NaN</td>\n",
              "      <td>NaN</td>\n",
              "      <td>NaN</td>\n",
              "      <td>NaN</td>\n",
              "      <td>NaN</td>\n",
              "      <td>NaN</td>\n",
              "      <td>NaN</td>\n",
              "      <td>NaN</td>\n",
              "      <td>NaN</td>\n",
              "      <td>NaN</td>\n",
              "      <td>NaN</td>\n",
              "      <td>NaN</td>\n",
              "      <td>NaN</td>\n",
              "      <td>NaN</td>\n",
              "      <td>NaN</td>\n",
              "      <td>NaN</td>\n",
              "      <td>NaN</td>\n",
              "      <td>NaN</td>\n",
              "      <td>NaN</td>\n",
              "      <td>1.459345e+08</td>\n",
              "      <td>8.823</td>\n",
              "      <td>39.6</td>\n",
              "      <td>14.178</td>\n",
              "      <td>9.393</td>\n",
              "      <td>24765.954</td>\n",
              "      <td>0.1</td>\n",
              "      <td>431.297</td>\n",
              "      <td>6.18</td>\n",
              "      <td>23.4</td>\n",
              "      <td>58.3</td>\n",
              "      <td>NaN</td>\n",
              "      <td>8.05</td>\n",
              "      <td>72.58</td>\n",
              "      <td>0.824</td>\n",
              "    </tr>\n",
              "  </tbody>\n",
              "</table>\n",
              "</div>"
            ],
            "text/plain": [
              "      iso_code      continent  ... life_expectancy human_development_index\n",
              "67547      USA  North America  ...           78.86                   0.926\n",
              "29480      IND           Asia  ...           69.66                   0.645\n",
              "9467       BRA  South America  ...           75.88                   0.765\n",
              "67148      GBR         Europe  ...           81.32                   0.932\n",
              "52795      RUS         Europe  ...           72.58                   0.824\n",
              "\n",
              "[5 rows x 59 columns]"
            ]
          },
          "metadata": {
            "tags": []
          },
          "execution_count": 9
        }
      ]
    },
    {
      "cell_type": "code",
      "metadata": {
        "colab": {
          "base_uri": "https://localhost:8080/",
          "height": 309
        },
        "id": "oF42JU3KWWE6",
        "outputId": "e24c8ac0-ec25-414b-9716-cc2bbb6f15c4"
      },
      "source": [
        "# Localizando os dados para o dia mais recente do Dataset, organizando pelos lugares com mais mortes\r\n",
        "total_mortes = covid.loc[covid.date == dmax].sort_values(by='total_deaths', ascending = False)\r\n",
        "\r\n",
        "# Deixando apenas os dados referentes à países no Dataset\r\n",
        "total_mortes = total_mortes.dropna(subset=['continent'])\r\n",
        "total_mortes[:5]"
      ],
      "execution_count": null,
      "outputs": [
        {
          "output_type": "execute_result",
          "data": {
            "text/html": [
              "<div>\n",
              "<style scoped>\n",
              "    .dataframe tbody tr th:only-of-type {\n",
              "        vertical-align: middle;\n",
              "    }\n",
              "\n",
              "    .dataframe tbody tr th {\n",
              "        vertical-align: top;\n",
              "    }\n",
              "\n",
              "    .dataframe thead th {\n",
              "        text-align: right;\n",
              "    }\n",
              "</style>\n",
              "<table border=\"1\" class=\"dataframe\">\n",
              "  <thead>\n",
              "    <tr style=\"text-align: right;\">\n",
              "      <th></th>\n",
              "      <th>iso_code</th>\n",
              "      <th>continent</th>\n",
              "      <th>location</th>\n",
              "      <th>date</th>\n",
              "      <th>total_cases</th>\n",
              "      <th>new_cases</th>\n",
              "      <th>new_cases_smoothed</th>\n",
              "      <th>total_deaths</th>\n",
              "      <th>new_deaths</th>\n",
              "      <th>new_deaths_smoothed</th>\n",
              "      <th>total_cases_per_million</th>\n",
              "      <th>new_cases_per_million</th>\n",
              "      <th>new_cases_smoothed_per_million</th>\n",
              "      <th>total_deaths_per_million</th>\n",
              "      <th>new_deaths_per_million</th>\n",
              "      <th>new_deaths_smoothed_per_million</th>\n",
              "      <th>reproduction_rate</th>\n",
              "      <th>icu_patients</th>\n",
              "      <th>icu_patients_per_million</th>\n",
              "      <th>hosp_patients</th>\n",
              "      <th>hosp_patients_per_million</th>\n",
              "      <th>weekly_icu_admissions</th>\n",
              "      <th>weekly_icu_admissions_per_million</th>\n",
              "      <th>weekly_hosp_admissions</th>\n",
              "      <th>weekly_hosp_admissions_per_million</th>\n",
              "      <th>new_tests</th>\n",
              "      <th>total_tests</th>\n",
              "      <th>total_tests_per_thousand</th>\n",
              "      <th>new_tests_per_thousand</th>\n",
              "      <th>new_tests_smoothed</th>\n",
              "      <th>new_tests_smoothed_per_thousand</th>\n",
              "      <th>positive_rate</th>\n",
              "      <th>tests_per_case</th>\n",
              "      <th>tests_units</th>\n",
              "      <th>total_vaccinations</th>\n",
              "      <th>people_vaccinated</th>\n",
              "      <th>people_fully_vaccinated</th>\n",
              "      <th>new_vaccinations</th>\n",
              "      <th>new_vaccinations_smoothed</th>\n",
              "      <th>total_vaccinations_per_hundred</th>\n",
              "      <th>people_vaccinated_per_hundred</th>\n",
              "      <th>people_fully_vaccinated_per_hundred</th>\n",
              "      <th>new_vaccinations_smoothed_per_million</th>\n",
              "      <th>stringency_index</th>\n",
              "      <th>population</th>\n",
              "      <th>population_density</th>\n",
              "      <th>median_age</th>\n",
              "      <th>aged_65_older</th>\n",
              "      <th>aged_70_older</th>\n",
              "      <th>gdp_per_capita</th>\n",
              "      <th>extreme_poverty</th>\n",
              "      <th>cardiovasc_death_rate</th>\n",
              "      <th>diabetes_prevalence</th>\n",
              "      <th>female_smokers</th>\n",
              "      <th>male_smokers</th>\n",
              "      <th>handwashing_facilities</th>\n",
              "      <th>hospital_beds_per_thousand</th>\n",
              "      <th>life_expectancy</th>\n",
              "      <th>human_development_index</th>\n",
              "    </tr>\n",
              "  </thead>\n",
              "  <tbody>\n",
              "    <tr>\n",
              "      <th>67547</th>\n",
              "      <td>USA</td>\n",
              "      <td>North America</td>\n",
              "      <td>United States</td>\n",
              "      <td>2021-02-23</td>\n",
              "      <td>28261595.0</td>\n",
              "      <td>71436.0</td>\n",
              "      <td>71562.143</td>\n",
              "      <td>502660.0</td>\n",
              "      <td>2350.0</td>\n",
              "      <td>2030.714</td>\n",
              "      <td>85381.779</td>\n",
              "      <td>215.817</td>\n",
              "      <td>216.198</td>\n",
              "      <td>1518.598</td>\n",
              "      <td>7.100</td>\n",
              "      <td>6.135</td>\n",
              "      <td>NaN</td>\n",
              "      <td>NaN</td>\n",
              "      <td>NaN</td>\n",
              "      <td>NaN</td>\n",
              "      <td>NaN</td>\n",
              "      <td>NaN</td>\n",
              "      <td>NaN</td>\n",
              "      <td>NaN</td>\n",
              "      <td>NaN</td>\n",
              "      <td>NaN</td>\n",
              "      <td>NaN</td>\n",
              "      <td>NaN</td>\n",
              "      <td>NaN</td>\n",
              "      <td>NaN</td>\n",
              "      <td>NaN</td>\n",
              "      <td>NaN</td>\n",
              "      <td>NaN</td>\n",
              "      <td>NaN</td>\n",
              "      <td>65032083.0</td>\n",
              "      <td>44544969.0</td>\n",
              "      <td>19882544.0</td>\n",
              "      <td>854609.0</td>\n",
              "      <td>1401674.0</td>\n",
              "      <td>19.44</td>\n",
              "      <td>13.32</td>\n",
              "      <td>5.94</td>\n",
              "      <td>4191.0</td>\n",
              "      <td>NaN</td>\n",
              "      <td>3.310026e+08</td>\n",
              "      <td>35.608</td>\n",
              "      <td>38.3</td>\n",
              "      <td>15.413</td>\n",
              "      <td>9.732</td>\n",
              "      <td>54225.446</td>\n",
              "      <td>1.2</td>\n",
              "      <td>151.089</td>\n",
              "      <td>10.79</td>\n",
              "      <td>19.1</td>\n",
              "      <td>24.6</td>\n",
              "      <td>NaN</td>\n",
              "      <td>2.77</td>\n",
              "      <td>78.86</td>\n",
              "      <td>0.926</td>\n",
              "    </tr>\n",
              "    <tr>\n",
              "      <th>9467</th>\n",
              "      <td>BRA</td>\n",
              "      <td>South America</td>\n",
              "      <td>Brazil</td>\n",
              "      <td>2021-02-23</td>\n",
              "      <td>10257875.0</td>\n",
              "      <td>62715.0</td>\n",
              "      <td>47984.857</td>\n",
              "      <td>248529.0</td>\n",
              "      <td>1386.0</td>\n",
              "      <td>1084.143</td>\n",
              "      <td>48258.861</td>\n",
              "      <td>295.047</td>\n",
              "      <td>225.748</td>\n",
              "      <td>1169.221</td>\n",
              "      <td>6.521</td>\n",
              "      <td>5.100</td>\n",
              "      <td>NaN</td>\n",
              "      <td>NaN</td>\n",
              "      <td>NaN</td>\n",
              "      <td>NaN</td>\n",
              "      <td>NaN</td>\n",
              "      <td>NaN</td>\n",
              "      <td>NaN</td>\n",
              "      <td>NaN</td>\n",
              "      <td>NaN</td>\n",
              "      <td>NaN</td>\n",
              "      <td>NaN</td>\n",
              "      <td>NaN</td>\n",
              "      <td>NaN</td>\n",
              "      <td>NaN</td>\n",
              "      <td>NaN</td>\n",
              "      <td>NaN</td>\n",
              "      <td>NaN</td>\n",
              "      <td>NaN</td>\n",
              "      <td>7297061.0</td>\n",
              "      <td>6002873.0</td>\n",
              "      <td>1294188.0</td>\n",
              "      <td>268705.0</td>\n",
              "      <td>241018.0</td>\n",
              "      <td>3.43</td>\n",
              "      <td>2.82</td>\n",
              "      <td>0.61</td>\n",
              "      <td>1134.0</td>\n",
              "      <td>NaN</td>\n",
              "      <td>2.125594e+08</td>\n",
              "      <td>25.040</td>\n",
              "      <td>33.5</td>\n",
              "      <td>8.552</td>\n",
              "      <td>5.060</td>\n",
              "      <td>14103.452</td>\n",
              "      <td>3.4</td>\n",
              "      <td>177.961</td>\n",
              "      <td>8.11</td>\n",
              "      <td>10.1</td>\n",
              "      <td>17.9</td>\n",
              "      <td>NaN</td>\n",
              "      <td>2.20</td>\n",
              "      <td>75.88</td>\n",
              "      <td>0.765</td>\n",
              "    </tr>\n",
              "    <tr>\n",
              "      <th>41529</th>\n",
              "      <td>MEX</td>\n",
              "      <td>North America</td>\n",
              "      <td>Mexico</td>\n",
              "      <td>2021-02-23</td>\n",
              "      <td>2052266.0</td>\n",
              "      <td>8634.0</td>\n",
              "      <td>6813.000</td>\n",
              "      <td>181809.0</td>\n",
              "      <td>1273.0</td>\n",
              "      <td>831.857</td>\n",
              "      <td>15917.336</td>\n",
              "      <td>66.965</td>\n",
              "      <td>52.841</td>\n",
              "      <td>1410.107</td>\n",
              "      <td>9.873</td>\n",
              "      <td>6.452</td>\n",
              "      <td>NaN</td>\n",
              "      <td>NaN</td>\n",
              "      <td>NaN</td>\n",
              "      <td>NaN</td>\n",
              "      <td>NaN</td>\n",
              "      <td>NaN</td>\n",
              "      <td>NaN</td>\n",
              "      <td>NaN</td>\n",
              "      <td>NaN</td>\n",
              "      <td>NaN</td>\n",
              "      <td>NaN</td>\n",
              "      <td>NaN</td>\n",
              "      <td>NaN</td>\n",
              "      <td>NaN</td>\n",
              "      <td>NaN</td>\n",
              "      <td>NaN</td>\n",
              "      <td>NaN</td>\n",
              "      <td>NaN</td>\n",
              "      <td>1801156.0</td>\n",
              "      <td>1336854.0</td>\n",
              "      <td>464302.0</td>\n",
              "      <td>67752.0</td>\n",
              "      <td>126539.0</td>\n",
              "      <td>1.40</td>\n",
              "      <td>1.04</td>\n",
              "      <td>0.36</td>\n",
              "      <td>981.0</td>\n",
              "      <td>NaN</td>\n",
              "      <td>1.289328e+08</td>\n",
              "      <td>66.444</td>\n",
              "      <td>29.3</td>\n",
              "      <td>6.857</td>\n",
              "      <td>4.321</td>\n",
              "      <td>17336.469</td>\n",
              "      <td>2.5</td>\n",
              "      <td>152.783</td>\n",
              "      <td>13.06</td>\n",
              "      <td>6.9</td>\n",
              "      <td>21.4</td>\n",
              "      <td>87.847</td>\n",
              "      <td>1.38</td>\n",
              "      <td>75.05</td>\n",
              "      <td>0.779</td>\n",
              "    </tr>\n",
              "    <tr>\n",
              "      <th>29480</th>\n",
              "      <td>IND</td>\n",
              "      <td>Asia</td>\n",
              "      <td>India</td>\n",
              "      <td>2021-02-23</td>\n",
              "      <td>11030176.0</td>\n",
              "      <td>13742.0</td>\n",
              "      <td>13265.143</td>\n",
              "      <td>156567.0</td>\n",
              "      <td>104.0</td>\n",
              "      <td>93.429</td>\n",
              "      <td>7992.856</td>\n",
              "      <td>9.958</td>\n",
              "      <td>9.612</td>\n",
              "      <td>113.454</td>\n",
              "      <td>0.075</td>\n",
              "      <td>0.068</td>\n",
              "      <td>NaN</td>\n",
              "      <td>NaN</td>\n",
              "      <td>NaN</td>\n",
              "      <td>NaN</td>\n",
              "      <td>NaN</td>\n",
              "      <td>NaN</td>\n",
              "      <td>NaN</td>\n",
              "      <td>NaN</td>\n",
              "      <td>NaN</td>\n",
              "      <td>NaN</td>\n",
              "      <td>NaN</td>\n",
              "      <td>NaN</td>\n",
              "      <td>NaN</td>\n",
              "      <td>NaN</td>\n",
              "      <td>NaN</td>\n",
              "      <td>NaN</td>\n",
              "      <td>NaN</td>\n",
              "      <td>NaN</td>\n",
              "      <td>11907392.0</td>\n",
              "      <td>10585757.0</td>\n",
              "      <td>1321635.0</td>\n",
              "      <td>483298.0</td>\n",
              "      <td>435722.0</td>\n",
              "      <td>0.86</td>\n",
              "      <td>0.77</td>\n",
              "      <td>0.10</td>\n",
              "      <td>316.0</td>\n",
              "      <td>57.87</td>\n",
              "      <td>1.380004e+09</td>\n",
              "      <td>450.419</td>\n",
              "      <td>28.2</td>\n",
              "      <td>5.989</td>\n",
              "      <td>3.414</td>\n",
              "      <td>6426.674</td>\n",
              "      <td>21.2</td>\n",
              "      <td>282.280</td>\n",
              "      <td>10.39</td>\n",
              "      <td>1.9</td>\n",
              "      <td>20.6</td>\n",
              "      <td>59.550</td>\n",
              "      <td>0.53</td>\n",
              "      <td>69.66</td>\n",
              "      <td>0.645</td>\n",
              "    </tr>\n",
              "    <tr>\n",
              "      <th>67148</th>\n",
              "      <td>GBR</td>\n",
              "      <td>Europe</td>\n",
              "      <td>United Kingdom</td>\n",
              "      <td>2021-02-23</td>\n",
              "      <td>4146760.0</td>\n",
              "      <td>8523.0</td>\n",
              "      <td>10917.714</td>\n",
              "      <td>121536.0</td>\n",
              "      <td>548.0</td>\n",
              "      <td>445.000</td>\n",
              "      <td>61084.167</td>\n",
              "      <td>125.549</td>\n",
              "      <td>160.824</td>\n",
              "      <td>1790.295</td>\n",
              "      <td>8.072</td>\n",
              "      <td>6.555</td>\n",
              "      <td>NaN</td>\n",
              "      <td>NaN</td>\n",
              "      <td>NaN</td>\n",
              "      <td>NaN</td>\n",
              "      <td>NaN</td>\n",
              "      <td>NaN</td>\n",
              "      <td>NaN</td>\n",
              "      <td>NaN</td>\n",
              "      <td>NaN</td>\n",
              "      <td>NaN</td>\n",
              "      <td>NaN</td>\n",
              "      <td>NaN</td>\n",
              "      <td>NaN</td>\n",
              "      <td>NaN</td>\n",
              "      <td>NaN</td>\n",
              "      <td>NaN</td>\n",
              "      <td>NaN</td>\n",
              "      <td>NaN</td>\n",
              "      <td>NaN</td>\n",
              "      <td>NaN</td>\n",
              "      <td>NaN</td>\n",
              "      <td>NaN</td>\n",
              "      <td>NaN</td>\n",
              "      <td>NaN</td>\n",
              "      <td>NaN</td>\n",
              "      <td>NaN</td>\n",
              "      <td>NaN</td>\n",
              "      <td>NaN</td>\n",
              "      <td>6.788600e+07</td>\n",
              "      <td>272.898</td>\n",
              "      <td>40.8</td>\n",
              "      <td>18.517</td>\n",
              "      <td>12.527</td>\n",
              "      <td>39753.244</td>\n",
              "      <td>0.2</td>\n",
              "      <td>122.137</td>\n",
              "      <td>4.28</td>\n",
              "      <td>20.0</td>\n",
              "      <td>24.7</td>\n",
              "      <td>NaN</td>\n",
              "      <td>2.54</td>\n",
              "      <td>81.32</td>\n",
              "      <td>0.932</td>\n",
              "    </tr>\n",
              "  </tbody>\n",
              "</table>\n",
              "</div>"
            ],
            "text/plain": [
              "      iso_code      continent  ... life_expectancy human_development_index\n",
              "67547      USA  North America  ...           78.86                   0.926\n",
              "9467       BRA  South America  ...           75.88                   0.765\n",
              "41529      MEX  North America  ...           75.05                   0.779\n",
              "29480      IND           Asia  ...           69.66                   0.645\n",
              "67148      GBR         Europe  ...           81.32                   0.932\n",
              "\n",
              "[5 rows x 59 columns]"
            ]
          },
          "metadata": {
            "tags": []
          },
          "execution_count": 10
        }
      ]
    },
    {
      "cell_type": "markdown",
      "metadata": {
        "id": "KZKg9u8MJNAe"
      },
      "source": [
        "Agora vamos plotar alguns gráficos para facilitar a visualização."
      ]
    },
    {
      "cell_type": "code",
      "metadata": {
        "colab": {
          "base_uri": "https://localhost:8080/",
          "height": 426
        },
        "id": "SjcSauQnj54N",
        "outputId": "96c9b996-12eb-45cc-d5d8-9ec1f940b196"
      },
      "source": [
        "# Top ten de mortes\r\n",
        "top10_tm = total_mortes.head(10)\r\n",
        "\r\n",
        "# Plotando o total de mortes\r\n",
        "fig, ax = plt.subplots(figsize=(10,5))\r\n",
        "ax.bar('location','total_deaths', data=top10_tm)\r\n",
        "plt.xticks(rotation=90)\r\n",
        "plt.suptitle('Países com mais mortes por COVID-19 no dia {}'.format(covid.date.dt.date.max()))\r\n",
        "plt.show()"
      ],
      "execution_count": null,
      "outputs": [
        {
          "output_type": "display_data",
          "data": {
            "image/png": "[encoded data removed]",
            "text/plain": [
              "<Figure size 720x360 with 1 Axes>"
            ]
          },
          "metadata": {
            "tags": [],
            "needs_background": "light"
          }
        }
      ]
    },
    {
      "cell_type": "code",
      "metadata": {
        "colab": {
          "base_uri": "https://localhost:8080/",
          "height": 381
        },
        "id": "0jD5nfiWlxXo",
        "outputId": "455e59c1-d1d1-4fcd-f9ab-f7e65445cc7e"
      },
      "source": [
        "# Criando backup pra não comprometer o dataset original\r\n",
        "covid1 = covid.copy()\r\n",
        "\r\n",
        "# Plotando o a evolução da covid no mundo\r\n",
        "covid1 = covid1.loc[covid1.location ==\"World\"].reset_index(drop=True)\r\n",
        "covid1.groupby(['date'])['total_cases'].sum().plot(figsize=(10,5))\r\n",
        "plt.suptitle('Evolução de Nº de casos da COVID-19 na série histórica de estudo',fontsize=15)\r\n",
        "plt.show()"
      ],
      "execution_count": null,
      "outputs": [
        {
          "output_type": "display_data",
          "data": {
            "image/png": "[encoded data removed]",
            "text/plain": [
              "<Figure size 720x360 with 1 Axes>"
            ]
          },
          "metadata": {
            "tags": [],
            "needs_background": "light"
          }
        }
      ]
    },
    {
      "cell_type": "markdown",
      "metadata": {
        "id": "lVhbsTGRZtgb"
      },
      "source": [
        "### **Dados de Vacinas**\r\n",
        "\r\n",
        "***Partindo para as análises sobre vacinas!***\r\n",
        "\r\n",
        "Observando o Dataset vemos que os dados sobre vacina possuem muitos valores em NaN, pois como a vacina foi criada apenas recentemente, esses dados não existiam nos primeiros meses da nossa série. Os nossos próximos passos são:\r\n",
        "* Isolar os dados referentes à vacinas que são:\r\n",
        "\r\n",
        "`total_vaccinations`,\t`people_vaccinated`, `people_fully_vaccinated`, `\tnew_vaccinations`,\t`new_vaccinations_smoothed`, `\ttotal_vaccinations_per_hundred`, `people_vaccinated_per_hundred`, `\tpeople_fully_vaccinated_per_hundred`, `\tnew_vaccinations_smoothed_per_million`\r\n",
        "\r\n",
        "**Adicionaremos também alguns dados gerais para auxiliar nossa análise que são:*\r\n",
        "\r\n",
        "`iso_code`,\t`continent`, `location`,\t`date`, `life_expectancy`, `human_development_index`, `aged_65_older`, `aged_70_older`, `stringency_index`,`population_density`, `median_age`\r\n",
        "\r\n",
        "* Limpar esses dados mais antigos que não serão úteis para visualizar dados sobre vacinas"
      ]
    },
    {
      "cell_type": "code",
      "metadata": {
        "id": "Am9OeHNTaapT"
      },
      "source": [
        "# Criando dataframe sobre Vacinas\r\n",
        "vacinas = covid[['iso_code', 'continent', 'location', 'date',\r\n",
        "                 'total_vaccinations', 'people_vaccinated', 'people_fully_vaccinated',\r\n",
        "                'new_vaccinations', 'new_vaccinations_smoothed', 'total_vaccinations_per_hundred',\r\n",
        "                'people_vaccinated_per_hundred', 'people_fully_vaccinated_per_hundred', 'new_vaccinations_smoothed_per_million',\r\n",
        "                 'life_expectancy', 'human_development_index', 'aged_65_older',\r\n",
        "                 'aged_70_older', 'stringency_index', 'population_density', 'median_age']].copy()"
      ],
      "execution_count": null,
      "outputs": []
    },
    {
      "cell_type": "code",
      "metadata": {
        "id": "YLj8jdWbi7Y0"
      },
      "source": [
        "# Limpando os valores ausentes anteriores à primeira vacina\r\n",
        "vacinas.dropna(subset = ['total_vaccinations'] , axis=0, inplace= True)"
      ],
      "execution_count": null,
      "outputs": []
    },
    {
      "cell_type": "code",
      "metadata": {
        "colab": {
          "base_uri": "https://localhost:8080/"
        },
        "id": "m6kjT4yenLLA",
        "outputId": "87c65306-b68d-4850-a815-3911b2eac77f"
      },
      "source": [
        "# Verificando o tamanho do nosso novo dataset\r\n",
        "print(\"O dataframe possui {} entradas e {} variáveis\".format(vacinas.shape[0],vacinas.shape[1]))"
      ],
      "execution_count": null,
      "outputs": [
        {
          "output_type": "stream",
          "text": [
            "O dataframe possui 2585 entradas e 20 variáveis\n"
          ],
          "name": "stdout"
        }
      ]
    },
    {
      "cell_type": "code",
      "metadata": {
        "colab": {
          "base_uri": "https://localhost:8080/"
        },
        "id": "uM-kliuLpthB",
        "outputId": "48cf8c6c-979e-4d0e-98ec-0d73e363a0ca"
      },
      "source": [
        "# Verificando quantos valores ausentes possuímos no nosso Dataset\r\n",
        "round((vacinas.isnull().sum() / vacinas.shape[0]).sort_values(ascending=False),2)"
      ],
      "execution_count": null,
      "outputs": [
        {
          "output_type": "execute_result",
          "data": {
            "text/plain": [
              "people_fully_vaccinated_per_hundred      0.46\n",
              "people_fully_vaccinated                  0.46\n",
              "stringency_index                         0.18\n",
              "people_vaccinated_per_hundred            0.17\n",
              "people_vaccinated                        0.17\n",
              "new_vaccinations                         0.15\n",
              "aged_70_older                            0.08\n",
              "median_age                               0.07\n",
              "aged_65_older                            0.07\n",
              "human_development_index                  0.07\n",
              "continent                                0.05\n",
              "new_vaccinations_smoothed_per_million    0.04\n",
              "new_vaccinations_smoothed                0.04\n",
              "population_density                       0.03\n",
              "life_expectancy                          0.03\n",
              "location                                 0.00\n",
              "total_vaccinations_per_hundred           0.00\n",
              "date                                     0.00\n",
              "total_vaccinations                       0.00\n",
              "iso_code                                 0.00\n",
              "dtype: float64"
            ]
          },
          "metadata": {
            "tags": []
          },
          "execution_count": 16
        }
      ]
    },
    {
      "cell_type": "code",
      "metadata": {
        "colab": {
          "base_uri": "https://localhost:8080/",
          "height": 317
        },
        "id": "hj_E7-BerGz6",
        "outputId": "85dd27f1-e2d6-4868-cc2f-eee6e9423550"
      },
      "source": [
        "# Agora vamos utilizar o método describe()\r\n",
        "vacinas.describe()"
      ],
      "execution_count": null,
      "outputs": [
        {
          "output_type": "execute_result",
          "data": {
            "text/html": [
              "<div>\n",
              "<style scoped>\n",
              "    .dataframe tbody tr th:only-of-type {\n",
              "        vertical-align: middle;\n",
              "    }\n",
              "\n",
              "    .dataframe tbody tr th {\n",
              "        vertical-align: top;\n",
              "    }\n",
              "\n",
              "    .dataframe thead th {\n",
              "        text-align: right;\n",
              "    }\n",
              "</style>\n",
              "<table border=\"1\" class=\"dataframe\">\n",
              "  <thead>\n",
              "    <tr style=\"text-align: right;\">\n",
              "      <th></th>\n",
              "      <th>total_vaccinations</th>\n",
              "      <th>people_vaccinated</th>\n",
              "      <th>people_fully_vaccinated</th>\n",
              "      <th>new_vaccinations</th>\n",
              "      <th>new_vaccinations_smoothed</th>\n",
              "      <th>total_vaccinations_per_hundred</th>\n",
              "      <th>people_vaccinated_per_hundred</th>\n",
              "      <th>people_fully_vaccinated_per_hundred</th>\n",
              "      <th>new_vaccinations_smoothed_per_million</th>\n",
              "      <th>life_expectancy</th>\n",
              "      <th>human_development_index</th>\n",
              "      <th>aged_65_older</th>\n",
              "      <th>aged_70_older</th>\n",
              "      <th>stringency_index</th>\n",
              "      <th>population_density</th>\n",
              "      <th>median_age</th>\n",
              "    </tr>\n",
              "  </thead>\n",
              "  <tbody>\n",
              "    <tr>\n",
              "      <th>count</th>\n",
              "      <td>2.585000e+03</td>\n",
              "      <td>2.142000e+03</td>\n",
              "      <td>1.392000e+03</td>\n",
              "      <td>2.192000e+03</td>\n",
              "      <td>2.469000e+03</td>\n",
              "      <td>2585.000000</td>\n",
              "      <td>2142.000000</td>\n",
              "      <td>1392.000000</td>\n",
              "      <td>2469.000000</td>\n",
              "      <td>2516.000000</td>\n",
              "      <td>2410.000000</td>\n",
              "      <td>2403.000000</td>\n",
              "      <td>2381.000000</td>\n",
              "      <td>2127.000000</td>\n",
              "      <td>2510.000000</td>\n",
              "      <td>2403.000000</td>\n",
              "    </tr>\n",
              "    <tr>\n",
              "      <th>mean</th>\n",
              "      <td>3.717231e+06</td>\n",
              "      <td>2.878764e+06</td>\n",
              "      <td>1.061191e+06</td>\n",
              "      <td>1.771536e+05</td>\n",
              "      <td>1.546472e+05</td>\n",
              "      <td>5.802646</td>\n",
              "      <td>4.587143</td>\n",
              "      <td>2.124547</td>\n",
              "      <td>2389.869988</td>\n",
              "      <td>78.960978</td>\n",
              "      <td>0.860353</td>\n",
              "      <td>14.498236</td>\n",
              "      <td>9.498047</td>\n",
              "      <td>67.838655</td>\n",
              "      <td>335.165991</td>\n",
              "      <td>38.679442</td>\n",
              "    </tr>\n",
              "    <tr>\n",
              "      <th>std</th>\n",
              "      <td>1.736445e+07</td>\n",
              "      <td>1.123312e+07</td>\n",
              "      <td>3.975956e+06</td>\n",
              "      <td>7.382489e+05</td>\n",
              "      <td>6.104304e+05</td>\n",
              "      <td>12.142116</td>\n",
              "      <td>8.592062</td>\n",
              "      <td>5.260239</td>\n",
              "      <td>4269.994260</td>\n",
              "      <td>3.583303</td>\n",
              "      <td>0.076784</td>\n",
              "      <td>6.128722</td>\n",
              "      <td>4.360017</td>\n",
              "      <td>12.404208</td>\n",
              "      <td>1127.726116</td>\n",
              "      <td>6.041962</td>\n",
              "    </tr>\n",
              "    <tr>\n",
              "      <th>min</th>\n",
              "      <td>0.000000e+00</td>\n",
              "      <td>0.000000e+00</td>\n",
              "      <td>1.000000e+00</td>\n",
              "      <td>-5.001200e+04</td>\n",
              "      <td>1.000000e+00</td>\n",
              "      <td>0.000000</td>\n",
              "      <td>0.000000</td>\n",
              "      <td>0.000000</td>\n",
              "      <td>0.000000</td>\n",
              "      <td>61.490000</td>\n",
              "      <td>0.557000</td>\n",
              "      <td>1.144000</td>\n",
              "      <td>0.526000</td>\n",
              "      <td>16.670000</td>\n",
              "      <td>0.137000</td>\n",
              "      <td>19.600000</td>\n",
              "    </tr>\n",
              "    <tr>\n",
              "      <th>25%</th>\n",
              "      <td>2.938900e+04</td>\n",
              "      <td>2.879350e+04</td>\n",
              "      <td>1.153050e+04</td>\n",
              "      <td>1.999500e+03</td>\n",
              "      <td>2.235000e+03</td>\n",
              "      <td>0.520000</td>\n",
              "      <td>0.500000</td>\n",
              "      <td>0.170000</td>\n",
              "      <td>424.000000</td>\n",
              "      <td>76.680000</td>\n",
              "      <td>0.816000</td>\n",
              "      <td>8.696000</td>\n",
              "      <td>5.355000</td>\n",
              "      <td>58.330000</td>\n",
              "      <td>55.133000</td>\n",
              "      <td>32.400000</td>\n",
              "    </tr>\n",
              "    <tr>\n",
              "      <th>50%</th>\n",
              "      <td>1.959210e+05</td>\n",
              "      <td>1.810300e+05</td>\n",
              "      <td>5.705000e+04</td>\n",
              "      <td>1.145200e+04</td>\n",
              "      <td>1.063300e+04</td>\n",
              "      <td>2.100000</td>\n",
              "      <td>2.085000</td>\n",
              "      <td>0.745000</td>\n",
              "      <td>1096.000000</td>\n",
              "      <td>79.190000</td>\n",
              "      <td>0.882000</td>\n",
              "      <td>16.821000</td>\n",
              "      <td>10.813000</td>\n",
              "      <td>71.300000</td>\n",
              "      <td>108.043000</td>\n",
              "      <td>41.200000</td>\n",
              "    </tr>\n",
              "    <tr>\n",
              "      <th>75%</th>\n",
              "      <td>1.042171e+06</td>\n",
              "      <td>9.996468e+05</td>\n",
              "      <td>3.668678e+05</td>\n",
              "      <td>6.941925e+04</td>\n",
              "      <td>6.603500e+04</td>\n",
              "      <td>5.130000</td>\n",
              "      <td>3.757500</td>\n",
              "      <td>1.800000</td>\n",
              "      <td>1859.000000</td>\n",
              "      <td>82.050000</td>\n",
              "      <td>0.919000</td>\n",
              "      <td>19.436000</td>\n",
              "      <td>13.079000</td>\n",
              "      <td>77.780000</td>\n",
              "      <td>214.243000</td>\n",
              "      <td>43.300000</td>\n",
              "    </tr>\n",
              "    <tr>\n",
              "      <th>max</th>\n",
              "      <td>2.161673e+08</td>\n",
              "      <td>1.285793e+08</td>\n",
              "      <td>4.363770e+07</td>\n",
              "      <td>1.275586e+07</td>\n",
              "      <td>6.207062e+06</td>\n",
              "      <td>93.890000</td>\n",
              "      <td>56.100000</td>\n",
              "      <td>37.780000</td>\n",
              "      <td>54264.000000</td>\n",
              "      <td>86.750000</td>\n",
              "      <td>0.957000</td>\n",
              "      <td>27.049000</td>\n",
              "      <td>18.493000</td>\n",
              "      <td>89.810000</td>\n",
              "      <td>20546.766000</td>\n",
              "      <td>48.200000</td>\n",
              "    </tr>\n",
              "  </tbody>\n",
              "</table>\n",
              "</div>"
            ],
            "text/plain": [
              "       total_vaccinations  people_vaccinated  ...  population_density   median_age\n",
              "count        2.585000e+03       2.142000e+03  ...         2510.000000  2403.000000\n",
              "mean         3.717231e+06       2.878764e+06  ...          335.165991    38.679442\n",
              "std          1.736445e+07       1.123312e+07  ...         1127.726116     6.041962\n",
              "min          0.000000e+00       0.000000e+00  ...            0.137000    19.600000\n",
              "25%          2.938900e+04       2.879350e+04  ...           55.133000    32.400000\n",
              "50%          1.959210e+05       1.810300e+05  ...          108.043000    41.200000\n",
              "75%          1.042171e+06       9.996468e+05  ...          214.243000    43.300000\n",
              "max          2.161673e+08       1.285793e+08  ...        20546.766000    48.200000\n",
              "\n",
              "[8 rows x 16 columns]"
            ]
          },
          "metadata": {
            "tags": []
          },
          "execution_count": 17
        }
      ]
    },
    {
      "cell_type": "markdown",
      "metadata": {
        "id": "BJJnWMx5n2mh"
      },
      "source": [
        "Aqui temos alguns valores que são outliers, pois são muito maiores que o normal para a fração do dataset, mas como realmente temos países que tiveram muitos valores que extrapolaram a normalidade, vamos usá-los para visualizar essas discrepâncias de números."
      ]
    },
    {
      "cell_type": "markdown",
      "metadata": {
        "id": "6u6-bESytGkL"
      },
      "source": [
        "Vamos observar se existe alguma correlação significativa entre os dados."
      ]
    },
    {
      "cell_type": "code",
      "metadata": {
        "colab": {
          "base_uri": "https://localhost:8080/",
          "height": 740
        },
        "id": "8d-3G6rqtPMn",
        "outputId": "853b56f9-007f-439c-e7b1-a3a38445ad05"
      },
      "source": [
        "corr_vac = vacinas.corr()\r\n",
        "corr_vac\r\n",
        "fig, ax = plt.subplots(figsize=(10,10));\r\n",
        "sns.heatmap(corr_vac, cmap='RdBu', fmt='2f', square=True, linecolor='white');"
      ],
      "execution_count": null,
      "outputs": [
        {
          "output_type": "display_data",
          "data": {
            "image/png": "[encoded data removed]",
            "text/plain": [
              "<Figure size 720x720 with 2 Axes>"
            ]
          },
          "metadata": {
            "tags": [],
            "needs_background": "light"
          }
        }
      ]
    },
    {
      "cell_type": "markdown",
      "metadata": {
        "id": "lL4B_T5AvpA3"
      },
      "source": [
        "Podemos observar que as correlações mais fortes entre variáveis são as que já eram esperadas, como número total de vacinas e novas vacinas, por exemplo, mas a própria escala nos mostra que não tivemos uma correlação inversa maior que 0.3."
      ]
    },
    {
      "cell_type": "markdown",
      "metadata": {
        "id": "7mf82bMcwAyg"
      },
      "source": [
        "Agora vamos observar dados relevantes sobre a vacinação:\r\n",
        "* 1) Quais os países com mais doses de vacina aplicadas? E por centenas de pessoas?\r\n",
        "* 2) Quais os países com mais pessoas vacinadas? E por centenas de pessoas?\r\n",
        "* 3) Quais os que mais vacinaram completamente? E por centenas de pessoas?\r\n",
        "\r\n",
        "Antes disso vamos definir um dataset para o dia mais atual dos nossos dados"
      ]
    },
    {
      "cell_type": "code",
      "metadata": {
        "id": "qyYvgLps_DO6"
      },
      "source": [
        "# Definindo dia mais recente do Dataset\r\n",
        "vac_hoje = vacinas.loc[vacinas.date == dmax]\r\n",
        "\r\n",
        "# Deixando apenas os dados referentes à países no Dataset\r\n",
        "vac_hoje = vac_hoje.dropna(subset=['continent'])"
      ],
      "execution_count": null,
      "outputs": []
    },
    {
      "cell_type": "markdown",
      "metadata": {
        "id": "XkbDpt5S6AwJ"
      },
      "source": [
        "**1) Quais os países com mais doses de vacina aplicadas? E por centenas de pessoas?**"
      ]
    },
    {
      "cell_type": "code",
      "metadata": {
        "colab": {
          "base_uri": "https://localhost:8080/",
          "height": 590
        },
        "id": "neEKFHYtr2cD",
        "outputId": "85cd90d3-ebce-4338-cd9a-10f0ffd647a8"
      },
      "source": [
        "# Organizando as variáveis em ordem ascedente\r\n",
        "total_vacs = vac_hoje.sort_values(by='total_vaccinations', ascending = False)\r\n",
        "total_vacs_ph = vac_hoje.sort_values(by='total_vaccinations_per_hundred', ascending=False)\r\n",
        "\r\n",
        "# Plotando os países que mais vacinaram\r\n",
        "fig, (ax1, ax2) = plt.subplots(nrows=1, ncols=2, figsize=(15, 7))\r\n",
        "\r\n",
        "plt.suptitle('Atualizado no dia {}'.format(covid.date.dt.date.max()))\r\n",
        "ax1.bar('location','total_vaccinations', data=total_vacs.head(10))\r\n",
        "ax1.set_title('Países com mais doses de vacina da COVID-19', fontsize=15)\r\n",
        "ax1.set_ylabel('Milhões de doses')\r\n",
        "ax1.set_xlabel('Países')\r\n",
        "ax1.tick_params(labelrotation=90)\r\n",
        "\r\n",
        "ax2.bar('location','total_vaccinations_per_hundred', data=total_vacs_ph.head(10))\r\n",
        "ax2.set_title('Países com mais doses de vacina da COVID-19, por centenas de pessoas'.format(covid.date.dt.date.max()), fontsize= 12)\r\n",
        "ax2.set_ylabel('Doses por centenas de pessoas')\r\n",
        "ax2.set_xlabel('Países')\r\n",
        "ax2.tick_params(labelrotation=90)"
      ],
      "execution_count": null,
      "outputs": [
        {
          "output_type": "display_data",
          "data": {
            "image/png": "[encoded data removed]",
            "text/plain": [
              "<Figure size 1080x504 with 2 Axes>"
            ]
          },
          "metadata": {
            "tags": [],
            "needs_background": "light"
          }
        }
      ]
    },
    {
      "cell_type": "markdown",
      "metadata": {
        "id": "v28K4hzMp06F"
      },
      "source": [
        "Percebemos que há uma diferença entre os países que mais vacinaram por números absolutos e com esses valores por centenas de pessoas.\r\n",
        "\r\n",
        "Os países mais populosos se destacam em números absolutos, mas os países menores em população se destacam em conseguir vacinar uma parcela maior da sua população, com destaque para Israel."
      ]
    },
    {
      "cell_type": "markdown",
      "metadata": {
        "id": "XCyBrs4Y-ySs"
      },
      "source": [
        "**2) Quais os países com mais pessoas vacinadas? E por centenas de pessoas?**"
      ]
    },
    {
      "cell_type": "code",
      "metadata": {
        "colab": {
          "base_uri": "https://localhost:8080/",
          "height": 590
        },
        "id": "qM95HNdE-2Tf",
        "outputId": "5421203c-fbfd-4642-ebfa-56f43c5ca920"
      },
      "source": [
        "# Organizando as variáveis em ordem ascedente\r\n",
        "total_pvacs = vac_hoje.sort_values(by='people_vaccinated', ascending = False)\r\n",
        "total_pvacs_ph = vac_hoje.sort_values(by='people_vaccinated_per_hundred', ascending=False)\r\n",
        "\r\n",
        "# Plotando os países com mais pessoas vacinadas\r\n",
        "fig, (ax1, ax2) = plt.subplots(nrows=1, ncols=2, figsize=(15, 7))\r\n",
        "plt.suptitle('Atualizado no dia {}'.format(covid.date.dt.date.max()))\r\n",
        "\r\n",
        "ax1.bar('location','people_vaccinated', data=total_pvacs.head(10))\r\n",
        "ax1.set_title('Países com mais pessoas vacinadas contra COVID-19', fontsize=15)\r\n",
        "ax1.set_ylabel('Milhões de pessoas')\r\n",
        "ax1.set_xlabel('Países')\r\n",
        "ax1.tick_params(labelrotation=90)\r\n",
        "\r\n",
        "ax2.bar('location','people_vaccinated_per_hundred', data=total_pvacs_ph.head(10))\r\n",
        "ax2.set_title('Países com mais pessoas vacinadas contra COVID-19, por centenas de pessoas'.format(covid.date.dt.date.max()), fontsize=10)\r\n",
        "ax2.set_ylabel('Pessoas vacinadas por centenas de habitantes')\r\n",
        "ax2.set_xlabel('Países')\r\n",
        "ax2.tick_params(labelrotation=90)"
      ],
      "execution_count": null,
      "outputs": [
        {
          "output_type": "display_data",
          "data": {
            "image/png": "[encoded data removed]",
            "text/plain": [
              "<Figure size 1080x504 with 2 Axes>"
            ]
          },
          "metadata": {
            "tags": [],
            "needs_background": "light"
          }
        }
      ]
    },
    {
      "cell_type": "markdown",
      "metadata": {
        "id": "tOWzcGnlqkVC"
      },
      "source": [
        "Aqui a diferença se repete, com novo destaque para Israel que já tem um número expressivo de ter vacinado 50 a cada 100 habitantes do país."
      ]
    },
    {
      "cell_type": "markdown",
      "metadata": {
        "id": "mbXNqqjQ6H2k"
      },
      "source": [
        "**3) Quais os que mais vacinaram completamente? E por centenas de pessoas?**"
      ]
    },
    {
      "cell_type": "code",
      "metadata": {
        "colab": {
          "base_uri": "https://localhost:8080/",
          "height": 590
        },
        "id": "dAKWSDrbDM5o",
        "outputId": "fdcbf2d6-6664-439e-a113-2317cb8bf670"
      },
      "source": [
        "# Organizando as variáveis em ordem ascedente\r\n",
        "total_vacsf = vac_hoje.sort_values(by='people_fully_vaccinated', ascending = False)\r\n",
        "total_vacsf_ph = vac_hoje.sort_values(by='people_fully_vaccinated_per_hundred', ascending=False)\r\n",
        "\r\n",
        "# Plotando os países com mais pessoas vacinadas\r\n",
        "fig, (ax1, ax2) = plt.subplots(nrows=1, ncols=2, figsize=(15, 7))\r\n",
        "plt.suptitle('Atualizado no dia {}'.format(covid.date.dt.date.max()))\r\n",
        "\r\n",
        "ax1.bar('location','people_fully_vaccinated', data=total_vacsf.head(10))\r\n",
        "ax1.set_title('Países com mais pessoas vacinadas completamente contra COVID-19', fontsize=12)\r\n",
        "ax1.set_ylabel('Milhões de pessoas')\r\n",
        "ax1.set_xlabel('Países')\r\n",
        "ax1.tick_params(labelrotation=90)\r\n",
        "\r\n",
        "ax2.bar('location','people_fully_vaccinated_per_hundred', data=total_vacsf_ph.head(10))\r\n",
        "ax2.set_title('Países com mais pessoas vacinadas completamente contra COVID-19, por centenas de pessoas'.format(covid.date.dt.date.max()), fontsize=10)\r\n",
        "ax2.set_ylabel('Pessoas vacinadas por centenas de habitantes')\r\n",
        "ax2.set_xlabel('Países')\r\n",
        "ax2.tick_params(labelrotation=90)"
      ],
      "execution_count": null,
      "outputs": [
        {
          "output_type": "display_data",
          "data": {
            "image/png": "[encoded data removed]",
            "text/plain": [
              "<Figure size 1080x504 with 2 Axes>"
            ]
          },
          "metadata": {
            "tags": [],
            "needs_background": "light"
          }
        }
      ]
    },
    {
      "cell_type": "markdown",
      "metadata": {
        "id": "MU6XBcsdq66R"
      },
      "source": [
        "Esse indicador é diferente do anterior, pois ele trata do número de pessoas completamente vacinadas, ou seja, que tomaram todas as doses da vacina, Israel se destaca novamente aqui."
      ]
    },
    {
      "cell_type": "markdown",
      "metadata": {
        "id": "SViA5VZ7DYLA"
      },
      "source": [
        "### Análise Exploratória para o Brasil\n",
        "\n",
        "<center><img width=\"65%\" src=\"https://olhardigital.com.br/wp-content/uploads/2021/01/shutterstock_1743953129AMG_PHOTO.jpg\"></center>\n",
        "\n",
        "\n",
        "Agora vamos observar como os dados de vacinação estão se comportando no Brasil, país em que é do nosso interesse explorar mais profundamente as variáveis."
      ]
    },
    {
      "cell_type": "code",
      "metadata": {
        "id": "UDQA502_hAwI"
      },
      "source": [
        "# Criando um dataset com dados de vacina para o Brasil\r\n",
        "vac_brazil = vacinas.loc[vacinas.location ==\"Brazil\"].copy()"
      ],
      "execution_count": null,
      "outputs": []
    },
    {
      "cell_type": "markdown",
      "metadata": {
        "id": "T8w7xm73FjCe"
      },
      "source": [
        "Agora vamos observar:\r\n",
        "* 1) Quando foi a primeira vacinação no Brasil\r\n",
        "* 2) Quantos dias demorou para vacinarmos em relação ao mundo\r\n",
        "* 3) Novas vacinações e total de vacinações em escala linear e logaritmica."
      ]
    },
    {
      "cell_type": "markdown",
      "metadata": {
        "id": "AbTBYLtxINOy"
      },
      "source": [
        "**1) Dia da primeira Vacinação**"
      ]
    },
    {
      "cell_type": "code",
      "metadata": {
        "colab": {
          "base_uri": "https://localhost:8080/"
        },
        "id": "MDSvMDqaFhZZ",
        "outputId": "87bbdba0-51ca-4750-efb3-0fc01fab723c"
      },
      "source": [
        "aux1 = (vac_brazil.loc[vac_brazil['new_vaccinations'] != 0]).date.dt.date.min()\r\n",
        "print('A primeira vacinação no Brasil ocorreu no dia {}'.format(aux1))"
      ],
      "execution_count": null,
      "outputs": [
        {
          "output_type": "stream",
          "text": [
            "A primeira vacinação no Brasil ocorreu no dia 2021-01-16\n"
          ],
          "name": "stdout"
        }
      ]
    },
    {
      "cell_type": "markdown",
      "metadata": {
        "id": "dl4NeiN6IxD7"
      },
      "source": [
        "**2) Diferença de dias da primeira vacinação em relação ao mundo**"
      ]
    },
    {
      "cell_type": "code",
      "metadata": {
        "colab": {
          "base_uri": "https://localhost:8080/"
        },
        "id": "r080ak-yI5Hg",
        "outputId": "0190b725-80da-4479-d0a6-ed1ba9c08cbe"
      },
      "source": [
        "# Diminuindo os dias\r\n",
        "dif_vac = vac_brazil.date.min() - vacinas.date.min()\r\n",
        "print('O Brasil começou a vacinação {} dias após o primeiro do mundo'.format(dif_vac.days))"
      ],
      "execution_count": null,
      "outputs": [
        {
          "output_type": "stream",
          "text": [
            "O Brasil começou a vacinação 34 dias após o primeiro do mundo\n"
          ],
          "name": "stdout"
        }
      ]
    },
    {
      "cell_type": "markdown",
      "metadata": {
        "id": "TVaXPu0xKbAA"
      },
      "source": [
        "**3) Comportamento da vacinação no Brasil**"
      ]
    },
    {
      "cell_type": "code",
      "metadata": {
        "colab": {
          "base_uri": "https://localhost:8080/",
          "height": 746
        },
        "id": "3cY5UiArKO8p",
        "outputId": "951bc77b-66b7-4d8a-f730-30cb85b14de8"
      },
      "source": [
        "# Estabelecendo variáveis auxiliares\r\n",
        "date = vac_brazil.date.dt.date\r\n",
        "nvacs = vac_brazil['new_vaccinations']\r\n",
        "tvacs = vac_brazil['total_vaccinations']\r\n",
        "\r\n",
        "# Plotando o total de vacinas e novas vacinas em escala linear e logarítmica.\r\n",
        "plt.suptitle('Atualizado no dia {}'.format(vac_brazil.date.max()));\r\n",
        "fig, ((ax1, ax2), (ax3,ax4)) = plt.subplots(nrows=2, ncols=2, figsize= (15,10))\r\n",
        "ax1.set_title('Vacinações no Brasil')\r\n",
        "ax1.set_xlabel('Data')\r\n",
        "ax1.set_ylabel('N de vacinações')\r\n",
        "ax1.plot(date, tvacs)\r\n",
        "ax1.set_xticklabels(date, rotation = 45)\r\n",
        "\r\n",
        "ax2.set_title('Vacinações no Brasil (Escala logarítmica)')\r\n",
        "ax2.set_xlabel('Data')\r\n",
        "ax2.set_ylabel('N de vacinações')\r\n",
        "ax2.set_yscale('log')\r\n",
        "ax2.plot(date, tvacs)\r\n",
        "ax2.set_xticklabels(date, rotation = 45)\r\n",
        "\r\n",
        "ax3.set_title('Novas vacinações no Brasil')\r\n",
        "ax3.set_xlabel('Data')\r\n",
        "ax3.set_ylabel('N de novas vacinações')\r\n",
        "ax3.plot(date, nvacs)\r\n",
        "ax3.set_xticklabels(date, rotation = 45)\r\n",
        "\r\n",
        "ax4.set_title('Novas vacinações no Brasil - (Escala logarítmica)')\r\n",
        "ax4.set_xlabel('Data')\r\n",
        "ax4.set_ylabel('N de novas vacinações')\r\n",
        "ax4.set_yscale('log')\r\n",
        "ax4.plot(date, nvacs)\r\n",
        "ax4.set_xticklabels(date, rotation = 45)\r\n",
        "\r\n",
        "plt.tight_layout()\r\n",
        "plt.show()"
      ],
      "execution_count": null,
      "outputs": [
        {
          "output_type": "display_data",
          "data": {
            "text/plain": [
              "<Figure size 432x288 with 0 Axes>"
            ]
          },
          "metadata": {
            "tags": []
          }
        },
        {
          "output_type": "display_data",
          "data": {
            "image/png": "[encoded data removed]",
            "text/plain": [
              "<Figure size 1080x720 with 4 Axes>"
            ]
          },
          "metadata": {
            "tags": [],
            "needs_background": "light"
          }
        }
      ]
    },
    {
      "cell_type": "markdown",
      "metadata": {
        "id": "legclBLlrpnf"
      },
      "source": [
        "Aqui vemos que a vacinação se mantém num nível constante no país, mas quando olhamos para novas vacinações, vemos que alguns dias registraram quedas grandes, oscilando bastante desde o começo do processo."
      ]
    },
    {
      "cell_type": "markdown",
      "metadata": {
        "id": "x4axjbCnUSKS"
      },
      "source": [
        "**Agora para finalizar, vamos entender como estão algumas proporções de indicadores importantes da Pandemia do COVID-19 para o Brasil**\r\n",
        "\r\n",
        "Primeiramente vamos importar algumas bibliotecas que nos auxiliarão"
      ]
    },
    {
      "cell_type": "code",
      "metadata": {
        "id": "zG-jLTTrVGSj",
        "colab": {
          "base_uri": "https://localhost:8080/"
        },
        "outputId": "411839af-f1ba-45fa-c42d-fa0a5c8eb4d1"
      },
      "source": [
        "# instalar o pywaffle\r\n",
        "!pip install pywaffle -q\r\n",
        "from pywaffle import Waffle"
      ],
      "execution_count": null,
      "outputs": [
        {
          "output_type": "stream",
          "text": [
            "\u001b[?25l\r\u001b[K     |▋                               | 10kB 19.0MB/s eta 0:00:01\r\u001b[K     |█▎                              | 20kB 13.5MB/s eta 0:00:01\r\u001b[K     |█▉                              | 30kB 8.7MB/s eta 0:00:01\r\u001b[K     |██▌                             | 40kB 8.0MB/s eta 0:00:01\r\u001b[K     |███                             | 51kB 4.5MB/s eta 0:00:01\r\u001b[K     |███▊                            | 61kB 5.0MB/s eta 0:00:01\r\u001b[K     |████▍                           | 71kB 5.2MB/s eta 0:00:01\r\u001b[K     |█████                           | 81kB 5.1MB/s eta 0:00:01\r\u001b[K     |█████▋                          | 92kB 5.3MB/s eta 0:00:01\r\u001b[K     |██████▏                         | 102kB 4.3MB/s eta 0:00:01\r\u001b[K     |██████▉                         | 112kB 4.3MB/s eta 0:00:01\r\u001b[K     |███████▌                        | 122kB 4.3MB/s eta 0:00:01\r\u001b[K     |████████                        | 133kB 4.3MB/s eta 0:00:01\r\u001b[K     |████████▊                       | 143kB 4.3MB/s eta 0:00:01\r\u001b[K     |█████████▎                      | 153kB 4.3MB/s eta 0:00:01\r\u001b[K     |██████████                      | 163kB 4.3MB/s eta 0:00:01\r\u001b[K     |██████████▋                     | 174kB 4.3MB/s eta 0:00:01\r\u001b[K     |███████████▏                    | 184kB 4.3MB/s eta 0:00:01\r\u001b[K     |███████████▉                    | 194kB 4.3MB/s eta 0:00:01\r\u001b[K     |████████████▍                   | 204kB 4.3MB/s eta 0:00:01\r\u001b[K     |█████████████                   | 215kB 4.3MB/s eta 0:00:01\r\u001b[K     |█████████████▊                  | 225kB 4.3MB/s eta 0:00:01\r\u001b[K     |██████████████▎                 | 235kB 4.3MB/s eta 0:00:01\r\u001b[K     |███████████████                 | 245kB 4.3MB/s eta 0:00:01\r\u001b[K     |███████████████▌                | 256kB 4.3MB/s eta 0:00:01\r\u001b[K     |████████████████▏               | 266kB 4.3MB/s eta 0:00:01\r\u001b[K     |████████████████▉               | 276kB 4.3MB/s eta 0:00:01\r\u001b[K     |█████████████████▍              | 286kB 4.3MB/s eta 0:00:01\r\u001b[K     |██████████████████              | 296kB 4.3MB/s eta 0:00:01\r\u001b[K     |██████████████████▋             | 307kB 4.3MB/s eta 0:00:01\r\u001b[K     |███████████████████▎            | 317kB 4.3MB/s eta 0:00:01\r\u001b[K     |████████████████████            | 327kB 4.3MB/s eta 0:00:01\r\u001b[K     |████████████████████▌           | 337kB 4.3MB/s eta 0:00:01\r\u001b[K     |█████████████████████▏          | 348kB 4.3MB/s eta 0:00:01\r\u001b[K     |█████████████████████▊          | 358kB 4.3MB/s eta 0:00:01\r\u001b[K     |██████████████████████▍         | 368kB 4.3MB/s eta 0:00:01\r\u001b[K     |███████████████████████         | 378kB 4.3MB/s eta 0:00:01\r\u001b[K     |███████████████████████▋        | 389kB 4.3MB/s eta 0:00:01\r\u001b[K     |████████████████████████▎       | 399kB 4.3MB/s eta 0:00:01\r\u001b[K     |████████████████████████▉       | 409kB 4.3MB/s eta 0:00:01\r\u001b[K     |█████████████████████████▌      | 419kB 4.3MB/s eta 0:00:01\r\u001b[K     |██████████████████████████▏     | 430kB 4.3MB/s eta 0:00:01\r\u001b[K     |██████████████████████████▊     | 440kB 4.3MB/s eta 0:00:01\r\u001b[K     |███████████████████████████▍    | 450kB 4.3MB/s eta 0:00:01\r\u001b[K     |████████████████████████████    | 460kB 4.3MB/s eta 0:00:01\r\u001b[K     |████████████████████████████▋   | 471kB 4.3MB/s eta 0:00:01\r\u001b[K     |█████████████████████████████▎  | 481kB 4.3MB/s eta 0:00:01\r\u001b[K     |█████████████████████████████▉  | 491kB 4.3MB/s eta 0:00:01\r\u001b[K     |██████████████████████████████▌ | 501kB 4.3MB/s eta 0:00:01\r\u001b[K     |███████████████████████████████ | 512kB 4.3MB/s eta 0:00:01\r\u001b[K     |███████████████████████████████▊| 522kB 4.3MB/s eta 0:00:01\r\u001b[K     |████████████████████████████████| 532kB 4.3MB/s \n",
            "\u001b[?25h"
          ],
          "name": "stdout"
        }
      ]
    },
    {
      "cell_type": "markdown",
      "metadata": {
        "id": "Dxi6TvU-XJHC"
      },
      "source": [
        "Agora vamos criar um dataset com dados gerais da COVID-19 no Brasil, para que possamos entender algumas variáveis que serão úteis agora."
      ]
    },
    {
      "cell_type": "code",
      "metadata": {
        "id": "kSvvCj5HXTip"
      },
      "source": [
        "# Separando um dataset para o Brazil apenas\r\n",
        "covid_brazil = covid.loc[covid.location ==\"Brazil\"].copy()"
      ],
      "execution_count": null,
      "outputs": []
    },
    {
      "cell_type": "markdown",
      "metadata": {
        "id": "K0HEOreobm8G"
      },
      "source": [
        "**Proporção de número de casos em relação à população**"
      ]
    },
    {
      "cell_type": "code",
      "metadata": {
        "id": "Qq8gZaHOWE79"
      },
      "source": [
        "# Estabelecendo variáveis auxiliares\r\n",
        "pct_tcasos = (covid_brazil.total_cases.max() / covid_brazil.population.max())*100\r\n",
        "pct_ncasos = 100 - pct_tcasos"
      ],
      "execution_count": null,
      "outputs": []
    },
    {
      "cell_type": "code",
      "metadata": {
        "colab": {
          "base_uri": "https://localhost:8080/",
          "height": 305
        },
        "id": "TH36d52dbJQ1",
        "outputId": "f28a82f3-51eb-4331-b160-08acb6873438"
      },
      "source": [
        "# Plotando gráfico de waffle \r\n",
        "fig = plt.figure(figsize=(5,5),\r\n",
        "    FigureClass=Waffle,\r\n",
        "    rows = 10, columns = 10,\r\n",
        "    values = {'População': pct_ncasos,\r\n",
        "              'Número de casos':pct_tcasos},\r\n",
        "              colors=(\"#232066\", \"#983D3D\"),\r\n",
        "              legend={'loc':'upper left','bbox_to_anchor':(1,1)},\r\n",
        "              icons='child', icon_size=20,\r\n",
        "              icon_legend=True\r\n",
        ")\r\n",
        "\r\n",
        "fig.set_tight_layout(False)\r\n",
        "plt.show();"
      ],
      "execution_count": null,
      "outputs": [
        {
          "output_type": "display_data",
          "data": {
            "image/png": "[encoded data removed]",
            "text/plain": [
              "<Waffle size 360x360 with 1 Axes>"
            ]
          },
          "metadata": {
            "tags": [],
            "needs_background": "light"
          }
        }
      ]
    },
    {
      "cell_type": "markdown",
      "metadata": {
        "id": "E0E14UECTxZR"
      },
      "source": [
        "**Proporção de mortes em relação ao número de casos**"
      ]
    },
    {
      "cell_type": "code",
      "metadata": {
        "id": "Zbd2XQsNfmSD"
      },
      "source": [
        "# Estabelecendo variáveis auxiliares\r\n",
        "pct_mortes = (covid_brazil.total_deaths.max() / covid_brazil.total_cases.max())*100\r\n",
        "pct_nmortes = 100 - pct_mortes"
      ],
      "execution_count": null,
      "outputs": []
    },
    {
      "cell_type": "code",
      "metadata": {
        "colab": {
          "base_uri": "https://localhost:8080/",
          "height": 305
        },
        "id": "MFiPwrqHf-Gr",
        "outputId": "445eb8f4-4657-45c1-f2ef-40df890ed6aa"
      },
      "source": [
        "# Plotando gráfico de waffle \r\n",
        "fig = plt.figure(figsize=(5,5),\r\n",
        "    FigureClass=Waffle,\r\n",
        "    rows = 10, columns = 10,\r\n",
        "    values = {'Número de casos': pct_nmortes,\r\n",
        "              'Número de mortes':pct_mortes},\r\n",
        "              colors=(\"#232066\", \"#983D3D\"),\r\n",
        "              legend={'loc':'upper left','bbox_to_anchor':(1,1)},\r\n",
        "              icons='child', icon_size=20,\r\n",
        "              icon_legend=True\r\n",
        ")\r\n",
        "\r\n",
        "fig.set_tight_layout(False)\r\n",
        "plt.show();"
      ],
      "execution_count": null,
      "outputs": [
        {
          "output_type": "display_data",
          "data": {
            "image/png": "[encoded data removed]",
            "text/plain": [
              "<Waffle size 360x360 with 1 Axes>"
            ]
          },
          "metadata": {
            "tags": [],
            "needs_background": "light"
          }
        }
      ]
    },
    {
      "cell_type": "markdown",
      "metadata": {
        "id": "xki8mntthFxW"
      },
      "source": [
        "**Proporção de pessoas vacinadas em relação à população**"
      ]
    },
    {
      "cell_type": "code",
      "metadata": {
        "id": "WkcbStF4hQJS"
      },
      "source": [
        "# Estabelecendo variáveis auxiliares\r\n",
        "pct_ptvac = (vac_brazil.people_fully_vaccinated.max() / covid_brazil.population.max())*100\r\n",
        "pct_pvaca = ((vac_brazil.people_vaccinated.max() - pct_ptvac) / covid_brazil.population.max())*100\r\n",
        "pop_nvac = 100 - (pct_ptvac + pct_pvaca)"
      ],
      "execution_count": null,
      "outputs": []
    },
    {
      "cell_type": "code",
      "metadata": {
        "colab": {
          "base_uri": "https://localhost:8080/",
          "height": 305
        },
        "id": "IBz4x0UGgSfR",
        "outputId": "2f5160b6-4f29-4746-818c-b16cc2b8e42b"
      },
      "source": [
        "# Plotando gráfico de waffle \r\n",
        "fig = plt.figure(figsize=(5,5),\r\n",
        "    FigureClass=Waffle,\r\n",
        "    rows = 10, columns = 10,\r\n",
        "    values = {'População vacinada completamente': pct_ptvac,\r\n",
        "              'População vacinada':pct_pvaca,\r\n",
        "              'População não vacinada':pop_nvac},\r\n",
        "              colors=(\"#DCB732\",\"#983D3D\",\"#232066\"),\r\n",
        "              legend={'loc':'upper left','bbox_to_anchor':(1,1)},\r\n",
        "              icons='child', icon_size=20,\r\n",
        "              icon_legend=True\r\n",
        ")\r\n",
        "\r\n",
        "fig.set_tight_layout(False)\r\n",
        "plt.show();"
      ],
      "execution_count": null,
      "outputs": [
        {
          "output_type": "display_data",
          "data": {
            "image/png": "[encoded data removed]",
            "text/plain": [
              "<Waffle size 360x360 with 1 Axes>"
            ]
          },
          "metadata": {
            "tags": [],
            "needs_background": "light"
          }
        }
      ]
    },
    {
      "cell_type": "markdown",
      "metadata": {
        "id": "LCsiXvM3BcsO"
      },
      "source": [
        "# **Conclusão**\n",
        "\n",
        "A Pandemia do COVID-19 foi bastante cruel com países que não tinham estrutura para enfrentá-la, problema mais recorrente nos países mais populosos, que tiveram grande parcela da população contaminada e por sua vez com um grande número de pessoas com situação evoluindo ao falecimento.\n",
        "\n",
        "A Vacina é ainda mais cruel com esses países mais populosos, pois ainda há de demorar muito tempo para que eles consigam imunizar toda população, com exceção dos EUA, que têm situação bem grave e fazem seu poder econômico valer para que consigam mais doses de vacina.\n",
        "\n",
        "A notícia boa é que estamos no início do fim da pandemia e a vacinação vem evoluindo no mundo, então mesmo que demore, isso tudo passará!\n",
        "\n",
        "Me segue no [LinkedIn, Medium e Github!]('https://www.linkedin.com/in/otaviodefilpo/')\n",
        "\n",
        "Eu posto artigos e projetos novos quase toda semana, já têm vários disponíveis nesses lugares do link, espero que você goste!\n",
        "\n",
        "Abraços e até o próximo projeto!"
      ]
    }
  ]
}